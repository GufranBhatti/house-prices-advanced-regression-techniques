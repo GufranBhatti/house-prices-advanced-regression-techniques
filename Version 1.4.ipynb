{
 "cells": [
  {
   "cell_type": "code",
   "execution_count": 1,
   "metadata": {
    "collapsed": true,
    "pycharm": {
     "name": "#%%\n"
    }
   },
   "outputs": [
    {
     "name": "stderr",
     "output_type": "stream",
     "text": [
      "C:\\Users\\Gufran bhatti\\AppData\\Local\\Temp\\ipykernel_9320\\2018063057.py:12: DeprecationWarning: `np.object` is a deprecated alias for the builtin `object`. To silence this warning, use `object` by itself. Doing this will not modify any behavior and is safe. \n",
      "Deprecated in NumPy 1.20; for more details and guidance: https://numpy.org/devdocs/release/1.20.0-notes.html#deprecations\n",
      "  categorical_data = df.loc[:, df.dtypes == np.object]\n",
      "C:\\Users\\Gufran bhatti\\AppData\\Local\\Temp\\ipykernel_9320\\2018063057.py:15: SettingWithCopyWarning: \n",
      "A value is trying to be set on a copy of a slice from a DataFrame\n",
      "\n",
      "See the caveats in the documentation: https://pandas.pydata.org/pandas-docs/stable/user_guide/indexing.html#returning-a-view-versus-a-copy\n",
      "  categorical_data.drop(['Alley'], axis=1, inplace=True)\n",
      "C:\\Users\\Gufran bhatti\\AppData\\Local\\Temp\\ipykernel_9320\\2018063057.py:16: SettingWithCopyWarning: \n",
      "A value is trying to be set on a copy of a slice from a DataFrame\n",
      "\n",
      "See the caveats in the documentation: https://pandas.pydata.org/pandas-docs/stable/user_guide/indexing.html#returning-a-view-versus-a-copy\n",
      "  categorical_data.drop(['PoolQC'], axis=1, inplace=True)\n",
      "C:\\Users\\Gufran bhatti\\AppData\\Local\\Temp\\ipykernel_9320\\2018063057.py:17: SettingWithCopyWarning: \n",
      "A value is trying to be set on a copy of a slice from a DataFrame\n",
      "\n",
      "See the caveats in the documentation: https://pandas.pydata.org/pandas-docs/stable/user_guide/indexing.html#returning-a-view-versus-a-copy\n",
      "  categorical_data.drop(['Fence'], axis=1, inplace=True)\n",
      "C:\\Users\\Gufran bhatti\\AppData\\Local\\Temp\\ipykernel_9320\\2018063057.py:18: SettingWithCopyWarning: \n",
      "A value is trying to be set on a copy of a slice from a DataFrame\n",
      "\n",
      "See the caveats in the documentation: https://pandas.pydata.org/pandas-docs/stable/user_guide/indexing.html#returning-a-view-versus-a-copy\n",
      "  categorical_data.drop(['MiscFeature'], axis=1, inplace=True)\n"
     ]
    }
   ],
   "source": [
    "import pandas as pd\n",
    "import numpy as np\n",
    "\n",
    "df = pd.read_csv(\"train.csv\")\n",
    "df2 = pd.read_csv('test.csv')\n",
    "df = pd.concat([df, df2], ignore_index=True)\n",
    "\n",
    "# Data Preprocessing\n",
    "\n",
    "#Breaking dataframe into numerical and categorical\n",
    "numeric_data = df.loc[:, (df.dtypes == np.int64) | (df.dtypes == np.float64)]\n",
    "categorical_data = df.loc[:, df.dtypes == np.object]\n",
    "\n",
    "#Drop columns which have too much null values\n",
    "categorical_data.drop(['Alley'], axis=1, inplace=True)\n",
    "categorical_data.drop(['PoolQC'], axis=1, inplace=True)\n",
    "categorical_data.drop(['Fence'], axis=1, inplace=True)\n",
    "categorical_data.drop(['MiscFeature'], axis=1, inplace=True)\n",
    "\n",
    "#Filling null values with most occurred value of that column.\n",
    "categorical_data = categorical_data.apply(lambda x: x.fillna(x.value_counts().index[0]))\n",
    "\n",
    "#fill null values with mean value of that column\n",
    "numeric_data = numeric_data.apply(lambda x: x.fillna(x.mean()))"
   ]
  },
  {
   "cell_type": "code",
   "execution_count": 2,
   "outputs": [
    {
     "data": {
      "text/plain": "      C (all)  FV  RH  RL  RM  Street  IR1  IR2  IR3  Reg  ...  PavedDrive_01  \\\n0           0   0   0   1   0       1    0    0    0    1  ...            0.0   \n1           0   0   0   1   0       1    0    0    0    1  ...            0.0   \n2           0   0   0   1   0       1    1    0    0    0  ...            0.0   \n3           0   0   0   1   0       1    1    0    0    0  ...            0.0   \n4           0   0   0   1   0       1    1    0    0    0  ...            0.0   \n...       ...  ..  ..  ..  ..     ...  ...  ...  ...  ...  ...            ...   \n2914        0   0   0   0   1       1    0    0    0    1  ...            0.0   \n2915        0   0   0   0   1       1    0    0    0    1  ...            0.0   \n2916        0   0   0   1   0       1    0    0    0    1  ...            0.0   \n2917        0   0   0   1   0       1    0    0    0    1  ...            0.0   \n2918        0   0   0   1   0       1    0    0    0    1  ...            0.0   \n\n      PavedDrive_02  PavedDrive_03  SaleType_0  SaleType_1  SaleType_2  \\\n0               0.0            1.0           0           0           0   \n1               0.0            1.0           0           0           0   \n2               0.0            1.0           0           0           0   \n3               0.0            1.0           0           0           0   \n4               0.0            1.0           0           0           0   \n...             ...            ...         ...         ...         ...   \n2914            0.0            1.0           0           0           0   \n2915            0.0            1.0           0           0           0   \n2916            0.0            1.0           0           0           0   \n2917            0.0            1.0           0           0           0   \n2918            0.0            1.0           0           0           0   \n\n      SaleType_3  SaleCondition_0  SaleCondition_1  SaleCondition_2  \n0              1                0                0                1  \n1              1                0                0                1  \n2              1                0                0                1  \n3              1                0                1                0  \n4              1                0                0                1  \n...          ...              ...              ...              ...  \n2914           1                0                0                1  \n2915           1                0                1                0  \n2916           1                0                1                0  \n2917           1                0                0                1  \n2918           1                0                0                1  \n\n[2919 rows x 130 columns]",
      "text/html": "<div>\n<style scoped>\n    .dataframe tbody tr th:only-of-type {\n        vertical-align: middle;\n    }\n\n    .dataframe tbody tr th {\n        vertical-align: top;\n    }\n\n    .dataframe thead th {\n        text-align: right;\n    }\n</style>\n<table border=\"1\" class=\"dataframe\">\n  <thead>\n    <tr style=\"text-align: right;\">\n      <th></th>\n      <th>C (all)</th>\n      <th>FV</th>\n      <th>RH</th>\n      <th>RL</th>\n      <th>RM</th>\n      <th>Street</th>\n      <th>IR1</th>\n      <th>IR2</th>\n      <th>IR3</th>\n      <th>Reg</th>\n      <th>...</th>\n      <th>PavedDrive_01</th>\n      <th>PavedDrive_02</th>\n      <th>PavedDrive_03</th>\n      <th>SaleType_0</th>\n      <th>SaleType_1</th>\n      <th>SaleType_2</th>\n      <th>SaleType_3</th>\n      <th>SaleCondition_0</th>\n      <th>SaleCondition_1</th>\n      <th>SaleCondition_2</th>\n    </tr>\n  </thead>\n  <tbody>\n    <tr>\n      <th>0</th>\n      <td>0</td>\n      <td>0</td>\n      <td>0</td>\n      <td>1</td>\n      <td>0</td>\n      <td>1</td>\n      <td>0</td>\n      <td>0</td>\n      <td>0</td>\n      <td>1</td>\n      <td>...</td>\n      <td>0.0</td>\n      <td>0.0</td>\n      <td>1.0</td>\n      <td>0</td>\n      <td>0</td>\n      <td>0</td>\n      <td>1</td>\n      <td>0</td>\n      <td>0</td>\n      <td>1</td>\n    </tr>\n    <tr>\n      <th>1</th>\n      <td>0</td>\n      <td>0</td>\n      <td>0</td>\n      <td>1</td>\n      <td>0</td>\n      <td>1</td>\n      <td>0</td>\n      <td>0</td>\n      <td>0</td>\n      <td>1</td>\n      <td>...</td>\n      <td>0.0</td>\n      <td>0.0</td>\n      <td>1.0</td>\n      <td>0</td>\n      <td>0</td>\n      <td>0</td>\n      <td>1</td>\n      <td>0</td>\n      <td>0</td>\n      <td>1</td>\n    </tr>\n    <tr>\n      <th>2</th>\n      <td>0</td>\n      <td>0</td>\n      <td>0</td>\n      <td>1</td>\n      <td>0</td>\n      <td>1</td>\n      <td>1</td>\n      <td>0</td>\n      <td>0</td>\n      <td>0</td>\n      <td>...</td>\n      <td>0.0</td>\n      <td>0.0</td>\n      <td>1.0</td>\n      <td>0</td>\n      <td>0</td>\n      <td>0</td>\n      <td>1</td>\n      <td>0</td>\n      <td>0</td>\n      <td>1</td>\n    </tr>\n    <tr>\n      <th>3</th>\n      <td>0</td>\n      <td>0</td>\n      <td>0</td>\n      <td>1</td>\n      <td>0</td>\n      <td>1</td>\n      <td>1</td>\n      <td>0</td>\n      <td>0</td>\n      <td>0</td>\n      <td>...</td>\n      <td>0.0</td>\n      <td>0.0</td>\n      <td>1.0</td>\n      <td>0</td>\n      <td>0</td>\n      <td>0</td>\n      <td>1</td>\n      <td>0</td>\n      <td>1</td>\n      <td>0</td>\n    </tr>\n    <tr>\n      <th>4</th>\n      <td>0</td>\n      <td>0</td>\n      <td>0</td>\n      <td>1</td>\n      <td>0</td>\n      <td>1</td>\n      <td>1</td>\n      <td>0</td>\n      <td>0</td>\n      <td>0</td>\n      <td>...</td>\n      <td>0.0</td>\n      <td>0.0</td>\n      <td>1.0</td>\n      <td>0</td>\n      <td>0</td>\n      <td>0</td>\n      <td>1</td>\n      <td>0</td>\n      <td>0</td>\n      <td>1</td>\n    </tr>\n    <tr>\n      <th>...</th>\n      <td>...</td>\n      <td>...</td>\n      <td>...</td>\n      <td>...</td>\n      <td>...</td>\n      <td>...</td>\n      <td>...</td>\n      <td>...</td>\n      <td>...</td>\n      <td>...</td>\n      <td>...</td>\n      <td>...</td>\n      <td>...</td>\n      <td>...</td>\n      <td>...</td>\n      <td>...</td>\n      <td>...</td>\n      <td>...</td>\n      <td>...</td>\n      <td>...</td>\n      <td>...</td>\n    </tr>\n    <tr>\n      <th>2914</th>\n      <td>0</td>\n      <td>0</td>\n      <td>0</td>\n      <td>0</td>\n      <td>1</td>\n      <td>1</td>\n      <td>0</td>\n      <td>0</td>\n      <td>0</td>\n      <td>1</td>\n      <td>...</td>\n      <td>0.0</td>\n      <td>0.0</td>\n      <td>1.0</td>\n      <td>0</td>\n      <td>0</td>\n      <td>0</td>\n      <td>1</td>\n      <td>0</td>\n      <td>0</td>\n      <td>1</td>\n    </tr>\n    <tr>\n      <th>2915</th>\n      <td>0</td>\n      <td>0</td>\n      <td>0</td>\n      <td>0</td>\n      <td>1</td>\n      <td>1</td>\n      <td>0</td>\n      <td>0</td>\n      <td>0</td>\n      <td>1</td>\n      <td>...</td>\n      <td>0.0</td>\n      <td>0.0</td>\n      <td>1.0</td>\n      <td>0</td>\n      <td>0</td>\n      <td>0</td>\n      <td>1</td>\n      <td>0</td>\n      <td>1</td>\n      <td>0</td>\n    </tr>\n    <tr>\n      <th>2916</th>\n      <td>0</td>\n      <td>0</td>\n      <td>0</td>\n      <td>1</td>\n      <td>0</td>\n      <td>1</td>\n      <td>0</td>\n      <td>0</td>\n      <td>0</td>\n      <td>1</td>\n      <td>...</td>\n      <td>0.0</td>\n      <td>0.0</td>\n      <td>1.0</td>\n      <td>0</td>\n      <td>0</td>\n      <td>0</td>\n      <td>1</td>\n      <td>0</td>\n      <td>1</td>\n      <td>0</td>\n    </tr>\n    <tr>\n      <th>2917</th>\n      <td>0</td>\n      <td>0</td>\n      <td>0</td>\n      <td>1</td>\n      <td>0</td>\n      <td>1</td>\n      <td>0</td>\n      <td>0</td>\n      <td>0</td>\n      <td>1</td>\n      <td>...</td>\n      <td>0.0</td>\n      <td>0.0</td>\n      <td>1.0</td>\n      <td>0</td>\n      <td>0</td>\n      <td>0</td>\n      <td>1</td>\n      <td>0</td>\n      <td>0</td>\n      <td>1</td>\n    </tr>\n    <tr>\n      <th>2918</th>\n      <td>0</td>\n      <td>0</td>\n      <td>0</td>\n      <td>1</td>\n      <td>0</td>\n      <td>1</td>\n      <td>0</td>\n      <td>0</td>\n      <td>0</td>\n      <td>1</td>\n      <td>...</td>\n      <td>0.0</td>\n      <td>0.0</td>\n      <td>1.0</td>\n      <td>0</td>\n      <td>0</td>\n      <td>0</td>\n      <td>1</td>\n      <td>0</td>\n      <td>0</td>\n      <td>1</td>\n    </tr>\n  </tbody>\n</table>\n<p>2919 rows × 130 columns</p>\n</div>"
     },
     "execution_count": 2,
     "metadata": {},
     "output_type": "execute_result"
    }
   ],
   "source": [
    "df1 = pd.get_dummies(categorical_data['MSZoning'])\n",
    "categorical_data = pd.concat([categorical_data, df1], axis=1).reindex(categorical_data.index)\n",
    "categorical_data.drop('MSZoning', axis=1, inplace=True)\n",
    "\n",
    "#Label encoding on Street\n",
    "from sklearn.preprocessing import LabelEncoder\n",
    "le = LabelEncoder()\n",
    "label = le.fit_transform(categorical_data['Street'])\n",
    "categorical_data.drop(\"Street\", axis=1, inplace=True)\n",
    "categorical_data[\"Street\"] = label\n",
    "\n",
    "#Dummy encoding on LotShape\n",
    "df1 = pd.get_dummies(categorical_data['LotShape'])\n",
    "categorical_data = pd.concat([categorical_data, df1], axis=1).reindex(categorical_data.index)\n",
    "categorical_data.drop('LotShape', axis=1, inplace=True)\n",
    "\n",
    "#Dummy encoding on LandContour\n",
    "df1 = pd.get_dummies(categorical_data['LandContour'])\n",
    "categorical_data = pd.concat([categorical_data, df1], axis=1).reindex(categorical_data.index)\n",
    "categorical_data.drop('LandContour', axis=1, inplace=True)\n",
    "\n",
    "#Label encoding on Utilities\n",
    "label = le.fit_transform(categorical_data['Utilities'])\n",
    "categorical_data.drop(\"Utilities\", axis=1, inplace=True)\n",
    "categorical_data[\"Utilities\"] = label\n",
    "\n",
    "#Dummy encoding on LotConfig\n",
    "df1 = pd.get_dummies(categorical_data['LotConfig'])\n",
    "categorical_data = pd.concat([categorical_data, df1], axis=1).reindex(categorical_data.index)\n",
    "categorical_data.drop('LotConfig', axis=1, inplace=True)\n",
    "\n",
    "#Dummy encoding on LandSlope\n",
    "df1 = pd.get_dummies(categorical_data['LandSlope'])\n",
    "categorical_data = pd.concat([categorical_data, df1], axis=1).reindex(categorical_data.index)\n",
    "categorical_data.drop('LandSlope', axis=1, inplace=True)\n",
    "\n",
    "#Binary Encoding\n",
    "import category_encoders as ce\n",
    "encoder = ce.BinaryEncoder(categorical_data['Neighborhood'])\n",
    "df1 = encoder.fit_transform(categorical_data['Neighborhood'])\n",
    "categorical_data = pd.concat([categorical_data, df1], axis=1).reindex(categorical_data.index)\n",
    "categorical_data.drop('Neighborhood', axis=1, inplace=True)\n",
    "\n",
    "#Binary encoding on Condition1\n",
    "encoder = ce.BinaryEncoder(categorical_data['Condition1'])\n",
    "df1 = encoder.fit_transform(categorical_data['Condition1'])\n",
    "categorical_data = pd.concat([categorical_data, df1], axis=1).reindex(categorical_data.index)\n",
    "categorical_data.drop('Condition1', axis=1, inplace=True)\n",
    "\n",
    "#Binary encoding on Condition2\n",
    "encoder = ce.BinaryEncoder(categorical_data['Condition2'])\n",
    "df1 = encoder.fit_transform(categorical_data['Condition2'])\n",
    "categorical_data = pd.concat([categorical_data, df1], axis=1).reindex(categorical_data.index)\n",
    "categorical_data.drop('Condition2', axis=1, inplace=True)\n",
    "\n",
    "#Dummy encoding\n",
    "df1 = pd.get_dummies(categorical_data['BldgType'])\n",
    "categorical_data = pd.concat([categorical_data, df1], axis=1).reindex(categorical_data.index)\n",
    "categorical_data.drop('BldgType', axis=1, inplace=True)\n",
    "\n",
    "#binary encoding\n",
    "encoder = ce.BinaryEncoder(categorical_data['HouseStyle'])\n",
    "df1 = encoder.fit_transform(categorical_data['HouseStyle'])\n",
    "categorical_data = pd.concat([categorical_data, df1], axis=1).reindex(categorical_data.index)\n",
    "categorical_data.drop('HouseStyle', axis=1, inplace=True)\n",
    "\n",
    "encoder = ce.BinaryEncoder(categorical_data['RoofStyle'])\n",
    "df1 = encoder.fit_transform(categorical_data['RoofStyle'])\n",
    "categorical_data = pd.concat([categorical_data, df1], axis=1).reindex(categorical_data.index)\n",
    "categorical_data.drop('RoofStyle', axis=1, inplace=True)\n",
    "\n",
    "encoder = ce.BinaryEncoder(categorical_data['RoofMatl'])\n",
    "df1 = encoder.fit_transform(categorical_data['RoofMatl'])\n",
    "categorical_data = pd.concat([categorical_data, df1], axis=1).reindex(categorical_data.index)\n",
    "categorical_data.drop('RoofMatl', axis=1, inplace=True)\n",
    "\n",
    "encoder = ce.BinaryEncoder(categorical_data['Exterior1st'])\n",
    "df1 = encoder.fit_transform(categorical_data['Exterior1st'])\n",
    "categorical_data = pd.concat([categorical_data, df1], axis=1).reindex(categorical_data.index)\n",
    "categorical_data.drop('Exterior1st', axis=1, inplace=True)\n",
    "\n",
    "encoder = ce.BinaryEncoder(categorical_data['Exterior2nd'])\n",
    "df1 = encoder.fit_transform(categorical_data['Exterior2nd'])\n",
    "categorical_data = pd.concat([categorical_data, df1], axis=1).reindex(categorical_data.index)\n",
    "categorical_data.drop('Exterior2nd', axis=1, inplace=True)\n",
    "\n",
    "encoder = ce.BinaryEncoder(categorical_data['MasVnrType'])\n",
    "df1 = encoder.fit_transform(categorical_data['MasVnrType'])\n",
    "categorical_data = pd.concat([categorical_data, df1], axis=1).reindex(categorical_data.index)\n",
    "categorical_data.drop('MasVnrType', axis=1, inplace=True)\n",
    "\n",
    "df1 = pd.get_dummies(categorical_data['ExterQual'])\n",
    "categorical_data = pd.concat([categorical_data, df1], axis=1).reindex(categorical_data.index)\n",
    "categorical_data.drop('ExterQual', axis=1, inplace=True)\n",
    "\n",
    "encoder = ce.BinaryEncoder(categorical_data['ExterCond'])\n",
    "df1 = encoder.fit_transform(categorical_data['ExterCond'])\n",
    "categorical_data = pd.concat([categorical_data, df1], axis=1).reindex(categorical_data.index)\n",
    "categorical_data.drop('ExterCond', axis=1, inplace=True)\n",
    "\n",
    "encoder = ce.BinaryEncoder(categorical_data['Foundation'])\n",
    "df1 = encoder.fit_transform(categorical_data['Foundation'])\n",
    "categorical_data = pd.concat([categorical_data, df1], axis=1).reindex(categorical_data.index)\n",
    "categorical_data.drop('Foundation', axis=1, inplace=True)\n",
    "\n",
    "encoder = ce.BinaryEncoder(categorical_data['BsmtQual'])\n",
    "df1 = encoder.fit_transform(categorical_data['BsmtQual'])\n",
    "categorical_data = pd.concat([categorical_data, df1], axis=1).reindex(categorical_data.index)\n",
    "categorical_data.drop('BsmtQual', axis=1, inplace=True)\n",
    "\n",
    "encoder = ce.BinaryEncoder(categorical_data['BsmtCond'])\n",
    "df1 = encoder.fit_transform(categorical_data['BsmtCond'])\n",
    "categorical_data = pd.concat([categorical_data, df1], axis=1).reindex(categorical_data.index)\n",
    "categorical_data.drop('BsmtCond', axis=1, inplace=True)\n",
    "\n",
    "encoder = ce.BinaryEncoder(categorical_data['BsmtExposure'])\n",
    "df1 = encoder.fit_transform(categorical_data['BsmtExposure'])\n",
    "categorical_data = pd.concat([categorical_data, df1], axis=1).reindex(categorical_data.index)\n",
    "categorical_data.drop('BsmtExposure', axis=1, inplace=True)\n",
    "\n",
    "encoder = ce.BinaryEncoder(categorical_data['BsmtFinType1'])\n",
    "df1 = encoder.fit_transform(categorical_data['BsmtFinType1'])\n",
    "categorical_data = pd.concat([categorical_data, df1], axis=1).reindex(categorical_data.index)\n",
    "categorical_data.drop('BsmtFinType1', axis=1, inplace=True)\n",
    "\n",
    "encoder = ce.BinaryEncoder(categorical_data['BsmtFinType2'])\n",
    "df1 = encoder.fit_transform(categorical_data['BsmtFinType2'])\n",
    "categorical_data = pd.concat([categorical_data, df1], axis=1).reindex(categorical_data.index)\n",
    "categorical_data.drop('BsmtFinType2', axis=1, inplace=True)\n",
    "\n",
    "encoder = ce.BinaryEncoder(categorical_data['Heating'])\n",
    "df1 = encoder.fit_transform(categorical_data['Heating'])\n",
    "categorical_data = pd.concat([categorical_data, df1], axis=1).reindex(categorical_data.index)\n",
    "categorical_data.drop('Heating', axis=1, inplace=True)\n",
    "\n",
    "encoder = ce.BinaryEncoder(categorical_data['HeatingQC'])\n",
    "df1 = encoder.fit_transform(categorical_data['HeatingQC'])\n",
    "categorical_data = pd.concat([categorical_data, df1], axis=1).reindex(categorical_data.index)\n",
    "categorical_data.drop('HeatingQC', axis=1, inplace=True)\n",
    "\n",
    "label = le.fit_transform(categorical_data['CentralAir'])\n",
    "categorical_data.drop(\"CentralAir\", axis=1, inplace=True)\n",
    "categorical_data[\"CentralAir\"] = label\n",
    "\n",
    "encoder = ce.BinaryEncoder(categorical_data['Electrical'])\n",
    "df1 = encoder.fit_transform(categorical_data['Electrical'])\n",
    "categorical_data = pd.concat([categorical_data, df1], axis=1).reindex(categorical_data.index)\n",
    "categorical_data.drop('Electrical', axis=1, inplace=True)\n",
    "\n",
    "encoder = ce.BinaryEncoder(categorical_data['KitchenQual'])\n",
    "df1 = encoder.fit_transform(categorical_data['KitchenQual'])\n",
    "categorical_data = pd.concat([categorical_data, df1], axis=1).reindex(categorical_data.index)\n",
    "categorical_data.drop('KitchenQual', axis=1, inplace=True)\n",
    "\n",
    "encoder = ce.BinaryEncoder(categorical_data['Functional'])\n",
    "df1 = encoder.fit_transform(categorical_data['Functional'])\n",
    "categorical_data = pd.concat([categorical_data, df1], axis=1).reindex(categorical_data.index)\n",
    "categorical_data.drop('Functional', axis=1, inplace=True)\n",
    "\n",
    "encoder = ce.BinaryEncoder(categorical_data['FireplaceQu'])\n",
    "df1 = encoder.fit_transform(categorical_data['FireplaceQu'])\n",
    "categorical_data = pd.concat([categorical_data, df1], axis=1).reindex(categorical_data.index)\n",
    "categorical_data.drop('FireplaceQu', axis=1, inplace=True)\n",
    "\n",
    "encoder = ce.BinaryEncoder(categorical_data['GarageType'])\n",
    "df1 = encoder.fit_transform(categorical_data['GarageType'])\n",
    "categorical_data = pd.concat([categorical_data, df1], axis=1).reindex(categorical_data.index)\n",
    "categorical_data.drop('GarageType', axis=1, inplace=True)\n",
    "\n",
    "#One hot encoding\n",
    "from sklearn.preprocessing import OneHotEncoder\n",
    "encoder = OneHotEncoder(handle_unknown='ignore')\n",
    "encoder_df = pd.DataFrame(encoder.fit_transform(categorical_data[['GarageFinish']]).toarray())\n",
    "categorical_data = categorical_data.join(encoder_df)\n",
    "categorical_data.drop(['GarageFinish'], axis=1, inplace=True)\n",
    "\n",
    "encoder = ce.BinaryEncoder(categorical_data['GarageQual'])\n",
    "df1 = encoder.fit_transform(categorical_data['GarageQual'])\n",
    "categorical_data = pd.concat([categorical_data, df1], axis=1).reindex(categorical_data.index)\n",
    "categorical_data.drop('GarageQual', axis=1, inplace=True)\n",
    "\n",
    "encoder = ce.BinaryEncoder(categorical_data['GarageCond'])\n",
    "df1 = encoder.fit_transform(categorical_data['GarageCond'])\n",
    "categorical_data = pd.concat([categorical_data, df1], axis=1).reindex(categorical_data.index)\n",
    "categorical_data.drop('GarageCond', axis=1, inplace=True)\n",
    "\n",
    "#One hot Encoding\n",
    "encoder = OneHotEncoder(handle_unknown='ignore')\n",
    "encoder_df = pd.DataFrame(encoder.fit_transform(categorical_data[['PavedDrive']]).toarray(),\n",
    "                          columns=['PavedDrive_01', 'PavedDrive_02', 'PavedDrive_03'])\n",
    "categorical_data = categorical_data.join(encoder_df)\n",
    "categorical_data.drop(['PavedDrive'], axis=1, inplace=True)\n",
    "\n",
    "encoder = ce.BinaryEncoder(categorical_data['SaleType'])\n",
    "df1 = encoder.fit_transform(categorical_data['SaleType'])\n",
    "categorical_data = pd.concat([categorical_data, df1], axis=1).reindex(categorical_data.index)\n",
    "categorical_data.drop('SaleType', axis=1, inplace=True)\n",
    "\n",
    "encoder = ce.BinaryEncoder(categorical_data['SaleCondition'])\n",
    "df1 = encoder.fit_transform(categorical_data['SaleCondition'])\n",
    "categorical_data = pd.concat([categorical_data, df1], axis=1).reindex(categorical_data.index)\n",
    "categorical_data.drop('SaleCondition', axis=1, inplace=True)\n",
    "categorical_data"
   ],
   "metadata": {
    "collapsed": false,
    "pycharm": {
     "name": "#%%\n"
    }
   }
  },
  {
   "cell_type": "code",
   "execution_count": 3,
   "outputs": [
    {
     "data": {
      "text/plain": "      C (all)  FV  RH  RL  RM  Street  IR1  IR2  IR3  Reg  ...  WoodDeckSF  \\\n0           0   0   0   1   0       1    0    0    0    1  ...           0   \n1           0   0   0   1   0       1    0    0    0    1  ...         298   \n2           0   0   0   1   0       1    1    0    0    0  ...           0   \n3           0   0   0   1   0       1    1    0    0    0  ...           0   \n4           0   0   0   1   0       1    1    0    0    0  ...         192   \n...       ...  ..  ..  ..  ..     ...  ...  ...  ...  ...  ...         ...   \n2914        0   0   0   0   1       1    0    0    0    1  ...           0   \n2915        0   0   0   0   1       1    0    0    0    1  ...           0   \n2916        0   0   0   1   0       1    0    0    0    1  ...         474   \n2917        0   0   0   1   0       1    0    0    0    1  ...          80   \n2918        0   0   0   1   0       1    0    0    0    1  ...         190   \n\n      OpenPorchSF  EnclosedPorch  3SsnPorch  ScreenPorch  PoolArea  MiscVal  \\\n0              61              0          0            0         0        0   \n1               0              0          0            0         0        0   \n2              42              0          0            0         0        0   \n3              35            272          0            0         0        0   \n4              84              0          0            0         0        0   \n...           ...            ...        ...          ...       ...      ...   \n2914            0              0          0            0         0        0   \n2915           24              0          0            0         0        0   \n2916            0              0          0            0         0        0   \n2917           32              0          0            0         0      700   \n2918           48              0          0            0         0        0   \n\n      MoSold  YrSold     SalePrice  \n0          2    2008  208500.00000  \n1          5    2007  181500.00000  \n2          9    2008  223500.00000  \n3          2    2006  140000.00000  \n4         12    2008  250000.00000  \n...      ...     ...           ...  \n2914       6    2006  180921.19589  \n2915       4    2006  180921.19589  \n2916       9    2006  180921.19589  \n2917       7    2006  180921.19589  \n2918      11    2006  180921.19589  \n\n[2919 rows x 168 columns]",
      "text/html": "<div>\n<style scoped>\n    .dataframe tbody tr th:only-of-type {\n        vertical-align: middle;\n    }\n\n    .dataframe tbody tr th {\n        vertical-align: top;\n    }\n\n    .dataframe thead th {\n        text-align: right;\n    }\n</style>\n<table border=\"1\" class=\"dataframe\">\n  <thead>\n    <tr style=\"text-align: right;\">\n      <th></th>\n      <th>C (all)</th>\n      <th>FV</th>\n      <th>RH</th>\n      <th>RL</th>\n      <th>RM</th>\n      <th>Street</th>\n      <th>IR1</th>\n      <th>IR2</th>\n      <th>IR3</th>\n      <th>Reg</th>\n      <th>...</th>\n      <th>WoodDeckSF</th>\n      <th>OpenPorchSF</th>\n      <th>EnclosedPorch</th>\n      <th>3SsnPorch</th>\n      <th>ScreenPorch</th>\n      <th>PoolArea</th>\n      <th>MiscVal</th>\n      <th>MoSold</th>\n      <th>YrSold</th>\n      <th>SalePrice</th>\n    </tr>\n  </thead>\n  <tbody>\n    <tr>\n      <th>0</th>\n      <td>0</td>\n      <td>0</td>\n      <td>0</td>\n      <td>1</td>\n      <td>0</td>\n      <td>1</td>\n      <td>0</td>\n      <td>0</td>\n      <td>0</td>\n      <td>1</td>\n      <td>...</td>\n      <td>0</td>\n      <td>61</td>\n      <td>0</td>\n      <td>0</td>\n      <td>0</td>\n      <td>0</td>\n      <td>0</td>\n      <td>2</td>\n      <td>2008</td>\n      <td>208500.00000</td>\n    </tr>\n    <tr>\n      <th>1</th>\n      <td>0</td>\n      <td>0</td>\n      <td>0</td>\n      <td>1</td>\n      <td>0</td>\n      <td>1</td>\n      <td>0</td>\n      <td>0</td>\n      <td>0</td>\n      <td>1</td>\n      <td>...</td>\n      <td>298</td>\n      <td>0</td>\n      <td>0</td>\n      <td>0</td>\n      <td>0</td>\n      <td>0</td>\n      <td>0</td>\n      <td>5</td>\n      <td>2007</td>\n      <td>181500.00000</td>\n    </tr>\n    <tr>\n      <th>2</th>\n      <td>0</td>\n      <td>0</td>\n      <td>0</td>\n      <td>1</td>\n      <td>0</td>\n      <td>1</td>\n      <td>1</td>\n      <td>0</td>\n      <td>0</td>\n      <td>0</td>\n      <td>...</td>\n      <td>0</td>\n      <td>42</td>\n      <td>0</td>\n      <td>0</td>\n      <td>0</td>\n      <td>0</td>\n      <td>0</td>\n      <td>9</td>\n      <td>2008</td>\n      <td>223500.00000</td>\n    </tr>\n    <tr>\n      <th>3</th>\n      <td>0</td>\n      <td>0</td>\n      <td>0</td>\n      <td>1</td>\n      <td>0</td>\n      <td>1</td>\n      <td>1</td>\n      <td>0</td>\n      <td>0</td>\n      <td>0</td>\n      <td>...</td>\n      <td>0</td>\n      <td>35</td>\n      <td>272</td>\n      <td>0</td>\n      <td>0</td>\n      <td>0</td>\n      <td>0</td>\n      <td>2</td>\n      <td>2006</td>\n      <td>140000.00000</td>\n    </tr>\n    <tr>\n      <th>4</th>\n      <td>0</td>\n      <td>0</td>\n      <td>0</td>\n      <td>1</td>\n      <td>0</td>\n      <td>1</td>\n      <td>1</td>\n      <td>0</td>\n      <td>0</td>\n      <td>0</td>\n      <td>...</td>\n      <td>192</td>\n      <td>84</td>\n      <td>0</td>\n      <td>0</td>\n      <td>0</td>\n      <td>0</td>\n      <td>0</td>\n      <td>12</td>\n      <td>2008</td>\n      <td>250000.00000</td>\n    </tr>\n    <tr>\n      <th>...</th>\n      <td>...</td>\n      <td>...</td>\n      <td>...</td>\n      <td>...</td>\n      <td>...</td>\n      <td>...</td>\n      <td>...</td>\n      <td>...</td>\n      <td>...</td>\n      <td>...</td>\n      <td>...</td>\n      <td>...</td>\n      <td>...</td>\n      <td>...</td>\n      <td>...</td>\n      <td>...</td>\n      <td>...</td>\n      <td>...</td>\n      <td>...</td>\n      <td>...</td>\n      <td>...</td>\n    </tr>\n    <tr>\n      <th>2914</th>\n      <td>0</td>\n      <td>0</td>\n      <td>0</td>\n      <td>0</td>\n      <td>1</td>\n      <td>1</td>\n      <td>0</td>\n      <td>0</td>\n      <td>0</td>\n      <td>1</td>\n      <td>...</td>\n      <td>0</td>\n      <td>0</td>\n      <td>0</td>\n      <td>0</td>\n      <td>0</td>\n      <td>0</td>\n      <td>0</td>\n      <td>6</td>\n      <td>2006</td>\n      <td>180921.19589</td>\n    </tr>\n    <tr>\n      <th>2915</th>\n      <td>0</td>\n      <td>0</td>\n      <td>0</td>\n      <td>0</td>\n      <td>1</td>\n      <td>1</td>\n      <td>0</td>\n      <td>0</td>\n      <td>0</td>\n      <td>1</td>\n      <td>...</td>\n      <td>0</td>\n      <td>24</td>\n      <td>0</td>\n      <td>0</td>\n      <td>0</td>\n      <td>0</td>\n      <td>0</td>\n      <td>4</td>\n      <td>2006</td>\n      <td>180921.19589</td>\n    </tr>\n    <tr>\n      <th>2916</th>\n      <td>0</td>\n      <td>0</td>\n      <td>0</td>\n      <td>1</td>\n      <td>0</td>\n      <td>1</td>\n      <td>0</td>\n      <td>0</td>\n      <td>0</td>\n      <td>1</td>\n      <td>...</td>\n      <td>474</td>\n      <td>0</td>\n      <td>0</td>\n      <td>0</td>\n      <td>0</td>\n      <td>0</td>\n      <td>0</td>\n      <td>9</td>\n      <td>2006</td>\n      <td>180921.19589</td>\n    </tr>\n    <tr>\n      <th>2917</th>\n      <td>0</td>\n      <td>0</td>\n      <td>0</td>\n      <td>1</td>\n      <td>0</td>\n      <td>1</td>\n      <td>0</td>\n      <td>0</td>\n      <td>0</td>\n      <td>1</td>\n      <td>...</td>\n      <td>80</td>\n      <td>32</td>\n      <td>0</td>\n      <td>0</td>\n      <td>0</td>\n      <td>0</td>\n      <td>700</td>\n      <td>7</td>\n      <td>2006</td>\n      <td>180921.19589</td>\n    </tr>\n    <tr>\n      <th>2918</th>\n      <td>0</td>\n      <td>0</td>\n      <td>0</td>\n      <td>1</td>\n      <td>0</td>\n      <td>1</td>\n      <td>0</td>\n      <td>0</td>\n      <td>0</td>\n      <td>1</td>\n      <td>...</td>\n      <td>190</td>\n      <td>48</td>\n      <td>0</td>\n      <td>0</td>\n      <td>0</td>\n      <td>0</td>\n      <td>0</td>\n      <td>11</td>\n      <td>2006</td>\n      <td>180921.19589</td>\n    </tr>\n  </tbody>\n</table>\n<p>2919 rows × 168 columns</p>\n</div>"
     },
     "execution_count": 3,
     "metadata": {},
     "output_type": "execute_result"
    }
   ],
   "source": [
    "df_final = pd.concat([categorical_data, numeric_data], axis=1).reindex(df.index)\n",
    "df_final"
   ],
   "metadata": {
    "collapsed": false,
    "pycharm": {
     "name": "#%%\n"
    }
   }
  },
  {
   "cell_type": "code",
   "execution_count": 4,
   "outputs": [
    {
     "name": "stdout",
     "output_type": "stream",
     "text": [
      "Shape of new dataframes - (2919, 168) , (1459, 168)\n"
     ]
    }
   ],
   "source": [
    "final = df_final.iloc[:1460,:]\n",
    "real_test_data = df_final.iloc[1460:,:]\n",
    "print(\"Shape of new dataframes - {} , {}\".format(df_final.shape, real_test_data.shape))"
   ],
   "metadata": {
    "collapsed": false,
    "pycharm": {
     "name": "#%%\n"
    }
   }
  },
  {
   "cell_type": "code",
   "execution_count": 5,
   "outputs": [
    {
     "name": "stderr",
     "output_type": "stream",
     "text": [
      "C:\\Users\\Gufran bhatti\\AppData\\Local\\Temp\\ipykernel_9320\\2003442434.py:1: SettingWithCopyWarning: \n",
      "A value is trying to be set on a copy of a slice from a DataFrame\n",
      "\n",
      "See the caveats in the documentation: https://pandas.pydata.org/pandas-docs/stable/user_guide/indexing.html#returning-a-view-versus-a-copy\n",
      "  real_test_data.drop(\"SalePrice\", axis=1, inplace=True)\n"
     ]
    },
    {
     "data": {
      "text/plain": "      C (all)  FV  RH  RL  RM  Street  IR1  IR2  IR3  Reg  ...  GarageArea  \\\n1460        0   0   1   0   0       1    0    0    0    1  ...       730.0   \n1461        0   0   0   1   0       1    1    0    0    0  ...       312.0   \n1462        0   0   0   1   0       1    1    0    0    0  ...       482.0   \n1463        0   0   0   1   0       1    1    0    0    0  ...       470.0   \n1464        0   0   0   1   0       1    1    0    0    0  ...       506.0   \n...       ...  ..  ..  ..  ..     ...  ...  ...  ...  ...  ...         ...   \n2914        0   0   0   0   1       1    0    0    0    1  ...         0.0   \n2915        0   0   0   0   1       1    0    0    0    1  ...       286.0   \n2916        0   0   0   1   0       1    0    0    0    1  ...       576.0   \n2917        0   0   0   1   0       1    0    0    0    1  ...         0.0   \n2918        0   0   0   1   0       1    0    0    0    1  ...       650.0   \n\n      WoodDeckSF  OpenPorchSF  EnclosedPorch  3SsnPorch  ScreenPorch  \\\n1460         140            0              0          0          120   \n1461         393           36              0          0            0   \n1462         212           34              0          0            0   \n1463         360           36              0          0            0   \n1464           0           82              0          0          144   \n...          ...          ...            ...        ...          ...   \n2914           0            0              0          0            0   \n2915           0           24              0          0            0   \n2916         474            0              0          0            0   \n2917          80           32              0          0            0   \n2918         190           48              0          0            0   \n\n      PoolArea  MiscVal  MoSold  YrSold  \n1460         0        0       6    2010  \n1461         0    12500       6    2010  \n1462         0        0       3    2010  \n1463         0        0       6    2010  \n1464         0        0       1    2010  \n...        ...      ...     ...     ...  \n2914         0        0       6    2006  \n2915         0        0       4    2006  \n2916         0        0       9    2006  \n2917         0      700       7    2006  \n2918         0        0      11    2006  \n\n[1459 rows x 167 columns]",
      "text/html": "<div>\n<style scoped>\n    .dataframe tbody tr th:only-of-type {\n        vertical-align: middle;\n    }\n\n    .dataframe tbody tr th {\n        vertical-align: top;\n    }\n\n    .dataframe thead th {\n        text-align: right;\n    }\n</style>\n<table border=\"1\" class=\"dataframe\">\n  <thead>\n    <tr style=\"text-align: right;\">\n      <th></th>\n      <th>C (all)</th>\n      <th>FV</th>\n      <th>RH</th>\n      <th>RL</th>\n      <th>RM</th>\n      <th>Street</th>\n      <th>IR1</th>\n      <th>IR2</th>\n      <th>IR3</th>\n      <th>Reg</th>\n      <th>...</th>\n      <th>GarageArea</th>\n      <th>WoodDeckSF</th>\n      <th>OpenPorchSF</th>\n      <th>EnclosedPorch</th>\n      <th>3SsnPorch</th>\n      <th>ScreenPorch</th>\n      <th>PoolArea</th>\n      <th>MiscVal</th>\n      <th>MoSold</th>\n      <th>YrSold</th>\n    </tr>\n  </thead>\n  <tbody>\n    <tr>\n      <th>1460</th>\n      <td>0</td>\n      <td>0</td>\n      <td>1</td>\n      <td>0</td>\n      <td>0</td>\n      <td>1</td>\n      <td>0</td>\n      <td>0</td>\n      <td>0</td>\n      <td>1</td>\n      <td>...</td>\n      <td>730.0</td>\n      <td>140</td>\n      <td>0</td>\n      <td>0</td>\n      <td>0</td>\n      <td>120</td>\n      <td>0</td>\n      <td>0</td>\n      <td>6</td>\n      <td>2010</td>\n    </tr>\n    <tr>\n      <th>1461</th>\n      <td>0</td>\n      <td>0</td>\n      <td>0</td>\n      <td>1</td>\n      <td>0</td>\n      <td>1</td>\n      <td>1</td>\n      <td>0</td>\n      <td>0</td>\n      <td>0</td>\n      <td>...</td>\n      <td>312.0</td>\n      <td>393</td>\n      <td>36</td>\n      <td>0</td>\n      <td>0</td>\n      <td>0</td>\n      <td>0</td>\n      <td>12500</td>\n      <td>6</td>\n      <td>2010</td>\n    </tr>\n    <tr>\n      <th>1462</th>\n      <td>0</td>\n      <td>0</td>\n      <td>0</td>\n      <td>1</td>\n      <td>0</td>\n      <td>1</td>\n      <td>1</td>\n      <td>0</td>\n      <td>0</td>\n      <td>0</td>\n      <td>...</td>\n      <td>482.0</td>\n      <td>212</td>\n      <td>34</td>\n      <td>0</td>\n      <td>0</td>\n      <td>0</td>\n      <td>0</td>\n      <td>0</td>\n      <td>3</td>\n      <td>2010</td>\n    </tr>\n    <tr>\n      <th>1463</th>\n      <td>0</td>\n      <td>0</td>\n      <td>0</td>\n      <td>1</td>\n      <td>0</td>\n      <td>1</td>\n      <td>1</td>\n      <td>0</td>\n      <td>0</td>\n      <td>0</td>\n      <td>...</td>\n      <td>470.0</td>\n      <td>360</td>\n      <td>36</td>\n      <td>0</td>\n      <td>0</td>\n      <td>0</td>\n      <td>0</td>\n      <td>0</td>\n      <td>6</td>\n      <td>2010</td>\n    </tr>\n    <tr>\n      <th>1464</th>\n      <td>0</td>\n      <td>0</td>\n      <td>0</td>\n      <td>1</td>\n      <td>0</td>\n      <td>1</td>\n      <td>1</td>\n      <td>0</td>\n      <td>0</td>\n      <td>0</td>\n      <td>...</td>\n      <td>506.0</td>\n      <td>0</td>\n      <td>82</td>\n      <td>0</td>\n      <td>0</td>\n      <td>144</td>\n      <td>0</td>\n      <td>0</td>\n      <td>1</td>\n      <td>2010</td>\n    </tr>\n    <tr>\n      <th>...</th>\n      <td>...</td>\n      <td>...</td>\n      <td>...</td>\n      <td>...</td>\n      <td>...</td>\n      <td>...</td>\n      <td>...</td>\n      <td>...</td>\n      <td>...</td>\n      <td>...</td>\n      <td>...</td>\n      <td>...</td>\n      <td>...</td>\n      <td>...</td>\n      <td>...</td>\n      <td>...</td>\n      <td>...</td>\n      <td>...</td>\n      <td>...</td>\n      <td>...</td>\n      <td>...</td>\n    </tr>\n    <tr>\n      <th>2914</th>\n      <td>0</td>\n      <td>0</td>\n      <td>0</td>\n      <td>0</td>\n      <td>1</td>\n      <td>1</td>\n      <td>0</td>\n      <td>0</td>\n      <td>0</td>\n      <td>1</td>\n      <td>...</td>\n      <td>0.0</td>\n      <td>0</td>\n      <td>0</td>\n      <td>0</td>\n      <td>0</td>\n      <td>0</td>\n      <td>0</td>\n      <td>0</td>\n      <td>6</td>\n      <td>2006</td>\n    </tr>\n    <tr>\n      <th>2915</th>\n      <td>0</td>\n      <td>0</td>\n      <td>0</td>\n      <td>0</td>\n      <td>1</td>\n      <td>1</td>\n      <td>0</td>\n      <td>0</td>\n      <td>0</td>\n      <td>1</td>\n      <td>...</td>\n      <td>286.0</td>\n      <td>0</td>\n      <td>24</td>\n      <td>0</td>\n      <td>0</td>\n      <td>0</td>\n      <td>0</td>\n      <td>0</td>\n      <td>4</td>\n      <td>2006</td>\n    </tr>\n    <tr>\n      <th>2916</th>\n      <td>0</td>\n      <td>0</td>\n      <td>0</td>\n      <td>1</td>\n      <td>0</td>\n      <td>1</td>\n      <td>0</td>\n      <td>0</td>\n      <td>0</td>\n      <td>1</td>\n      <td>...</td>\n      <td>576.0</td>\n      <td>474</td>\n      <td>0</td>\n      <td>0</td>\n      <td>0</td>\n      <td>0</td>\n      <td>0</td>\n      <td>0</td>\n      <td>9</td>\n      <td>2006</td>\n    </tr>\n    <tr>\n      <th>2917</th>\n      <td>0</td>\n      <td>0</td>\n      <td>0</td>\n      <td>1</td>\n      <td>0</td>\n      <td>1</td>\n      <td>0</td>\n      <td>0</td>\n      <td>0</td>\n      <td>1</td>\n      <td>...</td>\n      <td>0.0</td>\n      <td>80</td>\n      <td>32</td>\n      <td>0</td>\n      <td>0</td>\n      <td>0</td>\n      <td>0</td>\n      <td>700</td>\n      <td>7</td>\n      <td>2006</td>\n    </tr>\n    <tr>\n      <th>2918</th>\n      <td>0</td>\n      <td>0</td>\n      <td>0</td>\n      <td>1</td>\n      <td>0</td>\n      <td>1</td>\n      <td>0</td>\n      <td>0</td>\n      <td>0</td>\n      <td>1</td>\n      <td>...</td>\n      <td>650.0</td>\n      <td>190</td>\n      <td>48</td>\n      <td>0</td>\n      <td>0</td>\n      <td>0</td>\n      <td>0</td>\n      <td>0</td>\n      <td>11</td>\n      <td>2006</td>\n    </tr>\n  </tbody>\n</table>\n<p>1459 rows × 167 columns</p>\n</div>"
     },
     "execution_count": 5,
     "metadata": {},
     "output_type": "execute_result"
    }
   ],
   "source": [
    "real_test_data.drop(\"SalePrice\", axis=1, inplace=True)\n",
    "real_test_data"
   ],
   "metadata": {
    "collapsed": false,
    "pycharm": {
     "name": "#%%\n"
    }
   }
  },
  {
   "cell_type": "code",
   "execution_count": 6,
   "outputs": [],
   "source": [
    "X = final.iloc[:, 0:-1]\n",
    "y = final.iloc[:, -1]"
   ],
   "metadata": {
    "collapsed": false,
    "pycharm": {
     "name": "#%%\n"
    }
   }
  },
  {
   "cell_type": "code",
   "execution_count": 32,
   "outputs": [
    {
     "name": "stderr",
     "output_type": "stream",
     "text": [
      "C:\\Users\\Gufran bhatti\\AppData\\Local\\Programs\\Python\\Python310\\lib\\site-packages\\sklearn\\utils\\validation.py:1858: FutureWarning: Feature names only support names that are all strings. Got feature names with dtypes: ['int', 'str']. An error will be raised in 1.2.\n",
      "  warnings.warn(\n"
     ]
    },
    {
     "name": "stdout",
     "output_type": "stream",
     "text": [
      "Index([           'FV',            'RL',            'RM',           'IR1',\n",
      "                 'IR2',           'Reg',           'Bnk',           'HLS',\n",
      "                 'Lvl',        'Corner',\n",
      "       ...\n",
      "        'KitchenAbvGr',  'TotRmsAbvGrd',    'Fireplaces',   'GarageYrBlt',\n",
      "          'GarageCars',    'GarageArea',    'WoodDeckSF',   'OpenPorchSF',\n",
      "       'EnclosedPorch',   'ScreenPorch'],\n",
      "      dtype='object', length=130)\n"
     ]
    },
    {
     "name": "stderr",
     "output_type": "stream",
     "text": [
      "C:\\Users\\Gufran bhatti\\AppData\\Local\\Programs\\Python\\Python310\\lib\\site-packages\\sklearn\\utils\\validation.py:1858: FutureWarning: Feature names only support names that are all strings. Got feature names with dtypes: ['int', 'str']. An error will be raised in 1.2.\n",
      "  warnings.warn(\n"
     ]
    }
   ],
   "source": [
    "from sklearn.feature_selection import SelectKBest\n",
    "from sklearn.feature_selection import f_regression, mutual_info_regression\n",
    "\n",
    "# Select the top 30 features using mutual_info_regression as the scoring function\n",
    "selector = SelectKBest(score_func=mutual_info_regression, k=130)\n",
    "X_new = selector.fit_transform(X, y)\n",
    "\n",
    "# Get the indices of the selected features\n",
    "selected_features = selector.get_support(indices=True)\n",
    "\n",
    "# Print the names of the selected features\n",
    "print(X.columns[selected_features])"
   ],
   "metadata": {
    "collapsed": false,
    "pycharm": {
     "name": "#%%\n"
    }
   }
  },
  {
   "cell_type": "code",
   "execution_count": 44,
   "outputs": [
    {
     "name": "stdout",
     "output_type": "stream",
     "text": [
      "Test score: 0.92\n"
     ]
    }
   ],
   "source": [
    "from sklearn.ensemble import GradientBoostingRegressor\n",
    "from sklearn.model_selection import train_test_split\n",
    "\n",
    "# Split the dataset into training and testing sets\n",
    "X_train, X_test, y_train, y_test = train_test_split(X_new, y, test_size=0.2, random_state=42)\n",
    "\n",
    "# Train the Gradient Boosting model\n",
    "gb = GradientBoostingRegressor(n_estimators=100, learning_rate=0.1,\n",
    "                               max_depth=5, random_state=42)\n",
    "gb.fit(X_train, y_train)\n",
    "\n",
    "# Evaluate the model on the test data\n",
    "score = gb.score(X_test, y_test)\n",
    "print(\"Test score: {:.2f}\".format(score))"
   ],
   "metadata": {
    "collapsed": false,
    "pycharm": {
     "name": "#%%\n"
    }
   }
  },
  {
   "cell_type": "code",
   "execution_count": 45,
   "outputs": [
    {
     "name": "stderr",
     "output_type": "stream",
     "text": [
      "C:\\Users\\Gufran bhatti\\AppData\\Local\\Programs\\Python\\Python310\\lib\\site-packages\\sklearn\\utils\\validation.py:1858: FutureWarning: Feature names only support names that are all strings. Got feature names with dtypes: ['int', 'str']. An error will be raised in 1.2.\n",
      "  warnings.warn(\n"
     ]
    }
   ],
   "source": [
    "real_test_data = real_test_data.iloc[:, selected_features]\n",
    "\n",
    "# Make predictions on the test set\n",
    "test_predictions = gb.predict(real_test_data)\n",
    "\n",
    "# Prepare the submission file\n",
    "sub = pd.read_csv('sample_submission.csv')\n",
    "submission = pd.DataFrame({\n",
    "    \"Id\": sub[\"Id\"],\n",
    "    \"SalePrice\": test_predictions\n",
    "})\n",
    "submission.to_csv('submission5.csv', index=False)"
   ],
   "metadata": {
    "collapsed": false,
    "pycharm": {
     "name": "#%%\n"
    }
   }
  },
  {
   "cell_type": "code",
   "execution_count": null,
   "outputs": [],
   "source": [],
   "metadata": {
    "collapsed": false,
    "pycharm": {
     "name": "#%%\n"
    }
   }
  }
 ],
 "metadata": {
  "kernelspec": {
   "display_name": "Python 3",
   "language": "python",
   "name": "python3"
  },
  "language_info": {
   "codemirror_mode": {
    "name": "ipython",
    "version": 2
   },
   "file_extension": ".py",
   "mimetype": "text/x-python",
   "name": "python",
   "nbconvert_exporter": "python",
   "pygments_lexer": "ipython2",
   "version": "2.7.6"
  }
 },
 "nbformat": 4,
 "nbformat_minor": 0
}