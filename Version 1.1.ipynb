{
 "cells": [
  {
   "cell_type": "markdown",
   "source": [
    "# Data Load"
   ],
   "metadata": {
    "collapsed": false,
    "pycharm": {
     "name": "#%% md\n"
    }
   }
  },
  {
   "cell_type": "code",
   "execution_count": 1,
   "metadata": {
    "collapsed": true,
    "pycharm": {
     "name": "#%%\n"
    }
   },
   "outputs": [],
   "source": [
    "import pandas as pd\n",
    "import numpy as np"
   ]
  },
  {
   "cell_type": "code",
   "execution_count": 2,
   "outputs": [
    {
     "data": {
      "text/plain": "        Id  MSSubClass MSZoning  LotFrontage  LotArea Street Alley LotShape  \\\n0        1          60       RL         65.0     8450   Pave   NaN      Reg   \n1        2          20       RL         80.0     9600   Pave   NaN      Reg   \n2        3          60       RL         68.0    11250   Pave   NaN      IR1   \n3        4          70       RL         60.0     9550   Pave   NaN      IR1   \n4        5          60       RL         84.0    14260   Pave   NaN      IR1   \n...    ...         ...      ...          ...      ...    ...   ...      ...   \n2914  2915         160       RM         21.0     1936   Pave   NaN      Reg   \n2915  2916         160       RM         21.0     1894   Pave   NaN      Reg   \n2916  2917          20       RL        160.0    20000   Pave   NaN      Reg   \n2917  2918          85       RL         62.0    10441   Pave   NaN      Reg   \n2918  2919          60       RL         74.0     9627   Pave   NaN      Reg   \n\n     LandContour Utilities  ... PoolArea PoolQC  Fence MiscFeature MiscVal  \\\n0            Lvl    AllPub  ...        0    NaN    NaN         NaN       0   \n1            Lvl    AllPub  ...        0    NaN    NaN         NaN       0   \n2            Lvl    AllPub  ...        0    NaN    NaN         NaN       0   \n3            Lvl    AllPub  ...        0    NaN    NaN         NaN       0   \n4            Lvl    AllPub  ...        0    NaN    NaN         NaN       0   \n...          ...       ...  ...      ...    ...    ...         ...     ...   \n2914         Lvl    AllPub  ...        0    NaN    NaN         NaN       0   \n2915         Lvl    AllPub  ...        0    NaN    NaN         NaN       0   \n2916         Lvl    AllPub  ...        0    NaN    NaN         NaN       0   \n2917         Lvl    AllPub  ...        0    NaN  MnPrv        Shed     700   \n2918         Lvl    AllPub  ...        0    NaN    NaN         NaN       0   \n\n     MoSold YrSold  SaleType  SaleCondition  SalePrice  \n0         2   2008        WD         Normal   208500.0  \n1         5   2007        WD         Normal   181500.0  \n2         9   2008        WD         Normal   223500.0  \n3         2   2006        WD        Abnorml   140000.0  \n4        12   2008        WD         Normal   250000.0  \n...     ...    ...       ...            ...        ...  \n2914      6   2006        WD         Normal        NaN  \n2915      4   2006        WD        Abnorml        NaN  \n2916      9   2006        WD        Abnorml        NaN  \n2917      7   2006        WD         Normal        NaN  \n2918     11   2006        WD         Normal        NaN  \n\n[2919 rows x 81 columns]",
      "text/html": "<div>\n<style scoped>\n    .dataframe tbody tr th:only-of-type {\n        vertical-align: middle;\n    }\n\n    .dataframe tbody tr th {\n        vertical-align: top;\n    }\n\n    .dataframe thead th {\n        text-align: right;\n    }\n</style>\n<table border=\"1\" class=\"dataframe\">\n  <thead>\n    <tr style=\"text-align: right;\">\n      <th></th>\n      <th>Id</th>\n      <th>MSSubClass</th>\n      <th>MSZoning</th>\n      <th>LotFrontage</th>\n      <th>LotArea</th>\n      <th>Street</th>\n      <th>Alley</th>\n      <th>LotShape</th>\n      <th>LandContour</th>\n      <th>Utilities</th>\n      <th>...</th>\n      <th>PoolArea</th>\n      <th>PoolQC</th>\n      <th>Fence</th>\n      <th>MiscFeature</th>\n      <th>MiscVal</th>\n      <th>MoSold</th>\n      <th>YrSold</th>\n      <th>SaleType</th>\n      <th>SaleCondition</th>\n      <th>SalePrice</th>\n    </tr>\n  </thead>\n  <tbody>\n    <tr>\n      <th>0</th>\n      <td>1</td>\n      <td>60</td>\n      <td>RL</td>\n      <td>65.0</td>\n      <td>8450</td>\n      <td>Pave</td>\n      <td>NaN</td>\n      <td>Reg</td>\n      <td>Lvl</td>\n      <td>AllPub</td>\n      <td>...</td>\n      <td>0</td>\n      <td>NaN</td>\n      <td>NaN</td>\n      <td>NaN</td>\n      <td>0</td>\n      <td>2</td>\n      <td>2008</td>\n      <td>WD</td>\n      <td>Normal</td>\n      <td>208500.0</td>\n    </tr>\n    <tr>\n      <th>1</th>\n      <td>2</td>\n      <td>20</td>\n      <td>RL</td>\n      <td>80.0</td>\n      <td>9600</td>\n      <td>Pave</td>\n      <td>NaN</td>\n      <td>Reg</td>\n      <td>Lvl</td>\n      <td>AllPub</td>\n      <td>...</td>\n      <td>0</td>\n      <td>NaN</td>\n      <td>NaN</td>\n      <td>NaN</td>\n      <td>0</td>\n      <td>5</td>\n      <td>2007</td>\n      <td>WD</td>\n      <td>Normal</td>\n      <td>181500.0</td>\n    </tr>\n    <tr>\n      <th>2</th>\n      <td>3</td>\n      <td>60</td>\n      <td>RL</td>\n      <td>68.0</td>\n      <td>11250</td>\n      <td>Pave</td>\n      <td>NaN</td>\n      <td>IR1</td>\n      <td>Lvl</td>\n      <td>AllPub</td>\n      <td>...</td>\n      <td>0</td>\n      <td>NaN</td>\n      <td>NaN</td>\n      <td>NaN</td>\n      <td>0</td>\n      <td>9</td>\n      <td>2008</td>\n      <td>WD</td>\n      <td>Normal</td>\n      <td>223500.0</td>\n    </tr>\n    <tr>\n      <th>3</th>\n      <td>4</td>\n      <td>70</td>\n      <td>RL</td>\n      <td>60.0</td>\n      <td>9550</td>\n      <td>Pave</td>\n      <td>NaN</td>\n      <td>IR1</td>\n      <td>Lvl</td>\n      <td>AllPub</td>\n      <td>...</td>\n      <td>0</td>\n      <td>NaN</td>\n      <td>NaN</td>\n      <td>NaN</td>\n      <td>0</td>\n      <td>2</td>\n      <td>2006</td>\n      <td>WD</td>\n      <td>Abnorml</td>\n      <td>140000.0</td>\n    </tr>\n    <tr>\n      <th>4</th>\n      <td>5</td>\n      <td>60</td>\n      <td>RL</td>\n      <td>84.0</td>\n      <td>14260</td>\n      <td>Pave</td>\n      <td>NaN</td>\n      <td>IR1</td>\n      <td>Lvl</td>\n      <td>AllPub</td>\n      <td>...</td>\n      <td>0</td>\n      <td>NaN</td>\n      <td>NaN</td>\n      <td>NaN</td>\n      <td>0</td>\n      <td>12</td>\n      <td>2008</td>\n      <td>WD</td>\n      <td>Normal</td>\n      <td>250000.0</td>\n    </tr>\n    <tr>\n      <th>...</th>\n      <td>...</td>\n      <td>...</td>\n      <td>...</td>\n      <td>...</td>\n      <td>...</td>\n      <td>...</td>\n      <td>...</td>\n      <td>...</td>\n      <td>...</td>\n      <td>...</td>\n      <td>...</td>\n      <td>...</td>\n      <td>...</td>\n      <td>...</td>\n      <td>...</td>\n      <td>...</td>\n      <td>...</td>\n      <td>...</td>\n      <td>...</td>\n      <td>...</td>\n      <td>...</td>\n    </tr>\n    <tr>\n      <th>2914</th>\n      <td>2915</td>\n      <td>160</td>\n      <td>RM</td>\n      <td>21.0</td>\n      <td>1936</td>\n      <td>Pave</td>\n      <td>NaN</td>\n      <td>Reg</td>\n      <td>Lvl</td>\n      <td>AllPub</td>\n      <td>...</td>\n      <td>0</td>\n      <td>NaN</td>\n      <td>NaN</td>\n      <td>NaN</td>\n      <td>0</td>\n      <td>6</td>\n      <td>2006</td>\n      <td>WD</td>\n      <td>Normal</td>\n      <td>NaN</td>\n    </tr>\n    <tr>\n      <th>2915</th>\n      <td>2916</td>\n      <td>160</td>\n      <td>RM</td>\n      <td>21.0</td>\n      <td>1894</td>\n      <td>Pave</td>\n      <td>NaN</td>\n      <td>Reg</td>\n      <td>Lvl</td>\n      <td>AllPub</td>\n      <td>...</td>\n      <td>0</td>\n      <td>NaN</td>\n      <td>NaN</td>\n      <td>NaN</td>\n      <td>0</td>\n      <td>4</td>\n      <td>2006</td>\n      <td>WD</td>\n      <td>Abnorml</td>\n      <td>NaN</td>\n    </tr>\n    <tr>\n      <th>2916</th>\n      <td>2917</td>\n      <td>20</td>\n      <td>RL</td>\n      <td>160.0</td>\n      <td>20000</td>\n      <td>Pave</td>\n      <td>NaN</td>\n      <td>Reg</td>\n      <td>Lvl</td>\n      <td>AllPub</td>\n      <td>...</td>\n      <td>0</td>\n      <td>NaN</td>\n      <td>NaN</td>\n      <td>NaN</td>\n      <td>0</td>\n      <td>9</td>\n      <td>2006</td>\n      <td>WD</td>\n      <td>Abnorml</td>\n      <td>NaN</td>\n    </tr>\n    <tr>\n      <th>2917</th>\n      <td>2918</td>\n      <td>85</td>\n      <td>RL</td>\n      <td>62.0</td>\n      <td>10441</td>\n      <td>Pave</td>\n      <td>NaN</td>\n      <td>Reg</td>\n      <td>Lvl</td>\n      <td>AllPub</td>\n      <td>...</td>\n      <td>0</td>\n      <td>NaN</td>\n      <td>MnPrv</td>\n      <td>Shed</td>\n      <td>700</td>\n      <td>7</td>\n      <td>2006</td>\n      <td>WD</td>\n      <td>Normal</td>\n      <td>NaN</td>\n    </tr>\n    <tr>\n      <th>2918</th>\n      <td>2919</td>\n      <td>60</td>\n      <td>RL</td>\n      <td>74.0</td>\n      <td>9627</td>\n      <td>Pave</td>\n      <td>NaN</td>\n      <td>Reg</td>\n      <td>Lvl</td>\n      <td>AllPub</td>\n      <td>...</td>\n      <td>0</td>\n      <td>NaN</td>\n      <td>NaN</td>\n      <td>NaN</td>\n      <td>0</td>\n      <td>11</td>\n      <td>2006</td>\n      <td>WD</td>\n      <td>Normal</td>\n      <td>NaN</td>\n    </tr>\n  </tbody>\n</table>\n<p>2919 rows × 81 columns</p>\n</div>"
     },
     "execution_count": 2,
     "metadata": {},
     "output_type": "execute_result"
    }
   ],
   "source": [
    "df = pd.read_csv(\"train.csv\")\n",
    "df2 = pd.read_csv('test.csv')\n",
    "df = pd.concat([df,df2], ignore_index=True)\n",
    "df"
   ],
   "metadata": {
    "collapsed": false,
    "pycharm": {
     "name": "#%%\n"
    }
   }
  },
  {
   "cell_type": "markdown",
   "source": [
    "# Data Preprocessing"
   ],
   "metadata": {
    "collapsed": false,
    "pycharm": {
     "name": "#%% md\n"
    }
   }
  },
  {
   "cell_type": "markdown",
   "source": [
    "#Checking data"
   ],
   "metadata": {
    "collapsed": false,
    "pycharm": {
     "name": "#%% md\n"
    }
   }
  },
  {
   "cell_type": "code",
   "execution_count": 3,
   "outputs": [
    {
     "name": "stdout",
     "output_type": "stream",
     "text": [
      "<class 'pandas.core.frame.DataFrame'>\n",
      "RangeIndex: 2919 entries, 0 to 2918\n",
      "Data columns (total 81 columns):\n",
      " #   Column         Non-Null Count  Dtype  \n",
      "---  ------         --------------  -----  \n",
      " 0   Id             2919 non-null   int64  \n",
      " 1   MSSubClass     2919 non-null   int64  \n",
      " 2   MSZoning       2915 non-null   object \n",
      " 3   LotFrontage    2433 non-null   float64\n",
      " 4   LotArea        2919 non-null   int64  \n",
      " 5   Street         2919 non-null   object \n",
      " 6   Alley          198 non-null    object \n",
      " 7   LotShape       2919 non-null   object \n",
      " 8   LandContour    2919 non-null   object \n",
      " 9   Utilities      2917 non-null   object \n",
      " 10  LotConfig      2919 non-null   object \n",
      " 11  LandSlope      2919 non-null   object \n",
      " 12  Neighborhood   2919 non-null   object \n",
      " 13  Condition1     2919 non-null   object \n",
      " 14  Condition2     2919 non-null   object \n",
      " 15  BldgType       2919 non-null   object \n",
      " 16  HouseStyle     2919 non-null   object \n",
      " 17  OverallQual    2919 non-null   int64  \n",
      " 18  OverallCond    2919 non-null   int64  \n",
      " 19  YearBuilt      2919 non-null   int64  \n",
      " 20  YearRemodAdd   2919 non-null   int64  \n",
      " 21  RoofStyle      2919 non-null   object \n",
      " 22  RoofMatl       2919 non-null   object \n",
      " 23  Exterior1st    2918 non-null   object \n",
      " 24  Exterior2nd    2918 non-null   object \n",
      " 25  MasVnrType     2895 non-null   object \n",
      " 26  MasVnrArea     2896 non-null   float64\n",
      " 27  ExterQual      2919 non-null   object \n",
      " 28  ExterCond      2919 non-null   object \n",
      " 29  Foundation     2919 non-null   object \n",
      " 30  BsmtQual       2838 non-null   object \n",
      " 31  BsmtCond       2837 non-null   object \n",
      " 32  BsmtExposure   2837 non-null   object \n",
      " 33  BsmtFinType1   2840 non-null   object \n",
      " 34  BsmtFinSF1     2918 non-null   float64\n",
      " 35  BsmtFinType2   2839 non-null   object \n",
      " 36  BsmtFinSF2     2918 non-null   float64\n",
      " 37  BsmtUnfSF      2918 non-null   float64\n",
      " 38  TotalBsmtSF    2918 non-null   float64\n",
      " 39  Heating        2919 non-null   object \n",
      " 40  HeatingQC      2919 non-null   object \n",
      " 41  CentralAir     2919 non-null   object \n",
      " 42  Electrical     2918 non-null   object \n",
      " 43  1stFlrSF       2919 non-null   int64  \n",
      " 44  2ndFlrSF       2919 non-null   int64  \n",
      " 45  LowQualFinSF   2919 non-null   int64  \n",
      " 46  GrLivArea      2919 non-null   int64  \n",
      " 47  BsmtFullBath   2917 non-null   float64\n",
      " 48  BsmtHalfBath   2917 non-null   float64\n",
      " 49  FullBath       2919 non-null   int64  \n",
      " 50  HalfBath       2919 non-null   int64  \n",
      " 51  BedroomAbvGr   2919 non-null   int64  \n",
      " 52  KitchenAbvGr   2919 non-null   int64  \n",
      " 53  KitchenQual    2918 non-null   object \n",
      " 54  TotRmsAbvGrd   2919 non-null   int64  \n",
      " 55  Functional     2917 non-null   object \n",
      " 56  Fireplaces     2919 non-null   int64  \n",
      " 57  FireplaceQu    1499 non-null   object \n",
      " 58  GarageType     2762 non-null   object \n",
      " 59  GarageYrBlt    2760 non-null   float64\n",
      " 60  GarageFinish   2760 non-null   object \n",
      " 61  GarageCars     2918 non-null   float64\n",
      " 62  GarageArea     2918 non-null   float64\n",
      " 63  GarageQual     2760 non-null   object \n",
      " 64  GarageCond     2760 non-null   object \n",
      " 65  PavedDrive     2919 non-null   object \n",
      " 66  WoodDeckSF     2919 non-null   int64  \n",
      " 67  OpenPorchSF    2919 non-null   int64  \n",
      " 68  EnclosedPorch  2919 non-null   int64  \n",
      " 69  3SsnPorch      2919 non-null   int64  \n",
      " 70  ScreenPorch    2919 non-null   int64  \n",
      " 71  PoolArea       2919 non-null   int64  \n",
      " 72  PoolQC         10 non-null     object \n",
      " 73  Fence          571 non-null    object \n",
      " 74  MiscFeature    105 non-null    object \n",
      " 75  MiscVal        2919 non-null   int64  \n",
      " 76  MoSold         2919 non-null   int64  \n",
      " 77  YrSold         2919 non-null   int64  \n",
      " 78  SaleType       2918 non-null   object \n",
      " 79  SaleCondition  2919 non-null   object \n",
      " 80  SalePrice      1460 non-null   float64\n",
      "dtypes: float64(12), int64(26), object(43)\n",
      "memory usage: 1.8+ MB\n"
     ]
    }
   ],
   "source": [
    "df.info()"
   ],
   "metadata": {
    "collapsed": false,
    "pycharm": {
     "name": "#%%\n"
    }
   }
  },
  {
   "cell_type": "markdown",
   "source": [
    "#Breaking dataframe into numerical and categorical"
   ],
   "metadata": {
    "collapsed": false,
    "pycharm": {
     "name": "#%% md\n"
    }
   }
  },
  {
   "cell_type": "code",
   "execution_count": 4,
   "outputs": [
    {
     "name": "stderr",
     "output_type": "stream",
     "text": [
      "C:\\Users\\Gufran bhatti\\AppData\\Local\\Temp\\ipykernel_6364\\3014640463.py:2: DeprecationWarning: `np.object` is a deprecated alias for the builtin `object`. To silence this warning, use `object` by itself. Doing this will not modify any behavior and is safe. \n",
      "Deprecated in NumPy 1.20; for more details and guidance: https://numpy.org/devdocs/release/1.20.0-notes.html#deprecations\n",
      "  categorical_data = df.loc[:,df.dtypes==np.object]\n"
     ]
    },
    {
     "data": {
      "text/plain": "        Id  MSSubClass  LotFrontage  LotArea  OverallQual  OverallCond  \\\n0        1          60         65.0     8450            7            5   \n1        2          20         80.0     9600            6            8   \n2        3          60         68.0    11250            7            5   \n3        4          70         60.0     9550            7            5   \n4        5          60         84.0    14260            8            5   \n...    ...         ...          ...      ...          ...          ...   \n2914  2915         160         21.0     1936            4            7   \n2915  2916         160         21.0     1894            4            5   \n2916  2917          20        160.0    20000            5            7   \n2917  2918          85         62.0    10441            5            5   \n2918  2919          60         74.0     9627            7            5   \n\n      YearBuilt  YearRemodAdd  MasVnrArea  BsmtFinSF1  ...  WoodDeckSF  \\\n0          2003          2003       196.0       706.0  ...           0   \n1          1976          1976         0.0       978.0  ...         298   \n2          2001          2002       162.0       486.0  ...           0   \n3          1915          1970         0.0       216.0  ...           0   \n4          2000          2000       350.0       655.0  ...         192   \n...         ...           ...         ...         ...  ...         ...   \n2914       1970          1970         0.0         0.0  ...           0   \n2915       1970          1970         0.0       252.0  ...           0   \n2916       1960          1996         0.0      1224.0  ...         474   \n2917       1992          1992         0.0       337.0  ...          80   \n2918       1993          1994        94.0       758.0  ...         190   \n\n      OpenPorchSF  EnclosedPorch  3SsnPorch  ScreenPorch  PoolArea  MiscVal  \\\n0              61              0          0            0         0        0   \n1               0              0          0            0         0        0   \n2              42              0          0            0         0        0   \n3              35            272          0            0         0        0   \n4              84              0          0            0         0        0   \n...           ...            ...        ...          ...       ...      ...   \n2914            0              0          0            0         0        0   \n2915           24              0          0            0         0        0   \n2916            0              0          0            0         0        0   \n2917           32              0          0            0         0      700   \n2918           48              0          0            0         0        0   \n\n      MoSold  YrSold  SalePrice  \n0          2    2008   208500.0  \n1          5    2007   181500.0  \n2          9    2008   223500.0  \n3          2    2006   140000.0  \n4         12    2008   250000.0  \n...      ...     ...        ...  \n2914       6    2006        NaN  \n2915       4    2006        NaN  \n2916       9    2006        NaN  \n2917       7    2006        NaN  \n2918      11    2006        NaN  \n\n[2919 rows x 38 columns]",
      "text/html": "<div>\n<style scoped>\n    .dataframe tbody tr th:only-of-type {\n        vertical-align: middle;\n    }\n\n    .dataframe tbody tr th {\n        vertical-align: top;\n    }\n\n    .dataframe thead th {\n        text-align: right;\n    }\n</style>\n<table border=\"1\" class=\"dataframe\">\n  <thead>\n    <tr style=\"text-align: right;\">\n      <th></th>\n      <th>Id</th>\n      <th>MSSubClass</th>\n      <th>LotFrontage</th>\n      <th>LotArea</th>\n      <th>OverallQual</th>\n      <th>OverallCond</th>\n      <th>YearBuilt</th>\n      <th>YearRemodAdd</th>\n      <th>MasVnrArea</th>\n      <th>BsmtFinSF1</th>\n      <th>...</th>\n      <th>WoodDeckSF</th>\n      <th>OpenPorchSF</th>\n      <th>EnclosedPorch</th>\n      <th>3SsnPorch</th>\n      <th>ScreenPorch</th>\n      <th>PoolArea</th>\n      <th>MiscVal</th>\n      <th>MoSold</th>\n      <th>YrSold</th>\n      <th>SalePrice</th>\n    </tr>\n  </thead>\n  <tbody>\n    <tr>\n      <th>0</th>\n      <td>1</td>\n      <td>60</td>\n      <td>65.0</td>\n      <td>8450</td>\n      <td>7</td>\n      <td>5</td>\n      <td>2003</td>\n      <td>2003</td>\n      <td>196.0</td>\n      <td>706.0</td>\n      <td>...</td>\n      <td>0</td>\n      <td>61</td>\n      <td>0</td>\n      <td>0</td>\n      <td>0</td>\n      <td>0</td>\n      <td>0</td>\n      <td>2</td>\n      <td>2008</td>\n      <td>208500.0</td>\n    </tr>\n    <tr>\n      <th>1</th>\n      <td>2</td>\n      <td>20</td>\n      <td>80.0</td>\n      <td>9600</td>\n      <td>6</td>\n      <td>8</td>\n      <td>1976</td>\n      <td>1976</td>\n      <td>0.0</td>\n      <td>978.0</td>\n      <td>...</td>\n      <td>298</td>\n      <td>0</td>\n      <td>0</td>\n      <td>0</td>\n      <td>0</td>\n      <td>0</td>\n      <td>0</td>\n      <td>5</td>\n      <td>2007</td>\n      <td>181500.0</td>\n    </tr>\n    <tr>\n      <th>2</th>\n      <td>3</td>\n      <td>60</td>\n      <td>68.0</td>\n      <td>11250</td>\n      <td>7</td>\n      <td>5</td>\n      <td>2001</td>\n      <td>2002</td>\n      <td>162.0</td>\n      <td>486.0</td>\n      <td>...</td>\n      <td>0</td>\n      <td>42</td>\n      <td>0</td>\n      <td>0</td>\n      <td>0</td>\n      <td>0</td>\n      <td>0</td>\n      <td>9</td>\n      <td>2008</td>\n      <td>223500.0</td>\n    </tr>\n    <tr>\n      <th>3</th>\n      <td>4</td>\n      <td>70</td>\n      <td>60.0</td>\n      <td>9550</td>\n      <td>7</td>\n      <td>5</td>\n      <td>1915</td>\n      <td>1970</td>\n      <td>0.0</td>\n      <td>216.0</td>\n      <td>...</td>\n      <td>0</td>\n      <td>35</td>\n      <td>272</td>\n      <td>0</td>\n      <td>0</td>\n      <td>0</td>\n      <td>0</td>\n      <td>2</td>\n      <td>2006</td>\n      <td>140000.0</td>\n    </tr>\n    <tr>\n      <th>4</th>\n      <td>5</td>\n      <td>60</td>\n      <td>84.0</td>\n      <td>14260</td>\n      <td>8</td>\n      <td>5</td>\n      <td>2000</td>\n      <td>2000</td>\n      <td>350.0</td>\n      <td>655.0</td>\n      <td>...</td>\n      <td>192</td>\n      <td>84</td>\n      <td>0</td>\n      <td>0</td>\n      <td>0</td>\n      <td>0</td>\n      <td>0</td>\n      <td>12</td>\n      <td>2008</td>\n      <td>250000.0</td>\n    </tr>\n    <tr>\n      <th>...</th>\n      <td>...</td>\n      <td>...</td>\n      <td>...</td>\n      <td>...</td>\n      <td>...</td>\n      <td>...</td>\n      <td>...</td>\n      <td>...</td>\n      <td>...</td>\n      <td>...</td>\n      <td>...</td>\n      <td>...</td>\n      <td>...</td>\n      <td>...</td>\n      <td>...</td>\n      <td>...</td>\n      <td>...</td>\n      <td>...</td>\n      <td>...</td>\n      <td>...</td>\n      <td>...</td>\n    </tr>\n    <tr>\n      <th>2914</th>\n      <td>2915</td>\n      <td>160</td>\n      <td>21.0</td>\n      <td>1936</td>\n      <td>4</td>\n      <td>7</td>\n      <td>1970</td>\n      <td>1970</td>\n      <td>0.0</td>\n      <td>0.0</td>\n      <td>...</td>\n      <td>0</td>\n      <td>0</td>\n      <td>0</td>\n      <td>0</td>\n      <td>0</td>\n      <td>0</td>\n      <td>0</td>\n      <td>6</td>\n      <td>2006</td>\n      <td>NaN</td>\n    </tr>\n    <tr>\n      <th>2915</th>\n      <td>2916</td>\n      <td>160</td>\n      <td>21.0</td>\n      <td>1894</td>\n      <td>4</td>\n      <td>5</td>\n      <td>1970</td>\n      <td>1970</td>\n      <td>0.0</td>\n      <td>252.0</td>\n      <td>...</td>\n      <td>0</td>\n      <td>24</td>\n      <td>0</td>\n      <td>0</td>\n      <td>0</td>\n      <td>0</td>\n      <td>0</td>\n      <td>4</td>\n      <td>2006</td>\n      <td>NaN</td>\n    </tr>\n    <tr>\n      <th>2916</th>\n      <td>2917</td>\n      <td>20</td>\n      <td>160.0</td>\n      <td>20000</td>\n      <td>5</td>\n      <td>7</td>\n      <td>1960</td>\n      <td>1996</td>\n      <td>0.0</td>\n      <td>1224.0</td>\n      <td>...</td>\n      <td>474</td>\n      <td>0</td>\n      <td>0</td>\n      <td>0</td>\n      <td>0</td>\n      <td>0</td>\n      <td>0</td>\n      <td>9</td>\n      <td>2006</td>\n      <td>NaN</td>\n    </tr>\n    <tr>\n      <th>2917</th>\n      <td>2918</td>\n      <td>85</td>\n      <td>62.0</td>\n      <td>10441</td>\n      <td>5</td>\n      <td>5</td>\n      <td>1992</td>\n      <td>1992</td>\n      <td>0.0</td>\n      <td>337.0</td>\n      <td>...</td>\n      <td>80</td>\n      <td>32</td>\n      <td>0</td>\n      <td>0</td>\n      <td>0</td>\n      <td>0</td>\n      <td>700</td>\n      <td>7</td>\n      <td>2006</td>\n      <td>NaN</td>\n    </tr>\n    <tr>\n      <th>2918</th>\n      <td>2919</td>\n      <td>60</td>\n      <td>74.0</td>\n      <td>9627</td>\n      <td>7</td>\n      <td>5</td>\n      <td>1993</td>\n      <td>1994</td>\n      <td>94.0</td>\n      <td>758.0</td>\n      <td>...</td>\n      <td>190</td>\n      <td>48</td>\n      <td>0</td>\n      <td>0</td>\n      <td>0</td>\n      <td>0</td>\n      <td>0</td>\n      <td>11</td>\n      <td>2006</td>\n      <td>NaN</td>\n    </tr>\n  </tbody>\n</table>\n<p>2919 rows × 38 columns</p>\n</div>"
     },
     "execution_count": 4,
     "metadata": {},
     "output_type": "execute_result"
    }
   ],
   "source": [
    "numeric_data = df.loc[:,(df.dtypes==np.int64) | (df.dtypes==np.float64)]\n",
    "categorical_data = df.loc[:,df.dtypes==np.object]\n",
    "numeric_data"
   ],
   "metadata": {
    "collapsed": false,
    "pycharm": {
     "name": "#%%\n"
    }
   }
  },
  {
   "cell_type": "code",
   "execution_count": 5,
   "outputs": [
    {
     "data": {
      "text/plain": "     MSZoning Street Alley LotShape LandContour Utilities LotConfig LandSlope  \\\n0          RL   Pave   NaN      Reg         Lvl    AllPub    Inside       Gtl   \n1          RL   Pave   NaN      Reg         Lvl    AllPub       FR2       Gtl   \n2          RL   Pave   NaN      IR1         Lvl    AllPub    Inside       Gtl   \n3          RL   Pave   NaN      IR1         Lvl    AllPub    Corner       Gtl   \n4          RL   Pave   NaN      IR1         Lvl    AllPub       FR2       Gtl   \n...       ...    ...   ...      ...         ...       ...       ...       ...   \n2914       RM   Pave   NaN      Reg         Lvl    AllPub    Inside       Gtl   \n2915       RM   Pave   NaN      Reg         Lvl    AllPub    Inside       Gtl   \n2916       RL   Pave   NaN      Reg         Lvl    AllPub    Inside       Gtl   \n2917       RL   Pave   NaN      Reg         Lvl    AllPub    Inside       Gtl   \n2918       RL   Pave   NaN      Reg         Lvl    AllPub    Inside       Mod   \n\n     Neighborhood Condition1  ... GarageType GarageFinish GarageQual  \\\n0         CollgCr       Norm  ...     Attchd          RFn         TA   \n1         Veenker      Feedr  ...     Attchd          RFn         TA   \n2         CollgCr       Norm  ...     Attchd          RFn         TA   \n3         Crawfor       Norm  ...     Detchd          Unf         TA   \n4         NoRidge       Norm  ...     Attchd          RFn         TA   \n...           ...        ...  ...        ...          ...        ...   \n2914      MeadowV       Norm  ...        NaN          NaN        NaN   \n2915      MeadowV       Norm  ...    CarPort          Unf         TA   \n2916      Mitchel       Norm  ...     Detchd          Unf         TA   \n2917      Mitchel       Norm  ...        NaN          NaN        NaN   \n2918      Mitchel       Norm  ...     Attchd          Fin         TA   \n\n     GarageCond PavedDrive PoolQC  Fence MiscFeature SaleType SaleCondition  \n0            TA          Y    NaN    NaN         NaN       WD        Normal  \n1            TA          Y    NaN    NaN         NaN       WD        Normal  \n2            TA          Y    NaN    NaN         NaN       WD        Normal  \n3            TA          Y    NaN    NaN         NaN       WD       Abnorml  \n4            TA          Y    NaN    NaN         NaN       WD        Normal  \n...         ...        ...    ...    ...         ...      ...           ...  \n2914        NaN          Y    NaN    NaN         NaN       WD        Normal  \n2915         TA          Y    NaN    NaN         NaN       WD       Abnorml  \n2916         TA          Y    NaN    NaN         NaN       WD       Abnorml  \n2917        NaN          Y    NaN  MnPrv        Shed       WD        Normal  \n2918         TA          Y    NaN    NaN         NaN       WD        Normal  \n\n[2919 rows x 43 columns]",
      "text/html": "<div>\n<style scoped>\n    .dataframe tbody tr th:only-of-type {\n        vertical-align: middle;\n    }\n\n    .dataframe tbody tr th {\n        vertical-align: top;\n    }\n\n    .dataframe thead th {\n        text-align: right;\n    }\n</style>\n<table border=\"1\" class=\"dataframe\">\n  <thead>\n    <tr style=\"text-align: right;\">\n      <th></th>\n      <th>MSZoning</th>\n      <th>Street</th>\n      <th>Alley</th>\n      <th>LotShape</th>\n      <th>LandContour</th>\n      <th>Utilities</th>\n      <th>LotConfig</th>\n      <th>LandSlope</th>\n      <th>Neighborhood</th>\n      <th>Condition1</th>\n      <th>...</th>\n      <th>GarageType</th>\n      <th>GarageFinish</th>\n      <th>GarageQual</th>\n      <th>GarageCond</th>\n      <th>PavedDrive</th>\n      <th>PoolQC</th>\n      <th>Fence</th>\n      <th>MiscFeature</th>\n      <th>SaleType</th>\n      <th>SaleCondition</th>\n    </tr>\n  </thead>\n  <tbody>\n    <tr>\n      <th>0</th>\n      <td>RL</td>\n      <td>Pave</td>\n      <td>NaN</td>\n      <td>Reg</td>\n      <td>Lvl</td>\n      <td>AllPub</td>\n      <td>Inside</td>\n      <td>Gtl</td>\n      <td>CollgCr</td>\n      <td>Norm</td>\n      <td>...</td>\n      <td>Attchd</td>\n      <td>RFn</td>\n      <td>TA</td>\n      <td>TA</td>\n      <td>Y</td>\n      <td>NaN</td>\n      <td>NaN</td>\n      <td>NaN</td>\n      <td>WD</td>\n      <td>Normal</td>\n    </tr>\n    <tr>\n      <th>1</th>\n      <td>RL</td>\n      <td>Pave</td>\n      <td>NaN</td>\n      <td>Reg</td>\n      <td>Lvl</td>\n      <td>AllPub</td>\n      <td>FR2</td>\n      <td>Gtl</td>\n      <td>Veenker</td>\n      <td>Feedr</td>\n      <td>...</td>\n      <td>Attchd</td>\n      <td>RFn</td>\n      <td>TA</td>\n      <td>TA</td>\n      <td>Y</td>\n      <td>NaN</td>\n      <td>NaN</td>\n      <td>NaN</td>\n      <td>WD</td>\n      <td>Normal</td>\n    </tr>\n    <tr>\n      <th>2</th>\n      <td>RL</td>\n      <td>Pave</td>\n      <td>NaN</td>\n      <td>IR1</td>\n      <td>Lvl</td>\n      <td>AllPub</td>\n      <td>Inside</td>\n      <td>Gtl</td>\n      <td>CollgCr</td>\n      <td>Norm</td>\n      <td>...</td>\n      <td>Attchd</td>\n      <td>RFn</td>\n      <td>TA</td>\n      <td>TA</td>\n      <td>Y</td>\n      <td>NaN</td>\n      <td>NaN</td>\n      <td>NaN</td>\n      <td>WD</td>\n      <td>Normal</td>\n    </tr>\n    <tr>\n      <th>3</th>\n      <td>RL</td>\n      <td>Pave</td>\n      <td>NaN</td>\n      <td>IR1</td>\n      <td>Lvl</td>\n      <td>AllPub</td>\n      <td>Corner</td>\n      <td>Gtl</td>\n      <td>Crawfor</td>\n      <td>Norm</td>\n      <td>...</td>\n      <td>Detchd</td>\n      <td>Unf</td>\n      <td>TA</td>\n      <td>TA</td>\n      <td>Y</td>\n      <td>NaN</td>\n      <td>NaN</td>\n      <td>NaN</td>\n      <td>WD</td>\n      <td>Abnorml</td>\n    </tr>\n    <tr>\n      <th>4</th>\n      <td>RL</td>\n      <td>Pave</td>\n      <td>NaN</td>\n      <td>IR1</td>\n      <td>Lvl</td>\n      <td>AllPub</td>\n      <td>FR2</td>\n      <td>Gtl</td>\n      <td>NoRidge</td>\n      <td>Norm</td>\n      <td>...</td>\n      <td>Attchd</td>\n      <td>RFn</td>\n      <td>TA</td>\n      <td>TA</td>\n      <td>Y</td>\n      <td>NaN</td>\n      <td>NaN</td>\n      <td>NaN</td>\n      <td>WD</td>\n      <td>Normal</td>\n    </tr>\n    <tr>\n      <th>...</th>\n      <td>...</td>\n      <td>...</td>\n      <td>...</td>\n      <td>...</td>\n      <td>...</td>\n      <td>...</td>\n      <td>...</td>\n      <td>...</td>\n      <td>...</td>\n      <td>...</td>\n      <td>...</td>\n      <td>...</td>\n      <td>...</td>\n      <td>...</td>\n      <td>...</td>\n      <td>...</td>\n      <td>...</td>\n      <td>...</td>\n      <td>...</td>\n      <td>...</td>\n      <td>...</td>\n    </tr>\n    <tr>\n      <th>2914</th>\n      <td>RM</td>\n      <td>Pave</td>\n      <td>NaN</td>\n      <td>Reg</td>\n      <td>Lvl</td>\n      <td>AllPub</td>\n      <td>Inside</td>\n      <td>Gtl</td>\n      <td>MeadowV</td>\n      <td>Norm</td>\n      <td>...</td>\n      <td>NaN</td>\n      <td>NaN</td>\n      <td>NaN</td>\n      <td>NaN</td>\n      <td>Y</td>\n      <td>NaN</td>\n      <td>NaN</td>\n      <td>NaN</td>\n      <td>WD</td>\n      <td>Normal</td>\n    </tr>\n    <tr>\n      <th>2915</th>\n      <td>RM</td>\n      <td>Pave</td>\n      <td>NaN</td>\n      <td>Reg</td>\n      <td>Lvl</td>\n      <td>AllPub</td>\n      <td>Inside</td>\n      <td>Gtl</td>\n      <td>MeadowV</td>\n      <td>Norm</td>\n      <td>...</td>\n      <td>CarPort</td>\n      <td>Unf</td>\n      <td>TA</td>\n      <td>TA</td>\n      <td>Y</td>\n      <td>NaN</td>\n      <td>NaN</td>\n      <td>NaN</td>\n      <td>WD</td>\n      <td>Abnorml</td>\n    </tr>\n    <tr>\n      <th>2916</th>\n      <td>RL</td>\n      <td>Pave</td>\n      <td>NaN</td>\n      <td>Reg</td>\n      <td>Lvl</td>\n      <td>AllPub</td>\n      <td>Inside</td>\n      <td>Gtl</td>\n      <td>Mitchel</td>\n      <td>Norm</td>\n      <td>...</td>\n      <td>Detchd</td>\n      <td>Unf</td>\n      <td>TA</td>\n      <td>TA</td>\n      <td>Y</td>\n      <td>NaN</td>\n      <td>NaN</td>\n      <td>NaN</td>\n      <td>WD</td>\n      <td>Abnorml</td>\n    </tr>\n    <tr>\n      <th>2917</th>\n      <td>RL</td>\n      <td>Pave</td>\n      <td>NaN</td>\n      <td>Reg</td>\n      <td>Lvl</td>\n      <td>AllPub</td>\n      <td>Inside</td>\n      <td>Gtl</td>\n      <td>Mitchel</td>\n      <td>Norm</td>\n      <td>...</td>\n      <td>NaN</td>\n      <td>NaN</td>\n      <td>NaN</td>\n      <td>NaN</td>\n      <td>Y</td>\n      <td>NaN</td>\n      <td>MnPrv</td>\n      <td>Shed</td>\n      <td>WD</td>\n      <td>Normal</td>\n    </tr>\n    <tr>\n      <th>2918</th>\n      <td>RL</td>\n      <td>Pave</td>\n      <td>NaN</td>\n      <td>Reg</td>\n      <td>Lvl</td>\n      <td>AllPub</td>\n      <td>Inside</td>\n      <td>Mod</td>\n      <td>Mitchel</td>\n      <td>Norm</td>\n      <td>...</td>\n      <td>Attchd</td>\n      <td>Fin</td>\n      <td>TA</td>\n      <td>TA</td>\n      <td>Y</td>\n      <td>NaN</td>\n      <td>NaN</td>\n      <td>NaN</td>\n      <td>WD</td>\n      <td>Normal</td>\n    </tr>\n  </tbody>\n</table>\n<p>2919 rows × 43 columns</p>\n</div>"
     },
     "execution_count": 5,
     "metadata": {},
     "output_type": "execute_result"
    }
   ],
   "source": [
    "categorical_data"
   ],
   "metadata": {
    "collapsed": false,
    "pycharm": {
     "name": "#%%\n"
    }
   }
  },
  {
   "cell_type": "code",
   "execution_count": 6,
   "outputs": [
    {
     "data": {
      "text/plain": "MSZoning            4\nStreet              0\nAlley            2721\nLotShape            0\nLandContour         0\nUtilities           2\nLotConfig           0\nLandSlope           0\nNeighborhood        0\nCondition1          0\nCondition2          0\nBldgType            0\nHouseStyle          0\nRoofStyle           0\nRoofMatl            0\nExterior1st         1\nExterior2nd         1\nMasVnrType         24\nExterQual           0\nExterCond           0\nFoundation          0\nBsmtQual           81\nBsmtCond           82\nBsmtExposure       82\nBsmtFinType1       79\nBsmtFinType2       80\nHeating             0\nHeatingQC           0\nCentralAir          0\nElectrical          1\nKitchenQual         1\nFunctional          2\nFireplaceQu      1420\nGarageType        157\nGarageFinish      159\nGarageQual        159\nGarageCond        159\nPavedDrive          0\nPoolQC           2909\nFence            2348\nMiscFeature      2814\nSaleType            1\nSaleCondition       0\ndtype: int64"
     },
     "execution_count": 6,
     "metadata": {},
     "output_type": "execute_result"
    }
   ],
   "source": [
    "categorical_data.isnull().sum()"
   ],
   "metadata": {
    "collapsed": false,
    "pycharm": {
     "name": "#%%\n"
    }
   }
  },
  {
   "cell_type": "markdown",
   "source": [
    "#Drop columns which have too much null values"
   ],
   "metadata": {
    "collapsed": false,
    "pycharm": {
     "name": "#%% md\n"
    }
   }
  },
  {
   "cell_type": "code",
   "execution_count": 7,
   "outputs": [
    {
     "name": "stderr",
     "output_type": "stream",
     "text": [
      "C:\\Users\\Gufran bhatti\\AppData\\Local\\Temp\\ipykernel_6364\\2477368174.py:1: SettingWithCopyWarning: \n",
      "A value is trying to be set on a copy of a slice from a DataFrame\n",
      "\n",
      "See the caveats in the documentation: https://pandas.pydata.org/pandas-docs/stable/user_guide/indexing.html#returning-a-view-versus-a-copy\n",
      "  categorical_data.drop(['Alley'], axis=1, inplace = True)\n",
      "C:\\Users\\Gufran bhatti\\AppData\\Local\\Temp\\ipykernel_6364\\2477368174.py:2: SettingWithCopyWarning: \n",
      "A value is trying to be set on a copy of a slice from a DataFrame\n",
      "\n",
      "See the caveats in the documentation: https://pandas.pydata.org/pandas-docs/stable/user_guide/indexing.html#returning-a-view-versus-a-copy\n",
      "  categorical_data.drop(['PoolQC'], axis=1, inplace = True)\n",
      "C:\\Users\\Gufran bhatti\\AppData\\Local\\Temp\\ipykernel_6364\\2477368174.py:3: SettingWithCopyWarning: \n",
      "A value is trying to be set on a copy of a slice from a DataFrame\n",
      "\n",
      "See the caveats in the documentation: https://pandas.pydata.org/pandas-docs/stable/user_guide/indexing.html#returning-a-view-versus-a-copy\n",
      "  categorical_data.drop(['Fence'], axis=1, inplace = True)\n",
      "C:\\Users\\Gufran bhatti\\AppData\\Local\\Temp\\ipykernel_6364\\2477368174.py:4: SettingWithCopyWarning: \n",
      "A value is trying to be set on a copy of a slice from a DataFrame\n",
      "\n",
      "See the caveats in the documentation: https://pandas.pydata.org/pandas-docs/stable/user_guide/indexing.html#returning-a-view-versus-a-copy\n",
      "  categorical_data.drop(['MiscFeature'], axis=1, inplace = True)\n"
     ]
    },
    {
     "data": {
      "text/plain": "MSZoning            4\nStreet              0\nLotShape            0\nLandContour         0\nUtilities           2\nLotConfig           0\nLandSlope           0\nNeighborhood        0\nCondition1          0\nCondition2          0\nBldgType            0\nHouseStyle          0\nRoofStyle           0\nRoofMatl            0\nExterior1st         1\nExterior2nd         1\nMasVnrType         24\nExterQual           0\nExterCond           0\nFoundation          0\nBsmtQual           81\nBsmtCond           82\nBsmtExposure       82\nBsmtFinType1       79\nBsmtFinType2       80\nHeating             0\nHeatingQC           0\nCentralAir          0\nElectrical          1\nKitchenQual         1\nFunctional          2\nFireplaceQu      1420\nGarageType        157\nGarageFinish      159\nGarageQual        159\nGarageCond        159\nPavedDrive          0\nSaleType            1\nSaleCondition       0\ndtype: int64"
     },
     "execution_count": 7,
     "metadata": {},
     "output_type": "execute_result"
    }
   ],
   "source": [
    "categorical_data.drop(['Alley'], axis=1, inplace = True)\n",
    "categorical_data.drop(['PoolQC'], axis=1, inplace = True)\n",
    "categorical_data.drop(['Fence'], axis=1, inplace = True)\n",
    "categorical_data.drop(['MiscFeature'], axis=1, inplace = True)\n",
    "categorical_data.isnull().sum()"
   ],
   "metadata": {
    "collapsed": false,
    "pycharm": {
     "name": "#%%\n"
    }
   }
  },
  {
   "cell_type": "markdown",
   "source": [
    "#Filling null values with most occurred value of that column."
   ],
   "metadata": {
    "collapsed": false,
    "pycharm": {
     "name": "#%% md\n"
    }
   }
  },
  {
   "cell_type": "code",
   "execution_count": 8,
   "outputs": [
    {
     "data": {
      "text/plain": "MSZoning         0\nStreet           0\nLotShape         0\nLandContour      0\nUtilities        0\nLotConfig        0\nLandSlope        0\nNeighborhood     0\nCondition1       0\nCondition2       0\nBldgType         0\nHouseStyle       0\nRoofStyle        0\nRoofMatl         0\nExterior1st      0\nExterior2nd      0\nMasVnrType       0\nExterQual        0\nExterCond        0\nFoundation       0\nBsmtQual         0\nBsmtCond         0\nBsmtExposure     0\nBsmtFinType1     0\nBsmtFinType2     0\nHeating          0\nHeatingQC        0\nCentralAir       0\nElectrical       0\nKitchenQual      0\nFunctional       0\nFireplaceQu      0\nGarageType       0\nGarageFinish     0\nGarageQual       0\nGarageCond       0\nPavedDrive       0\nSaleType         0\nSaleCondition    0\ndtype: int64"
     },
     "execution_count": 8,
     "metadata": {},
     "output_type": "execute_result"
    }
   ],
   "source": [
    "categorical_data = categorical_data.apply(lambda x: x.fillna(x.value_counts().index[0]))\n",
    "categorical_data.isnull().sum()"
   ],
   "metadata": {
    "collapsed": false,
    "pycharm": {
     "name": "#%%\n"
    }
   }
  },
  {
   "cell_type": "code",
   "execution_count": 9,
   "outputs": [
    {
     "data": {
      "text/plain": "Id                  0\nMSSubClass          0\nLotFrontage       486\nLotArea             0\nOverallQual         0\nOverallCond         0\nYearBuilt           0\nYearRemodAdd        0\nMasVnrArea         23\nBsmtFinSF1          1\nBsmtFinSF2          1\nBsmtUnfSF           1\nTotalBsmtSF         1\n1stFlrSF            0\n2ndFlrSF            0\nLowQualFinSF        0\nGrLivArea           0\nBsmtFullBath        2\nBsmtHalfBath        2\nFullBath            0\nHalfBath            0\nBedroomAbvGr        0\nKitchenAbvGr        0\nTotRmsAbvGrd        0\nFireplaces          0\nGarageYrBlt       159\nGarageCars          1\nGarageArea          1\nWoodDeckSF          0\nOpenPorchSF         0\nEnclosedPorch       0\n3SsnPorch           0\nScreenPorch         0\nPoolArea            0\nMiscVal             0\nMoSold              0\nYrSold              0\nSalePrice        1459\ndtype: int64"
     },
     "execution_count": 9,
     "metadata": {},
     "output_type": "execute_result"
    }
   ],
   "source": [
    "numeric_data.isnull().sum()"
   ],
   "metadata": {
    "collapsed": false,
    "pycharm": {
     "name": "#%%\n"
    }
   }
  },
  {
   "cell_type": "markdown",
   "source": [
    "#fill null values with mean value of that column"
   ],
   "metadata": {
    "collapsed": false,
    "pycharm": {
     "name": "#%% md\n"
    }
   }
  },
  {
   "cell_type": "code",
   "execution_count": 10,
   "outputs": [
    {
     "data": {
      "text/plain": "Id               0\nMSSubClass       0\nLotFrontage      0\nLotArea          0\nOverallQual      0\nOverallCond      0\nYearBuilt        0\nYearRemodAdd     0\nMasVnrArea       0\nBsmtFinSF1       0\nBsmtFinSF2       0\nBsmtUnfSF        0\nTotalBsmtSF      0\n1stFlrSF         0\n2ndFlrSF         0\nLowQualFinSF     0\nGrLivArea        0\nBsmtFullBath     0\nBsmtHalfBath     0\nFullBath         0\nHalfBath         0\nBedroomAbvGr     0\nKitchenAbvGr     0\nTotRmsAbvGrd     0\nFireplaces       0\nGarageYrBlt      0\nGarageCars       0\nGarageArea       0\nWoodDeckSF       0\nOpenPorchSF      0\nEnclosedPorch    0\n3SsnPorch        0\nScreenPorch      0\nPoolArea         0\nMiscVal          0\nMoSold           0\nYrSold           0\nSalePrice        0\ndtype: int64"
     },
     "execution_count": 10,
     "metadata": {},
     "output_type": "execute_result"
    }
   ],
   "source": [
    "numeric_data = numeric_data.apply(lambda x: x.fillna(x.mean()))\n",
    "numeric_data.isnull().sum()"
   ],
   "metadata": {
    "collapsed": false,
    "pycharm": {
     "name": "#%%\n"
    }
   }
  },
  {
   "cell_type": "code",
   "execution_count": 11,
   "outputs": [
    {
     "data": {
      "text/plain": "array(['RL', 'RM', 'C (all)', 'FV', 'RH'], dtype=object)"
     },
     "execution_count": 11,
     "metadata": {},
     "output_type": "execute_result"
    }
   ],
   "source": [
    "categorical_data['MSZoning'].unique()"
   ],
   "metadata": {
    "collapsed": false,
    "pycharm": {
     "name": "#%%\n"
    }
   }
  },
  {
   "cell_type": "markdown",
   "source": [
    "#Dummy encoding on MSZoning"
   ],
   "metadata": {
    "collapsed": false,
    "pycharm": {
     "name": "#%% md\n"
    }
   }
  },
  {
   "cell_type": "code",
   "execution_count": 12,
   "outputs": [
    {
     "data": {
      "text/plain": "     Street LotShape LandContour Utilities LotConfig LandSlope Neighborhood  \\\n0      Pave      Reg         Lvl    AllPub    Inside       Gtl      CollgCr   \n1      Pave      Reg         Lvl    AllPub       FR2       Gtl      Veenker   \n2      Pave      IR1         Lvl    AllPub    Inside       Gtl      CollgCr   \n3      Pave      IR1         Lvl    AllPub    Corner       Gtl      Crawfor   \n4      Pave      IR1         Lvl    AllPub       FR2       Gtl      NoRidge   \n...     ...      ...         ...       ...       ...       ...          ...   \n2914   Pave      Reg         Lvl    AllPub    Inside       Gtl      MeadowV   \n2915   Pave      Reg         Lvl    AllPub    Inside       Gtl      MeadowV   \n2916   Pave      Reg         Lvl    AllPub    Inside       Gtl      Mitchel   \n2917   Pave      Reg         Lvl    AllPub    Inside       Gtl      Mitchel   \n2918   Pave      Reg         Lvl    AllPub    Inside       Mod      Mitchel   \n\n     Condition1 Condition2 BldgType  ... GarageQual GarageCond PavedDrive  \\\n0          Norm       Norm     1Fam  ...         TA         TA          Y   \n1         Feedr       Norm     1Fam  ...         TA         TA          Y   \n2          Norm       Norm     1Fam  ...         TA         TA          Y   \n3          Norm       Norm     1Fam  ...         TA         TA          Y   \n4          Norm       Norm     1Fam  ...         TA         TA          Y   \n...         ...        ...      ...  ...        ...        ...        ...   \n2914       Norm       Norm    Twnhs  ...         TA         TA          Y   \n2915       Norm       Norm   TwnhsE  ...         TA         TA          Y   \n2916       Norm       Norm     1Fam  ...         TA         TA          Y   \n2917       Norm       Norm     1Fam  ...         TA         TA          Y   \n2918       Norm       Norm     1Fam  ...         TA         TA          Y   \n\n     SaleType SaleCondition C (all) FV RH RL RM  \n0          WD        Normal       0  0  0  1  0  \n1          WD        Normal       0  0  0  1  0  \n2          WD        Normal       0  0  0  1  0  \n3          WD       Abnorml       0  0  0  1  0  \n4          WD        Normal       0  0  0  1  0  \n...       ...           ...     ... .. .. .. ..  \n2914       WD        Normal       0  0  0  0  1  \n2915       WD       Abnorml       0  0  0  0  1  \n2916       WD       Abnorml       0  0  0  1  0  \n2917       WD        Normal       0  0  0  1  0  \n2918       WD        Normal       0  0  0  1  0  \n\n[2919 rows x 43 columns]",
      "text/html": "<div>\n<style scoped>\n    .dataframe tbody tr th:only-of-type {\n        vertical-align: middle;\n    }\n\n    .dataframe tbody tr th {\n        vertical-align: top;\n    }\n\n    .dataframe thead th {\n        text-align: right;\n    }\n</style>\n<table border=\"1\" class=\"dataframe\">\n  <thead>\n    <tr style=\"text-align: right;\">\n      <th></th>\n      <th>Street</th>\n      <th>LotShape</th>\n      <th>LandContour</th>\n      <th>Utilities</th>\n      <th>LotConfig</th>\n      <th>LandSlope</th>\n      <th>Neighborhood</th>\n      <th>Condition1</th>\n      <th>Condition2</th>\n      <th>BldgType</th>\n      <th>...</th>\n      <th>GarageQual</th>\n      <th>GarageCond</th>\n      <th>PavedDrive</th>\n      <th>SaleType</th>\n      <th>SaleCondition</th>\n      <th>C (all)</th>\n      <th>FV</th>\n      <th>RH</th>\n      <th>RL</th>\n      <th>RM</th>\n    </tr>\n  </thead>\n  <tbody>\n    <tr>\n      <th>0</th>\n      <td>Pave</td>\n      <td>Reg</td>\n      <td>Lvl</td>\n      <td>AllPub</td>\n      <td>Inside</td>\n      <td>Gtl</td>\n      <td>CollgCr</td>\n      <td>Norm</td>\n      <td>Norm</td>\n      <td>1Fam</td>\n      <td>...</td>\n      <td>TA</td>\n      <td>TA</td>\n      <td>Y</td>\n      <td>WD</td>\n      <td>Normal</td>\n      <td>0</td>\n      <td>0</td>\n      <td>0</td>\n      <td>1</td>\n      <td>0</td>\n    </tr>\n    <tr>\n      <th>1</th>\n      <td>Pave</td>\n      <td>Reg</td>\n      <td>Lvl</td>\n      <td>AllPub</td>\n      <td>FR2</td>\n      <td>Gtl</td>\n      <td>Veenker</td>\n      <td>Feedr</td>\n      <td>Norm</td>\n      <td>1Fam</td>\n      <td>...</td>\n      <td>TA</td>\n      <td>TA</td>\n      <td>Y</td>\n      <td>WD</td>\n      <td>Normal</td>\n      <td>0</td>\n      <td>0</td>\n      <td>0</td>\n      <td>1</td>\n      <td>0</td>\n    </tr>\n    <tr>\n      <th>2</th>\n      <td>Pave</td>\n      <td>IR1</td>\n      <td>Lvl</td>\n      <td>AllPub</td>\n      <td>Inside</td>\n      <td>Gtl</td>\n      <td>CollgCr</td>\n      <td>Norm</td>\n      <td>Norm</td>\n      <td>1Fam</td>\n      <td>...</td>\n      <td>TA</td>\n      <td>TA</td>\n      <td>Y</td>\n      <td>WD</td>\n      <td>Normal</td>\n      <td>0</td>\n      <td>0</td>\n      <td>0</td>\n      <td>1</td>\n      <td>0</td>\n    </tr>\n    <tr>\n      <th>3</th>\n      <td>Pave</td>\n      <td>IR1</td>\n      <td>Lvl</td>\n      <td>AllPub</td>\n      <td>Corner</td>\n      <td>Gtl</td>\n      <td>Crawfor</td>\n      <td>Norm</td>\n      <td>Norm</td>\n      <td>1Fam</td>\n      <td>...</td>\n      <td>TA</td>\n      <td>TA</td>\n      <td>Y</td>\n      <td>WD</td>\n      <td>Abnorml</td>\n      <td>0</td>\n      <td>0</td>\n      <td>0</td>\n      <td>1</td>\n      <td>0</td>\n    </tr>\n    <tr>\n      <th>4</th>\n      <td>Pave</td>\n      <td>IR1</td>\n      <td>Lvl</td>\n      <td>AllPub</td>\n      <td>FR2</td>\n      <td>Gtl</td>\n      <td>NoRidge</td>\n      <td>Norm</td>\n      <td>Norm</td>\n      <td>1Fam</td>\n      <td>...</td>\n      <td>TA</td>\n      <td>TA</td>\n      <td>Y</td>\n      <td>WD</td>\n      <td>Normal</td>\n      <td>0</td>\n      <td>0</td>\n      <td>0</td>\n      <td>1</td>\n      <td>0</td>\n    </tr>\n    <tr>\n      <th>...</th>\n      <td>...</td>\n      <td>...</td>\n      <td>...</td>\n      <td>...</td>\n      <td>...</td>\n      <td>...</td>\n      <td>...</td>\n      <td>...</td>\n      <td>...</td>\n      <td>...</td>\n      <td>...</td>\n      <td>...</td>\n      <td>...</td>\n      <td>...</td>\n      <td>...</td>\n      <td>...</td>\n      <td>...</td>\n      <td>...</td>\n      <td>...</td>\n      <td>...</td>\n      <td>...</td>\n    </tr>\n    <tr>\n      <th>2914</th>\n      <td>Pave</td>\n      <td>Reg</td>\n      <td>Lvl</td>\n      <td>AllPub</td>\n      <td>Inside</td>\n      <td>Gtl</td>\n      <td>MeadowV</td>\n      <td>Norm</td>\n      <td>Norm</td>\n      <td>Twnhs</td>\n      <td>...</td>\n      <td>TA</td>\n      <td>TA</td>\n      <td>Y</td>\n      <td>WD</td>\n      <td>Normal</td>\n      <td>0</td>\n      <td>0</td>\n      <td>0</td>\n      <td>0</td>\n      <td>1</td>\n    </tr>\n    <tr>\n      <th>2915</th>\n      <td>Pave</td>\n      <td>Reg</td>\n      <td>Lvl</td>\n      <td>AllPub</td>\n      <td>Inside</td>\n      <td>Gtl</td>\n      <td>MeadowV</td>\n      <td>Norm</td>\n      <td>Norm</td>\n      <td>TwnhsE</td>\n      <td>...</td>\n      <td>TA</td>\n      <td>TA</td>\n      <td>Y</td>\n      <td>WD</td>\n      <td>Abnorml</td>\n      <td>0</td>\n      <td>0</td>\n      <td>0</td>\n      <td>0</td>\n      <td>1</td>\n    </tr>\n    <tr>\n      <th>2916</th>\n      <td>Pave</td>\n      <td>Reg</td>\n      <td>Lvl</td>\n      <td>AllPub</td>\n      <td>Inside</td>\n      <td>Gtl</td>\n      <td>Mitchel</td>\n      <td>Norm</td>\n      <td>Norm</td>\n      <td>1Fam</td>\n      <td>...</td>\n      <td>TA</td>\n      <td>TA</td>\n      <td>Y</td>\n      <td>WD</td>\n      <td>Abnorml</td>\n      <td>0</td>\n      <td>0</td>\n      <td>0</td>\n      <td>1</td>\n      <td>0</td>\n    </tr>\n    <tr>\n      <th>2917</th>\n      <td>Pave</td>\n      <td>Reg</td>\n      <td>Lvl</td>\n      <td>AllPub</td>\n      <td>Inside</td>\n      <td>Gtl</td>\n      <td>Mitchel</td>\n      <td>Norm</td>\n      <td>Norm</td>\n      <td>1Fam</td>\n      <td>...</td>\n      <td>TA</td>\n      <td>TA</td>\n      <td>Y</td>\n      <td>WD</td>\n      <td>Normal</td>\n      <td>0</td>\n      <td>0</td>\n      <td>0</td>\n      <td>1</td>\n      <td>0</td>\n    </tr>\n    <tr>\n      <th>2918</th>\n      <td>Pave</td>\n      <td>Reg</td>\n      <td>Lvl</td>\n      <td>AllPub</td>\n      <td>Inside</td>\n      <td>Mod</td>\n      <td>Mitchel</td>\n      <td>Norm</td>\n      <td>Norm</td>\n      <td>1Fam</td>\n      <td>...</td>\n      <td>TA</td>\n      <td>TA</td>\n      <td>Y</td>\n      <td>WD</td>\n      <td>Normal</td>\n      <td>0</td>\n      <td>0</td>\n      <td>0</td>\n      <td>1</td>\n      <td>0</td>\n    </tr>\n  </tbody>\n</table>\n<p>2919 rows × 43 columns</p>\n</div>"
     },
     "execution_count": 12,
     "metadata": {},
     "output_type": "execute_result"
    }
   ],
   "source": [
    "df1 = pd.get_dummies(categorical_data['MSZoning'])\n",
    "categorical_data = pd.concat([categorical_data, df1], axis=1).reindex(categorical_data.index)\n",
    "categorical_data.drop('MSZoning', axis=1, inplace=True)\n",
    "categorical_data"
   ],
   "metadata": {
    "collapsed": false,
    "pycharm": {
     "name": "#%%\n"
    }
   }
  },
  {
   "cell_type": "code",
   "execution_count": 13,
   "outputs": [
    {
     "data": {
      "text/plain": "array(['Pave', 'Grvl'], dtype=object)"
     },
     "execution_count": 13,
     "metadata": {},
     "output_type": "execute_result"
    }
   ],
   "source": [
    "categorical_data['Street'].unique()"
   ],
   "metadata": {
    "collapsed": false,
    "pycharm": {
     "name": "#%%\n"
    }
   }
  },
  {
   "cell_type": "markdown",
   "source": [
    "#Label encoding on Street"
   ],
   "metadata": {
    "collapsed": false,
    "pycharm": {
     "name": "#%% md\n"
    }
   }
  },
  {
   "cell_type": "code",
   "execution_count": 14,
   "outputs": [
    {
     "data": {
      "text/plain": "     LotShape LandContour Utilities LotConfig LandSlope Neighborhood  \\\n0         Reg         Lvl    AllPub    Inside       Gtl      CollgCr   \n1         Reg         Lvl    AllPub       FR2       Gtl      Veenker   \n2         IR1         Lvl    AllPub    Inside       Gtl      CollgCr   \n3         IR1         Lvl    AllPub    Corner       Gtl      Crawfor   \n4         IR1         Lvl    AllPub       FR2       Gtl      NoRidge   \n...       ...         ...       ...       ...       ...          ...   \n2914      Reg         Lvl    AllPub    Inside       Gtl      MeadowV   \n2915      Reg         Lvl    AllPub    Inside       Gtl      MeadowV   \n2916      Reg         Lvl    AllPub    Inside       Gtl      Mitchel   \n2917      Reg         Lvl    AllPub    Inside       Gtl      Mitchel   \n2918      Reg         Lvl    AllPub    Inside       Mod      Mitchel   \n\n     Condition1 Condition2 BldgType HouseStyle  ... GarageCond PavedDrive  \\\n0          Norm       Norm     1Fam     2Story  ...         TA          Y   \n1         Feedr       Norm     1Fam     1Story  ...         TA          Y   \n2          Norm       Norm     1Fam     2Story  ...         TA          Y   \n3          Norm       Norm     1Fam     2Story  ...         TA          Y   \n4          Norm       Norm     1Fam     2Story  ...         TA          Y   \n...         ...        ...      ...        ...  ...        ...        ...   \n2914       Norm       Norm    Twnhs     2Story  ...         TA          Y   \n2915       Norm       Norm   TwnhsE     2Story  ...         TA          Y   \n2916       Norm       Norm     1Fam     1Story  ...         TA          Y   \n2917       Norm       Norm     1Fam     SFoyer  ...         TA          Y   \n2918       Norm       Norm     1Fam     2Story  ...         TA          Y   \n\n     SaleType SaleCondition C (all) FV RH RL RM Street  \n0          WD        Normal       0  0  0  1  0      1  \n1          WD        Normal       0  0  0  1  0      1  \n2          WD        Normal       0  0  0  1  0      1  \n3          WD       Abnorml       0  0  0  1  0      1  \n4          WD        Normal       0  0  0  1  0      1  \n...       ...           ...     ... .. .. .. ..    ...  \n2914       WD        Normal       0  0  0  0  1      1  \n2915       WD       Abnorml       0  0  0  0  1      1  \n2916       WD       Abnorml       0  0  0  1  0      1  \n2917       WD        Normal       0  0  0  1  0      1  \n2918       WD        Normal       0  0  0  1  0      1  \n\n[2919 rows x 43 columns]",
      "text/html": "<div>\n<style scoped>\n    .dataframe tbody tr th:only-of-type {\n        vertical-align: middle;\n    }\n\n    .dataframe tbody tr th {\n        vertical-align: top;\n    }\n\n    .dataframe thead th {\n        text-align: right;\n    }\n</style>\n<table border=\"1\" class=\"dataframe\">\n  <thead>\n    <tr style=\"text-align: right;\">\n      <th></th>\n      <th>LotShape</th>\n      <th>LandContour</th>\n      <th>Utilities</th>\n      <th>LotConfig</th>\n      <th>LandSlope</th>\n      <th>Neighborhood</th>\n      <th>Condition1</th>\n      <th>Condition2</th>\n      <th>BldgType</th>\n      <th>HouseStyle</th>\n      <th>...</th>\n      <th>GarageCond</th>\n      <th>PavedDrive</th>\n      <th>SaleType</th>\n      <th>SaleCondition</th>\n      <th>C (all)</th>\n      <th>FV</th>\n      <th>RH</th>\n      <th>RL</th>\n      <th>RM</th>\n      <th>Street</th>\n    </tr>\n  </thead>\n  <tbody>\n    <tr>\n      <th>0</th>\n      <td>Reg</td>\n      <td>Lvl</td>\n      <td>AllPub</td>\n      <td>Inside</td>\n      <td>Gtl</td>\n      <td>CollgCr</td>\n      <td>Norm</td>\n      <td>Norm</td>\n      <td>1Fam</td>\n      <td>2Story</td>\n      <td>...</td>\n      <td>TA</td>\n      <td>Y</td>\n      <td>WD</td>\n      <td>Normal</td>\n      <td>0</td>\n      <td>0</td>\n      <td>0</td>\n      <td>1</td>\n      <td>0</td>\n      <td>1</td>\n    </tr>\n    <tr>\n      <th>1</th>\n      <td>Reg</td>\n      <td>Lvl</td>\n      <td>AllPub</td>\n      <td>FR2</td>\n      <td>Gtl</td>\n      <td>Veenker</td>\n      <td>Feedr</td>\n      <td>Norm</td>\n      <td>1Fam</td>\n      <td>1Story</td>\n      <td>...</td>\n      <td>TA</td>\n      <td>Y</td>\n      <td>WD</td>\n      <td>Normal</td>\n      <td>0</td>\n      <td>0</td>\n      <td>0</td>\n      <td>1</td>\n      <td>0</td>\n      <td>1</td>\n    </tr>\n    <tr>\n      <th>2</th>\n      <td>IR1</td>\n      <td>Lvl</td>\n      <td>AllPub</td>\n      <td>Inside</td>\n      <td>Gtl</td>\n      <td>CollgCr</td>\n      <td>Norm</td>\n      <td>Norm</td>\n      <td>1Fam</td>\n      <td>2Story</td>\n      <td>...</td>\n      <td>TA</td>\n      <td>Y</td>\n      <td>WD</td>\n      <td>Normal</td>\n      <td>0</td>\n      <td>0</td>\n      <td>0</td>\n      <td>1</td>\n      <td>0</td>\n      <td>1</td>\n    </tr>\n    <tr>\n      <th>3</th>\n      <td>IR1</td>\n      <td>Lvl</td>\n      <td>AllPub</td>\n      <td>Corner</td>\n      <td>Gtl</td>\n      <td>Crawfor</td>\n      <td>Norm</td>\n      <td>Norm</td>\n      <td>1Fam</td>\n      <td>2Story</td>\n      <td>...</td>\n      <td>TA</td>\n      <td>Y</td>\n      <td>WD</td>\n      <td>Abnorml</td>\n      <td>0</td>\n      <td>0</td>\n      <td>0</td>\n      <td>1</td>\n      <td>0</td>\n      <td>1</td>\n    </tr>\n    <tr>\n      <th>4</th>\n      <td>IR1</td>\n      <td>Lvl</td>\n      <td>AllPub</td>\n      <td>FR2</td>\n      <td>Gtl</td>\n      <td>NoRidge</td>\n      <td>Norm</td>\n      <td>Norm</td>\n      <td>1Fam</td>\n      <td>2Story</td>\n      <td>...</td>\n      <td>TA</td>\n      <td>Y</td>\n      <td>WD</td>\n      <td>Normal</td>\n      <td>0</td>\n      <td>0</td>\n      <td>0</td>\n      <td>1</td>\n      <td>0</td>\n      <td>1</td>\n    </tr>\n    <tr>\n      <th>...</th>\n      <td>...</td>\n      <td>...</td>\n      <td>...</td>\n      <td>...</td>\n      <td>...</td>\n      <td>...</td>\n      <td>...</td>\n      <td>...</td>\n      <td>...</td>\n      <td>...</td>\n      <td>...</td>\n      <td>...</td>\n      <td>...</td>\n      <td>...</td>\n      <td>...</td>\n      <td>...</td>\n      <td>...</td>\n      <td>...</td>\n      <td>...</td>\n      <td>...</td>\n      <td>...</td>\n    </tr>\n    <tr>\n      <th>2914</th>\n      <td>Reg</td>\n      <td>Lvl</td>\n      <td>AllPub</td>\n      <td>Inside</td>\n      <td>Gtl</td>\n      <td>MeadowV</td>\n      <td>Norm</td>\n      <td>Norm</td>\n      <td>Twnhs</td>\n      <td>2Story</td>\n      <td>...</td>\n      <td>TA</td>\n      <td>Y</td>\n      <td>WD</td>\n      <td>Normal</td>\n      <td>0</td>\n      <td>0</td>\n      <td>0</td>\n      <td>0</td>\n      <td>1</td>\n      <td>1</td>\n    </tr>\n    <tr>\n      <th>2915</th>\n      <td>Reg</td>\n      <td>Lvl</td>\n      <td>AllPub</td>\n      <td>Inside</td>\n      <td>Gtl</td>\n      <td>MeadowV</td>\n      <td>Norm</td>\n      <td>Norm</td>\n      <td>TwnhsE</td>\n      <td>2Story</td>\n      <td>...</td>\n      <td>TA</td>\n      <td>Y</td>\n      <td>WD</td>\n      <td>Abnorml</td>\n      <td>0</td>\n      <td>0</td>\n      <td>0</td>\n      <td>0</td>\n      <td>1</td>\n      <td>1</td>\n    </tr>\n    <tr>\n      <th>2916</th>\n      <td>Reg</td>\n      <td>Lvl</td>\n      <td>AllPub</td>\n      <td>Inside</td>\n      <td>Gtl</td>\n      <td>Mitchel</td>\n      <td>Norm</td>\n      <td>Norm</td>\n      <td>1Fam</td>\n      <td>1Story</td>\n      <td>...</td>\n      <td>TA</td>\n      <td>Y</td>\n      <td>WD</td>\n      <td>Abnorml</td>\n      <td>0</td>\n      <td>0</td>\n      <td>0</td>\n      <td>1</td>\n      <td>0</td>\n      <td>1</td>\n    </tr>\n    <tr>\n      <th>2917</th>\n      <td>Reg</td>\n      <td>Lvl</td>\n      <td>AllPub</td>\n      <td>Inside</td>\n      <td>Gtl</td>\n      <td>Mitchel</td>\n      <td>Norm</td>\n      <td>Norm</td>\n      <td>1Fam</td>\n      <td>SFoyer</td>\n      <td>...</td>\n      <td>TA</td>\n      <td>Y</td>\n      <td>WD</td>\n      <td>Normal</td>\n      <td>0</td>\n      <td>0</td>\n      <td>0</td>\n      <td>1</td>\n      <td>0</td>\n      <td>1</td>\n    </tr>\n    <tr>\n      <th>2918</th>\n      <td>Reg</td>\n      <td>Lvl</td>\n      <td>AllPub</td>\n      <td>Inside</td>\n      <td>Mod</td>\n      <td>Mitchel</td>\n      <td>Norm</td>\n      <td>Norm</td>\n      <td>1Fam</td>\n      <td>2Story</td>\n      <td>...</td>\n      <td>TA</td>\n      <td>Y</td>\n      <td>WD</td>\n      <td>Normal</td>\n      <td>0</td>\n      <td>0</td>\n      <td>0</td>\n      <td>1</td>\n      <td>0</td>\n      <td>1</td>\n    </tr>\n  </tbody>\n</table>\n<p>2919 rows × 43 columns</p>\n</div>"
     },
     "execution_count": 14,
     "metadata": {},
     "output_type": "execute_result"
    }
   ],
   "source": [
    "from sklearn.preprocessing import LabelEncoder\n",
    "\n",
    "le = LabelEncoder()\n",
    "label = le.fit_transform(categorical_data['Street'])\n",
    "categorical_data.drop(\"Street\", axis=1, inplace=True)\n",
    "categorical_data[\"Street\"] = label\n",
    "categorical_data"
   ],
   "metadata": {
    "collapsed": false,
    "pycharm": {
     "name": "#%%\n"
    }
   }
  },
  {
   "cell_type": "code",
   "execution_count": 15,
   "outputs": [
    {
     "data": {
      "text/plain": "array(['Reg', 'IR1', 'IR2', 'IR3'], dtype=object)"
     },
     "execution_count": 15,
     "metadata": {},
     "output_type": "execute_result"
    }
   ],
   "source": [
    "categorical_data['LotShape'].unique()"
   ],
   "metadata": {
    "collapsed": false,
    "pycharm": {
     "name": "#%%\n"
    }
   }
  },
  {
   "cell_type": "markdown",
   "source": [
    "#Dummy encoding on LotShape"
   ],
   "metadata": {
    "collapsed": false,
    "pycharm": {
     "name": "#%% md\n"
    }
   }
  },
  {
   "cell_type": "code",
   "execution_count": 16,
   "outputs": [
    {
     "data": {
      "text/plain": "     LandContour Utilities LotConfig LandSlope Neighborhood Condition1  \\\n0            Lvl    AllPub    Inside       Gtl      CollgCr       Norm   \n1            Lvl    AllPub       FR2       Gtl      Veenker      Feedr   \n2            Lvl    AllPub    Inside       Gtl      CollgCr       Norm   \n3            Lvl    AllPub    Corner       Gtl      Crawfor       Norm   \n4            Lvl    AllPub       FR2       Gtl      NoRidge       Norm   \n...          ...       ...       ...       ...          ...        ...   \n2914         Lvl    AllPub    Inside       Gtl      MeadowV       Norm   \n2915         Lvl    AllPub    Inside       Gtl      MeadowV       Norm   \n2916         Lvl    AllPub    Inside       Gtl      Mitchel       Norm   \n2917         Lvl    AllPub    Inside       Gtl      Mitchel       Norm   \n2918         Lvl    AllPub    Inside       Mod      Mitchel       Norm   \n\n     Condition2 BldgType HouseStyle RoofStyle  ... C (all) FV RH RL RM Street  \\\n0          Norm     1Fam     2Story     Gable  ...       0  0  0  1  0      1   \n1          Norm     1Fam     1Story     Gable  ...       0  0  0  1  0      1   \n2          Norm     1Fam     2Story     Gable  ...       0  0  0  1  0      1   \n3          Norm     1Fam     2Story     Gable  ...       0  0  0  1  0      1   \n4          Norm     1Fam     2Story     Gable  ...       0  0  0  1  0      1   \n...         ...      ...        ...       ...  ...     ... .. .. .. ..    ...   \n2914       Norm    Twnhs     2Story     Gable  ...       0  0  0  0  1      1   \n2915       Norm   TwnhsE     2Story     Gable  ...       0  0  0  0  1      1   \n2916       Norm     1Fam     1Story     Gable  ...       0  0  0  1  0      1   \n2917       Norm     1Fam     SFoyer     Gable  ...       0  0  0  1  0      1   \n2918       Norm     1Fam     2Story     Gable  ...       0  0  0  1  0      1   \n\n     IR1 IR2 IR3 Reg  \n0      0   0   0   1  \n1      0   0   0   1  \n2      1   0   0   0  \n3      1   0   0   0  \n4      1   0   0   0  \n...   ..  ..  ..  ..  \n2914   0   0   0   1  \n2915   0   0   0   1  \n2916   0   0   0   1  \n2917   0   0   0   1  \n2918   0   0   0   1  \n\n[2919 rows x 46 columns]",
      "text/html": "<div>\n<style scoped>\n    .dataframe tbody tr th:only-of-type {\n        vertical-align: middle;\n    }\n\n    .dataframe tbody tr th {\n        vertical-align: top;\n    }\n\n    .dataframe thead th {\n        text-align: right;\n    }\n</style>\n<table border=\"1\" class=\"dataframe\">\n  <thead>\n    <tr style=\"text-align: right;\">\n      <th></th>\n      <th>LandContour</th>\n      <th>Utilities</th>\n      <th>LotConfig</th>\n      <th>LandSlope</th>\n      <th>Neighborhood</th>\n      <th>Condition1</th>\n      <th>Condition2</th>\n      <th>BldgType</th>\n      <th>HouseStyle</th>\n      <th>RoofStyle</th>\n      <th>...</th>\n      <th>C (all)</th>\n      <th>FV</th>\n      <th>RH</th>\n      <th>RL</th>\n      <th>RM</th>\n      <th>Street</th>\n      <th>IR1</th>\n      <th>IR2</th>\n      <th>IR3</th>\n      <th>Reg</th>\n    </tr>\n  </thead>\n  <tbody>\n    <tr>\n      <th>0</th>\n      <td>Lvl</td>\n      <td>AllPub</td>\n      <td>Inside</td>\n      <td>Gtl</td>\n      <td>CollgCr</td>\n      <td>Norm</td>\n      <td>Norm</td>\n      <td>1Fam</td>\n      <td>2Story</td>\n      <td>Gable</td>\n      <td>...</td>\n      <td>0</td>\n      <td>0</td>\n      <td>0</td>\n      <td>1</td>\n      <td>0</td>\n      <td>1</td>\n      <td>0</td>\n      <td>0</td>\n      <td>0</td>\n      <td>1</td>\n    </tr>\n    <tr>\n      <th>1</th>\n      <td>Lvl</td>\n      <td>AllPub</td>\n      <td>FR2</td>\n      <td>Gtl</td>\n      <td>Veenker</td>\n      <td>Feedr</td>\n      <td>Norm</td>\n      <td>1Fam</td>\n      <td>1Story</td>\n      <td>Gable</td>\n      <td>...</td>\n      <td>0</td>\n      <td>0</td>\n      <td>0</td>\n      <td>1</td>\n      <td>0</td>\n      <td>1</td>\n      <td>0</td>\n      <td>0</td>\n      <td>0</td>\n      <td>1</td>\n    </tr>\n    <tr>\n      <th>2</th>\n      <td>Lvl</td>\n      <td>AllPub</td>\n      <td>Inside</td>\n      <td>Gtl</td>\n      <td>CollgCr</td>\n      <td>Norm</td>\n      <td>Norm</td>\n      <td>1Fam</td>\n      <td>2Story</td>\n      <td>Gable</td>\n      <td>...</td>\n      <td>0</td>\n      <td>0</td>\n      <td>0</td>\n      <td>1</td>\n      <td>0</td>\n      <td>1</td>\n      <td>1</td>\n      <td>0</td>\n      <td>0</td>\n      <td>0</td>\n    </tr>\n    <tr>\n      <th>3</th>\n      <td>Lvl</td>\n      <td>AllPub</td>\n      <td>Corner</td>\n      <td>Gtl</td>\n      <td>Crawfor</td>\n      <td>Norm</td>\n      <td>Norm</td>\n      <td>1Fam</td>\n      <td>2Story</td>\n      <td>Gable</td>\n      <td>...</td>\n      <td>0</td>\n      <td>0</td>\n      <td>0</td>\n      <td>1</td>\n      <td>0</td>\n      <td>1</td>\n      <td>1</td>\n      <td>0</td>\n      <td>0</td>\n      <td>0</td>\n    </tr>\n    <tr>\n      <th>4</th>\n      <td>Lvl</td>\n      <td>AllPub</td>\n      <td>FR2</td>\n      <td>Gtl</td>\n      <td>NoRidge</td>\n      <td>Norm</td>\n      <td>Norm</td>\n      <td>1Fam</td>\n      <td>2Story</td>\n      <td>Gable</td>\n      <td>...</td>\n      <td>0</td>\n      <td>0</td>\n      <td>0</td>\n      <td>1</td>\n      <td>0</td>\n      <td>1</td>\n      <td>1</td>\n      <td>0</td>\n      <td>0</td>\n      <td>0</td>\n    </tr>\n    <tr>\n      <th>...</th>\n      <td>...</td>\n      <td>...</td>\n      <td>...</td>\n      <td>...</td>\n      <td>...</td>\n      <td>...</td>\n      <td>...</td>\n      <td>...</td>\n      <td>...</td>\n      <td>...</td>\n      <td>...</td>\n      <td>...</td>\n      <td>...</td>\n      <td>...</td>\n      <td>...</td>\n      <td>...</td>\n      <td>...</td>\n      <td>...</td>\n      <td>...</td>\n      <td>...</td>\n      <td>...</td>\n    </tr>\n    <tr>\n      <th>2914</th>\n      <td>Lvl</td>\n      <td>AllPub</td>\n      <td>Inside</td>\n      <td>Gtl</td>\n      <td>MeadowV</td>\n      <td>Norm</td>\n      <td>Norm</td>\n      <td>Twnhs</td>\n      <td>2Story</td>\n      <td>Gable</td>\n      <td>...</td>\n      <td>0</td>\n      <td>0</td>\n      <td>0</td>\n      <td>0</td>\n      <td>1</td>\n      <td>1</td>\n      <td>0</td>\n      <td>0</td>\n      <td>0</td>\n      <td>1</td>\n    </tr>\n    <tr>\n      <th>2915</th>\n      <td>Lvl</td>\n      <td>AllPub</td>\n      <td>Inside</td>\n      <td>Gtl</td>\n      <td>MeadowV</td>\n      <td>Norm</td>\n      <td>Norm</td>\n      <td>TwnhsE</td>\n      <td>2Story</td>\n      <td>Gable</td>\n      <td>...</td>\n      <td>0</td>\n      <td>0</td>\n      <td>0</td>\n      <td>0</td>\n      <td>1</td>\n      <td>1</td>\n      <td>0</td>\n      <td>0</td>\n      <td>0</td>\n      <td>1</td>\n    </tr>\n    <tr>\n      <th>2916</th>\n      <td>Lvl</td>\n      <td>AllPub</td>\n      <td>Inside</td>\n      <td>Gtl</td>\n      <td>Mitchel</td>\n      <td>Norm</td>\n      <td>Norm</td>\n      <td>1Fam</td>\n      <td>1Story</td>\n      <td>Gable</td>\n      <td>...</td>\n      <td>0</td>\n      <td>0</td>\n      <td>0</td>\n      <td>1</td>\n      <td>0</td>\n      <td>1</td>\n      <td>0</td>\n      <td>0</td>\n      <td>0</td>\n      <td>1</td>\n    </tr>\n    <tr>\n      <th>2917</th>\n      <td>Lvl</td>\n      <td>AllPub</td>\n      <td>Inside</td>\n      <td>Gtl</td>\n      <td>Mitchel</td>\n      <td>Norm</td>\n      <td>Norm</td>\n      <td>1Fam</td>\n      <td>SFoyer</td>\n      <td>Gable</td>\n      <td>...</td>\n      <td>0</td>\n      <td>0</td>\n      <td>0</td>\n      <td>1</td>\n      <td>0</td>\n      <td>1</td>\n      <td>0</td>\n      <td>0</td>\n      <td>0</td>\n      <td>1</td>\n    </tr>\n    <tr>\n      <th>2918</th>\n      <td>Lvl</td>\n      <td>AllPub</td>\n      <td>Inside</td>\n      <td>Mod</td>\n      <td>Mitchel</td>\n      <td>Norm</td>\n      <td>Norm</td>\n      <td>1Fam</td>\n      <td>2Story</td>\n      <td>Gable</td>\n      <td>...</td>\n      <td>0</td>\n      <td>0</td>\n      <td>0</td>\n      <td>1</td>\n      <td>0</td>\n      <td>1</td>\n      <td>0</td>\n      <td>0</td>\n      <td>0</td>\n      <td>1</td>\n    </tr>\n  </tbody>\n</table>\n<p>2919 rows × 46 columns</p>\n</div>"
     },
     "execution_count": 16,
     "metadata": {},
     "output_type": "execute_result"
    }
   ],
   "source": [
    "df1 = pd.get_dummies(categorical_data['LotShape'])\n",
    "categorical_data = pd.concat([categorical_data, df1], axis=1).reindex(categorical_data.index)\n",
    "categorical_data.drop('LotShape', axis=1, inplace=True)\n",
    "categorical_data"
   ],
   "metadata": {
    "collapsed": false,
    "pycharm": {
     "name": "#%%\n"
    }
   }
  },
  {
   "cell_type": "code",
   "execution_count": 17,
   "outputs": [
    {
     "data": {
      "text/plain": "array(['Lvl', 'Bnk', 'Low', 'HLS'], dtype=object)"
     },
     "execution_count": 17,
     "metadata": {},
     "output_type": "execute_result"
    }
   ],
   "source": [
    "categorical_data[\"LandContour\"].unique()"
   ],
   "metadata": {
    "collapsed": false,
    "pycharm": {
     "name": "#%%\n"
    }
   }
  },
  {
   "cell_type": "markdown",
   "source": [
    "#Dummy encoding on LandContour"
   ],
   "metadata": {
    "collapsed": false,
    "pycharm": {
     "name": "#%% md\n"
    }
   }
  },
  {
   "cell_type": "code",
   "execution_count": 18,
   "outputs": [
    {
     "data": {
      "text/plain": "     Utilities LotConfig LandSlope Neighborhood Condition1 Condition2  \\\n0       AllPub    Inside       Gtl      CollgCr       Norm       Norm   \n1       AllPub       FR2       Gtl      Veenker      Feedr       Norm   \n2       AllPub    Inside       Gtl      CollgCr       Norm       Norm   \n3       AllPub    Corner       Gtl      Crawfor       Norm       Norm   \n4       AllPub       FR2       Gtl      NoRidge       Norm       Norm   \n...        ...       ...       ...          ...        ...        ...   \n2914    AllPub    Inside       Gtl      MeadowV       Norm       Norm   \n2915    AllPub    Inside       Gtl      MeadowV       Norm       Norm   \n2916    AllPub    Inside       Gtl      Mitchel       Norm       Norm   \n2917    AllPub    Inside       Gtl      Mitchel       Norm       Norm   \n2918    AllPub    Inside       Mod      Mitchel       Norm       Norm   \n\n     BldgType HouseStyle RoofStyle RoofMatl  ... RM Street IR1 IR2 IR3 Reg  \\\n0        1Fam     2Story     Gable  CompShg  ...  0      1   0   0   0   1   \n1        1Fam     1Story     Gable  CompShg  ...  0      1   0   0   0   1   \n2        1Fam     2Story     Gable  CompShg  ...  0      1   1   0   0   0   \n3        1Fam     2Story     Gable  CompShg  ...  0      1   1   0   0   0   \n4        1Fam     2Story     Gable  CompShg  ...  0      1   1   0   0   0   \n...       ...        ...       ...      ...  ... ..    ...  ..  ..  ..  ..   \n2914    Twnhs     2Story     Gable  CompShg  ...  1      1   0   0   0   1   \n2915   TwnhsE     2Story     Gable  CompShg  ...  1      1   0   0   0   1   \n2916     1Fam     1Story     Gable  CompShg  ...  0      1   0   0   0   1   \n2917     1Fam     SFoyer     Gable  CompShg  ...  0      1   0   0   0   1   \n2918     1Fam     2Story     Gable  CompShg  ...  0      1   0   0   0   1   \n\n     Bnk HLS Low Lvl  \n0      0   0   0   1  \n1      0   0   0   1  \n2      0   0   0   1  \n3      0   0   0   1  \n4      0   0   0   1  \n...   ..  ..  ..  ..  \n2914   0   0   0   1  \n2915   0   0   0   1  \n2916   0   0   0   1  \n2917   0   0   0   1  \n2918   0   0   0   1  \n\n[2919 rows x 49 columns]",
      "text/html": "<div>\n<style scoped>\n    .dataframe tbody tr th:only-of-type {\n        vertical-align: middle;\n    }\n\n    .dataframe tbody tr th {\n        vertical-align: top;\n    }\n\n    .dataframe thead th {\n        text-align: right;\n    }\n</style>\n<table border=\"1\" class=\"dataframe\">\n  <thead>\n    <tr style=\"text-align: right;\">\n      <th></th>\n      <th>Utilities</th>\n      <th>LotConfig</th>\n      <th>LandSlope</th>\n      <th>Neighborhood</th>\n      <th>Condition1</th>\n      <th>Condition2</th>\n      <th>BldgType</th>\n      <th>HouseStyle</th>\n      <th>RoofStyle</th>\n      <th>RoofMatl</th>\n      <th>...</th>\n      <th>RM</th>\n      <th>Street</th>\n      <th>IR1</th>\n      <th>IR2</th>\n      <th>IR3</th>\n      <th>Reg</th>\n      <th>Bnk</th>\n      <th>HLS</th>\n      <th>Low</th>\n      <th>Lvl</th>\n    </tr>\n  </thead>\n  <tbody>\n    <tr>\n      <th>0</th>\n      <td>AllPub</td>\n      <td>Inside</td>\n      <td>Gtl</td>\n      <td>CollgCr</td>\n      <td>Norm</td>\n      <td>Norm</td>\n      <td>1Fam</td>\n      <td>2Story</td>\n      <td>Gable</td>\n      <td>CompShg</td>\n      <td>...</td>\n      <td>0</td>\n      <td>1</td>\n      <td>0</td>\n      <td>0</td>\n      <td>0</td>\n      <td>1</td>\n      <td>0</td>\n      <td>0</td>\n      <td>0</td>\n      <td>1</td>\n    </tr>\n    <tr>\n      <th>1</th>\n      <td>AllPub</td>\n      <td>FR2</td>\n      <td>Gtl</td>\n      <td>Veenker</td>\n      <td>Feedr</td>\n      <td>Norm</td>\n      <td>1Fam</td>\n      <td>1Story</td>\n      <td>Gable</td>\n      <td>CompShg</td>\n      <td>...</td>\n      <td>0</td>\n      <td>1</td>\n      <td>0</td>\n      <td>0</td>\n      <td>0</td>\n      <td>1</td>\n      <td>0</td>\n      <td>0</td>\n      <td>0</td>\n      <td>1</td>\n    </tr>\n    <tr>\n      <th>2</th>\n      <td>AllPub</td>\n      <td>Inside</td>\n      <td>Gtl</td>\n      <td>CollgCr</td>\n      <td>Norm</td>\n      <td>Norm</td>\n      <td>1Fam</td>\n      <td>2Story</td>\n      <td>Gable</td>\n      <td>CompShg</td>\n      <td>...</td>\n      <td>0</td>\n      <td>1</td>\n      <td>1</td>\n      <td>0</td>\n      <td>0</td>\n      <td>0</td>\n      <td>0</td>\n      <td>0</td>\n      <td>0</td>\n      <td>1</td>\n    </tr>\n    <tr>\n      <th>3</th>\n      <td>AllPub</td>\n      <td>Corner</td>\n      <td>Gtl</td>\n      <td>Crawfor</td>\n      <td>Norm</td>\n      <td>Norm</td>\n      <td>1Fam</td>\n      <td>2Story</td>\n      <td>Gable</td>\n      <td>CompShg</td>\n      <td>...</td>\n      <td>0</td>\n      <td>1</td>\n      <td>1</td>\n      <td>0</td>\n      <td>0</td>\n      <td>0</td>\n      <td>0</td>\n      <td>0</td>\n      <td>0</td>\n      <td>1</td>\n    </tr>\n    <tr>\n      <th>4</th>\n      <td>AllPub</td>\n      <td>FR2</td>\n      <td>Gtl</td>\n      <td>NoRidge</td>\n      <td>Norm</td>\n      <td>Norm</td>\n      <td>1Fam</td>\n      <td>2Story</td>\n      <td>Gable</td>\n      <td>CompShg</td>\n      <td>...</td>\n      <td>0</td>\n      <td>1</td>\n      <td>1</td>\n      <td>0</td>\n      <td>0</td>\n      <td>0</td>\n      <td>0</td>\n      <td>0</td>\n      <td>0</td>\n      <td>1</td>\n    </tr>\n    <tr>\n      <th>...</th>\n      <td>...</td>\n      <td>...</td>\n      <td>...</td>\n      <td>...</td>\n      <td>...</td>\n      <td>...</td>\n      <td>...</td>\n      <td>...</td>\n      <td>...</td>\n      <td>...</td>\n      <td>...</td>\n      <td>...</td>\n      <td>...</td>\n      <td>...</td>\n      <td>...</td>\n      <td>...</td>\n      <td>...</td>\n      <td>...</td>\n      <td>...</td>\n      <td>...</td>\n      <td>...</td>\n    </tr>\n    <tr>\n      <th>2914</th>\n      <td>AllPub</td>\n      <td>Inside</td>\n      <td>Gtl</td>\n      <td>MeadowV</td>\n      <td>Norm</td>\n      <td>Norm</td>\n      <td>Twnhs</td>\n      <td>2Story</td>\n      <td>Gable</td>\n      <td>CompShg</td>\n      <td>...</td>\n      <td>1</td>\n      <td>1</td>\n      <td>0</td>\n      <td>0</td>\n      <td>0</td>\n      <td>1</td>\n      <td>0</td>\n      <td>0</td>\n      <td>0</td>\n      <td>1</td>\n    </tr>\n    <tr>\n      <th>2915</th>\n      <td>AllPub</td>\n      <td>Inside</td>\n      <td>Gtl</td>\n      <td>MeadowV</td>\n      <td>Norm</td>\n      <td>Norm</td>\n      <td>TwnhsE</td>\n      <td>2Story</td>\n      <td>Gable</td>\n      <td>CompShg</td>\n      <td>...</td>\n      <td>1</td>\n      <td>1</td>\n      <td>0</td>\n      <td>0</td>\n      <td>0</td>\n      <td>1</td>\n      <td>0</td>\n      <td>0</td>\n      <td>0</td>\n      <td>1</td>\n    </tr>\n    <tr>\n      <th>2916</th>\n      <td>AllPub</td>\n      <td>Inside</td>\n      <td>Gtl</td>\n      <td>Mitchel</td>\n      <td>Norm</td>\n      <td>Norm</td>\n      <td>1Fam</td>\n      <td>1Story</td>\n      <td>Gable</td>\n      <td>CompShg</td>\n      <td>...</td>\n      <td>0</td>\n      <td>1</td>\n      <td>0</td>\n      <td>0</td>\n      <td>0</td>\n      <td>1</td>\n      <td>0</td>\n      <td>0</td>\n      <td>0</td>\n      <td>1</td>\n    </tr>\n    <tr>\n      <th>2917</th>\n      <td>AllPub</td>\n      <td>Inside</td>\n      <td>Gtl</td>\n      <td>Mitchel</td>\n      <td>Norm</td>\n      <td>Norm</td>\n      <td>1Fam</td>\n      <td>SFoyer</td>\n      <td>Gable</td>\n      <td>CompShg</td>\n      <td>...</td>\n      <td>0</td>\n      <td>1</td>\n      <td>0</td>\n      <td>0</td>\n      <td>0</td>\n      <td>1</td>\n      <td>0</td>\n      <td>0</td>\n      <td>0</td>\n      <td>1</td>\n    </tr>\n    <tr>\n      <th>2918</th>\n      <td>AllPub</td>\n      <td>Inside</td>\n      <td>Mod</td>\n      <td>Mitchel</td>\n      <td>Norm</td>\n      <td>Norm</td>\n      <td>1Fam</td>\n      <td>2Story</td>\n      <td>Gable</td>\n      <td>CompShg</td>\n      <td>...</td>\n      <td>0</td>\n      <td>1</td>\n      <td>0</td>\n      <td>0</td>\n      <td>0</td>\n      <td>1</td>\n      <td>0</td>\n      <td>0</td>\n      <td>0</td>\n      <td>1</td>\n    </tr>\n  </tbody>\n</table>\n<p>2919 rows × 49 columns</p>\n</div>"
     },
     "execution_count": 18,
     "metadata": {},
     "output_type": "execute_result"
    }
   ],
   "source": [
    "df1 = pd.get_dummies(categorical_data['LandContour'])\n",
    "categorical_data = pd.concat([categorical_data, df1], axis=1).reindex(categorical_data.index)\n",
    "categorical_data.drop('LandContour', axis=1, inplace=True)\n",
    "categorical_data"
   ],
   "metadata": {
    "collapsed": false,
    "pycharm": {
     "name": "#%%\n"
    }
   }
  },
  {
   "cell_type": "code",
   "execution_count": 19,
   "outputs": [
    {
     "data": {
      "text/plain": "array(['AllPub', 'NoSeWa'], dtype=object)"
     },
     "execution_count": 19,
     "metadata": {},
     "output_type": "execute_result"
    }
   ],
   "source": [
    "categorical_data['Utilities'].unique()"
   ],
   "metadata": {
    "collapsed": false,
    "pycharm": {
     "name": "#%%\n"
    }
   }
  },
  {
   "cell_type": "markdown",
   "source": [
    "#Label encoding on Utilities"
   ],
   "metadata": {
    "collapsed": false,
    "pycharm": {
     "name": "#%% md\n"
    }
   }
  },
  {
   "cell_type": "code",
   "execution_count": 20,
   "outputs": [
    {
     "data": {
      "text/plain": "     LotConfig LandSlope Neighborhood Condition1 Condition2 BldgType  \\\n0       Inside       Gtl      CollgCr       Norm       Norm     1Fam   \n1          FR2       Gtl      Veenker      Feedr       Norm     1Fam   \n2       Inside       Gtl      CollgCr       Norm       Norm     1Fam   \n3       Corner       Gtl      Crawfor       Norm       Norm     1Fam   \n4          FR2       Gtl      NoRidge       Norm       Norm     1Fam   \n...        ...       ...          ...        ...        ...      ...   \n2914    Inside       Gtl      MeadowV       Norm       Norm    Twnhs   \n2915    Inside       Gtl      MeadowV       Norm       Norm   TwnhsE   \n2916    Inside       Gtl      Mitchel       Norm       Norm     1Fam   \n2917    Inside       Gtl      Mitchel       Norm       Norm     1Fam   \n2918    Inside       Mod      Mitchel       Norm       Norm     1Fam   \n\n     HouseStyle RoofStyle RoofMatl Exterior1st  ... Street IR1 IR2 IR3 Reg  \\\n0        2Story     Gable  CompShg     VinylSd  ...      1   0   0   0   1   \n1        1Story     Gable  CompShg     MetalSd  ...      1   0   0   0   1   \n2        2Story     Gable  CompShg     VinylSd  ...      1   1   0   0   0   \n3        2Story     Gable  CompShg     Wd Sdng  ...      1   1   0   0   0   \n4        2Story     Gable  CompShg     VinylSd  ...      1   1   0   0   0   \n...         ...       ...      ...         ...  ...    ...  ..  ..  ..  ..   \n2914     2Story     Gable  CompShg     CemntBd  ...      1   0   0   0   1   \n2915     2Story     Gable  CompShg     CemntBd  ...      1   0   0   0   1   \n2916     1Story     Gable  CompShg     VinylSd  ...      1   0   0   0   1   \n2917     SFoyer     Gable  CompShg     HdBoard  ...      1   0   0   0   1   \n2918     2Story     Gable  CompShg     HdBoard  ...      1   0   0   0   1   \n\n     Bnk HLS Low Lvl Utilities  \n0      0   0   0   1         0  \n1      0   0   0   1         0  \n2      0   0   0   1         0  \n3      0   0   0   1         0  \n4      0   0   0   1         0  \n...   ..  ..  ..  ..       ...  \n2914   0   0   0   1         0  \n2915   0   0   0   1         0  \n2916   0   0   0   1         0  \n2917   0   0   0   1         0  \n2918   0   0   0   1         0  \n\n[2919 rows x 49 columns]",
      "text/html": "<div>\n<style scoped>\n    .dataframe tbody tr th:only-of-type {\n        vertical-align: middle;\n    }\n\n    .dataframe tbody tr th {\n        vertical-align: top;\n    }\n\n    .dataframe thead th {\n        text-align: right;\n    }\n</style>\n<table border=\"1\" class=\"dataframe\">\n  <thead>\n    <tr style=\"text-align: right;\">\n      <th></th>\n      <th>LotConfig</th>\n      <th>LandSlope</th>\n      <th>Neighborhood</th>\n      <th>Condition1</th>\n      <th>Condition2</th>\n      <th>BldgType</th>\n      <th>HouseStyle</th>\n      <th>RoofStyle</th>\n      <th>RoofMatl</th>\n      <th>Exterior1st</th>\n      <th>...</th>\n      <th>Street</th>\n      <th>IR1</th>\n      <th>IR2</th>\n      <th>IR3</th>\n      <th>Reg</th>\n      <th>Bnk</th>\n      <th>HLS</th>\n      <th>Low</th>\n      <th>Lvl</th>\n      <th>Utilities</th>\n    </tr>\n  </thead>\n  <tbody>\n    <tr>\n      <th>0</th>\n      <td>Inside</td>\n      <td>Gtl</td>\n      <td>CollgCr</td>\n      <td>Norm</td>\n      <td>Norm</td>\n      <td>1Fam</td>\n      <td>2Story</td>\n      <td>Gable</td>\n      <td>CompShg</td>\n      <td>VinylSd</td>\n      <td>...</td>\n      <td>1</td>\n      <td>0</td>\n      <td>0</td>\n      <td>0</td>\n      <td>1</td>\n      <td>0</td>\n      <td>0</td>\n      <td>0</td>\n      <td>1</td>\n      <td>0</td>\n    </tr>\n    <tr>\n      <th>1</th>\n      <td>FR2</td>\n      <td>Gtl</td>\n      <td>Veenker</td>\n      <td>Feedr</td>\n      <td>Norm</td>\n      <td>1Fam</td>\n      <td>1Story</td>\n      <td>Gable</td>\n      <td>CompShg</td>\n      <td>MetalSd</td>\n      <td>...</td>\n      <td>1</td>\n      <td>0</td>\n      <td>0</td>\n      <td>0</td>\n      <td>1</td>\n      <td>0</td>\n      <td>0</td>\n      <td>0</td>\n      <td>1</td>\n      <td>0</td>\n    </tr>\n    <tr>\n      <th>2</th>\n      <td>Inside</td>\n      <td>Gtl</td>\n      <td>CollgCr</td>\n      <td>Norm</td>\n      <td>Norm</td>\n      <td>1Fam</td>\n      <td>2Story</td>\n      <td>Gable</td>\n      <td>CompShg</td>\n      <td>VinylSd</td>\n      <td>...</td>\n      <td>1</td>\n      <td>1</td>\n      <td>0</td>\n      <td>0</td>\n      <td>0</td>\n      <td>0</td>\n      <td>0</td>\n      <td>0</td>\n      <td>1</td>\n      <td>0</td>\n    </tr>\n    <tr>\n      <th>3</th>\n      <td>Corner</td>\n      <td>Gtl</td>\n      <td>Crawfor</td>\n      <td>Norm</td>\n      <td>Norm</td>\n      <td>1Fam</td>\n      <td>2Story</td>\n      <td>Gable</td>\n      <td>CompShg</td>\n      <td>Wd Sdng</td>\n      <td>...</td>\n      <td>1</td>\n      <td>1</td>\n      <td>0</td>\n      <td>0</td>\n      <td>0</td>\n      <td>0</td>\n      <td>0</td>\n      <td>0</td>\n      <td>1</td>\n      <td>0</td>\n    </tr>\n    <tr>\n      <th>4</th>\n      <td>FR2</td>\n      <td>Gtl</td>\n      <td>NoRidge</td>\n      <td>Norm</td>\n      <td>Norm</td>\n      <td>1Fam</td>\n      <td>2Story</td>\n      <td>Gable</td>\n      <td>CompShg</td>\n      <td>VinylSd</td>\n      <td>...</td>\n      <td>1</td>\n      <td>1</td>\n      <td>0</td>\n      <td>0</td>\n      <td>0</td>\n      <td>0</td>\n      <td>0</td>\n      <td>0</td>\n      <td>1</td>\n      <td>0</td>\n    </tr>\n    <tr>\n      <th>...</th>\n      <td>...</td>\n      <td>...</td>\n      <td>...</td>\n      <td>...</td>\n      <td>...</td>\n      <td>...</td>\n      <td>...</td>\n      <td>...</td>\n      <td>...</td>\n      <td>...</td>\n      <td>...</td>\n      <td>...</td>\n      <td>...</td>\n      <td>...</td>\n      <td>...</td>\n      <td>...</td>\n      <td>...</td>\n      <td>...</td>\n      <td>...</td>\n      <td>...</td>\n      <td>...</td>\n    </tr>\n    <tr>\n      <th>2914</th>\n      <td>Inside</td>\n      <td>Gtl</td>\n      <td>MeadowV</td>\n      <td>Norm</td>\n      <td>Norm</td>\n      <td>Twnhs</td>\n      <td>2Story</td>\n      <td>Gable</td>\n      <td>CompShg</td>\n      <td>CemntBd</td>\n      <td>...</td>\n      <td>1</td>\n      <td>0</td>\n      <td>0</td>\n      <td>0</td>\n      <td>1</td>\n      <td>0</td>\n      <td>0</td>\n      <td>0</td>\n      <td>1</td>\n      <td>0</td>\n    </tr>\n    <tr>\n      <th>2915</th>\n      <td>Inside</td>\n      <td>Gtl</td>\n      <td>MeadowV</td>\n      <td>Norm</td>\n      <td>Norm</td>\n      <td>TwnhsE</td>\n      <td>2Story</td>\n      <td>Gable</td>\n      <td>CompShg</td>\n      <td>CemntBd</td>\n      <td>...</td>\n      <td>1</td>\n      <td>0</td>\n      <td>0</td>\n      <td>0</td>\n      <td>1</td>\n      <td>0</td>\n      <td>0</td>\n      <td>0</td>\n      <td>1</td>\n      <td>0</td>\n    </tr>\n    <tr>\n      <th>2916</th>\n      <td>Inside</td>\n      <td>Gtl</td>\n      <td>Mitchel</td>\n      <td>Norm</td>\n      <td>Norm</td>\n      <td>1Fam</td>\n      <td>1Story</td>\n      <td>Gable</td>\n      <td>CompShg</td>\n      <td>VinylSd</td>\n      <td>...</td>\n      <td>1</td>\n      <td>0</td>\n      <td>0</td>\n      <td>0</td>\n      <td>1</td>\n      <td>0</td>\n      <td>0</td>\n      <td>0</td>\n      <td>1</td>\n      <td>0</td>\n    </tr>\n    <tr>\n      <th>2917</th>\n      <td>Inside</td>\n      <td>Gtl</td>\n      <td>Mitchel</td>\n      <td>Norm</td>\n      <td>Norm</td>\n      <td>1Fam</td>\n      <td>SFoyer</td>\n      <td>Gable</td>\n      <td>CompShg</td>\n      <td>HdBoard</td>\n      <td>...</td>\n      <td>1</td>\n      <td>0</td>\n      <td>0</td>\n      <td>0</td>\n      <td>1</td>\n      <td>0</td>\n      <td>0</td>\n      <td>0</td>\n      <td>1</td>\n      <td>0</td>\n    </tr>\n    <tr>\n      <th>2918</th>\n      <td>Inside</td>\n      <td>Mod</td>\n      <td>Mitchel</td>\n      <td>Norm</td>\n      <td>Norm</td>\n      <td>1Fam</td>\n      <td>2Story</td>\n      <td>Gable</td>\n      <td>CompShg</td>\n      <td>HdBoard</td>\n      <td>...</td>\n      <td>1</td>\n      <td>0</td>\n      <td>0</td>\n      <td>0</td>\n      <td>1</td>\n      <td>0</td>\n      <td>0</td>\n      <td>0</td>\n      <td>1</td>\n      <td>0</td>\n    </tr>\n  </tbody>\n</table>\n<p>2919 rows × 49 columns</p>\n</div>"
     },
     "execution_count": 20,
     "metadata": {},
     "output_type": "execute_result"
    }
   ],
   "source": [
    "label = le.fit_transform(categorical_data['Utilities'])\n",
    "categorical_data.drop(\"Utilities\", axis=1, inplace=True)\n",
    "categorical_data[\"Utilities\"] = label\n",
    "categorical_data"
   ],
   "metadata": {
    "collapsed": false,
    "pycharm": {
     "name": "#%%\n"
    }
   }
  },
  {
   "cell_type": "code",
   "execution_count": 21,
   "outputs": [
    {
     "data": {
      "text/plain": "array(['Inside', 'FR2', 'Corner', 'CulDSac', 'FR3'], dtype=object)"
     },
     "execution_count": 21,
     "metadata": {},
     "output_type": "execute_result"
    }
   ],
   "source": [
    "categorical_data['LotConfig'].unique()"
   ],
   "metadata": {
    "collapsed": false,
    "pycharm": {
     "name": "#%%\n"
    }
   }
  },
  {
   "cell_type": "markdown",
   "source": [
    "#Dummy encoding on LotConfig"
   ],
   "metadata": {
    "collapsed": false,
    "pycharm": {
     "name": "#%% md\n"
    }
   }
  },
  {
   "cell_type": "code",
   "execution_count": 22,
   "outputs": [
    {
     "data": {
      "text/plain": "     LandSlope Neighborhood Condition1 Condition2 BldgType HouseStyle  \\\n0          Gtl      CollgCr       Norm       Norm     1Fam     2Story   \n1          Gtl      Veenker      Feedr       Norm     1Fam     1Story   \n2          Gtl      CollgCr       Norm       Norm     1Fam     2Story   \n3          Gtl      Crawfor       Norm       Norm     1Fam     2Story   \n4          Gtl      NoRidge       Norm       Norm     1Fam     2Story   \n...        ...          ...        ...        ...      ...        ...   \n2914       Gtl      MeadowV       Norm       Norm    Twnhs     2Story   \n2915       Gtl      MeadowV       Norm       Norm   TwnhsE     2Story   \n2916       Gtl      Mitchel       Norm       Norm     1Fam     1Story   \n2917       Gtl      Mitchel       Norm       Norm     1Fam     SFoyer   \n2918       Mod      Mitchel       Norm       Norm     1Fam     2Story   \n\n     RoofStyle RoofMatl Exterior1st Exterior2nd  ... Bnk HLS Low Lvl  \\\n0        Gable  CompShg     VinylSd     VinylSd  ...   0   0   0   1   \n1        Gable  CompShg     MetalSd     MetalSd  ...   0   0   0   1   \n2        Gable  CompShg     VinylSd     VinylSd  ...   0   0   0   1   \n3        Gable  CompShg     Wd Sdng     Wd Shng  ...   0   0   0   1   \n4        Gable  CompShg     VinylSd     VinylSd  ...   0   0   0   1   \n...        ...      ...         ...         ...  ...  ..  ..  ..  ..   \n2914     Gable  CompShg     CemntBd     CmentBd  ...   0   0   0   1   \n2915     Gable  CompShg     CemntBd     CmentBd  ...   0   0   0   1   \n2916     Gable  CompShg     VinylSd     VinylSd  ...   0   0   0   1   \n2917     Gable  CompShg     HdBoard     Wd Shng  ...   0   0   0   1   \n2918     Gable  CompShg     HdBoard     HdBoard  ...   0   0   0   1   \n\n     Utilities Corner CulDSac FR2 FR3 Inside  \n0            0      0       0   0   0      1  \n1            0      0       0   1   0      0  \n2            0      0       0   0   0      1  \n3            0      1       0   0   0      0  \n4            0      0       0   1   0      0  \n...        ...    ...     ...  ..  ..    ...  \n2914         0      0       0   0   0      1  \n2915         0      0       0   0   0      1  \n2916         0      0       0   0   0      1  \n2917         0      0       0   0   0      1  \n2918         0      0       0   0   0      1  \n\n[2919 rows x 53 columns]",
      "text/html": "<div>\n<style scoped>\n    .dataframe tbody tr th:only-of-type {\n        vertical-align: middle;\n    }\n\n    .dataframe tbody tr th {\n        vertical-align: top;\n    }\n\n    .dataframe thead th {\n        text-align: right;\n    }\n</style>\n<table border=\"1\" class=\"dataframe\">\n  <thead>\n    <tr style=\"text-align: right;\">\n      <th></th>\n      <th>LandSlope</th>\n      <th>Neighborhood</th>\n      <th>Condition1</th>\n      <th>Condition2</th>\n      <th>BldgType</th>\n      <th>HouseStyle</th>\n      <th>RoofStyle</th>\n      <th>RoofMatl</th>\n      <th>Exterior1st</th>\n      <th>Exterior2nd</th>\n      <th>...</th>\n      <th>Bnk</th>\n      <th>HLS</th>\n      <th>Low</th>\n      <th>Lvl</th>\n      <th>Utilities</th>\n      <th>Corner</th>\n      <th>CulDSac</th>\n      <th>FR2</th>\n      <th>FR3</th>\n      <th>Inside</th>\n    </tr>\n  </thead>\n  <tbody>\n    <tr>\n      <th>0</th>\n      <td>Gtl</td>\n      <td>CollgCr</td>\n      <td>Norm</td>\n      <td>Norm</td>\n      <td>1Fam</td>\n      <td>2Story</td>\n      <td>Gable</td>\n      <td>CompShg</td>\n      <td>VinylSd</td>\n      <td>VinylSd</td>\n      <td>...</td>\n      <td>0</td>\n      <td>0</td>\n      <td>0</td>\n      <td>1</td>\n      <td>0</td>\n      <td>0</td>\n      <td>0</td>\n      <td>0</td>\n      <td>0</td>\n      <td>1</td>\n    </tr>\n    <tr>\n      <th>1</th>\n      <td>Gtl</td>\n      <td>Veenker</td>\n      <td>Feedr</td>\n      <td>Norm</td>\n      <td>1Fam</td>\n      <td>1Story</td>\n      <td>Gable</td>\n      <td>CompShg</td>\n      <td>MetalSd</td>\n      <td>MetalSd</td>\n      <td>...</td>\n      <td>0</td>\n      <td>0</td>\n      <td>0</td>\n      <td>1</td>\n      <td>0</td>\n      <td>0</td>\n      <td>0</td>\n      <td>1</td>\n      <td>0</td>\n      <td>0</td>\n    </tr>\n    <tr>\n      <th>2</th>\n      <td>Gtl</td>\n      <td>CollgCr</td>\n      <td>Norm</td>\n      <td>Norm</td>\n      <td>1Fam</td>\n      <td>2Story</td>\n      <td>Gable</td>\n      <td>CompShg</td>\n      <td>VinylSd</td>\n      <td>VinylSd</td>\n      <td>...</td>\n      <td>0</td>\n      <td>0</td>\n      <td>0</td>\n      <td>1</td>\n      <td>0</td>\n      <td>0</td>\n      <td>0</td>\n      <td>0</td>\n      <td>0</td>\n      <td>1</td>\n    </tr>\n    <tr>\n      <th>3</th>\n      <td>Gtl</td>\n      <td>Crawfor</td>\n      <td>Norm</td>\n      <td>Norm</td>\n      <td>1Fam</td>\n      <td>2Story</td>\n      <td>Gable</td>\n      <td>CompShg</td>\n      <td>Wd Sdng</td>\n      <td>Wd Shng</td>\n      <td>...</td>\n      <td>0</td>\n      <td>0</td>\n      <td>0</td>\n      <td>1</td>\n      <td>0</td>\n      <td>1</td>\n      <td>0</td>\n      <td>0</td>\n      <td>0</td>\n      <td>0</td>\n    </tr>\n    <tr>\n      <th>4</th>\n      <td>Gtl</td>\n      <td>NoRidge</td>\n      <td>Norm</td>\n      <td>Norm</td>\n      <td>1Fam</td>\n      <td>2Story</td>\n      <td>Gable</td>\n      <td>CompShg</td>\n      <td>VinylSd</td>\n      <td>VinylSd</td>\n      <td>...</td>\n      <td>0</td>\n      <td>0</td>\n      <td>0</td>\n      <td>1</td>\n      <td>0</td>\n      <td>0</td>\n      <td>0</td>\n      <td>1</td>\n      <td>0</td>\n      <td>0</td>\n    </tr>\n    <tr>\n      <th>...</th>\n      <td>...</td>\n      <td>...</td>\n      <td>...</td>\n      <td>...</td>\n      <td>...</td>\n      <td>...</td>\n      <td>...</td>\n      <td>...</td>\n      <td>...</td>\n      <td>...</td>\n      <td>...</td>\n      <td>...</td>\n      <td>...</td>\n      <td>...</td>\n      <td>...</td>\n      <td>...</td>\n      <td>...</td>\n      <td>...</td>\n      <td>...</td>\n      <td>...</td>\n      <td>...</td>\n    </tr>\n    <tr>\n      <th>2914</th>\n      <td>Gtl</td>\n      <td>MeadowV</td>\n      <td>Norm</td>\n      <td>Norm</td>\n      <td>Twnhs</td>\n      <td>2Story</td>\n      <td>Gable</td>\n      <td>CompShg</td>\n      <td>CemntBd</td>\n      <td>CmentBd</td>\n      <td>...</td>\n      <td>0</td>\n      <td>0</td>\n      <td>0</td>\n      <td>1</td>\n      <td>0</td>\n      <td>0</td>\n      <td>0</td>\n      <td>0</td>\n      <td>0</td>\n      <td>1</td>\n    </tr>\n    <tr>\n      <th>2915</th>\n      <td>Gtl</td>\n      <td>MeadowV</td>\n      <td>Norm</td>\n      <td>Norm</td>\n      <td>TwnhsE</td>\n      <td>2Story</td>\n      <td>Gable</td>\n      <td>CompShg</td>\n      <td>CemntBd</td>\n      <td>CmentBd</td>\n      <td>...</td>\n      <td>0</td>\n      <td>0</td>\n      <td>0</td>\n      <td>1</td>\n      <td>0</td>\n      <td>0</td>\n      <td>0</td>\n      <td>0</td>\n      <td>0</td>\n      <td>1</td>\n    </tr>\n    <tr>\n      <th>2916</th>\n      <td>Gtl</td>\n      <td>Mitchel</td>\n      <td>Norm</td>\n      <td>Norm</td>\n      <td>1Fam</td>\n      <td>1Story</td>\n      <td>Gable</td>\n      <td>CompShg</td>\n      <td>VinylSd</td>\n      <td>VinylSd</td>\n      <td>...</td>\n      <td>0</td>\n      <td>0</td>\n      <td>0</td>\n      <td>1</td>\n      <td>0</td>\n      <td>0</td>\n      <td>0</td>\n      <td>0</td>\n      <td>0</td>\n      <td>1</td>\n    </tr>\n    <tr>\n      <th>2917</th>\n      <td>Gtl</td>\n      <td>Mitchel</td>\n      <td>Norm</td>\n      <td>Norm</td>\n      <td>1Fam</td>\n      <td>SFoyer</td>\n      <td>Gable</td>\n      <td>CompShg</td>\n      <td>HdBoard</td>\n      <td>Wd Shng</td>\n      <td>...</td>\n      <td>0</td>\n      <td>0</td>\n      <td>0</td>\n      <td>1</td>\n      <td>0</td>\n      <td>0</td>\n      <td>0</td>\n      <td>0</td>\n      <td>0</td>\n      <td>1</td>\n    </tr>\n    <tr>\n      <th>2918</th>\n      <td>Mod</td>\n      <td>Mitchel</td>\n      <td>Norm</td>\n      <td>Norm</td>\n      <td>1Fam</td>\n      <td>2Story</td>\n      <td>Gable</td>\n      <td>CompShg</td>\n      <td>HdBoard</td>\n      <td>HdBoard</td>\n      <td>...</td>\n      <td>0</td>\n      <td>0</td>\n      <td>0</td>\n      <td>1</td>\n      <td>0</td>\n      <td>0</td>\n      <td>0</td>\n      <td>0</td>\n      <td>0</td>\n      <td>1</td>\n    </tr>\n  </tbody>\n</table>\n<p>2919 rows × 53 columns</p>\n</div>"
     },
     "execution_count": 22,
     "metadata": {},
     "output_type": "execute_result"
    }
   ],
   "source": [
    "df1 = pd.get_dummies(categorical_data['LotConfig'])\n",
    "categorical_data = pd.concat([categorical_data, df1], axis=1).reindex(categorical_data.index)\n",
    "categorical_data.drop('LotConfig', axis=1, inplace=True)\n",
    "categorical_data"
   ],
   "metadata": {
    "collapsed": false,
    "pycharm": {
     "name": "#%%\n"
    }
   }
  },
  {
   "cell_type": "code",
   "execution_count": 23,
   "outputs": [
    {
     "data": {
      "text/plain": "array(['Gtl', 'Mod', 'Sev'], dtype=object)"
     },
     "execution_count": 23,
     "metadata": {},
     "output_type": "execute_result"
    }
   ],
   "source": [
    "categorical_data['LandSlope'].unique()"
   ],
   "metadata": {
    "collapsed": false,
    "pycharm": {
     "name": "#%%\n"
    }
   }
  },
  {
   "cell_type": "markdown",
   "source": [
    "#Dummy encoding on LandSlope"
   ],
   "metadata": {
    "collapsed": false,
    "pycharm": {
     "name": "#%% md\n"
    }
   }
  },
  {
   "cell_type": "code",
   "execution_count": 24,
   "outputs": [
    {
     "data": {
      "text/plain": "     Neighborhood Condition1 Condition2 BldgType HouseStyle RoofStyle  \\\n0         CollgCr       Norm       Norm     1Fam     2Story     Gable   \n1         Veenker      Feedr       Norm     1Fam     1Story     Gable   \n2         CollgCr       Norm       Norm     1Fam     2Story     Gable   \n3         Crawfor       Norm       Norm     1Fam     2Story     Gable   \n4         NoRidge       Norm       Norm     1Fam     2Story     Gable   \n...           ...        ...        ...      ...        ...       ...   \n2914      MeadowV       Norm       Norm    Twnhs     2Story     Gable   \n2915      MeadowV       Norm       Norm   TwnhsE     2Story     Gable   \n2916      Mitchel       Norm       Norm     1Fam     1Story     Gable   \n2917      Mitchel       Norm       Norm     1Fam     SFoyer     Gable   \n2918      Mitchel       Norm       Norm     1Fam     2Story     Gable   \n\n     RoofMatl Exterior1st Exterior2nd MasVnrType  ... Lvl Utilities Corner  \\\n0     CompShg     VinylSd     VinylSd    BrkFace  ...   1         0      0   \n1     CompShg     MetalSd     MetalSd       None  ...   1         0      0   \n2     CompShg     VinylSd     VinylSd    BrkFace  ...   1         0      0   \n3     CompShg     Wd Sdng     Wd Shng       None  ...   1         0      1   \n4     CompShg     VinylSd     VinylSd    BrkFace  ...   1         0      0   \n...       ...         ...         ...        ...  ...  ..       ...    ...   \n2914  CompShg     CemntBd     CmentBd       None  ...   1         0      0   \n2915  CompShg     CemntBd     CmentBd       None  ...   1         0      0   \n2916  CompShg     VinylSd     VinylSd       None  ...   1         0      0   \n2917  CompShg     HdBoard     Wd Shng       None  ...   1         0      0   \n2918  CompShg     HdBoard     HdBoard    BrkFace  ...   1         0      0   \n\n     CulDSac FR2 FR3 Inside Gtl Mod Sev  \n0          0   0   0      1   1   0   0  \n1          0   1   0      0   1   0   0  \n2          0   0   0      1   1   0   0  \n3          0   0   0      0   1   0   0  \n4          0   1   0      0   1   0   0  \n...      ...  ..  ..    ...  ..  ..  ..  \n2914       0   0   0      1   1   0   0  \n2915       0   0   0      1   1   0   0  \n2916       0   0   0      1   1   0   0  \n2917       0   0   0      1   1   0   0  \n2918       0   0   0      1   0   1   0  \n\n[2919 rows x 55 columns]",
      "text/html": "<div>\n<style scoped>\n    .dataframe tbody tr th:only-of-type {\n        vertical-align: middle;\n    }\n\n    .dataframe tbody tr th {\n        vertical-align: top;\n    }\n\n    .dataframe thead th {\n        text-align: right;\n    }\n</style>\n<table border=\"1\" class=\"dataframe\">\n  <thead>\n    <tr style=\"text-align: right;\">\n      <th></th>\n      <th>Neighborhood</th>\n      <th>Condition1</th>\n      <th>Condition2</th>\n      <th>BldgType</th>\n      <th>HouseStyle</th>\n      <th>RoofStyle</th>\n      <th>RoofMatl</th>\n      <th>Exterior1st</th>\n      <th>Exterior2nd</th>\n      <th>MasVnrType</th>\n      <th>...</th>\n      <th>Lvl</th>\n      <th>Utilities</th>\n      <th>Corner</th>\n      <th>CulDSac</th>\n      <th>FR2</th>\n      <th>FR3</th>\n      <th>Inside</th>\n      <th>Gtl</th>\n      <th>Mod</th>\n      <th>Sev</th>\n    </tr>\n  </thead>\n  <tbody>\n    <tr>\n      <th>0</th>\n      <td>CollgCr</td>\n      <td>Norm</td>\n      <td>Norm</td>\n      <td>1Fam</td>\n      <td>2Story</td>\n      <td>Gable</td>\n      <td>CompShg</td>\n      <td>VinylSd</td>\n      <td>VinylSd</td>\n      <td>BrkFace</td>\n      <td>...</td>\n      <td>1</td>\n      <td>0</td>\n      <td>0</td>\n      <td>0</td>\n      <td>0</td>\n      <td>0</td>\n      <td>1</td>\n      <td>1</td>\n      <td>0</td>\n      <td>0</td>\n    </tr>\n    <tr>\n      <th>1</th>\n      <td>Veenker</td>\n      <td>Feedr</td>\n      <td>Norm</td>\n      <td>1Fam</td>\n      <td>1Story</td>\n      <td>Gable</td>\n      <td>CompShg</td>\n      <td>MetalSd</td>\n      <td>MetalSd</td>\n      <td>None</td>\n      <td>...</td>\n      <td>1</td>\n      <td>0</td>\n      <td>0</td>\n      <td>0</td>\n      <td>1</td>\n      <td>0</td>\n      <td>0</td>\n      <td>1</td>\n      <td>0</td>\n      <td>0</td>\n    </tr>\n    <tr>\n      <th>2</th>\n      <td>CollgCr</td>\n      <td>Norm</td>\n      <td>Norm</td>\n      <td>1Fam</td>\n      <td>2Story</td>\n      <td>Gable</td>\n      <td>CompShg</td>\n      <td>VinylSd</td>\n      <td>VinylSd</td>\n      <td>BrkFace</td>\n      <td>...</td>\n      <td>1</td>\n      <td>0</td>\n      <td>0</td>\n      <td>0</td>\n      <td>0</td>\n      <td>0</td>\n      <td>1</td>\n      <td>1</td>\n      <td>0</td>\n      <td>0</td>\n    </tr>\n    <tr>\n      <th>3</th>\n      <td>Crawfor</td>\n      <td>Norm</td>\n      <td>Norm</td>\n      <td>1Fam</td>\n      <td>2Story</td>\n      <td>Gable</td>\n      <td>CompShg</td>\n      <td>Wd Sdng</td>\n      <td>Wd Shng</td>\n      <td>None</td>\n      <td>...</td>\n      <td>1</td>\n      <td>0</td>\n      <td>1</td>\n      <td>0</td>\n      <td>0</td>\n      <td>0</td>\n      <td>0</td>\n      <td>1</td>\n      <td>0</td>\n      <td>0</td>\n    </tr>\n    <tr>\n      <th>4</th>\n      <td>NoRidge</td>\n      <td>Norm</td>\n      <td>Norm</td>\n      <td>1Fam</td>\n      <td>2Story</td>\n      <td>Gable</td>\n      <td>CompShg</td>\n      <td>VinylSd</td>\n      <td>VinylSd</td>\n      <td>BrkFace</td>\n      <td>...</td>\n      <td>1</td>\n      <td>0</td>\n      <td>0</td>\n      <td>0</td>\n      <td>1</td>\n      <td>0</td>\n      <td>0</td>\n      <td>1</td>\n      <td>0</td>\n      <td>0</td>\n    </tr>\n    <tr>\n      <th>...</th>\n      <td>...</td>\n      <td>...</td>\n      <td>...</td>\n      <td>...</td>\n      <td>...</td>\n      <td>...</td>\n      <td>...</td>\n      <td>...</td>\n      <td>...</td>\n      <td>...</td>\n      <td>...</td>\n      <td>...</td>\n      <td>...</td>\n      <td>...</td>\n      <td>...</td>\n      <td>...</td>\n      <td>...</td>\n      <td>...</td>\n      <td>...</td>\n      <td>...</td>\n      <td>...</td>\n    </tr>\n    <tr>\n      <th>2914</th>\n      <td>MeadowV</td>\n      <td>Norm</td>\n      <td>Norm</td>\n      <td>Twnhs</td>\n      <td>2Story</td>\n      <td>Gable</td>\n      <td>CompShg</td>\n      <td>CemntBd</td>\n      <td>CmentBd</td>\n      <td>None</td>\n      <td>...</td>\n      <td>1</td>\n      <td>0</td>\n      <td>0</td>\n      <td>0</td>\n      <td>0</td>\n      <td>0</td>\n      <td>1</td>\n      <td>1</td>\n      <td>0</td>\n      <td>0</td>\n    </tr>\n    <tr>\n      <th>2915</th>\n      <td>MeadowV</td>\n      <td>Norm</td>\n      <td>Norm</td>\n      <td>TwnhsE</td>\n      <td>2Story</td>\n      <td>Gable</td>\n      <td>CompShg</td>\n      <td>CemntBd</td>\n      <td>CmentBd</td>\n      <td>None</td>\n      <td>...</td>\n      <td>1</td>\n      <td>0</td>\n      <td>0</td>\n      <td>0</td>\n      <td>0</td>\n      <td>0</td>\n      <td>1</td>\n      <td>1</td>\n      <td>0</td>\n      <td>0</td>\n    </tr>\n    <tr>\n      <th>2916</th>\n      <td>Mitchel</td>\n      <td>Norm</td>\n      <td>Norm</td>\n      <td>1Fam</td>\n      <td>1Story</td>\n      <td>Gable</td>\n      <td>CompShg</td>\n      <td>VinylSd</td>\n      <td>VinylSd</td>\n      <td>None</td>\n      <td>...</td>\n      <td>1</td>\n      <td>0</td>\n      <td>0</td>\n      <td>0</td>\n      <td>0</td>\n      <td>0</td>\n      <td>1</td>\n      <td>1</td>\n      <td>0</td>\n      <td>0</td>\n    </tr>\n    <tr>\n      <th>2917</th>\n      <td>Mitchel</td>\n      <td>Norm</td>\n      <td>Norm</td>\n      <td>1Fam</td>\n      <td>SFoyer</td>\n      <td>Gable</td>\n      <td>CompShg</td>\n      <td>HdBoard</td>\n      <td>Wd Shng</td>\n      <td>None</td>\n      <td>...</td>\n      <td>1</td>\n      <td>0</td>\n      <td>0</td>\n      <td>0</td>\n      <td>0</td>\n      <td>0</td>\n      <td>1</td>\n      <td>1</td>\n      <td>0</td>\n      <td>0</td>\n    </tr>\n    <tr>\n      <th>2918</th>\n      <td>Mitchel</td>\n      <td>Norm</td>\n      <td>Norm</td>\n      <td>1Fam</td>\n      <td>2Story</td>\n      <td>Gable</td>\n      <td>CompShg</td>\n      <td>HdBoard</td>\n      <td>HdBoard</td>\n      <td>BrkFace</td>\n      <td>...</td>\n      <td>1</td>\n      <td>0</td>\n      <td>0</td>\n      <td>0</td>\n      <td>0</td>\n      <td>0</td>\n      <td>1</td>\n      <td>0</td>\n      <td>1</td>\n      <td>0</td>\n    </tr>\n  </tbody>\n</table>\n<p>2919 rows × 55 columns</p>\n</div>"
     },
     "execution_count": 24,
     "metadata": {},
     "output_type": "execute_result"
    }
   ],
   "source": [
    "df1 = pd.get_dummies(categorical_data['LandSlope'])\n",
    "categorical_data = pd.concat([categorical_data, df1], axis=1).reindex(categorical_data.index)\n",
    "categorical_data.drop('LandSlope', axis=1, inplace=True)\n",
    "categorical_data"
   ],
   "metadata": {
    "collapsed": false,
    "pycharm": {
     "name": "#%%\n"
    }
   }
  },
  {
   "cell_type": "code",
   "execution_count": 25,
   "outputs": [
    {
     "data": {
      "text/plain": "array(['CollgCr', 'Veenker', 'Crawfor', 'NoRidge', 'Mitchel', 'Somerst',\n       'NWAmes', 'OldTown', 'BrkSide', 'Sawyer', 'NridgHt', 'NAmes',\n       'SawyerW', 'IDOTRR', 'MeadowV', 'Edwards', 'Timber', 'Gilbert',\n       'StoneBr', 'ClearCr', 'NPkVill', 'Blmngtn', 'BrDale', 'SWISU',\n       'Blueste'], dtype=object)"
     },
     "execution_count": 25,
     "metadata": {},
     "output_type": "execute_result"
    }
   ],
   "source": [
    "categorical_data['Neighborhood'].unique()"
   ],
   "metadata": {
    "collapsed": false,
    "pycharm": {
     "name": "#%%\n"
    }
   }
  },
  {
   "cell_type": "markdown",
   "source": [
    "#Binary Encoding"
   ],
   "metadata": {
    "collapsed": false,
    "pycharm": {
     "name": "#%% md\n"
    }
   }
  },
  {
   "cell_type": "code",
   "execution_count": 26,
   "outputs": [
    {
     "data": {
      "text/plain": "     Condition1 Condition2 BldgType HouseStyle RoofStyle RoofMatl Exterior1st  \\\n0          Norm       Norm     1Fam     2Story     Gable  CompShg     VinylSd   \n1         Feedr       Norm     1Fam     1Story     Gable  CompShg     MetalSd   \n2          Norm       Norm     1Fam     2Story     Gable  CompShg     VinylSd   \n3          Norm       Norm     1Fam     2Story     Gable  CompShg     Wd Sdng   \n4          Norm       Norm     1Fam     2Story     Gable  CompShg     VinylSd   \n...         ...        ...      ...        ...       ...      ...         ...   \n2914       Norm       Norm    Twnhs     2Story     Gable  CompShg     CemntBd   \n2915       Norm       Norm   TwnhsE     2Story     Gable  CompShg     CemntBd   \n2916       Norm       Norm     1Fam     1Story     Gable  CompShg     VinylSd   \n2917       Norm       Norm     1Fam     SFoyer     Gable  CompShg     HdBoard   \n2918       Norm       Norm     1Fam     2Story     Gable  CompShg     HdBoard   \n\n     Exterior2nd MasVnrType ExterQual  ... FR3 Inside Gtl Mod Sev  \\\n0        VinylSd    BrkFace        Gd  ...   0      1   1   0   0   \n1        MetalSd       None        TA  ...   0      0   1   0   0   \n2        VinylSd    BrkFace        Gd  ...   0      1   1   0   0   \n3        Wd Shng       None        TA  ...   0      0   1   0   0   \n4        VinylSd    BrkFace        Gd  ...   0      0   1   0   0   \n...          ...        ...       ...  ...  ..    ...  ..  ..  ..   \n2914     CmentBd       None        TA  ...   0      1   1   0   0   \n2915     CmentBd       None        TA  ...   0      1   1   0   0   \n2916     VinylSd       None        TA  ...   0      1   1   0   0   \n2917     Wd Shng       None        TA  ...   0      1   1   0   0   \n2918     HdBoard    BrkFace        TA  ...   0      1   0   1   0   \n\n     Neighborhood_0 Neighborhood_1 Neighborhood_2 Neighborhood_3  \\\n0                 0              0              0              0   \n1                 0              0              0              1   \n2                 0              0              0              0   \n3                 0              0              0              1   \n4                 0              0              1              0   \n...             ...            ...            ...            ...   \n2914              0              1              1              1   \n2915              0              1              1              1   \n2916              0              0              1              0   \n2917              0              0              1              0   \n2918              0              0              1              0   \n\n     Neighborhood_4  \n0                 1  \n1                 0  \n2                 1  \n3                 1  \n4                 0  \n...             ...  \n2914              1  \n2915              1  \n2916              1  \n2917              1  \n2918              1  \n\n[2919 rows x 59 columns]",
      "text/html": "<div>\n<style scoped>\n    .dataframe tbody tr th:only-of-type {\n        vertical-align: middle;\n    }\n\n    .dataframe tbody tr th {\n        vertical-align: top;\n    }\n\n    .dataframe thead th {\n        text-align: right;\n    }\n</style>\n<table border=\"1\" class=\"dataframe\">\n  <thead>\n    <tr style=\"text-align: right;\">\n      <th></th>\n      <th>Condition1</th>\n      <th>Condition2</th>\n      <th>BldgType</th>\n      <th>HouseStyle</th>\n      <th>RoofStyle</th>\n      <th>RoofMatl</th>\n      <th>Exterior1st</th>\n      <th>Exterior2nd</th>\n      <th>MasVnrType</th>\n      <th>ExterQual</th>\n      <th>...</th>\n      <th>FR3</th>\n      <th>Inside</th>\n      <th>Gtl</th>\n      <th>Mod</th>\n      <th>Sev</th>\n      <th>Neighborhood_0</th>\n      <th>Neighborhood_1</th>\n      <th>Neighborhood_2</th>\n      <th>Neighborhood_3</th>\n      <th>Neighborhood_4</th>\n    </tr>\n  </thead>\n  <tbody>\n    <tr>\n      <th>0</th>\n      <td>Norm</td>\n      <td>Norm</td>\n      <td>1Fam</td>\n      <td>2Story</td>\n      <td>Gable</td>\n      <td>CompShg</td>\n      <td>VinylSd</td>\n      <td>VinylSd</td>\n      <td>BrkFace</td>\n      <td>Gd</td>\n      <td>...</td>\n      <td>0</td>\n      <td>1</td>\n      <td>1</td>\n      <td>0</td>\n      <td>0</td>\n      <td>0</td>\n      <td>0</td>\n      <td>0</td>\n      <td>0</td>\n      <td>1</td>\n    </tr>\n    <tr>\n      <th>1</th>\n      <td>Feedr</td>\n      <td>Norm</td>\n      <td>1Fam</td>\n      <td>1Story</td>\n      <td>Gable</td>\n      <td>CompShg</td>\n      <td>MetalSd</td>\n      <td>MetalSd</td>\n      <td>None</td>\n      <td>TA</td>\n      <td>...</td>\n      <td>0</td>\n      <td>0</td>\n      <td>1</td>\n      <td>0</td>\n      <td>0</td>\n      <td>0</td>\n      <td>0</td>\n      <td>0</td>\n      <td>1</td>\n      <td>0</td>\n    </tr>\n    <tr>\n      <th>2</th>\n      <td>Norm</td>\n      <td>Norm</td>\n      <td>1Fam</td>\n      <td>2Story</td>\n      <td>Gable</td>\n      <td>CompShg</td>\n      <td>VinylSd</td>\n      <td>VinylSd</td>\n      <td>BrkFace</td>\n      <td>Gd</td>\n      <td>...</td>\n      <td>0</td>\n      <td>1</td>\n      <td>1</td>\n      <td>0</td>\n      <td>0</td>\n      <td>0</td>\n      <td>0</td>\n      <td>0</td>\n      <td>0</td>\n      <td>1</td>\n    </tr>\n    <tr>\n      <th>3</th>\n      <td>Norm</td>\n      <td>Norm</td>\n      <td>1Fam</td>\n      <td>2Story</td>\n      <td>Gable</td>\n      <td>CompShg</td>\n      <td>Wd Sdng</td>\n      <td>Wd Shng</td>\n      <td>None</td>\n      <td>TA</td>\n      <td>...</td>\n      <td>0</td>\n      <td>0</td>\n      <td>1</td>\n      <td>0</td>\n      <td>0</td>\n      <td>0</td>\n      <td>0</td>\n      <td>0</td>\n      <td>1</td>\n      <td>1</td>\n    </tr>\n    <tr>\n      <th>4</th>\n      <td>Norm</td>\n      <td>Norm</td>\n      <td>1Fam</td>\n      <td>2Story</td>\n      <td>Gable</td>\n      <td>CompShg</td>\n      <td>VinylSd</td>\n      <td>VinylSd</td>\n      <td>BrkFace</td>\n      <td>Gd</td>\n      <td>...</td>\n      <td>0</td>\n      <td>0</td>\n      <td>1</td>\n      <td>0</td>\n      <td>0</td>\n      <td>0</td>\n      <td>0</td>\n      <td>1</td>\n      <td>0</td>\n      <td>0</td>\n    </tr>\n    <tr>\n      <th>...</th>\n      <td>...</td>\n      <td>...</td>\n      <td>...</td>\n      <td>...</td>\n      <td>...</td>\n      <td>...</td>\n      <td>...</td>\n      <td>...</td>\n      <td>...</td>\n      <td>...</td>\n      <td>...</td>\n      <td>...</td>\n      <td>...</td>\n      <td>...</td>\n      <td>...</td>\n      <td>...</td>\n      <td>...</td>\n      <td>...</td>\n      <td>...</td>\n      <td>...</td>\n      <td>...</td>\n    </tr>\n    <tr>\n      <th>2914</th>\n      <td>Norm</td>\n      <td>Norm</td>\n      <td>Twnhs</td>\n      <td>2Story</td>\n      <td>Gable</td>\n      <td>CompShg</td>\n      <td>CemntBd</td>\n      <td>CmentBd</td>\n      <td>None</td>\n      <td>TA</td>\n      <td>...</td>\n      <td>0</td>\n      <td>1</td>\n      <td>1</td>\n      <td>0</td>\n      <td>0</td>\n      <td>0</td>\n      <td>1</td>\n      <td>1</td>\n      <td>1</td>\n      <td>1</td>\n    </tr>\n    <tr>\n      <th>2915</th>\n      <td>Norm</td>\n      <td>Norm</td>\n      <td>TwnhsE</td>\n      <td>2Story</td>\n      <td>Gable</td>\n      <td>CompShg</td>\n      <td>CemntBd</td>\n      <td>CmentBd</td>\n      <td>None</td>\n      <td>TA</td>\n      <td>...</td>\n      <td>0</td>\n      <td>1</td>\n      <td>1</td>\n      <td>0</td>\n      <td>0</td>\n      <td>0</td>\n      <td>1</td>\n      <td>1</td>\n      <td>1</td>\n      <td>1</td>\n    </tr>\n    <tr>\n      <th>2916</th>\n      <td>Norm</td>\n      <td>Norm</td>\n      <td>1Fam</td>\n      <td>1Story</td>\n      <td>Gable</td>\n      <td>CompShg</td>\n      <td>VinylSd</td>\n      <td>VinylSd</td>\n      <td>None</td>\n      <td>TA</td>\n      <td>...</td>\n      <td>0</td>\n      <td>1</td>\n      <td>1</td>\n      <td>0</td>\n      <td>0</td>\n      <td>0</td>\n      <td>0</td>\n      <td>1</td>\n      <td>0</td>\n      <td>1</td>\n    </tr>\n    <tr>\n      <th>2917</th>\n      <td>Norm</td>\n      <td>Norm</td>\n      <td>1Fam</td>\n      <td>SFoyer</td>\n      <td>Gable</td>\n      <td>CompShg</td>\n      <td>HdBoard</td>\n      <td>Wd Shng</td>\n      <td>None</td>\n      <td>TA</td>\n      <td>...</td>\n      <td>0</td>\n      <td>1</td>\n      <td>1</td>\n      <td>0</td>\n      <td>0</td>\n      <td>0</td>\n      <td>0</td>\n      <td>1</td>\n      <td>0</td>\n      <td>1</td>\n    </tr>\n    <tr>\n      <th>2918</th>\n      <td>Norm</td>\n      <td>Norm</td>\n      <td>1Fam</td>\n      <td>2Story</td>\n      <td>Gable</td>\n      <td>CompShg</td>\n      <td>HdBoard</td>\n      <td>HdBoard</td>\n      <td>BrkFace</td>\n      <td>TA</td>\n      <td>...</td>\n      <td>0</td>\n      <td>1</td>\n      <td>0</td>\n      <td>1</td>\n      <td>0</td>\n      <td>0</td>\n      <td>0</td>\n      <td>1</td>\n      <td>0</td>\n      <td>1</td>\n    </tr>\n  </tbody>\n</table>\n<p>2919 rows × 59 columns</p>\n</div>"
     },
     "execution_count": 26,
     "metadata": {},
     "output_type": "execute_result"
    }
   ],
   "source": [
    "import category_encoders as ce\n",
    "\n",
    "encoder = ce.BinaryEncoder(categorical_data['Neighborhood'])\n",
    "df1 = encoder.fit_transform(categorical_data['Neighborhood'])\n",
    "categorical_data = pd.concat([categorical_data, df1], axis=1).reindex(categorical_data.index)\n",
    "categorical_data.drop('Neighborhood', axis=1, inplace=True)\n",
    "categorical_data"
   ],
   "metadata": {
    "collapsed": false,
    "pycharm": {
     "name": "#%%\n"
    }
   }
  },
  {
   "cell_type": "code",
   "execution_count": 27,
   "outputs": [
    {
     "data": {
      "text/plain": "array(['Norm', 'Feedr', 'PosN', 'Artery', 'RRAe', 'RRNn', 'RRAn', 'PosA',\n       'RRNe'], dtype=object)"
     },
     "execution_count": 27,
     "metadata": {},
     "output_type": "execute_result"
    }
   ],
   "source": [
    "categorical_data['Condition1'].unique()"
   ],
   "metadata": {
    "collapsed": false,
    "pycharm": {
     "name": "#%%\n"
    }
   }
  },
  {
   "cell_type": "markdown",
   "source": [
    "#Binary encoding on Condition1"
   ],
   "metadata": {
    "collapsed": false,
    "pycharm": {
     "name": "#%% md\n"
    }
   }
  },
  {
   "cell_type": "code",
   "execution_count": 28,
   "outputs": [
    {
     "data": {
      "text/plain": "     Condition2 BldgType HouseStyle RoofStyle RoofMatl Exterior1st  \\\n0          Norm     1Fam     2Story     Gable  CompShg     VinylSd   \n1          Norm     1Fam     1Story     Gable  CompShg     MetalSd   \n2          Norm     1Fam     2Story     Gable  CompShg     VinylSd   \n3          Norm     1Fam     2Story     Gable  CompShg     Wd Sdng   \n4          Norm     1Fam     2Story     Gable  CompShg     VinylSd   \n...         ...      ...        ...       ...      ...         ...   \n2914       Norm    Twnhs     2Story     Gable  CompShg     CemntBd   \n2915       Norm   TwnhsE     2Story     Gable  CompShg     CemntBd   \n2916       Norm     1Fam     1Story     Gable  CompShg     VinylSd   \n2917       Norm     1Fam     SFoyer     Gable  CompShg     HdBoard   \n2918       Norm     1Fam     2Story     Gable  CompShg     HdBoard   \n\n     Exterior2nd MasVnrType ExterQual ExterCond  ... Sev Neighborhood_0  \\\n0        VinylSd    BrkFace        Gd        TA  ...   0              0   \n1        MetalSd       None        TA        TA  ...   0              0   \n2        VinylSd    BrkFace        Gd        TA  ...   0              0   \n3        Wd Shng       None        TA        TA  ...   0              0   \n4        VinylSd    BrkFace        Gd        TA  ...   0              0   \n...          ...        ...       ...       ...  ...  ..            ...   \n2914     CmentBd       None        TA        TA  ...   0              0   \n2915     CmentBd       None        TA        TA  ...   0              0   \n2916     VinylSd       None        TA        TA  ...   0              0   \n2917     Wd Shng       None        TA        TA  ...   0              0   \n2918     HdBoard    BrkFace        TA        TA  ...   0              0   \n\n     Neighborhood_1 Neighborhood_2 Neighborhood_3 Neighborhood_4 Condition1_0  \\\n0                 0              0              0              1            0   \n1                 0              0              1              0            0   \n2                 0              0              0              1            0   \n3                 0              0              1              1            0   \n4                 0              1              0              0            0   \n...             ...            ...            ...            ...          ...   \n2914              1              1              1              1            0   \n2915              1              1              1              1            0   \n2916              0              1              0              1            0   \n2917              0              1              0              1            0   \n2918              0              1              0              1            0   \n\n     Condition1_1 Condition1_2 Condition1_3  \n0               0            0            1  \n1               0            1            0  \n2               0            0            1  \n3               0            0            1  \n4               0            0            1  \n...           ...          ...          ...  \n2914            0            0            1  \n2915            0            0            1  \n2916            0            0            1  \n2917            0            0            1  \n2918            0            0            1  \n\n[2919 rows x 62 columns]",
      "text/html": "<div>\n<style scoped>\n    .dataframe tbody tr th:only-of-type {\n        vertical-align: middle;\n    }\n\n    .dataframe tbody tr th {\n        vertical-align: top;\n    }\n\n    .dataframe thead th {\n        text-align: right;\n    }\n</style>\n<table border=\"1\" class=\"dataframe\">\n  <thead>\n    <tr style=\"text-align: right;\">\n      <th></th>\n      <th>Condition2</th>\n      <th>BldgType</th>\n      <th>HouseStyle</th>\n      <th>RoofStyle</th>\n      <th>RoofMatl</th>\n      <th>Exterior1st</th>\n      <th>Exterior2nd</th>\n      <th>MasVnrType</th>\n      <th>ExterQual</th>\n      <th>ExterCond</th>\n      <th>...</th>\n      <th>Sev</th>\n      <th>Neighborhood_0</th>\n      <th>Neighborhood_1</th>\n      <th>Neighborhood_2</th>\n      <th>Neighborhood_3</th>\n      <th>Neighborhood_4</th>\n      <th>Condition1_0</th>\n      <th>Condition1_1</th>\n      <th>Condition1_2</th>\n      <th>Condition1_3</th>\n    </tr>\n  </thead>\n  <tbody>\n    <tr>\n      <th>0</th>\n      <td>Norm</td>\n      <td>1Fam</td>\n      <td>2Story</td>\n      <td>Gable</td>\n      <td>CompShg</td>\n      <td>VinylSd</td>\n      <td>VinylSd</td>\n      <td>BrkFace</td>\n      <td>Gd</td>\n      <td>TA</td>\n      <td>...</td>\n      <td>0</td>\n      <td>0</td>\n      <td>0</td>\n      <td>0</td>\n      <td>0</td>\n      <td>1</td>\n      <td>0</td>\n      <td>0</td>\n      <td>0</td>\n      <td>1</td>\n    </tr>\n    <tr>\n      <th>1</th>\n      <td>Norm</td>\n      <td>1Fam</td>\n      <td>1Story</td>\n      <td>Gable</td>\n      <td>CompShg</td>\n      <td>MetalSd</td>\n      <td>MetalSd</td>\n      <td>None</td>\n      <td>TA</td>\n      <td>TA</td>\n      <td>...</td>\n      <td>0</td>\n      <td>0</td>\n      <td>0</td>\n      <td>0</td>\n      <td>1</td>\n      <td>0</td>\n      <td>0</td>\n      <td>0</td>\n      <td>1</td>\n      <td>0</td>\n    </tr>\n    <tr>\n      <th>2</th>\n      <td>Norm</td>\n      <td>1Fam</td>\n      <td>2Story</td>\n      <td>Gable</td>\n      <td>CompShg</td>\n      <td>VinylSd</td>\n      <td>VinylSd</td>\n      <td>BrkFace</td>\n      <td>Gd</td>\n      <td>TA</td>\n      <td>...</td>\n      <td>0</td>\n      <td>0</td>\n      <td>0</td>\n      <td>0</td>\n      <td>0</td>\n      <td>1</td>\n      <td>0</td>\n      <td>0</td>\n      <td>0</td>\n      <td>1</td>\n    </tr>\n    <tr>\n      <th>3</th>\n      <td>Norm</td>\n      <td>1Fam</td>\n      <td>2Story</td>\n      <td>Gable</td>\n      <td>CompShg</td>\n      <td>Wd Sdng</td>\n      <td>Wd Shng</td>\n      <td>None</td>\n      <td>TA</td>\n      <td>TA</td>\n      <td>...</td>\n      <td>0</td>\n      <td>0</td>\n      <td>0</td>\n      <td>0</td>\n      <td>1</td>\n      <td>1</td>\n      <td>0</td>\n      <td>0</td>\n      <td>0</td>\n      <td>1</td>\n    </tr>\n    <tr>\n      <th>4</th>\n      <td>Norm</td>\n      <td>1Fam</td>\n      <td>2Story</td>\n      <td>Gable</td>\n      <td>CompShg</td>\n      <td>VinylSd</td>\n      <td>VinylSd</td>\n      <td>BrkFace</td>\n      <td>Gd</td>\n      <td>TA</td>\n      <td>...</td>\n      <td>0</td>\n      <td>0</td>\n      <td>0</td>\n      <td>1</td>\n      <td>0</td>\n      <td>0</td>\n      <td>0</td>\n      <td>0</td>\n      <td>0</td>\n      <td>1</td>\n    </tr>\n    <tr>\n      <th>...</th>\n      <td>...</td>\n      <td>...</td>\n      <td>...</td>\n      <td>...</td>\n      <td>...</td>\n      <td>...</td>\n      <td>...</td>\n      <td>...</td>\n      <td>...</td>\n      <td>...</td>\n      <td>...</td>\n      <td>...</td>\n      <td>...</td>\n      <td>...</td>\n      <td>...</td>\n      <td>...</td>\n      <td>...</td>\n      <td>...</td>\n      <td>...</td>\n      <td>...</td>\n      <td>...</td>\n    </tr>\n    <tr>\n      <th>2914</th>\n      <td>Norm</td>\n      <td>Twnhs</td>\n      <td>2Story</td>\n      <td>Gable</td>\n      <td>CompShg</td>\n      <td>CemntBd</td>\n      <td>CmentBd</td>\n      <td>None</td>\n      <td>TA</td>\n      <td>TA</td>\n      <td>...</td>\n      <td>0</td>\n      <td>0</td>\n      <td>1</td>\n      <td>1</td>\n      <td>1</td>\n      <td>1</td>\n      <td>0</td>\n      <td>0</td>\n      <td>0</td>\n      <td>1</td>\n    </tr>\n    <tr>\n      <th>2915</th>\n      <td>Norm</td>\n      <td>TwnhsE</td>\n      <td>2Story</td>\n      <td>Gable</td>\n      <td>CompShg</td>\n      <td>CemntBd</td>\n      <td>CmentBd</td>\n      <td>None</td>\n      <td>TA</td>\n      <td>TA</td>\n      <td>...</td>\n      <td>0</td>\n      <td>0</td>\n      <td>1</td>\n      <td>1</td>\n      <td>1</td>\n      <td>1</td>\n      <td>0</td>\n      <td>0</td>\n      <td>0</td>\n      <td>1</td>\n    </tr>\n    <tr>\n      <th>2916</th>\n      <td>Norm</td>\n      <td>1Fam</td>\n      <td>1Story</td>\n      <td>Gable</td>\n      <td>CompShg</td>\n      <td>VinylSd</td>\n      <td>VinylSd</td>\n      <td>None</td>\n      <td>TA</td>\n      <td>TA</td>\n      <td>...</td>\n      <td>0</td>\n      <td>0</td>\n      <td>0</td>\n      <td>1</td>\n      <td>0</td>\n      <td>1</td>\n      <td>0</td>\n      <td>0</td>\n      <td>0</td>\n      <td>1</td>\n    </tr>\n    <tr>\n      <th>2917</th>\n      <td>Norm</td>\n      <td>1Fam</td>\n      <td>SFoyer</td>\n      <td>Gable</td>\n      <td>CompShg</td>\n      <td>HdBoard</td>\n      <td>Wd Shng</td>\n      <td>None</td>\n      <td>TA</td>\n      <td>TA</td>\n      <td>...</td>\n      <td>0</td>\n      <td>0</td>\n      <td>0</td>\n      <td>1</td>\n      <td>0</td>\n      <td>1</td>\n      <td>0</td>\n      <td>0</td>\n      <td>0</td>\n      <td>1</td>\n    </tr>\n    <tr>\n      <th>2918</th>\n      <td>Norm</td>\n      <td>1Fam</td>\n      <td>2Story</td>\n      <td>Gable</td>\n      <td>CompShg</td>\n      <td>HdBoard</td>\n      <td>HdBoard</td>\n      <td>BrkFace</td>\n      <td>TA</td>\n      <td>TA</td>\n      <td>...</td>\n      <td>0</td>\n      <td>0</td>\n      <td>0</td>\n      <td>1</td>\n      <td>0</td>\n      <td>1</td>\n      <td>0</td>\n      <td>0</td>\n      <td>0</td>\n      <td>1</td>\n    </tr>\n  </tbody>\n</table>\n<p>2919 rows × 62 columns</p>\n</div>"
     },
     "execution_count": 28,
     "metadata": {},
     "output_type": "execute_result"
    }
   ],
   "source": [
    "encoder = ce.BinaryEncoder(categorical_data['Condition1'])\n",
    "df1 = encoder.fit_transform(categorical_data['Condition1'])\n",
    "categorical_data = pd.concat([categorical_data, df1], axis=1).reindex(categorical_data.index)\n",
    "categorical_data.drop('Condition1', axis=1, inplace=True)\n",
    "categorical_data"
   ],
   "metadata": {
    "collapsed": false,
    "pycharm": {
     "name": "#%%\n"
    }
   }
  },
  {
   "cell_type": "code",
   "execution_count": 29,
   "outputs": [
    {
     "data": {
      "text/plain": "array(['Norm', 'Artery', 'RRNn', 'Feedr', 'PosN', 'PosA', 'RRAn', 'RRAe'],\n      dtype=object)"
     },
     "execution_count": 29,
     "metadata": {},
     "output_type": "execute_result"
    }
   ],
   "source": [
    "categorical_data['Condition2'].unique()"
   ],
   "metadata": {
    "collapsed": false,
    "pycharm": {
     "name": "#%%\n"
    }
   }
  },
  {
   "cell_type": "markdown",
   "source": [
    "#Binary encoding on Condition2"
   ],
   "metadata": {
    "collapsed": false,
    "pycharm": {
     "name": "#%% md\n"
    }
   }
  },
  {
   "cell_type": "code",
   "execution_count": 30,
   "outputs": [
    {
     "data": {
      "text/plain": "     BldgType HouseStyle RoofStyle RoofMatl Exterior1st Exterior2nd  \\\n0        1Fam     2Story     Gable  CompShg     VinylSd     VinylSd   \n1        1Fam     1Story     Gable  CompShg     MetalSd     MetalSd   \n2        1Fam     2Story     Gable  CompShg     VinylSd     VinylSd   \n3        1Fam     2Story     Gable  CompShg     Wd Sdng     Wd Shng   \n4        1Fam     2Story     Gable  CompShg     VinylSd     VinylSd   \n...       ...        ...       ...      ...         ...         ...   \n2914    Twnhs     2Story     Gable  CompShg     CemntBd     CmentBd   \n2915   TwnhsE     2Story     Gable  CompShg     CemntBd     CmentBd   \n2916     1Fam     1Story     Gable  CompShg     VinylSd     VinylSd   \n2917     1Fam     SFoyer     Gable  CompShg     HdBoard     Wd Shng   \n2918     1Fam     2Story     Gable  CompShg     HdBoard     HdBoard   \n\n     MasVnrType ExterQual ExterCond Foundation  ... Neighborhood_3  \\\n0       BrkFace        Gd        TA      PConc  ...              0   \n1          None        TA        TA     CBlock  ...              1   \n2       BrkFace        Gd        TA      PConc  ...              0   \n3          None        TA        TA     BrkTil  ...              1   \n4       BrkFace        Gd        TA      PConc  ...              0   \n...         ...       ...       ...        ...  ...            ...   \n2914       None        TA        TA     CBlock  ...              1   \n2915       None        TA        TA     CBlock  ...              1   \n2916       None        TA        TA     CBlock  ...              0   \n2917       None        TA        TA      PConc  ...              0   \n2918    BrkFace        TA        TA      PConc  ...              0   \n\n     Neighborhood_4 Condition1_0 Condition1_1 Condition1_2 Condition1_3  \\\n0                 1            0            0            0            1   \n1                 0            0            0            1            0   \n2                 1            0            0            0            1   \n3                 1            0            0            0            1   \n4                 0            0            0            0            1   \n...             ...          ...          ...          ...          ...   \n2914              1            0            0            0            1   \n2915              1            0            0            0            1   \n2916              1            0            0            0            1   \n2917              1            0            0            0            1   \n2918              1            0            0            0            1   \n\n     Condition2_0 Condition2_1 Condition2_2 Condition2_3  \n0               0            0            0            1  \n1               0            0            0            1  \n2               0            0            0            1  \n3               0            0            0            1  \n4               0            0            0            1  \n...           ...          ...          ...          ...  \n2914            0            0            0            1  \n2915            0            0            0            1  \n2916            0            0            0            1  \n2917            0            0            0            1  \n2918            0            0            0            1  \n\n[2919 rows x 65 columns]",
      "text/html": "<div>\n<style scoped>\n    .dataframe tbody tr th:only-of-type {\n        vertical-align: middle;\n    }\n\n    .dataframe tbody tr th {\n        vertical-align: top;\n    }\n\n    .dataframe thead th {\n        text-align: right;\n    }\n</style>\n<table border=\"1\" class=\"dataframe\">\n  <thead>\n    <tr style=\"text-align: right;\">\n      <th></th>\n      <th>BldgType</th>\n      <th>HouseStyle</th>\n      <th>RoofStyle</th>\n      <th>RoofMatl</th>\n      <th>Exterior1st</th>\n      <th>Exterior2nd</th>\n      <th>MasVnrType</th>\n      <th>ExterQual</th>\n      <th>ExterCond</th>\n      <th>Foundation</th>\n      <th>...</th>\n      <th>Neighborhood_3</th>\n      <th>Neighborhood_4</th>\n      <th>Condition1_0</th>\n      <th>Condition1_1</th>\n      <th>Condition1_2</th>\n      <th>Condition1_3</th>\n      <th>Condition2_0</th>\n      <th>Condition2_1</th>\n      <th>Condition2_2</th>\n      <th>Condition2_3</th>\n    </tr>\n  </thead>\n  <tbody>\n    <tr>\n      <th>0</th>\n      <td>1Fam</td>\n      <td>2Story</td>\n      <td>Gable</td>\n      <td>CompShg</td>\n      <td>VinylSd</td>\n      <td>VinylSd</td>\n      <td>BrkFace</td>\n      <td>Gd</td>\n      <td>TA</td>\n      <td>PConc</td>\n      <td>...</td>\n      <td>0</td>\n      <td>1</td>\n      <td>0</td>\n      <td>0</td>\n      <td>0</td>\n      <td>1</td>\n      <td>0</td>\n      <td>0</td>\n      <td>0</td>\n      <td>1</td>\n    </tr>\n    <tr>\n      <th>1</th>\n      <td>1Fam</td>\n      <td>1Story</td>\n      <td>Gable</td>\n      <td>CompShg</td>\n      <td>MetalSd</td>\n      <td>MetalSd</td>\n      <td>None</td>\n      <td>TA</td>\n      <td>TA</td>\n      <td>CBlock</td>\n      <td>...</td>\n      <td>1</td>\n      <td>0</td>\n      <td>0</td>\n      <td>0</td>\n      <td>1</td>\n      <td>0</td>\n      <td>0</td>\n      <td>0</td>\n      <td>0</td>\n      <td>1</td>\n    </tr>\n    <tr>\n      <th>2</th>\n      <td>1Fam</td>\n      <td>2Story</td>\n      <td>Gable</td>\n      <td>CompShg</td>\n      <td>VinylSd</td>\n      <td>VinylSd</td>\n      <td>BrkFace</td>\n      <td>Gd</td>\n      <td>TA</td>\n      <td>PConc</td>\n      <td>...</td>\n      <td>0</td>\n      <td>1</td>\n      <td>0</td>\n      <td>0</td>\n      <td>0</td>\n      <td>1</td>\n      <td>0</td>\n      <td>0</td>\n      <td>0</td>\n      <td>1</td>\n    </tr>\n    <tr>\n      <th>3</th>\n      <td>1Fam</td>\n      <td>2Story</td>\n      <td>Gable</td>\n      <td>CompShg</td>\n      <td>Wd Sdng</td>\n      <td>Wd Shng</td>\n      <td>None</td>\n      <td>TA</td>\n      <td>TA</td>\n      <td>BrkTil</td>\n      <td>...</td>\n      <td>1</td>\n      <td>1</td>\n      <td>0</td>\n      <td>0</td>\n      <td>0</td>\n      <td>1</td>\n      <td>0</td>\n      <td>0</td>\n      <td>0</td>\n      <td>1</td>\n    </tr>\n    <tr>\n      <th>4</th>\n      <td>1Fam</td>\n      <td>2Story</td>\n      <td>Gable</td>\n      <td>CompShg</td>\n      <td>VinylSd</td>\n      <td>VinylSd</td>\n      <td>BrkFace</td>\n      <td>Gd</td>\n      <td>TA</td>\n      <td>PConc</td>\n      <td>...</td>\n      <td>0</td>\n      <td>0</td>\n      <td>0</td>\n      <td>0</td>\n      <td>0</td>\n      <td>1</td>\n      <td>0</td>\n      <td>0</td>\n      <td>0</td>\n      <td>1</td>\n    </tr>\n    <tr>\n      <th>...</th>\n      <td>...</td>\n      <td>...</td>\n      <td>...</td>\n      <td>...</td>\n      <td>...</td>\n      <td>...</td>\n      <td>...</td>\n      <td>...</td>\n      <td>...</td>\n      <td>...</td>\n      <td>...</td>\n      <td>...</td>\n      <td>...</td>\n      <td>...</td>\n      <td>...</td>\n      <td>...</td>\n      <td>...</td>\n      <td>...</td>\n      <td>...</td>\n      <td>...</td>\n      <td>...</td>\n    </tr>\n    <tr>\n      <th>2914</th>\n      <td>Twnhs</td>\n      <td>2Story</td>\n      <td>Gable</td>\n      <td>CompShg</td>\n      <td>CemntBd</td>\n      <td>CmentBd</td>\n      <td>None</td>\n      <td>TA</td>\n      <td>TA</td>\n      <td>CBlock</td>\n      <td>...</td>\n      <td>1</td>\n      <td>1</td>\n      <td>0</td>\n      <td>0</td>\n      <td>0</td>\n      <td>1</td>\n      <td>0</td>\n      <td>0</td>\n      <td>0</td>\n      <td>1</td>\n    </tr>\n    <tr>\n      <th>2915</th>\n      <td>TwnhsE</td>\n      <td>2Story</td>\n      <td>Gable</td>\n      <td>CompShg</td>\n      <td>CemntBd</td>\n      <td>CmentBd</td>\n      <td>None</td>\n      <td>TA</td>\n      <td>TA</td>\n      <td>CBlock</td>\n      <td>...</td>\n      <td>1</td>\n      <td>1</td>\n      <td>0</td>\n      <td>0</td>\n      <td>0</td>\n      <td>1</td>\n      <td>0</td>\n      <td>0</td>\n      <td>0</td>\n      <td>1</td>\n    </tr>\n    <tr>\n      <th>2916</th>\n      <td>1Fam</td>\n      <td>1Story</td>\n      <td>Gable</td>\n      <td>CompShg</td>\n      <td>VinylSd</td>\n      <td>VinylSd</td>\n      <td>None</td>\n      <td>TA</td>\n      <td>TA</td>\n      <td>CBlock</td>\n      <td>...</td>\n      <td>0</td>\n      <td>1</td>\n      <td>0</td>\n      <td>0</td>\n      <td>0</td>\n      <td>1</td>\n      <td>0</td>\n      <td>0</td>\n      <td>0</td>\n      <td>1</td>\n    </tr>\n    <tr>\n      <th>2917</th>\n      <td>1Fam</td>\n      <td>SFoyer</td>\n      <td>Gable</td>\n      <td>CompShg</td>\n      <td>HdBoard</td>\n      <td>Wd Shng</td>\n      <td>None</td>\n      <td>TA</td>\n      <td>TA</td>\n      <td>PConc</td>\n      <td>...</td>\n      <td>0</td>\n      <td>1</td>\n      <td>0</td>\n      <td>0</td>\n      <td>0</td>\n      <td>1</td>\n      <td>0</td>\n      <td>0</td>\n      <td>0</td>\n      <td>1</td>\n    </tr>\n    <tr>\n      <th>2918</th>\n      <td>1Fam</td>\n      <td>2Story</td>\n      <td>Gable</td>\n      <td>CompShg</td>\n      <td>HdBoard</td>\n      <td>HdBoard</td>\n      <td>BrkFace</td>\n      <td>TA</td>\n      <td>TA</td>\n      <td>PConc</td>\n      <td>...</td>\n      <td>0</td>\n      <td>1</td>\n      <td>0</td>\n      <td>0</td>\n      <td>0</td>\n      <td>1</td>\n      <td>0</td>\n      <td>0</td>\n      <td>0</td>\n      <td>1</td>\n    </tr>\n  </tbody>\n</table>\n<p>2919 rows × 65 columns</p>\n</div>"
     },
     "execution_count": 30,
     "metadata": {},
     "output_type": "execute_result"
    }
   ],
   "source": [
    "encoder = ce.BinaryEncoder(categorical_data['Condition2'])\n",
    "df1 = encoder.fit_transform(categorical_data['Condition2'])\n",
    "categorical_data = pd.concat([categorical_data, df1], axis=1).reindex(categorical_data.index)\n",
    "categorical_data.drop('Condition2', axis=1, inplace=True)\n",
    "categorical_data"
   ],
   "metadata": {
    "collapsed": false,
    "pycharm": {
     "name": "#%%\n"
    }
   }
  },
  {
   "cell_type": "code",
   "execution_count": 31,
   "outputs": [
    {
     "data": {
      "text/plain": "array(['1Fam', '2fmCon', 'Duplex', 'TwnhsE', 'Twnhs'], dtype=object)"
     },
     "execution_count": 31,
     "metadata": {},
     "output_type": "execute_result"
    }
   ],
   "source": [
    "categorical_data['BldgType'].unique()"
   ],
   "metadata": {
    "collapsed": false,
    "pycharm": {
     "name": "#%%\n"
    }
   }
  },
  {
   "cell_type": "markdown",
   "source": [
    "#Dummy encoding"
   ],
   "metadata": {
    "collapsed": false,
    "pycharm": {
     "name": "#%% md\n"
    }
   }
  },
  {
   "cell_type": "code",
   "execution_count": 32,
   "outputs": [
    {
     "data": {
      "text/plain": "     HouseStyle RoofStyle RoofMatl Exterior1st Exterior2nd MasVnrType  \\\n0        2Story     Gable  CompShg     VinylSd     VinylSd    BrkFace   \n1        1Story     Gable  CompShg     MetalSd     MetalSd       None   \n2        2Story     Gable  CompShg     VinylSd     VinylSd    BrkFace   \n3        2Story     Gable  CompShg     Wd Sdng     Wd Shng       None   \n4        2Story     Gable  CompShg     VinylSd     VinylSd    BrkFace   \n...         ...       ...      ...         ...         ...        ...   \n2914     2Story     Gable  CompShg     CemntBd     CmentBd       None   \n2915     2Story     Gable  CompShg     CemntBd     CmentBd       None   \n2916     1Story     Gable  CompShg     VinylSd     VinylSd       None   \n2917     SFoyer     Gable  CompShg     HdBoard     Wd Shng       None   \n2918     2Story     Gable  CompShg     HdBoard     HdBoard    BrkFace   \n\n     ExterQual ExterCond Foundation BsmtQual  ... Condition1_3 Condition2_0  \\\n0           Gd        TA      PConc       Gd  ...            1            0   \n1           TA        TA     CBlock       Gd  ...            0            0   \n2           Gd        TA      PConc       Gd  ...            1            0   \n3           TA        TA     BrkTil       TA  ...            1            0   \n4           Gd        TA      PConc       Gd  ...            1            0   \n...        ...       ...        ...      ...  ...          ...          ...   \n2914        TA        TA     CBlock       TA  ...            1            0   \n2915        TA        TA     CBlock       TA  ...            1            0   \n2916        TA        TA     CBlock       TA  ...            1            0   \n2917        TA        TA      PConc       Gd  ...            1            0   \n2918        TA        TA      PConc       Gd  ...            1            0   \n\n     Condition2_1 Condition2_2 Condition2_3 1Fam 2fmCon Duplex Twnhs TwnhsE  \n0               0            0            1    1      0      0     0      0  \n1               0            0            1    1      0      0     0      0  \n2               0            0            1    1      0      0     0      0  \n3               0            0            1    1      0      0     0      0  \n4               0            0            1    1      0      0     0      0  \n...           ...          ...          ...  ...    ...    ...   ...    ...  \n2914            0            0            1    0      0      0     1      0  \n2915            0            0            1    0      0      0     0      1  \n2916            0            0            1    1      0      0     0      0  \n2917            0            0            1    1      0      0     0      0  \n2918            0            0            1    1      0      0     0      0  \n\n[2919 rows x 69 columns]",
      "text/html": "<div>\n<style scoped>\n    .dataframe tbody tr th:only-of-type {\n        vertical-align: middle;\n    }\n\n    .dataframe tbody tr th {\n        vertical-align: top;\n    }\n\n    .dataframe thead th {\n        text-align: right;\n    }\n</style>\n<table border=\"1\" class=\"dataframe\">\n  <thead>\n    <tr style=\"text-align: right;\">\n      <th></th>\n      <th>HouseStyle</th>\n      <th>RoofStyle</th>\n      <th>RoofMatl</th>\n      <th>Exterior1st</th>\n      <th>Exterior2nd</th>\n      <th>MasVnrType</th>\n      <th>ExterQual</th>\n      <th>ExterCond</th>\n      <th>Foundation</th>\n      <th>BsmtQual</th>\n      <th>...</th>\n      <th>Condition1_3</th>\n      <th>Condition2_0</th>\n      <th>Condition2_1</th>\n      <th>Condition2_2</th>\n      <th>Condition2_3</th>\n      <th>1Fam</th>\n      <th>2fmCon</th>\n      <th>Duplex</th>\n      <th>Twnhs</th>\n      <th>TwnhsE</th>\n    </tr>\n  </thead>\n  <tbody>\n    <tr>\n      <th>0</th>\n      <td>2Story</td>\n      <td>Gable</td>\n      <td>CompShg</td>\n      <td>VinylSd</td>\n      <td>VinylSd</td>\n      <td>BrkFace</td>\n      <td>Gd</td>\n      <td>TA</td>\n      <td>PConc</td>\n      <td>Gd</td>\n      <td>...</td>\n      <td>1</td>\n      <td>0</td>\n      <td>0</td>\n      <td>0</td>\n      <td>1</td>\n      <td>1</td>\n      <td>0</td>\n      <td>0</td>\n      <td>0</td>\n      <td>0</td>\n    </tr>\n    <tr>\n      <th>1</th>\n      <td>1Story</td>\n      <td>Gable</td>\n      <td>CompShg</td>\n      <td>MetalSd</td>\n      <td>MetalSd</td>\n      <td>None</td>\n      <td>TA</td>\n      <td>TA</td>\n      <td>CBlock</td>\n      <td>Gd</td>\n      <td>...</td>\n      <td>0</td>\n      <td>0</td>\n      <td>0</td>\n      <td>0</td>\n      <td>1</td>\n      <td>1</td>\n      <td>0</td>\n      <td>0</td>\n      <td>0</td>\n      <td>0</td>\n    </tr>\n    <tr>\n      <th>2</th>\n      <td>2Story</td>\n      <td>Gable</td>\n      <td>CompShg</td>\n      <td>VinylSd</td>\n      <td>VinylSd</td>\n      <td>BrkFace</td>\n      <td>Gd</td>\n      <td>TA</td>\n      <td>PConc</td>\n      <td>Gd</td>\n      <td>...</td>\n      <td>1</td>\n      <td>0</td>\n      <td>0</td>\n      <td>0</td>\n      <td>1</td>\n      <td>1</td>\n      <td>0</td>\n      <td>0</td>\n      <td>0</td>\n      <td>0</td>\n    </tr>\n    <tr>\n      <th>3</th>\n      <td>2Story</td>\n      <td>Gable</td>\n      <td>CompShg</td>\n      <td>Wd Sdng</td>\n      <td>Wd Shng</td>\n      <td>None</td>\n      <td>TA</td>\n      <td>TA</td>\n      <td>BrkTil</td>\n      <td>TA</td>\n      <td>...</td>\n      <td>1</td>\n      <td>0</td>\n      <td>0</td>\n      <td>0</td>\n      <td>1</td>\n      <td>1</td>\n      <td>0</td>\n      <td>0</td>\n      <td>0</td>\n      <td>0</td>\n    </tr>\n    <tr>\n      <th>4</th>\n      <td>2Story</td>\n      <td>Gable</td>\n      <td>CompShg</td>\n      <td>VinylSd</td>\n      <td>VinylSd</td>\n      <td>BrkFace</td>\n      <td>Gd</td>\n      <td>TA</td>\n      <td>PConc</td>\n      <td>Gd</td>\n      <td>...</td>\n      <td>1</td>\n      <td>0</td>\n      <td>0</td>\n      <td>0</td>\n      <td>1</td>\n      <td>1</td>\n      <td>0</td>\n      <td>0</td>\n      <td>0</td>\n      <td>0</td>\n    </tr>\n    <tr>\n      <th>...</th>\n      <td>...</td>\n      <td>...</td>\n      <td>...</td>\n      <td>...</td>\n      <td>...</td>\n      <td>...</td>\n      <td>...</td>\n      <td>...</td>\n      <td>...</td>\n      <td>...</td>\n      <td>...</td>\n      <td>...</td>\n      <td>...</td>\n      <td>...</td>\n      <td>...</td>\n      <td>...</td>\n      <td>...</td>\n      <td>...</td>\n      <td>...</td>\n      <td>...</td>\n      <td>...</td>\n    </tr>\n    <tr>\n      <th>2914</th>\n      <td>2Story</td>\n      <td>Gable</td>\n      <td>CompShg</td>\n      <td>CemntBd</td>\n      <td>CmentBd</td>\n      <td>None</td>\n      <td>TA</td>\n      <td>TA</td>\n      <td>CBlock</td>\n      <td>TA</td>\n      <td>...</td>\n      <td>1</td>\n      <td>0</td>\n      <td>0</td>\n      <td>0</td>\n      <td>1</td>\n      <td>0</td>\n      <td>0</td>\n      <td>0</td>\n      <td>1</td>\n      <td>0</td>\n    </tr>\n    <tr>\n      <th>2915</th>\n      <td>2Story</td>\n      <td>Gable</td>\n      <td>CompShg</td>\n      <td>CemntBd</td>\n      <td>CmentBd</td>\n      <td>None</td>\n      <td>TA</td>\n      <td>TA</td>\n      <td>CBlock</td>\n      <td>TA</td>\n      <td>...</td>\n      <td>1</td>\n      <td>0</td>\n      <td>0</td>\n      <td>0</td>\n      <td>1</td>\n      <td>0</td>\n      <td>0</td>\n      <td>0</td>\n      <td>0</td>\n      <td>1</td>\n    </tr>\n    <tr>\n      <th>2916</th>\n      <td>1Story</td>\n      <td>Gable</td>\n      <td>CompShg</td>\n      <td>VinylSd</td>\n      <td>VinylSd</td>\n      <td>None</td>\n      <td>TA</td>\n      <td>TA</td>\n      <td>CBlock</td>\n      <td>TA</td>\n      <td>...</td>\n      <td>1</td>\n      <td>0</td>\n      <td>0</td>\n      <td>0</td>\n      <td>1</td>\n      <td>1</td>\n      <td>0</td>\n      <td>0</td>\n      <td>0</td>\n      <td>0</td>\n    </tr>\n    <tr>\n      <th>2917</th>\n      <td>SFoyer</td>\n      <td>Gable</td>\n      <td>CompShg</td>\n      <td>HdBoard</td>\n      <td>Wd Shng</td>\n      <td>None</td>\n      <td>TA</td>\n      <td>TA</td>\n      <td>PConc</td>\n      <td>Gd</td>\n      <td>...</td>\n      <td>1</td>\n      <td>0</td>\n      <td>0</td>\n      <td>0</td>\n      <td>1</td>\n      <td>1</td>\n      <td>0</td>\n      <td>0</td>\n      <td>0</td>\n      <td>0</td>\n    </tr>\n    <tr>\n      <th>2918</th>\n      <td>2Story</td>\n      <td>Gable</td>\n      <td>CompShg</td>\n      <td>HdBoard</td>\n      <td>HdBoard</td>\n      <td>BrkFace</td>\n      <td>TA</td>\n      <td>TA</td>\n      <td>PConc</td>\n      <td>Gd</td>\n      <td>...</td>\n      <td>1</td>\n      <td>0</td>\n      <td>0</td>\n      <td>0</td>\n      <td>1</td>\n      <td>1</td>\n      <td>0</td>\n      <td>0</td>\n      <td>0</td>\n      <td>0</td>\n    </tr>\n  </tbody>\n</table>\n<p>2919 rows × 69 columns</p>\n</div>"
     },
     "execution_count": 32,
     "metadata": {},
     "output_type": "execute_result"
    }
   ],
   "source": [
    "df1 = pd.get_dummies(categorical_data['BldgType'])\n",
    "categorical_data = pd.concat([categorical_data, df1], axis=1).reindex(categorical_data.index)\n",
    "categorical_data.drop('BldgType', axis=1, inplace=True)\n",
    "categorical_data"
   ],
   "metadata": {
    "collapsed": false,
    "pycharm": {
     "name": "#%%\n"
    }
   }
  },
  {
   "cell_type": "code",
   "execution_count": 33,
   "outputs": [
    {
     "data": {
      "text/plain": "array(['2Story', '1Story', '1.5Fin', '1.5Unf', 'SFoyer', 'SLvl', '2.5Unf',\n       '2.5Fin'], dtype=object)"
     },
     "execution_count": 33,
     "metadata": {},
     "output_type": "execute_result"
    }
   ],
   "source": [
    "categorical_data['HouseStyle'].unique()"
   ],
   "metadata": {
    "collapsed": false,
    "pycharm": {
     "name": "#%%\n"
    }
   }
  },
  {
   "cell_type": "markdown",
   "source": [
    "#binary encoding"
   ],
   "metadata": {
    "collapsed": false,
    "pycharm": {
     "name": "#%% md\n"
    }
   }
  },
  {
   "cell_type": "code",
   "execution_count": 34,
   "outputs": [
    {
     "data": {
      "text/plain": "     RoofStyle RoofMatl Exterior1st Exterior2nd MasVnrType ExterQual  \\\n0        Gable  CompShg     VinylSd     VinylSd    BrkFace        Gd   \n1        Gable  CompShg     MetalSd     MetalSd       None        TA   \n2        Gable  CompShg     VinylSd     VinylSd    BrkFace        Gd   \n3        Gable  CompShg     Wd Sdng     Wd Shng       None        TA   \n4        Gable  CompShg     VinylSd     VinylSd    BrkFace        Gd   \n...        ...      ...         ...         ...        ...       ...   \n2914     Gable  CompShg     CemntBd     CmentBd       None        TA   \n2915     Gable  CompShg     CemntBd     CmentBd       None        TA   \n2916     Gable  CompShg     VinylSd     VinylSd       None        TA   \n2917     Gable  CompShg     HdBoard     Wd Shng       None        TA   \n2918     Gable  CompShg     HdBoard     HdBoard    BrkFace        TA   \n\n     ExterCond Foundation BsmtQual BsmtCond  ... Condition2_3 1Fam 2fmCon  \\\n0           TA      PConc       Gd       TA  ...            1    1      0   \n1           TA     CBlock       Gd       TA  ...            1    1      0   \n2           TA      PConc       Gd       TA  ...            1    1      0   \n3           TA     BrkTil       TA       Gd  ...            1    1      0   \n4           TA      PConc       Gd       TA  ...            1    1      0   \n...        ...        ...      ...      ...  ...          ...  ...    ...   \n2914        TA     CBlock       TA       TA  ...            1    0      0   \n2915        TA     CBlock       TA       TA  ...            1    0      0   \n2916        TA     CBlock       TA       TA  ...            1    1      0   \n2917        TA      PConc       Gd       TA  ...            1    1      0   \n2918        TA      PConc       Gd       TA  ...            1    1      0   \n\n     Duplex Twnhs TwnhsE HouseStyle_0 HouseStyle_1 HouseStyle_2 HouseStyle_3  \n0         0     0      0            0            0            0            1  \n1         0     0      0            0            0            1            0  \n2         0     0      0            0            0            0            1  \n3         0     0      0            0            0            0            1  \n4         0     0      0            0            0            0            1  \n...     ...   ...    ...          ...          ...          ...          ...  \n2914      0     1      0            0            0            0            1  \n2915      0     0      1            0            0            0            1  \n2916      0     0      0            0            0            1            0  \n2917      0     0      0            0            1            0            1  \n2918      0     0      0            0            0            0            1  \n\n[2919 rows x 72 columns]",
      "text/html": "<div>\n<style scoped>\n    .dataframe tbody tr th:only-of-type {\n        vertical-align: middle;\n    }\n\n    .dataframe tbody tr th {\n        vertical-align: top;\n    }\n\n    .dataframe thead th {\n        text-align: right;\n    }\n</style>\n<table border=\"1\" class=\"dataframe\">\n  <thead>\n    <tr style=\"text-align: right;\">\n      <th></th>\n      <th>RoofStyle</th>\n      <th>RoofMatl</th>\n      <th>Exterior1st</th>\n      <th>Exterior2nd</th>\n      <th>MasVnrType</th>\n      <th>ExterQual</th>\n      <th>ExterCond</th>\n      <th>Foundation</th>\n      <th>BsmtQual</th>\n      <th>BsmtCond</th>\n      <th>...</th>\n      <th>Condition2_3</th>\n      <th>1Fam</th>\n      <th>2fmCon</th>\n      <th>Duplex</th>\n      <th>Twnhs</th>\n      <th>TwnhsE</th>\n      <th>HouseStyle_0</th>\n      <th>HouseStyle_1</th>\n      <th>HouseStyle_2</th>\n      <th>HouseStyle_3</th>\n    </tr>\n  </thead>\n  <tbody>\n    <tr>\n      <th>0</th>\n      <td>Gable</td>\n      <td>CompShg</td>\n      <td>VinylSd</td>\n      <td>VinylSd</td>\n      <td>BrkFace</td>\n      <td>Gd</td>\n      <td>TA</td>\n      <td>PConc</td>\n      <td>Gd</td>\n      <td>TA</td>\n      <td>...</td>\n      <td>1</td>\n      <td>1</td>\n      <td>0</td>\n      <td>0</td>\n      <td>0</td>\n      <td>0</td>\n      <td>0</td>\n      <td>0</td>\n      <td>0</td>\n      <td>1</td>\n    </tr>\n    <tr>\n      <th>1</th>\n      <td>Gable</td>\n      <td>CompShg</td>\n      <td>MetalSd</td>\n      <td>MetalSd</td>\n      <td>None</td>\n      <td>TA</td>\n      <td>TA</td>\n      <td>CBlock</td>\n      <td>Gd</td>\n      <td>TA</td>\n      <td>...</td>\n      <td>1</td>\n      <td>1</td>\n      <td>0</td>\n      <td>0</td>\n      <td>0</td>\n      <td>0</td>\n      <td>0</td>\n      <td>0</td>\n      <td>1</td>\n      <td>0</td>\n    </tr>\n    <tr>\n      <th>2</th>\n      <td>Gable</td>\n      <td>CompShg</td>\n      <td>VinylSd</td>\n      <td>VinylSd</td>\n      <td>BrkFace</td>\n      <td>Gd</td>\n      <td>TA</td>\n      <td>PConc</td>\n      <td>Gd</td>\n      <td>TA</td>\n      <td>...</td>\n      <td>1</td>\n      <td>1</td>\n      <td>0</td>\n      <td>0</td>\n      <td>0</td>\n      <td>0</td>\n      <td>0</td>\n      <td>0</td>\n      <td>0</td>\n      <td>1</td>\n    </tr>\n    <tr>\n      <th>3</th>\n      <td>Gable</td>\n      <td>CompShg</td>\n      <td>Wd Sdng</td>\n      <td>Wd Shng</td>\n      <td>None</td>\n      <td>TA</td>\n      <td>TA</td>\n      <td>BrkTil</td>\n      <td>TA</td>\n      <td>Gd</td>\n      <td>...</td>\n      <td>1</td>\n      <td>1</td>\n      <td>0</td>\n      <td>0</td>\n      <td>0</td>\n      <td>0</td>\n      <td>0</td>\n      <td>0</td>\n      <td>0</td>\n      <td>1</td>\n    </tr>\n    <tr>\n      <th>4</th>\n      <td>Gable</td>\n      <td>CompShg</td>\n      <td>VinylSd</td>\n      <td>VinylSd</td>\n      <td>BrkFace</td>\n      <td>Gd</td>\n      <td>TA</td>\n      <td>PConc</td>\n      <td>Gd</td>\n      <td>TA</td>\n      <td>...</td>\n      <td>1</td>\n      <td>1</td>\n      <td>0</td>\n      <td>0</td>\n      <td>0</td>\n      <td>0</td>\n      <td>0</td>\n      <td>0</td>\n      <td>0</td>\n      <td>1</td>\n    </tr>\n    <tr>\n      <th>...</th>\n      <td>...</td>\n      <td>...</td>\n      <td>...</td>\n      <td>...</td>\n      <td>...</td>\n      <td>...</td>\n      <td>...</td>\n      <td>...</td>\n      <td>...</td>\n      <td>...</td>\n      <td>...</td>\n      <td>...</td>\n      <td>...</td>\n      <td>...</td>\n      <td>...</td>\n      <td>...</td>\n      <td>...</td>\n      <td>...</td>\n      <td>...</td>\n      <td>...</td>\n      <td>...</td>\n    </tr>\n    <tr>\n      <th>2914</th>\n      <td>Gable</td>\n      <td>CompShg</td>\n      <td>CemntBd</td>\n      <td>CmentBd</td>\n      <td>None</td>\n      <td>TA</td>\n      <td>TA</td>\n      <td>CBlock</td>\n      <td>TA</td>\n      <td>TA</td>\n      <td>...</td>\n      <td>1</td>\n      <td>0</td>\n      <td>0</td>\n      <td>0</td>\n      <td>1</td>\n      <td>0</td>\n      <td>0</td>\n      <td>0</td>\n      <td>0</td>\n      <td>1</td>\n    </tr>\n    <tr>\n      <th>2915</th>\n      <td>Gable</td>\n      <td>CompShg</td>\n      <td>CemntBd</td>\n      <td>CmentBd</td>\n      <td>None</td>\n      <td>TA</td>\n      <td>TA</td>\n      <td>CBlock</td>\n      <td>TA</td>\n      <td>TA</td>\n      <td>...</td>\n      <td>1</td>\n      <td>0</td>\n      <td>0</td>\n      <td>0</td>\n      <td>0</td>\n      <td>1</td>\n      <td>0</td>\n      <td>0</td>\n      <td>0</td>\n      <td>1</td>\n    </tr>\n    <tr>\n      <th>2916</th>\n      <td>Gable</td>\n      <td>CompShg</td>\n      <td>VinylSd</td>\n      <td>VinylSd</td>\n      <td>None</td>\n      <td>TA</td>\n      <td>TA</td>\n      <td>CBlock</td>\n      <td>TA</td>\n      <td>TA</td>\n      <td>...</td>\n      <td>1</td>\n      <td>1</td>\n      <td>0</td>\n      <td>0</td>\n      <td>0</td>\n      <td>0</td>\n      <td>0</td>\n      <td>0</td>\n      <td>1</td>\n      <td>0</td>\n    </tr>\n    <tr>\n      <th>2917</th>\n      <td>Gable</td>\n      <td>CompShg</td>\n      <td>HdBoard</td>\n      <td>Wd Shng</td>\n      <td>None</td>\n      <td>TA</td>\n      <td>TA</td>\n      <td>PConc</td>\n      <td>Gd</td>\n      <td>TA</td>\n      <td>...</td>\n      <td>1</td>\n      <td>1</td>\n      <td>0</td>\n      <td>0</td>\n      <td>0</td>\n      <td>0</td>\n      <td>0</td>\n      <td>1</td>\n      <td>0</td>\n      <td>1</td>\n    </tr>\n    <tr>\n      <th>2918</th>\n      <td>Gable</td>\n      <td>CompShg</td>\n      <td>HdBoard</td>\n      <td>HdBoard</td>\n      <td>BrkFace</td>\n      <td>TA</td>\n      <td>TA</td>\n      <td>PConc</td>\n      <td>Gd</td>\n      <td>TA</td>\n      <td>...</td>\n      <td>1</td>\n      <td>1</td>\n      <td>0</td>\n      <td>0</td>\n      <td>0</td>\n      <td>0</td>\n      <td>0</td>\n      <td>0</td>\n      <td>0</td>\n      <td>1</td>\n    </tr>\n  </tbody>\n</table>\n<p>2919 rows × 72 columns</p>\n</div>"
     },
     "execution_count": 34,
     "metadata": {},
     "output_type": "execute_result"
    }
   ],
   "source": [
    "encoder = ce.BinaryEncoder(categorical_data['HouseStyle'])\n",
    "df1 = encoder.fit_transform(categorical_data['HouseStyle'])\n",
    "categorical_data = pd.concat([categorical_data, df1], axis=1).reindex(categorical_data.index)\n",
    "categorical_data.drop('HouseStyle', axis=1, inplace=True)\n",
    "categorical_data"
   ],
   "metadata": {
    "collapsed": false,
    "pycharm": {
     "name": "#%%\n"
    }
   }
  },
  {
   "cell_type": "code",
   "execution_count": 35,
   "outputs": [
    {
     "data": {
      "text/plain": "array(['Gable', 'Hip', 'Gambrel', 'Mansard', 'Flat', 'Shed'], dtype=object)"
     },
     "execution_count": 35,
     "metadata": {},
     "output_type": "execute_result"
    }
   ],
   "source": [
    "categorical_data['RoofStyle'].unique()"
   ],
   "metadata": {
    "collapsed": false,
    "pycharm": {
     "name": "#%%\n"
    }
   }
  },
  {
   "cell_type": "code",
   "execution_count": 36,
   "outputs": [
    {
     "data": {
      "text/plain": "     RoofMatl Exterior1st Exterior2nd MasVnrType ExterQual ExterCond  \\\n0     CompShg     VinylSd     VinylSd    BrkFace        Gd        TA   \n1     CompShg     MetalSd     MetalSd       None        TA        TA   \n2     CompShg     VinylSd     VinylSd    BrkFace        Gd        TA   \n3     CompShg     Wd Sdng     Wd Shng       None        TA        TA   \n4     CompShg     VinylSd     VinylSd    BrkFace        Gd        TA   \n...       ...         ...         ...        ...       ...       ...   \n2914  CompShg     CemntBd     CmentBd       None        TA        TA   \n2915  CompShg     CemntBd     CmentBd       None        TA        TA   \n2916  CompShg     VinylSd     VinylSd       None        TA        TA   \n2917  CompShg     HdBoard     Wd Shng       None        TA        TA   \n2918  CompShg     HdBoard     HdBoard    BrkFace        TA        TA   \n\n     Foundation BsmtQual BsmtCond BsmtExposure  ... Duplex Twnhs TwnhsE  \\\n0         PConc       Gd       TA           No  ...      0     0      0   \n1        CBlock       Gd       TA           Gd  ...      0     0      0   \n2         PConc       Gd       TA           Mn  ...      0     0      0   \n3        BrkTil       TA       Gd           No  ...      0     0      0   \n4         PConc       Gd       TA           Av  ...      0     0      0   \n...         ...      ...      ...          ...  ...    ...   ...    ...   \n2914     CBlock       TA       TA           No  ...      0     1      0   \n2915     CBlock       TA       TA           No  ...      0     0      1   \n2916     CBlock       TA       TA           No  ...      0     0      0   \n2917      PConc       Gd       TA           Av  ...      0     0      0   \n2918      PConc       Gd       TA           Av  ...      0     0      0   \n\n     HouseStyle_0 HouseStyle_1 HouseStyle_2 HouseStyle_3 RoofStyle_0  \\\n0               0            0            0            1           0   \n1               0            0            1            0           0   \n2               0            0            0            1           0   \n3               0            0            0            1           0   \n4               0            0            0            1           0   \n...           ...          ...          ...          ...         ...   \n2914            0            0            0            1           0   \n2915            0            0            0            1           0   \n2916            0            0            1            0           0   \n2917            0            1            0            1           0   \n2918            0            0            0            1           0   \n\n     RoofStyle_1 RoofStyle_2  \n0              0           1  \n1              0           1  \n2              0           1  \n3              0           1  \n4              0           1  \n...          ...         ...  \n2914           0           1  \n2915           0           1  \n2916           0           1  \n2917           0           1  \n2918           0           1  \n\n[2919 rows x 74 columns]",
      "text/html": "<div>\n<style scoped>\n    .dataframe tbody tr th:only-of-type {\n        vertical-align: middle;\n    }\n\n    .dataframe tbody tr th {\n        vertical-align: top;\n    }\n\n    .dataframe thead th {\n        text-align: right;\n    }\n</style>\n<table border=\"1\" class=\"dataframe\">\n  <thead>\n    <tr style=\"text-align: right;\">\n      <th></th>\n      <th>RoofMatl</th>\n      <th>Exterior1st</th>\n      <th>Exterior2nd</th>\n      <th>MasVnrType</th>\n      <th>ExterQual</th>\n      <th>ExterCond</th>\n      <th>Foundation</th>\n      <th>BsmtQual</th>\n      <th>BsmtCond</th>\n      <th>BsmtExposure</th>\n      <th>...</th>\n      <th>Duplex</th>\n      <th>Twnhs</th>\n      <th>TwnhsE</th>\n      <th>HouseStyle_0</th>\n      <th>HouseStyle_1</th>\n      <th>HouseStyle_2</th>\n      <th>HouseStyle_3</th>\n      <th>RoofStyle_0</th>\n      <th>RoofStyle_1</th>\n      <th>RoofStyle_2</th>\n    </tr>\n  </thead>\n  <tbody>\n    <tr>\n      <th>0</th>\n      <td>CompShg</td>\n      <td>VinylSd</td>\n      <td>VinylSd</td>\n      <td>BrkFace</td>\n      <td>Gd</td>\n      <td>TA</td>\n      <td>PConc</td>\n      <td>Gd</td>\n      <td>TA</td>\n      <td>No</td>\n      <td>...</td>\n      <td>0</td>\n      <td>0</td>\n      <td>0</td>\n      <td>0</td>\n      <td>0</td>\n      <td>0</td>\n      <td>1</td>\n      <td>0</td>\n      <td>0</td>\n      <td>1</td>\n    </tr>\n    <tr>\n      <th>1</th>\n      <td>CompShg</td>\n      <td>MetalSd</td>\n      <td>MetalSd</td>\n      <td>None</td>\n      <td>TA</td>\n      <td>TA</td>\n      <td>CBlock</td>\n      <td>Gd</td>\n      <td>TA</td>\n      <td>Gd</td>\n      <td>...</td>\n      <td>0</td>\n      <td>0</td>\n      <td>0</td>\n      <td>0</td>\n      <td>0</td>\n      <td>1</td>\n      <td>0</td>\n      <td>0</td>\n      <td>0</td>\n      <td>1</td>\n    </tr>\n    <tr>\n      <th>2</th>\n      <td>CompShg</td>\n      <td>VinylSd</td>\n      <td>VinylSd</td>\n      <td>BrkFace</td>\n      <td>Gd</td>\n      <td>TA</td>\n      <td>PConc</td>\n      <td>Gd</td>\n      <td>TA</td>\n      <td>Mn</td>\n      <td>...</td>\n      <td>0</td>\n      <td>0</td>\n      <td>0</td>\n      <td>0</td>\n      <td>0</td>\n      <td>0</td>\n      <td>1</td>\n      <td>0</td>\n      <td>0</td>\n      <td>1</td>\n    </tr>\n    <tr>\n      <th>3</th>\n      <td>CompShg</td>\n      <td>Wd Sdng</td>\n      <td>Wd Shng</td>\n      <td>None</td>\n      <td>TA</td>\n      <td>TA</td>\n      <td>BrkTil</td>\n      <td>TA</td>\n      <td>Gd</td>\n      <td>No</td>\n      <td>...</td>\n      <td>0</td>\n      <td>0</td>\n      <td>0</td>\n      <td>0</td>\n      <td>0</td>\n      <td>0</td>\n      <td>1</td>\n      <td>0</td>\n      <td>0</td>\n      <td>1</td>\n    </tr>\n    <tr>\n      <th>4</th>\n      <td>CompShg</td>\n      <td>VinylSd</td>\n      <td>VinylSd</td>\n      <td>BrkFace</td>\n      <td>Gd</td>\n      <td>TA</td>\n      <td>PConc</td>\n      <td>Gd</td>\n      <td>TA</td>\n      <td>Av</td>\n      <td>...</td>\n      <td>0</td>\n      <td>0</td>\n      <td>0</td>\n      <td>0</td>\n      <td>0</td>\n      <td>0</td>\n      <td>1</td>\n      <td>0</td>\n      <td>0</td>\n      <td>1</td>\n    </tr>\n    <tr>\n      <th>...</th>\n      <td>...</td>\n      <td>...</td>\n      <td>...</td>\n      <td>...</td>\n      <td>...</td>\n      <td>...</td>\n      <td>...</td>\n      <td>...</td>\n      <td>...</td>\n      <td>...</td>\n      <td>...</td>\n      <td>...</td>\n      <td>...</td>\n      <td>...</td>\n      <td>...</td>\n      <td>...</td>\n      <td>...</td>\n      <td>...</td>\n      <td>...</td>\n      <td>...</td>\n      <td>...</td>\n    </tr>\n    <tr>\n      <th>2914</th>\n      <td>CompShg</td>\n      <td>CemntBd</td>\n      <td>CmentBd</td>\n      <td>None</td>\n      <td>TA</td>\n      <td>TA</td>\n      <td>CBlock</td>\n      <td>TA</td>\n      <td>TA</td>\n      <td>No</td>\n      <td>...</td>\n      <td>0</td>\n      <td>1</td>\n      <td>0</td>\n      <td>0</td>\n      <td>0</td>\n      <td>0</td>\n      <td>1</td>\n      <td>0</td>\n      <td>0</td>\n      <td>1</td>\n    </tr>\n    <tr>\n      <th>2915</th>\n      <td>CompShg</td>\n      <td>CemntBd</td>\n      <td>CmentBd</td>\n      <td>None</td>\n      <td>TA</td>\n      <td>TA</td>\n      <td>CBlock</td>\n      <td>TA</td>\n      <td>TA</td>\n      <td>No</td>\n      <td>...</td>\n      <td>0</td>\n      <td>0</td>\n      <td>1</td>\n      <td>0</td>\n      <td>0</td>\n      <td>0</td>\n      <td>1</td>\n      <td>0</td>\n      <td>0</td>\n      <td>1</td>\n    </tr>\n    <tr>\n      <th>2916</th>\n      <td>CompShg</td>\n      <td>VinylSd</td>\n      <td>VinylSd</td>\n      <td>None</td>\n      <td>TA</td>\n      <td>TA</td>\n      <td>CBlock</td>\n      <td>TA</td>\n      <td>TA</td>\n      <td>No</td>\n      <td>...</td>\n      <td>0</td>\n      <td>0</td>\n      <td>0</td>\n      <td>0</td>\n      <td>0</td>\n      <td>1</td>\n      <td>0</td>\n      <td>0</td>\n      <td>0</td>\n      <td>1</td>\n    </tr>\n    <tr>\n      <th>2917</th>\n      <td>CompShg</td>\n      <td>HdBoard</td>\n      <td>Wd Shng</td>\n      <td>None</td>\n      <td>TA</td>\n      <td>TA</td>\n      <td>PConc</td>\n      <td>Gd</td>\n      <td>TA</td>\n      <td>Av</td>\n      <td>...</td>\n      <td>0</td>\n      <td>0</td>\n      <td>0</td>\n      <td>0</td>\n      <td>1</td>\n      <td>0</td>\n      <td>1</td>\n      <td>0</td>\n      <td>0</td>\n      <td>1</td>\n    </tr>\n    <tr>\n      <th>2918</th>\n      <td>CompShg</td>\n      <td>HdBoard</td>\n      <td>HdBoard</td>\n      <td>BrkFace</td>\n      <td>TA</td>\n      <td>TA</td>\n      <td>PConc</td>\n      <td>Gd</td>\n      <td>TA</td>\n      <td>Av</td>\n      <td>...</td>\n      <td>0</td>\n      <td>0</td>\n      <td>0</td>\n      <td>0</td>\n      <td>0</td>\n      <td>0</td>\n      <td>1</td>\n      <td>0</td>\n      <td>0</td>\n      <td>1</td>\n    </tr>\n  </tbody>\n</table>\n<p>2919 rows × 74 columns</p>\n</div>"
     },
     "execution_count": 36,
     "metadata": {},
     "output_type": "execute_result"
    }
   ],
   "source": [
    "encoder = ce.BinaryEncoder(categorical_data['RoofStyle'])\n",
    "df1 = encoder.fit_transform(categorical_data['RoofStyle'])\n",
    "categorical_data = pd.concat([categorical_data, df1], axis=1).reindex(categorical_data.index)\n",
    "categorical_data.drop('RoofStyle', axis=1, inplace=True)\n",
    "categorical_data"
   ],
   "metadata": {
    "collapsed": false,
    "pycharm": {
     "name": "#%%\n"
    }
   }
  },
  {
   "cell_type": "code",
   "execution_count": 37,
   "outputs": [
    {
     "data": {
      "text/plain": "array(['CompShg', 'WdShngl', 'Metal', 'WdShake', 'Membran', 'Tar&Grv',\n       'Roll', 'ClyTile'], dtype=object)"
     },
     "execution_count": 37,
     "metadata": {},
     "output_type": "execute_result"
    }
   ],
   "source": [
    "categorical_data['RoofMatl'].unique()"
   ],
   "metadata": {
    "collapsed": false,
    "pycharm": {
     "name": "#%%\n"
    }
   }
  },
  {
   "cell_type": "code",
   "execution_count": 38,
   "outputs": [
    {
     "data": {
      "text/plain": "     Exterior1st Exterior2nd MasVnrType ExterQual ExterCond Foundation  \\\n0        VinylSd     VinylSd    BrkFace        Gd        TA      PConc   \n1        MetalSd     MetalSd       None        TA        TA     CBlock   \n2        VinylSd     VinylSd    BrkFace        Gd        TA      PConc   \n3        Wd Sdng     Wd Shng       None        TA        TA     BrkTil   \n4        VinylSd     VinylSd    BrkFace        Gd        TA      PConc   \n...          ...         ...        ...       ...       ...        ...   \n2914     CemntBd     CmentBd       None        TA        TA     CBlock   \n2915     CemntBd     CmentBd       None        TA        TA     CBlock   \n2916     VinylSd     VinylSd       None        TA        TA     CBlock   \n2917     HdBoard     Wd Shng       None        TA        TA      PConc   \n2918     HdBoard     HdBoard    BrkFace        TA        TA      PConc   \n\n     BsmtQual BsmtCond BsmtExposure BsmtFinType1  ... HouseStyle_1  \\\n0          Gd       TA           No          GLQ  ...            0   \n1          Gd       TA           Gd          ALQ  ...            0   \n2          Gd       TA           Mn          GLQ  ...            0   \n3          TA       Gd           No          ALQ  ...            0   \n4          Gd       TA           Av          GLQ  ...            0   \n...       ...      ...          ...          ...  ...          ...   \n2914       TA       TA           No          Unf  ...            0   \n2915       TA       TA           No          Rec  ...            0   \n2916       TA       TA           No          ALQ  ...            0   \n2917       Gd       TA           Av          GLQ  ...            1   \n2918       Gd       TA           Av          LwQ  ...            0   \n\n     HouseStyle_2 HouseStyle_3 RoofStyle_0 RoofStyle_1 RoofStyle_2 RoofMatl_0  \\\n0               0            1           0           0           1          0   \n1               1            0           0           0           1          0   \n2               0            1           0           0           1          0   \n3               0            1           0           0           1          0   \n4               0            1           0           0           1          0   \n...           ...          ...         ...         ...         ...        ...   \n2914            0            1           0           0           1          0   \n2915            0            1           0           0           1          0   \n2916            1            0           0           0           1          0   \n2917            0            1           0           0           1          0   \n2918            0            1           0           0           1          0   \n\n     RoofMatl_1 RoofMatl_2 RoofMatl_3  \n0             0          0          1  \n1             0          0          1  \n2             0          0          1  \n3             0          0          1  \n4             0          0          1  \n...         ...        ...        ...  \n2914          0          0          1  \n2915          0          0          1  \n2916          0          0          1  \n2917          0          0          1  \n2918          0          0          1  \n\n[2919 rows x 77 columns]",
      "text/html": "<div>\n<style scoped>\n    .dataframe tbody tr th:only-of-type {\n        vertical-align: middle;\n    }\n\n    .dataframe tbody tr th {\n        vertical-align: top;\n    }\n\n    .dataframe thead th {\n        text-align: right;\n    }\n</style>\n<table border=\"1\" class=\"dataframe\">\n  <thead>\n    <tr style=\"text-align: right;\">\n      <th></th>\n      <th>Exterior1st</th>\n      <th>Exterior2nd</th>\n      <th>MasVnrType</th>\n      <th>ExterQual</th>\n      <th>ExterCond</th>\n      <th>Foundation</th>\n      <th>BsmtQual</th>\n      <th>BsmtCond</th>\n      <th>BsmtExposure</th>\n      <th>BsmtFinType1</th>\n      <th>...</th>\n      <th>HouseStyle_1</th>\n      <th>HouseStyle_2</th>\n      <th>HouseStyle_3</th>\n      <th>RoofStyle_0</th>\n      <th>RoofStyle_1</th>\n      <th>RoofStyle_2</th>\n      <th>RoofMatl_0</th>\n      <th>RoofMatl_1</th>\n      <th>RoofMatl_2</th>\n      <th>RoofMatl_3</th>\n    </tr>\n  </thead>\n  <tbody>\n    <tr>\n      <th>0</th>\n      <td>VinylSd</td>\n      <td>VinylSd</td>\n      <td>BrkFace</td>\n      <td>Gd</td>\n      <td>TA</td>\n      <td>PConc</td>\n      <td>Gd</td>\n      <td>TA</td>\n      <td>No</td>\n      <td>GLQ</td>\n      <td>...</td>\n      <td>0</td>\n      <td>0</td>\n      <td>1</td>\n      <td>0</td>\n      <td>0</td>\n      <td>1</td>\n      <td>0</td>\n      <td>0</td>\n      <td>0</td>\n      <td>1</td>\n    </tr>\n    <tr>\n      <th>1</th>\n      <td>MetalSd</td>\n      <td>MetalSd</td>\n      <td>None</td>\n      <td>TA</td>\n      <td>TA</td>\n      <td>CBlock</td>\n      <td>Gd</td>\n      <td>TA</td>\n      <td>Gd</td>\n      <td>ALQ</td>\n      <td>...</td>\n      <td>0</td>\n      <td>1</td>\n      <td>0</td>\n      <td>0</td>\n      <td>0</td>\n      <td>1</td>\n      <td>0</td>\n      <td>0</td>\n      <td>0</td>\n      <td>1</td>\n    </tr>\n    <tr>\n      <th>2</th>\n      <td>VinylSd</td>\n      <td>VinylSd</td>\n      <td>BrkFace</td>\n      <td>Gd</td>\n      <td>TA</td>\n      <td>PConc</td>\n      <td>Gd</td>\n      <td>TA</td>\n      <td>Mn</td>\n      <td>GLQ</td>\n      <td>...</td>\n      <td>0</td>\n      <td>0</td>\n      <td>1</td>\n      <td>0</td>\n      <td>0</td>\n      <td>1</td>\n      <td>0</td>\n      <td>0</td>\n      <td>0</td>\n      <td>1</td>\n    </tr>\n    <tr>\n      <th>3</th>\n      <td>Wd Sdng</td>\n      <td>Wd Shng</td>\n      <td>None</td>\n      <td>TA</td>\n      <td>TA</td>\n      <td>BrkTil</td>\n      <td>TA</td>\n      <td>Gd</td>\n      <td>No</td>\n      <td>ALQ</td>\n      <td>...</td>\n      <td>0</td>\n      <td>0</td>\n      <td>1</td>\n      <td>0</td>\n      <td>0</td>\n      <td>1</td>\n      <td>0</td>\n      <td>0</td>\n      <td>0</td>\n      <td>1</td>\n    </tr>\n    <tr>\n      <th>4</th>\n      <td>VinylSd</td>\n      <td>VinylSd</td>\n      <td>BrkFace</td>\n      <td>Gd</td>\n      <td>TA</td>\n      <td>PConc</td>\n      <td>Gd</td>\n      <td>TA</td>\n      <td>Av</td>\n      <td>GLQ</td>\n      <td>...</td>\n      <td>0</td>\n      <td>0</td>\n      <td>1</td>\n      <td>0</td>\n      <td>0</td>\n      <td>1</td>\n      <td>0</td>\n      <td>0</td>\n      <td>0</td>\n      <td>1</td>\n    </tr>\n    <tr>\n      <th>...</th>\n      <td>...</td>\n      <td>...</td>\n      <td>...</td>\n      <td>...</td>\n      <td>...</td>\n      <td>...</td>\n      <td>...</td>\n      <td>...</td>\n      <td>...</td>\n      <td>...</td>\n      <td>...</td>\n      <td>...</td>\n      <td>...</td>\n      <td>...</td>\n      <td>...</td>\n      <td>...</td>\n      <td>...</td>\n      <td>...</td>\n      <td>...</td>\n      <td>...</td>\n      <td>...</td>\n    </tr>\n    <tr>\n      <th>2914</th>\n      <td>CemntBd</td>\n      <td>CmentBd</td>\n      <td>None</td>\n      <td>TA</td>\n      <td>TA</td>\n      <td>CBlock</td>\n      <td>TA</td>\n      <td>TA</td>\n      <td>No</td>\n      <td>Unf</td>\n      <td>...</td>\n      <td>0</td>\n      <td>0</td>\n      <td>1</td>\n      <td>0</td>\n      <td>0</td>\n      <td>1</td>\n      <td>0</td>\n      <td>0</td>\n      <td>0</td>\n      <td>1</td>\n    </tr>\n    <tr>\n      <th>2915</th>\n      <td>CemntBd</td>\n      <td>CmentBd</td>\n      <td>None</td>\n      <td>TA</td>\n      <td>TA</td>\n      <td>CBlock</td>\n      <td>TA</td>\n      <td>TA</td>\n      <td>No</td>\n      <td>Rec</td>\n      <td>...</td>\n      <td>0</td>\n      <td>0</td>\n      <td>1</td>\n      <td>0</td>\n      <td>0</td>\n      <td>1</td>\n      <td>0</td>\n      <td>0</td>\n      <td>0</td>\n      <td>1</td>\n    </tr>\n    <tr>\n      <th>2916</th>\n      <td>VinylSd</td>\n      <td>VinylSd</td>\n      <td>None</td>\n      <td>TA</td>\n      <td>TA</td>\n      <td>CBlock</td>\n      <td>TA</td>\n      <td>TA</td>\n      <td>No</td>\n      <td>ALQ</td>\n      <td>...</td>\n      <td>0</td>\n      <td>1</td>\n      <td>0</td>\n      <td>0</td>\n      <td>0</td>\n      <td>1</td>\n      <td>0</td>\n      <td>0</td>\n      <td>0</td>\n      <td>1</td>\n    </tr>\n    <tr>\n      <th>2917</th>\n      <td>HdBoard</td>\n      <td>Wd Shng</td>\n      <td>None</td>\n      <td>TA</td>\n      <td>TA</td>\n      <td>PConc</td>\n      <td>Gd</td>\n      <td>TA</td>\n      <td>Av</td>\n      <td>GLQ</td>\n      <td>...</td>\n      <td>1</td>\n      <td>0</td>\n      <td>1</td>\n      <td>0</td>\n      <td>0</td>\n      <td>1</td>\n      <td>0</td>\n      <td>0</td>\n      <td>0</td>\n      <td>1</td>\n    </tr>\n    <tr>\n      <th>2918</th>\n      <td>HdBoard</td>\n      <td>HdBoard</td>\n      <td>BrkFace</td>\n      <td>TA</td>\n      <td>TA</td>\n      <td>PConc</td>\n      <td>Gd</td>\n      <td>TA</td>\n      <td>Av</td>\n      <td>LwQ</td>\n      <td>...</td>\n      <td>0</td>\n      <td>0</td>\n      <td>1</td>\n      <td>0</td>\n      <td>0</td>\n      <td>1</td>\n      <td>0</td>\n      <td>0</td>\n      <td>0</td>\n      <td>1</td>\n    </tr>\n  </tbody>\n</table>\n<p>2919 rows × 77 columns</p>\n</div>"
     },
     "execution_count": 38,
     "metadata": {},
     "output_type": "execute_result"
    }
   ],
   "source": [
    "encoder = ce.BinaryEncoder(categorical_data['RoofMatl'])\n",
    "df1 = encoder.fit_transform(categorical_data['RoofMatl'])\n",
    "categorical_data = pd.concat([categorical_data, df1], axis=1).reindex(categorical_data.index)\n",
    "categorical_data.drop('RoofMatl', axis=1, inplace=True)\n",
    "categorical_data"
   ],
   "metadata": {
    "collapsed": false,
    "pycharm": {
     "name": "#%%\n"
    }
   }
  },
  {
   "cell_type": "code",
   "execution_count": 39,
   "outputs": [
    {
     "data": {
      "text/plain": "array(['VinylSd', 'MetalSd', 'Wd Sdng', 'HdBoard', 'BrkFace', 'WdShing',\n       'CemntBd', 'Plywood', 'AsbShng', 'Stucco', 'BrkComm', 'AsphShn',\n       'Stone', 'ImStucc', 'CBlock'], dtype=object)"
     },
     "execution_count": 39,
     "metadata": {},
     "output_type": "execute_result"
    }
   ],
   "source": [
    "categorical_data['Exterior1st'].unique()"
   ],
   "metadata": {
    "collapsed": false,
    "pycharm": {
     "name": "#%%\n"
    }
   }
  },
  {
   "cell_type": "code",
   "execution_count": 40,
   "outputs": [
    {
     "data": {
      "text/plain": "     Exterior2nd MasVnrType ExterQual ExterCond Foundation BsmtQual BsmtCond  \\\n0        VinylSd    BrkFace        Gd        TA      PConc       Gd       TA   \n1        MetalSd       None        TA        TA     CBlock       Gd       TA   \n2        VinylSd    BrkFace        Gd        TA      PConc       Gd       TA   \n3        Wd Shng       None        TA        TA     BrkTil       TA       Gd   \n4        VinylSd    BrkFace        Gd        TA      PConc       Gd       TA   \n...          ...        ...       ...       ...        ...      ...      ...   \n2914     CmentBd       None        TA        TA     CBlock       TA       TA   \n2915     CmentBd       None        TA        TA     CBlock       TA       TA   \n2916     VinylSd       None        TA        TA     CBlock       TA       TA   \n2917     Wd Shng       None        TA        TA      PConc       Gd       TA   \n2918     HdBoard    BrkFace        TA        TA      PConc       Gd       TA   \n\n     BsmtExposure BsmtFinType1 BsmtFinType2  ... RoofStyle_1 RoofStyle_2  \\\n0              No          GLQ          Unf  ...           0           1   \n1              Gd          ALQ          Unf  ...           0           1   \n2              Mn          GLQ          Unf  ...           0           1   \n3              No          ALQ          Unf  ...           0           1   \n4              Av          GLQ          Unf  ...           0           1   \n...           ...          ...          ...  ...         ...         ...   \n2914           No          Unf          Unf  ...           0           1   \n2915           No          Rec          Unf  ...           0           1   \n2916           No          ALQ          Unf  ...           0           1   \n2917           Av          GLQ          Unf  ...           0           1   \n2918           Av          LwQ          Unf  ...           0           1   \n\n     RoofMatl_0 RoofMatl_1 RoofMatl_2 RoofMatl_3 Exterior1st_0 Exterior1st_1  \\\n0             0          0          0          1             0             0   \n1             0          0          0          1             0             0   \n2             0          0          0          1             0             0   \n3             0          0          0          1             0             0   \n4             0          0          0          1             0             0   \n...         ...        ...        ...        ...           ...           ...   \n2914          0          0          0          1             0             1   \n2915          0          0          0          1             0             1   \n2916          0          0          0          1             0             0   \n2917          0          0          0          1             0             1   \n2918          0          0          0          1             0             1   \n\n     Exterior1st_2 Exterior1st_3  \n0                0             1  \n1                1             0  \n2                0             1  \n3                1             1  \n4                0             1  \n...            ...           ...  \n2914             1             1  \n2915             1             1  \n2916             0             1  \n2917             0             0  \n2918             0             0  \n\n[2919 rows x 80 columns]",
      "text/html": "<div>\n<style scoped>\n    .dataframe tbody tr th:only-of-type {\n        vertical-align: middle;\n    }\n\n    .dataframe tbody tr th {\n        vertical-align: top;\n    }\n\n    .dataframe thead th {\n        text-align: right;\n    }\n</style>\n<table border=\"1\" class=\"dataframe\">\n  <thead>\n    <tr style=\"text-align: right;\">\n      <th></th>\n      <th>Exterior2nd</th>\n      <th>MasVnrType</th>\n      <th>ExterQual</th>\n      <th>ExterCond</th>\n      <th>Foundation</th>\n      <th>BsmtQual</th>\n      <th>BsmtCond</th>\n      <th>BsmtExposure</th>\n      <th>BsmtFinType1</th>\n      <th>BsmtFinType2</th>\n      <th>...</th>\n      <th>RoofStyle_1</th>\n      <th>RoofStyle_2</th>\n      <th>RoofMatl_0</th>\n      <th>RoofMatl_1</th>\n      <th>RoofMatl_2</th>\n      <th>RoofMatl_3</th>\n      <th>Exterior1st_0</th>\n      <th>Exterior1st_1</th>\n      <th>Exterior1st_2</th>\n      <th>Exterior1st_3</th>\n    </tr>\n  </thead>\n  <tbody>\n    <tr>\n      <th>0</th>\n      <td>VinylSd</td>\n      <td>BrkFace</td>\n      <td>Gd</td>\n      <td>TA</td>\n      <td>PConc</td>\n      <td>Gd</td>\n      <td>TA</td>\n      <td>No</td>\n      <td>GLQ</td>\n      <td>Unf</td>\n      <td>...</td>\n      <td>0</td>\n      <td>1</td>\n      <td>0</td>\n      <td>0</td>\n      <td>0</td>\n      <td>1</td>\n      <td>0</td>\n      <td>0</td>\n      <td>0</td>\n      <td>1</td>\n    </tr>\n    <tr>\n      <th>1</th>\n      <td>MetalSd</td>\n      <td>None</td>\n      <td>TA</td>\n      <td>TA</td>\n      <td>CBlock</td>\n      <td>Gd</td>\n      <td>TA</td>\n      <td>Gd</td>\n      <td>ALQ</td>\n      <td>Unf</td>\n      <td>...</td>\n      <td>0</td>\n      <td>1</td>\n      <td>0</td>\n      <td>0</td>\n      <td>0</td>\n      <td>1</td>\n      <td>0</td>\n      <td>0</td>\n      <td>1</td>\n      <td>0</td>\n    </tr>\n    <tr>\n      <th>2</th>\n      <td>VinylSd</td>\n      <td>BrkFace</td>\n      <td>Gd</td>\n      <td>TA</td>\n      <td>PConc</td>\n      <td>Gd</td>\n      <td>TA</td>\n      <td>Mn</td>\n      <td>GLQ</td>\n      <td>Unf</td>\n      <td>...</td>\n      <td>0</td>\n      <td>1</td>\n      <td>0</td>\n      <td>0</td>\n      <td>0</td>\n      <td>1</td>\n      <td>0</td>\n      <td>0</td>\n      <td>0</td>\n      <td>1</td>\n    </tr>\n    <tr>\n      <th>3</th>\n      <td>Wd Shng</td>\n      <td>None</td>\n      <td>TA</td>\n      <td>TA</td>\n      <td>BrkTil</td>\n      <td>TA</td>\n      <td>Gd</td>\n      <td>No</td>\n      <td>ALQ</td>\n      <td>Unf</td>\n      <td>...</td>\n      <td>0</td>\n      <td>1</td>\n      <td>0</td>\n      <td>0</td>\n      <td>0</td>\n      <td>1</td>\n      <td>0</td>\n      <td>0</td>\n      <td>1</td>\n      <td>1</td>\n    </tr>\n    <tr>\n      <th>4</th>\n      <td>VinylSd</td>\n      <td>BrkFace</td>\n      <td>Gd</td>\n      <td>TA</td>\n      <td>PConc</td>\n      <td>Gd</td>\n      <td>TA</td>\n      <td>Av</td>\n      <td>GLQ</td>\n      <td>Unf</td>\n      <td>...</td>\n      <td>0</td>\n      <td>1</td>\n      <td>0</td>\n      <td>0</td>\n      <td>0</td>\n      <td>1</td>\n      <td>0</td>\n      <td>0</td>\n      <td>0</td>\n      <td>1</td>\n    </tr>\n    <tr>\n      <th>...</th>\n      <td>...</td>\n      <td>...</td>\n      <td>...</td>\n      <td>...</td>\n      <td>...</td>\n      <td>...</td>\n      <td>...</td>\n      <td>...</td>\n      <td>...</td>\n      <td>...</td>\n      <td>...</td>\n      <td>...</td>\n      <td>...</td>\n      <td>...</td>\n      <td>...</td>\n      <td>...</td>\n      <td>...</td>\n      <td>...</td>\n      <td>...</td>\n      <td>...</td>\n      <td>...</td>\n    </tr>\n    <tr>\n      <th>2914</th>\n      <td>CmentBd</td>\n      <td>None</td>\n      <td>TA</td>\n      <td>TA</td>\n      <td>CBlock</td>\n      <td>TA</td>\n      <td>TA</td>\n      <td>No</td>\n      <td>Unf</td>\n      <td>Unf</td>\n      <td>...</td>\n      <td>0</td>\n      <td>1</td>\n      <td>0</td>\n      <td>0</td>\n      <td>0</td>\n      <td>1</td>\n      <td>0</td>\n      <td>1</td>\n      <td>1</td>\n      <td>1</td>\n    </tr>\n    <tr>\n      <th>2915</th>\n      <td>CmentBd</td>\n      <td>None</td>\n      <td>TA</td>\n      <td>TA</td>\n      <td>CBlock</td>\n      <td>TA</td>\n      <td>TA</td>\n      <td>No</td>\n      <td>Rec</td>\n      <td>Unf</td>\n      <td>...</td>\n      <td>0</td>\n      <td>1</td>\n      <td>0</td>\n      <td>0</td>\n      <td>0</td>\n      <td>1</td>\n      <td>0</td>\n      <td>1</td>\n      <td>1</td>\n      <td>1</td>\n    </tr>\n    <tr>\n      <th>2916</th>\n      <td>VinylSd</td>\n      <td>None</td>\n      <td>TA</td>\n      <td>TA</td>\n      <td>CBlock</td>\n      <td>TA</td>\n      <td>TA</td>\n      <td>No</td>\n      <td>ALQ</td>\n      <td>Unf</td>\n      <td>...</td>\n      <td>0</td>\n      <td>1</td>\n      <td>0</td>\n      <td>0</td>\n      <td>0</td>\n      <td>1</td>\n      <td>0</td>\n      <td>0</td>\n      <td>0</td>\n      <td>1</td>\n    </tr>\n    <tr>\n      <th>2917</th>\n      <td>Wd Shng</td>\n      <td>None</td>\n      <td>TA</td>\n      <td>TA</td>\n      <td>PConc</td>\n      <td>Gd</td>\n      <td>TA</td>\n      <td>Av</td>\n      <td>GLQ</td>\n      <td>Unf</td>\n      <td>...</td>\n      <td>0</td>\n      <td>1</td>\n      <td>0</td>\n      <td>0</td>\n      <td>0</td>\n      <td>1</td>\n      <td>0</td>\n      <td>1</td>\n      <td>0</td>\n      <td>0</td>\n    </tr>\n    <tr>\n      <th>2918</th>\n      <td>HdBoard</td>\n      <td>BrkFace</td>\n      <td>TA</td>\n      <td>TA</td>\n      <td>PConc</td>\n      <td>Gd</td>\n      <td>TA</td>\n      <td>Av</td>\n      <td>LwQ</td>\n      <td>Unf</td>\n      <td>...</td>\n      <td>0</td>\n      <td>1</td>\n      <td>0</td>\n      <td>0</td>\n      <td>0</td>\n      <td>1</td>\n      <td>0</td>\n      <td>1</td>\n      <td>0</td>\n      <td>0</td>\n    </tr>\n  </tbody>\n</table>\n<p>2919 rows × 80 columns</p>\n</div>"
     },
     "execution_count": 40,
     "metadata": {},
     "output_type": "execute_result"
    }
   ],
   "source": [
    "encoder = ce.BinaryEncoder(categorical_data['Exterior1st'])\n",
    "df1 = encoder.fit_transform(categorical_data['Exterior1st'])\n",
    "categorical_data = pd.concat([categorical_data, df1], axis=1).reindex(categorical_data.index)\n",
    "categorical_data.drop('Exterior1st', axis=1, inplace=True)\n",
    "categorical_data"
   ],
   "metadata": {
    "collapsed": false,
    "pycharm": {
     "name": "#%%\n"
    }
   }
  },
  {
   "cell_type": "code",
   "execution_count": 41,
   "outputs": [
    {
     "data": {
      "text/plain": "array(['VinylSd', 'MetalSd', 'Wd Shng', 'HdBoard', 'Plywood', 'Wd Sdng',\n       'CmentBd', 'BrkFace', 'Stucco', 'AsbShng', 'Brk Cmn', 'ImStucc',\n       'AsphShn', 'Stone', 'Other', 'CBlock'], dtype=object)"
     },
     "execution_count": 41,
     "metadata": {},
     "output_type": "execute_result"
    }
   ],
   "source": [
    "categorical_data['Exterior2nd'].unique()"
   ],
   "metadata": {
    "collapsed": false,
    "pycharm": {
     "name": "#%%\n"
    }
   }
  },
  {
   "cell_type": "code",
   "execution_count": 42,
   "outputs": [
    {
     "data": {
      "text/plain": "     MasVnrType ExterQual ExterCond Foundation BsmtQual BsmtCond BsmtExposure  \\\n0       BrkFace        Gd        TA      PConc       Gd       TA           No   \n1          None        TA        TA     CBlock       Gd       TA           Gd   \n2       BrkFace        Gd        TA      PConc       Gd       TA           Mn   \n3          None        TA        TA     BrkTil       TA       Gd           No   \n4       BrkFace        Gd        TA      PConc       Gd       TA           Av   \n...         ...       ...       ...        ...      ...      ...          ...   \n2914       None        TA        TA     CBlock       TA       TA           No   \n2915       None        TA        TA     CBlock       TA       TA           No   \n2916       None        TA        TA     CBlock       TA       TA           No   \n2917       None        TA        TA      PConc       Gd       TA           Av   \n2918    BrkFace        TA        TA      PConc       Gd       TA           Av   \n\n     BsmtFinType1 BsmtFinType2 Heating  ... RoofMatl_3 Exterior1st_0  \\\n0             GLQ          Unf    GasA  ...          1             0   \n1             ALQ          Unf    GasA  ...          1             0   \n2             GLQ          Unf    GasA  ...          1             0   \n3             ALQ          Unf    GasA  ...          1             0   \n4             GLQ          Unf    GasA  ...          1             0   \n...           ...          ...     ...  ...        ...           ...   \n2914          Unf          Unf    GasA  ...          1             0   \n2915          Rec          Unf    GasA  ...          1             0   \n2916          ALQ          Unf    GasA  ...          1             0   \n2917          GLQ          Unf    GasA  ...          1             0   \n2918          LwQ          Unf    GasA  ...          1             0   \n\n     Exterior1st_1 Exterior1st_2 Exterior1st_3 Exterior2nd_0 Exterior2nd_1  \\\n0                0             0             1             0             0   \n1                0             1             0             0             0   \n2                0             0             1             0             0   \n3                0             1             1             0             0   \n4                0             0             1             0             0   \n...            ...           ...           ...           ...           ...   \n2914             1             1             1             0             0   \n2915             1             1             1             0             0   \n2916             0             0             1             0             0   \n2917             1             0             0             0             0   \n2918             1             0             0             0             0   \n\n     Exterior2nd_2 Exterior2nd_3 Exterior2nd_4  \n0                0             0             1  \n1                0             1             0  \n2                0             0             1  \n3                0             1             1  \n4                0             0             1  \n...            ...           ...           ...  \n2914             1             1             1  \n2915             1             1             1  \n2916             0             0             1  \n2917             0             1             1  \n2918             1             0             0  \n\n[2919 rows x 84 columns]",
      "text/html": "<div>\n<style scoped>\n    .dataframe tbody tr th:only-of-type {\n        vertical-align: middle;\n    }\n\n    .dataframe tbody tr th {\n        vertical-align: top;\n    }\n\n    .dataframe thead th {\n        text-align: right;\n    }\n</style>\n<table border=\"1\" class=\"dataframe\">\n  <thead>\n    <tr style=\"text-align: right;\">\n      <th></th>\n      <th>MasVnrType</th>\n      <th>ExterQual</th>\n      <th>ExterCond</th>\n      <th>Foundation</th>\n      <th>BsmtQual</th>\n      <th>BsmtCond</th>\n      <th>BsmtExposure</th>\n      <th>BsmtFinType1</th>\n      <th>BsmtFinType2</th>\n      <th>Heating</th>\n      <th>...</th>\n      <th>RoofMatl_3</th>\n      <th>Exterior1st_0</th>\n      <th>Exterior1st_1</th>\n      <th>Exterior1st_2</th>\n      <th>Exterior1st_3</th>\n      <th>Exterior2nd_0</th>\n      <th>Exterior2nd_1</th>\n      <th>Exterior2nd_2</th>\n      <th>Exterior2nd_3</th>\n      <th>Exterior2nd_4</th>\n    </tr>\n  </thead>\n  <tbody>\n    <tr>\n      <th>0</th>\n      <td>BrkFace</td>\n      <td>Gd</td>\n      <td>TA</td>\n      <td>PConc</td>\n      <td>Gd</td>\n      <td>TA</td>\n      <td>No</td>\n      <td>GLQ</td>\n      <td>Unf</td>\n      <td>GasA</td>\n      <td>...</td>\n      <td>1</td>\n      <td>0</td>\n      <td>0</td>\n      <td>0</td>\n      <td>1</td>\n      <td>0</td>\n      <td>0</td>\n      <td>0</td>\n      <td>0</td>\n      <td>1</td>\n    </tr>\n    <tr>\n      <th>1</th>\n      <td>None</td>\n      <td>TA</td>\n      <td>TA</td>\n      <td>CBlock</td>\n      <td>Gd</td>\n      <td>TA</td>\n      <td>Gd</td>\n      <td>ALQ</td>\n      <td>Unf</td>\n      <td>GasA</td>\n      <td>...</td>\n      <td>1</td>\n      <td>0</td>\n      <td>0</td>\n      <td>1</td>\n      <td>0</td>\n      <td>0</td>\n      <td>0</td>\n      <td>0</td>\n      <td>1</td>\n      <td>0</td>\n    </tr>\n    <tr>\n      <th>2</th>\n      <td>BrkFace</td>\n      <td>Gd</td>\n      <td>TA</td>\n      <td>PConc</td>\n      <td>Gd</td>\n      <td>TA</td>\n      <td>Mn</td>\n      <td>GLQ</td>\n      <td>Unf</td>\n      <td>GasA</td>\n      <td>...</td>\n      <td>1</td>\n      <td>0</td>\n      <td>0</td>\n      <td>0</td>\n      <td>1</td>\n      <td>0</td>\n      <td>0</td>\n      <td>0</td>\n      <td>0</td>\n      <td>1</td>\n    </tr>\n    <tr>\n      <th>3</th>\n      <td>None</td>\n      <td>TA</td>\n      <td>TA</td>\n      <td>BrkTil</td>\n      <td>TA</td>\n      <td>Gd</td>\n      <td>No</td>\n      <td>ALQ</td>\n      <td>Unf</td>\n      <td>GasA</td>\n      <td>...</td>\n      <td>1</td>\n      <td>0</td>\n      <td>0</td>\n      <td>1</td>\n      <td>1</td>\n      <td>0</td>\n      <td>0</td>\n      <td>0</td>\n      <td>1</td>\n      <td>1</td>\n    </tr>\n    <tr>\n      <th>4</th>\n      <td>BrkFace</td>\n      <td>Gd</td>\n      <td>TA</td>\n      <td>PConc</td>\n      <td>Gd</td>\n      <td>TA</td>\n      <td>Av</td>\n      <td>GLQ</td>\n      <td>Unf</td>\n      <td>GasA</td>\n      <td>...</td>\n      <td>1</td>\n      <td>0</td>\n      <td>0</td>\n      <td>0</td>\n      <td>1</td>\n      <td>0</td>\n      <td>0</td>\n      <td>0</td>\n      <td>0</td>\n      <td>1</td>\n    </tr>\n    <tr>\n      <th>...</th>\n      <td>...</td>\n      <td>...</td>\n      <td>...</td>\n      <td>...</td>\n      <td>...</td>\n      <td>...</td>\n      <td>...</td>\n      <td>...</td>\n      <td>...</td>\n      <td>...</td>\n      <td>...</td>\n      <td>...</td>\n      <td>...</td>\n      <td>...</td>\n      <td>...</td>\n      <td>...</td>\n      <td>...</td>\n      <td>...</td>\n      <td>...</td>\n      <td>...</td>\n      <td>...</td>\n    </tr>\n    <tr>\n      <th>2914</th>\n      <td>None</td>\n      <td>TA</td>\n      <td>TA</td>\n      <td>CBlock</td>\n      <td>TA</td>\n      <td>TA</td>\n      <td>No</td>\n      <td>Unf</td>\n      <td>Unf</td>\n      <td>GasA</td>\n      <td>...</td>\n      <td>1</td>\n      <td>0</td>\n      <td>1</td>\n      <td>1</td>\n      <td>1</td>\n      <td>0</td>\n      <td>0</td>\n      <td>1</td>\n      <td>1</td>\n      <td>1</td>\n    </tr>\n    <tr>\n      <th>2915</th>\n      <td>None</td>\n      <td>TA</td>\n      <td>TA</td>\n      <td>CBlock</td>\n      <td>TA</td>\n      <td>TA</td>\n      <td>No</td>\n      <td>Rec</td>\n      <td>Unf</td>\n      <td>GasA</td>\n      <td>...</td>\n      <td>1</td>\n      <td>0</td>\n      <td>1</td>\n      <td>1</td>\n      <td>1</td>\n      <td>0</td>\n      <td>0</td>\n      <td>1</td>\n      <td>1</td>\n      <td>1</td>\n    </tr>\n    <tr>\n      <th>2916</th>\n      <td>None</td>\n      <td>TA</td>\n      <td>TA</td>\n      <td>CBlock</td>\n      <td>TA</td>\n      <td>TA</td>\n      <td>No</td>\n      <td>ALQ</td>\n      <td>Unf</td>\n      <td>GasA</td>\n      <td>...</td>\n      <td>1</td>\n      <td>0</td>\n      <td>0</td>\n      <td>0</td>\n      <td>1</td>\n      <td>0</td>\n      <td>0</td>\n      <td>0</td>\n      <td>0</td>\n      <td>1</td>\n    </tr>\n    <tr>\n      <th>2917</th>\n      <td>None</td>\n      <td>TA</td>\n      <td>TA</td>\n      <td>PConc</td>\n      <td>Gd</td>\n      <td>TA</td>\n      <td>Av</td>\n      <td>GLQ</td>\n      <td>Unf</td>\n      <td>GasA</td>\n      <td>...</td>\n      <td>1</td>\n      <td>0</td>\n      <td>1</td>\n      <td>0</td>\n      <td>0</td>\n      <td>0</td>\n      <td>0</td>\n      <td>0</td>\n      <td>1</td>\n      <td>1</td>\n    </tr>\n    <tr>\n      <th>2918</th>\n      <td>BrkFace</td>\n      <td>TA</td>\n      <td>TA</td>\n      <td>PConc</td>\n      <td>Gd</td>\n      <td>TA</td>\n      <td>Av</td>\n      <td>LwQ</td>\n      <td>Unf</td>\n      <td>GasA</td>\n      <td>...</td>\n      <td>1</td>\n      <td>0</td>\n      <td>1</td>\n      <td>0</td>\n      <td>0</td>\n      <td>0</td>\n      <td>0</td>\n      <td>1</td>\n      <td>0</td>\n      <td>0</td>\n    </tr>\n  </tbody>\n</table>\n<p>2919 rows × 84 columns</p>\n</div>"
     },
     "execution_count": 42,
     "metadata": {},
     "output_type": "execute_result"
    }
   ],
   "source": [
    "encoder = ce.BinaryEncoder(categorical_data['Exterior2nd'])\n",
    "df1 = encoder.fit_transform(categorical_data['Exterior2nd'])\n",
    "categorical_data = pd.concat([categorical_data, df1], axis=1).reindex(categorical_data.index)\n",
    "categorical_data.drop('Exterior2nd', axis=1, inplace=True)\n",
    "categorical_data"
   ],
   "metadata": {
    "collapsed": false,
    "pycharm": {
     "name": "#%%\n"
    }
   }
  },
  {
   "cell_type": "code",
   "execution_count": 43,
   "outputs": [
    {
     "data": {
      "text/plain": "array(['BrkFace', 'None', 'Stone', 'BrkCmn'], dtype=object)"
     },
     "execution_count": 43,
     "metadata": {},
     "output_type": "execute_result"
    }
   ],
   "source": [
    "categorical_data['MasVnrType'].unique()"
   ],
   "metadata": {
    "collapsed": false,
    "pycharm": {
     "name": "#%%\n"
    }
   }
  },
  {
   "cell_type": "code",
   "execution_count": 44,
   "outputs": [
    {
     "data": {
      "text/plain": "     ExterQual ExterCond Foundation BsmtQual BsmtCond BsmtExposure  \\\n0           Gd        TA      PConc       Gd       TA           No   \n1           TA        TA     CBlock       Gd       TA           Gd   \n2           Gd        TA      PConc       Gd       TA           Mn   \n3           TA        TA     BrkTil       TA       Gd           No   \n4           Gd        TA      PConc       Gd       TA           Av   \n...        ...       ...        ...      ...      ...          ...   \n2914        TA        TA     CBlock       TA       TA           No   \n2915        TA        TA     CBlock       TA       TA           No   \n2916        TA        TA     CBlock       TA       TA           No   \n2917        TA        TA      PConc       Gd       TA           Av   \n2918        TA        TA      PConc       Gd       TA           Av   \n\n     BsmtFinType1 BsmtFinType2 Heating HeatingQC  ... Exterior1st_2  \\\n0             GLQ          Unf    GasA        Ex  ...             0   \n1             ALQ          Unf    GasA        Ex  ...             1   \n2             GLQ          Unf    GasA        Ex  ...             0   \n3             ALQ          Unf    GasA        Gd  ...             1   \n4             GLQ          Unf    GasA        Ex  ...             0   \n...           ...          ...     ...       ...  ...           ...   \n2914          Unf          Unf    GasA        Gd  ...             1   \n2915          Rec          Unf    GasA        TA  ...             1   \n2916          ALQ          Unf    GasA        Ex  ...             0   \n2917          GLQ          Unf    GasA        TA  ...             0   \n2918          LwQ          Unf    GasA        Ex  ...             0   \n\n     Exterior1st_3 Exterior2nd_0 Exterior2nd_1 Exterior2nd_2 Exterior2nd_3  \\\n0                1             0             0             0             0   \n1                0             0             0             0             1   \n2                1             0             0             0             0   \n3                1             0             0             0             1   \n4                1             0             0             0             0   \n...            ...           ...           ...           ...           ...   \n2914             1             0             0             1             1   \n2915             1             0             0             1             1   \n2916             1             0             0             0             0   \n2917             0             0             0             0             1   \n2918             0             0             0             1             0   \n\n     Exterior2nd_4 MasVnrType_0 MasVnrType_1 MasVnrType_2  \n0                1            0            0            1  \n1                0            0            1            0  \n2                1            0            0            1  \n3                1            0            1            0  \n4                1            0            0            1  \n...            ...          ...          ...          ...  \n2914             1            0            1            0  \n2915             1            0            1            0  \n2916             1            0            1            0  \n2917             1            0            1            0  \n2918             0            0            0            1  \n\n[2919 rows x 86 columns]",
      "text/html": "<div>\n<style scoped>\n    .dataframe tbody tr th:only-of-type {\n        vertical-align: middle;\n    }\n\n    .dataframe tbody tr th {\n        vertical-align: top;\n    }\n\n    .dataframe thead th {\n        text-align: right;\n    }\n</style>\n<table border=\"1\" class=\"dataframe\">\n  <thead>\n    <tr style=\"text-align: right;\">\n      <th></th>\n      <th>ExterQual</th>\n      <th>ExterCond</th>\n      <th>Foundation</th>\n      <th>BsmtQual</th>\n      <th>BsmtCond</th>\n      <th>BsmtExposure</th>\n      <th>BsmtFinType1</th>\n      <th>BsmtFinType2</th>\n      <th>Heating</th>\n      <th>HeatingQC</th>\n      <th>...</th>\n      <th>Exterior1st_2</th>\n      <th>Exterior1st_3</th>\n      <th>Exterior2nd_0</th>\n      <th>Exterior2nd_1</th>\n      <th>Exterior2nd_2</th>\n      <th>Exterior2nd_3</th>\n      <th>Exterior2nd_4</th>\n      <th>MasVnrType_0</th>\n      <th>MasVnrType_1</th>\n      <th>MasVnrType_2</th>\n    </tr>\n  </thead>\n  <tbody>\n    <tr>\n      <th>0</th>\n      <td>Gd</td>\n      <td>TA</td>\n      <td>PConc</td>\n      <td>Gd</td>\n      <td>TA</td>\n      <td>No</td>\n      <td>GLQ</td>\n      <td>Unf</td>\n      <td>GasA</td>\n      <td>Ex</td>\n      <td>...</td>\n      <td>0</td>\n      <td>1</td>\n      <td>0</td>\n      <td>0</td>\n      <td>0</td>\n      <td>0</td>\n      <td>1</td>\n      <td>0</td>\n      <td>0</td>\n      <td>1</td>\n    </tr>\n    <tr>\n      <th>1</th>\n      <td>TA</td>\n      <td>TA</td>\n      <td>CBlock</td>\n      <td>Gd</td>\n      <td>TA</td>\n      <td>Gd</td>\n      <td>ALQ</td>\n      <td>Unf</td>\n      <td>GasA</td>\n      <td>Ex</td>\n      <td>...</td>\n      <td>1</td>\n      <td>0</td>\n      <td>0</td>\n      <td>0</td>\n      <td>0</td>\n      <td>1</td>\n      <td>0</td>\n      <td>0</td>\n      <td>1</td>\n      <td>0</td>\n    </tr>\n    <tr>\n      <th>2</th>\n      <td>Gd</td>\n      <td>TA</td>\n      <td>PConc</td>\n      <td>Gd</td>\n      <td>TA</td>\n      <td>Mn</td>\n      <td>GLQ</td>\n      <td>Unf</td>\n      <td>GasA</td>\n      <td>Ex</td>\n      <td>...</td>\n      <td>0</td>\n      <td>1</td>\n      <td>0</td>\n      <td>0</td>\n      <td>0</td>\n      <td>0</td>\n      <td>1</td>\n      <td>0</td>\n      <td>0</td>\n      <td>1</td>\n    </tr>\n    <tr>\n      <th>3</th>\n      <td>TA</td>\n      <td>TA</td>\n      <td>BrkTil</td>\n      <td>TA</td>\n      <td>Gd</td>\n      <td>No</td>\n      <td>ALQ</td>\n      <td>Unf</td>\n      <td>GasA</td>\n      <td>Gd</td>\n      <td>...</td>\n      <td>1</td>\n      <td>1</td>\n      <td>0</td>\n      <td>0</td>\n      <td>0</td>\n      <td>1</td>\n      <td>1</td>\n      <td>0</td>\n      <td>1</td>\n      <td>0</td>\n    </tr>\n    <tr>\n      <th>4</th>\n      <td>Gd</td>\n      <td>TA</td>\n      <td>PConc</td>\n      <td>Gd</td>\n      <td>TA</td>\n      <td>Av</td>\n      <td>GLQ</td>\n      <td>Unf</td>\n      <td>GasA</td>\n      <td>Ex</td>\n      <td>...</td>\n      <td>0</td>\n      <td>1</td>\n      <td>0</td>\n      <td>0</td>\n      <td>0</td>\n      <td>0</td>\n      <td>1</td>\n      <td>0</td>\n      <td>0</td>\n      <td>1</td>\n    </tr>\n    <tr>\n      <th>...</th>\n      <td>...</td>\n      <td>...</td>\n      <td>...</td>\n      <td>...</td>\n      <td>...</td>\n      <td>...</td>\n      <td>...</td>\n      <td>...</td>\n      <td>...</td>\n      <td>...</td>\n      <td>...</td>\n      <td>...</td>\n      <td>...</td>\n      <td>...</td>\n      <td>...</td>\n      <td>...</td>\n      <td>...</td>\n      <td>...</td>\n      <td>...</td>\n      <td>...</td>\n      <td>...</td>\n    </tr>\n    <tr>\n      <th>2914</th>\n      <td>TA</td>\n      <td>TA</td>\n      <td>CBlock</td>\n      <td>TA</td>\n      <td>TA</td>\n      <td>No</td>\n      <td>Unf</td>\n      <td>Unf</td>\n      <td>GasA</td>\n      <td>Gd</td>\n      <td>...</td>\n      <td>1</td>\n      <td>1</td>\n      <td>0</td>\n      <td>0</td>\n      <td>1</td>\n      <td>1</td>\n      <td>1</td>\n      <td>0</td>\n      <td>1</td>\n      <td>0</td>\n    </tr>\n    <tr>\n      <th>2915</th>\n      <td>TA</td>\n      <td>TA</td>\n      <td>CBlock</td>\n      <td>TA</td>\n      <td>TA</td>\n      <td>No</td>\n      <td>Rec</td>\n      <td>Unf</td>\n      <td>GasA</td>\n      <td>TA</td>\n      <td>...</td>\n      <td>1</td>\n      <td>1</td>\n      <td>0</td>\n      <td>0</td>\n      <td>1</td>\n      <td>1</td>\n      <td>1</td>\n      <td>0</td>\n      <td>1</td>\n      <td>0</td>\n    </tr>\n    <tr>\n      <th>2916</th>\n      <td>TA</td>\n      <td>TA</td>\n      <td>CBlock</td>\n      <td>TA</td>\n      <td>TA</td>\n      <td>No</td>\n      <td>ALQ</td>\n      <td>Unf</td>\n      <td>GasA</td>\n      <td>Ex</td>\n      <td>...</td>\n      <td>0</td>\n      <td>1</td>\n      <td>0</td>\n      <td>0</td>\n      <td>0</td>\n      <td>0</td>\n      <td>1</td>\n      <td>0</td>\n      <td>1</td>\n      <td>0</td>\n    </tr>\n    <tr>\n      <th>2917</th>\n      <td>TA</td>\n      <td>TA</td>\n      <td>PConc</td>\n      <td>Gd</td>\n      <td>TA</td>\n      <td>Av</td>\n      <td>GLQ</td>\n      <td>Unf</td>\n      <td>GasA</td>\n      <td>TA</td>\n      <td>...</td>\n      <td>0</td>\n      <td>0</td>\n      <td>0</td>\n      <td>0</td>\n      <td>0</td>\n      <td>1</td>\n      <td>1</td>\n      <td>0</td>\n      <td>1</td>\n      <td>0</td>\n    </tr>\n    <tr>\n      <th>2918</th>\n      <td>TA</td>\n      <td>TA</td>\n      <td>PConc</td>\n      <td>Gd</td>\n      <td>TA</td>\n      <td>Av</td>\n      <td>LwQ</td>\n      <td>Unf</td>\n      <td>GasA</td>\n      <td>Ex</td>\n      <td>...</td>\n      <td>0</td>\n      <td>0</td>\n      <td>0</td>\n      <td>0</td>\n      <td>1</td>\n      <td>0</td>\n      <td>0</td>\n      <td>0</td>\n      <td>0</td>\n      <td>1</td>\n    </tr>\n  </tbody>\n</table>\n<p>2919 rows × 86 columns</p>\n</div>"
     },
     "execution_count": 44,
     "metadata": {},
     "output_type": "execute_result"
    }
   ],
   "source": [
    "encoder = ce.BinaryEncoder(categorical_data['MasVnrType'])\n",
    "df1 = encoder.fit_transform(categorical_data['MasVnrType'])\n",
    "categorical_data = pd.concat([categorical_data, df1], axis=1).reindex(categorical_data.index)\n",
    "categorical_data.drop('MasVnrType', axis=1, inplace=True)\n",
    "categorical_data"
   ],
   "metadata": {
    "collapsed": false,
    "pycharm": {
     "name": "#%%\n"
    }
   }
  },
  {
   "cell_type": "code",
   "execution_count": 45,
   "outputs": [
    {
     "data": {
      "text/plain": "array(['Gd', 'TA', 'Ex', 'Fa'], dtype=object)"
     },
     "execution_count": 45,
     "metadata": {},
     "output_type": "execute_result"
    }
   ],
   "source": [
    "categorical_data['ExterQual'].unique()"
   ],
   "metadata": {
    "collapsed": false,
    "pycharm": {
     "name": "#%%\n"
    }
   }
  },
  {
   "cell_type": "code",
   "execution_count": 46,
   "outputs": [
    {
     "data": {
      "text/plain": "     ExterCond Foundation BsmtQual BsmtCond BsmtExposure BsmtFinType1  \\\n0           TA      PConc       Gd       TA           No          GLQ   \n1           TA     CBlock       Gd       TA           Gd          ALQ   \n2           TA      PConc       Gd       TA           Mn          GLQ   \n3           TA     BrkTil       TA       Gd           No          ALQ   \n4           TA      PConc       Gd       TA           Av          GLQ   \n...        ...        ...      ...      ...          ...          ...   \n2914        TA     CBlock       TA       TA           No          Unf   \n2915        TA     CBlock       TA       TA           No          Rec   \n2916        TA     CBlock       TA       TA           No          ALQ   \n2917        TA      PConc       Gd       TA           Av          GLQ   \n2918        TA      PConc       Gd       TA           Av          LwQ   \n\n     BsmtFinType2 Heating HeatingQC CentralAir  ... Exterior2nd_2  \\\n0             Unf    GasA        Ex          Y  ...             0   \n1             Unf    GasA        Ex          Y  ...             0   \n2             Unf    GasA        Ex          Y  ...             0   \n3             Unf    GasA        Gd          Y  ...             0   \n4             Unf    GasA        Ex          Y  ...             0   \n...           ...     ...       ...        ...  ...           ...   \n2914          Unf    GasA        Gd          Y  ...             1   \n2915          Unf    GasA        TA          Y  ...             1   \n2916          Unf    GasA        Ex          Y  ...             0   \n2917          Unf    GasA        TA          Y  ...             0   \n2918          Unf    GasA        Ex          Y  ...             1   \n\n     Exterior2nd_3 Exterior2nd_4 MasVnrType_0 MasVnrType_1 MasVnrType_2 Ex Fa  \\\n0                0             1            0            0            1  0  0   \n1                1             0            0            1            0  0  0   \n2                0             1            0            0            1  0  0   \n3                1             1            0            1            0  0  0   \n4                0             1            0            0            1  0  0   \n...            ...           ...          ...          ...          ... .. ..   \n2914             1             1            0            1            0  0  0   \n2915             1             1            0            1            0  0  0   \n2916             0             1            0            1            0  0  0   \n2917             1             1            0            1            0  0  0   \n2918             0             0            0            0            1  0  0   \n\n     Gd TA  \n0     1  0  \n1     0  1  \n2     1  0  \n3     0  1  \n4     1  0  \n...  .. ..  \n2914  0  1  \n2915  0  1  \n2916  0  1  \n2917  0  1  \n2918  0  1  \n\n[2919 rows x 89 columns]",
      "text/html": "<div>\n<style scoped>\n    .dataframe tbody tr th:only-of-type {\n        vertical-align: middle;\n    }\n\n    .dataframe tbody tr th {\n        vertical-align: top;\n    }\n\n    .dataframe thead th {\n        text-align: right;\n    }\n</style>\n<table border=\"1\" class=\"dataframe\">\n  <thead>\n    <tr style=\"text-align: right;\">\n      <th></th>\n      <th>ExterCond</th>\n      <th>Foundation</th>\n      <th>BsmtQual</th>\n      <th>BsmtCond</th>\n      <th>BsmtExposure</th>\n      <th>BsmtFinType1</th>\n      <th>BsmtFinType2</th>\n      <th>Heating</th>\n      <th>HeatingQC</th>\n      <th>CentralAir</th>\n      <th>...</th>\n      <th>Exterior2nd_2</th>\n      <th>Exterior2nd_3</th>\n      <th>Exterior2nd_4</th>\n      <th>MasVnrType_0</th>\n      <th>MasVnrType_1</th>\n      <th>MasVnrType_2</th>\n      <th>Ex</th>\n      <th>Fa</th>\n      <th>Gd</th>\n      <th>TA</th>\n    </tr>\n  </thead>\n  <tbody>\n    <tr>\n      <th>0</th>\n      <td>TA</td>\n      <td>PConc</td>\n      <td>Gd</td>\n      <td>TA</td>\n      <td>No</td>\n      <td>GLQ</td>\n      <td>Unf</td>\n      <td>GasA</td>\n      <td>Ex</td>\n      <td>Y</td>\n      <td>...</td>\n      <td>0</td>\n      <td>0</td>\n      <td>1</td>\n      <td>0</td>\n      <td>0</td>\n      <td>1</td>\n      <td>0</td>\n      <td>0</td>\n      <td>1</td>\n      <td>0</td>\n    </tr>\n    <tr>\n      <th>1</th>\n      <td>TA</td>\n      <td>CBlock</td>\n      <td>Gd</td>\n      <td>TA</td>\n      <td>Gd</td>\n      <td>ALQ</td>\n      <td>Unf</td>\n      <td>GasA</td>\n      <td>Ex</td>\n      <td>Y</td>\n      <td>...</td>\n      <td>0</td>\n      <td>1</td>\n      <td>0</td>\n      <td>0</td>\n      <td>1</td>\n      <td>0</td>\n      <td>0</td>\n      <td>0</td>\n      <td>0</td>\n      <td>1</td>\n    </tr>\n    <tr>\n      <th>2</th>\n      <td>TA</td>\n      <td>PConc</td>\n      <td>Gd</td>\n      <td>TA</td>\n      <td>Mn</td>\n      <td>GLQ</td>\n      <td>Unf</td>\n      <td>GasA</td>\n      <td>Ex</td>\n      <td>Y</td>\n      <td>...</td>\n      <td>0</td>\n      <td>0</td>\n      <td>1</td>\n      <td>0</td>\n      <td>0</td>\n      <td>1</td>\n      <td>0</td>\n      <td>0</td>\n      <td>1</td>\n      <td>0</td>\n    </tr>\n    <tr>\n      <th>3</th>\n      <td>TA</td>\n      <td>BrkTil</td>\n      <td>TA</td>\n      <td>Gd</td>\n      <td>No</td>\n      <td>ALQ</td>\n      <td>Unf</td>\n      <td>GasA</td>\n      <td>Gd</td>\n      <td>Y</td>\n      <td>...</td>\n      <td>0</td>\n      <td>1</td>\n      <td>1</td>\n      <td>0</td>\n      <td>1</td>\n      <td>0</td>\n      <td>0</td>\n      <td>0</td>\n      <td>0</td>\n      <td>1</td>\n    </tr>\n    <tr>\n      <th>4</th>\n      <td>TA</td>\n      <td>PConc</td>\n      <td>Gd</td>\n      <td>TA</td>\n      <td>Av</td>\n      <td>GLQ</td>\n      <td>Unf</td>\n      <td>GasA</td>\n      <td>Ex</td>\n      <td>Y</td>\n      <td>...</td>\n      <td>0</td>\n      <td>0</td>\n      <td>1</td>\n      <td>0</td>\n      <td>0</td>\n      <td>1</td>\n      <td>0</td>\n      <td>0</td>\n      <td>1</td>\n      <td>0</td>\n    </tr>\n    <tr>\n      <th>...</th>\n      <td>...</td>\n      <td>...</td>\n      <td>...</td>\n      <td>...</td>\n      <td>...</td>\n      <td>...</td>\n      <td>...</td>\n      <td>...</td>\n      <td>...</td>\n      <td>...</td>\n      <td>...</td>\n      <td>...</td>\n      <td>...</td>\n      <td>...</td>\n      <td>...</td>\n      <td>...</td>\n      <td>...</td>\n      <td>...</td>\n      <td>...</td>\n      <td>...</td>\n      <td>...</td>\n    </tr>\n    <tr>\n      <th>2914</th>\n      <td>TA</td>\n      <td>CBlock</td>\n      <td>TA</td>\n      <td>TA</td>\n      <td>No</td>\n      <td>Unf</td>\n      <td>Unf</td>\n      <td>GasA</td>\n      <td>Gd</td>\n      <td>Y</td>\n      <td>...</td>\n      <td>1</td>\n      <td>1</td>\n      <td>1</td>\n      <td>0</td>\n      <td>1</td>\n      <td>0</td>\n      <td>0</td>\n      <td>0</td>\n      <td>0</td>\n      <td>1</td>\n    </tr>\n    <tr>\n      <th>2915</th>\n      <td>TA</td>\n      <td>CBlock</td>\n      <td>TA</td>\n      <td>TA</td>\n      <td>No</td>\n      <td>Rec</td>\n      <td>Unf</td>\n      <td>GasA</td>\n      <td>TA</td>\n      <td>Y</td>\n      <td>...</td>\n      <td>1</td>\n      <td>1</td>\n      <td>1</td>\n      <td>0</td>\n      <td>1</td>\n      <td>0</td>\n      <td>0</td>\n      <td>0</td>\n      <td>0</td>\n      <td>1</td>\n    </tr>\n    <tr>\n      <th>2916</th>\n      <td>TA</td>\n      <td>CBlock</td>\n      <td>TA</td>\n      <td>TA</td>\n      <td>No</td>\n      <td>ALQ</td>\n      <td>Unf</td>\n      <td>GasA</td>\n      <td>Ex</td>\n      <td>Y</td>\n      <td>...</td>\n      <td>0</td>\n      <td>0</td>\n      <td>1</td>\n      <td>0</td>\n      <td>1</td>\n      <td>0</td>\n      <td>0</td>\n      <td>0</td>\n      <td>0</td>\n      <td>1</td>\n    </tr>\n    <tr>\n      <th>2917</th>\n      <td>TA</td>\n      <td>PConc</td>\n      <td>Gd</td>\n      <td>TA</td>\n      <td>Av</td>\n      <td>GLQ</td>\n      <td>Unf</td>\n      <td>GasA</td>\n      <td>TA</td>\n      <td>Y</td>\n      <td>...</td>\n      <td>0</td>\n      <td>1</td>\n      <td>1</td>\n      <td>0</td>\n      <td>1</td>\n      <td>0</td>\n      <td>0</td>\n      <td>0</td>\n      <td>0</td>\n      <td>1</td>\n    </tr>\n    <tr>\n      <th>2918</th>\n      <td>TA</td>\n      <td>PConc</td>\n      <td>Gd</td>\n      <td>TA</td>\n      <td>Av</td>\n      <td>LwQ</td>\n      <td>Unf</td>\n      <td>GasA</td>\n      <td>Ex</td>\n      <td>Y</td>\n      <td>...</td>\n      <td>1</td>\n      <td>0</td>\n      <td>0</td>\n      <td>0</td>\n      <td>0</td>\n      <td>1</td>\n      <td>0</td>\n      <td>0</td>\n      <td>0</td>\n      <td>1</td>\n    </tr>\n  </tbody>\n</table>\n<p>2919 rows × 89 columns</p>\n</div>"
     },
     "execution_count": 46,
     "metadata": {},
     "output_type": "execute_result"
    }
   ],
   "source": [
    "df1 = pd.get_dummies(categorical_data['ExterQual'])\n",
    "categorical_data = pd.concat([categorical_data, df1], axis=1).reindex(categorical_data.index)\n",
    "categorical_data.drop('ExterQual', axis=1, inplace=True)\n",
    "categorical_data"
   ],
   "metadata": {
    "collapsed": false,
    "pycharm": {
     "name": "#%%\n"
    }
   }
  },
  {
   "cell_type": "code",
   "execution_count": 47,
   "outputs": [
    {
     "data": {
      "text/plain": "array(['TA', 'Gd', 'Fa', 'Po', 'Ex'], dtype=object)"
     },
     "execution_count": 47,
     "metadata": {},
     "output_type": "execute_result"
    }
   ],
   "source": [
    "categorical_data['ExterCond'].unique()"
   ],
   "metadata": {
    "collapsed": false,
    "pycharm": {
     "name": "#%%\n"
    }
   }
  },
  {
   "cell_type": "code",
   "execution_count": 48,
   "outputs": [
    {
     "data": {
      "text/plain": "     Foundation BsmtQual BsmtCond BsmtExposure BsmtFinType1 BsmtFinType2  \\\n0         PConc       Gd       TA           No          GLQ          Unf   \n1        CBlock       Gd       TA           Gd          ALQ          Unf   \n2         PConc       Gd       TA           Mn          GLQ          Unf   \n3        BrkTil       TA       Gd           No          ALQ          Unf   \n4         PConc       Gd       TA           Av          GLQ          Unf   \n...         ...      ...      ...          ...          ...          ...   \n2914     CBlock       TA       TA           No          Unf          Unf   \n2915     CBlock       TA       TA           No          Rec          Unf   \n2916     CBlock       TA       TA           No          ALQ          Unf   \n2917      PConc       Gd       TA           Av          GLQ          Unf   \n2918      PConc       Gd       TA           Av          LwQ          Unf   \n\n     Heating HeatingQC CentralAir Electrical  ... MasVnrType_0 MasVnrType_1  \\\n0       GasA        Ex          Y      SBrkr  ...            0            0   \n1       GasA        Ex          Y      SBrkr  ...            0            1   \n2       GasA        Ex          Y      SBrkr  ...            0            0   \n3       GasA        Gd          Y      SBrkr  ...            0            1   \n4       GasA        Ex          Y      SBrkr  ...            0            0   \n...      ...       ...        ...        ...  ...          ...          ...   \n2914    GasA        Gd          Y      SBrkr  ...            0            1   \n2915    GasA        TA          Y      SBrkr  ...            0            1   \n2916    GasA        Ex          Y      SBrkr  ...            0            1   \n2917    GasA        TA          Y      SBrkr  ...            0            1   \n2918    GasA        Ex          Y      SBrkr  ...            0            0   \n\n     MasVnrType_2 Ex Fa Gd TA ExterCond_0 ExterCond_1 ExterCond_2  \n0               1  0  0  1  0           0           0           1  \n1               0  0  0  0  1           0           0           1  \n2               1  0  0  1  0           0           0           1  \n3               0  0  0  0  1           0           0           1  \n4               1  0  0  1  0           0           0           1  \n...           ... .. .. .. ..         ...         ...         ...  \n2914            0  0  0  0  1           0           0           1  \n2915            0  0  0  0  1           0           0           1  \n2916            0  0  0  0  1           0           0           1  \n2917            0  0  0  0  1           0           0           1  \n2918            1  0  0  0  1           0           0           1  \n\n[2919 rows x 91 columns]",
      "text/html": "<div>\n<style scoped>\n    .dataframe tbody tr th:only-of-type {\n        vertical-align: middle;\n    }\n\n    .dataframe tbody tr th {\n        vertical-align: top;\n    }\n\n    .dataframe thead th {\n        text-align: right;\n    }\n</style>\n<table border=\"1\" class=\"dataframe\">\n  <thead>\n    <tr style=\"text-align: right;\">\n      <th></th>\n      <th>Foundation</th>\n      <th>BsmtQual</th>\n      <th>BsmtCond</th>\n      <th>BsmtExposure</th>\n      <th>BsmtFinType1</th>\n      <th>BsmtFinType2</th>\n      <th>Heating</th>\n      <th>HeatingQC</th>\n      <th>CentralAir</th>\n      <th>Electrical</th>\n      <th>...</th>\n      <th>MasVnrType_0</th>\n      <th>MasVnrType_1</th>\n      <th>MasVnrType_2</th>\n      <th>Ex</th>\n      <th>Fa</th>\n      <th>Gd</th>\n      <th>TA</th>\n      <th>ExterCond_0</th>\n      <th>ExterCond_1</th>\n      <th>ExterCond_2</th>\n    </tr>\n  </thead>\n  <tbody>\n    <tr>\n      <th>0</th>\n      <td>PConc</td>\n      <td>Gd</td>\n      <td>TA</td>\n      <td>No</td>\n      <td>GLQ</td>\n      <td>Unf</td>\n      <td>GasA</td>\n      <td>Ex</td>\n      <td>Y</td>\n      <td>SBrkr</td>\n      <td>...</td>\n      <td>0</td>\n      <td>0</td>\n      <td>1</td>\n      <td>0</td>\n      <td>0</td>\n      <td>1</td>\n      <td>0</td>\n      <td>0</td>\n      <td>0</td>\n      <td>1</td>\n    </tr>\n    <tr>\n      <th>1</th>\n      <td>CBlock</td>\n      <td>Gd</td>\n      <td>TA</td>\n      <td>Gd</td>\n      <td>ALQ</td>\n      <td>Unf</td>\n      <td>GasA</td>\n      <td>Ex</td>\n      <td>Y</td>\n      <td>SBrkr</td>\n      <td>...</td>\n      <td>0</td>\n      <td>1</td>\n      <td>0</td>\n      <td>0</td>\n      <td>0</td>\n      <td>0</td>\n      <td>1</td>\n      <td>0</td>\n      <td>0</td>\n      <td>1</td>\n    </tr>\n    <tr>\n      <th>2</th>\n      <td>PConc</td>\n      <td>Gd</td>\n      <td>TA</td>\n      <td>Mn</td>\n      <td>GLQ</td>\n      <td>Unf</td>\n      <td>GasA</td>\n      <td>Ex</td>\n      <td>Y</td>\n      <td>SBrkr</td>\n      <td>...</td>\n      <td>0</td>\n      <td>0</td>\n      <td>1</td>\n      <td>0</td>\n      <td>0</td>\n      <td>1</td>\n      <td>0</td>\n      <td>0</td>\n      <td>0</td>\n      <td>1</td>\n    </tr>\n    <tr>\n      <th>3</th>\n      <td>BrkTil</td>\n      <td>TA</td>\n      <td>Gd</td>\n      <td>No</td>\n      <td>ALQ</td>\n      <td>Unf</td>\n      <td>GasA</td>\n      <td>Gd</td>\n      <td>Y</td>\n      <td>SBrkr</td>\n      <td>...</td>\n      <td>0</td>\n      <td>1</td>\n      <td>0</td>\n      <td>0</td>\n      <td>0</td>\n      <td>0</td>\n      <td>1</td>\n      <td>0</td>\n      <td>0</td>\n      <td>1</td>\n    </tr>\n    <tr>\n      <th>4</th>\n      <td>PConc</td>\n      <td>Gd</td>\n      <td>TA</td>\n      <td>Av</td>\n      <td>GLQ</td>\n      <td>Unf</td>\n      <td>GasA</td>\n      <td>Ex</td>\n      <td>Y</td>\n      <td>SBrkr</td>\n      <td>...</td>\n      <td>0</td>\n      <td>0</td>\n      <td>1</td>\n      <td>0</td>\n      <td>0</td>\n      <td>1</td>\n      <td>0</td>\n      <td>0</td>\n      <td>0</td>\n      <td>1</td>\n    </tr>\n    <tr>\n      <th>...</th>\n      <td>...</td>\n      <td>...</td>\n      <td>...</td>\n      <td>...</td>\n      <td>...</td>\n      <td>...</td>\n      <td>...</td>\n      <td>...</td>\n      <td>...</td>\n      <td>...</td>\n      <td>...</td>\n      <td>...</td>\n      <td>...</td>\n      <td>...</td>\n      <td>...</td>\n      <td>...</td>\n      <td>...</td>\n      <td>...</td>\n      <td>...</td>\n      <td>...</td>\n      <td>...</td>\n    </tr>\n    <tr>\n      <th>2914</th>\n      <td>CBlock</td>\n      <td>TA</td>\n      <td>TA</td>\n      <td>No</td>\n      <td>Unf</td>\n      <td>Unf</td>\n      <td>GasA</td>\n      <td>Gd</td>\n      <td>Y</td>\n      <td>SBrkr</td>\n      <td>...</td>\n      <td>0</td>\n      <td>1</td>\n      <td>0</td>\n      <td>0</td>\n      <td>0</td>\n      <td>0</td>\n      <td>1</td>\n      <td>0</td>\n      <td>0</td>\n      <td>1</td>\n    </tr>\n    <tr>\n      <th>2915</th>\n      <td>CBlock</td>\n      <td>TA</td>\n      <td>TA</td>\n      <td>No</td>\n      <td>Rec</td>\n      <td>Unf</td>\n      <td>GasA</td>\n      <td>TA</td>\n      <td>Y</td>\n      <td>SBrkr</td>\n      <td>...</td>\n      <td>0</td>\n      <td>1</td>\n      <td>0</td>\n      <td>0</td>\n      <td>0</td>\n      <td>0</td>\n      <td>1</td>\n      <td>0</td>\n      <td>0</td>\n      <td>1</td>\n    </tr>\n    <tr>\n      <th>2916</th>\n      <td>CBlock</td>\n      <td>TA</td>\n      <td>TA</td>\n      <td>No</td>\n      <td>ALQ</td>\n      <td>Unf</td>\n      <td>GasA</td>\n      <td>Ex</td>\n      <td>Y</td>\n      <td>SBrkr</td>\n      <td>...</td>\n      <td>0</td>\n      <td>1</td>\n      <td>0</td>\n      <td>0</td>\n      <td>0</td>\n      <td>0</td>\n      <td>1</td>\n      <td>0</td>\n      <td>0</td>\n      <td>1</td>\n    </tr>\n    <tr>\n      <th>2917</th>\n      <td>PConc</td>\n      <td>Gd</td>\n      <td>TA</td>\n      <td>Av</td>\n      <td>GLQ</td>\n      <td>Unf</td>\n      <td>GasA</td>\n      <td>TA</td>\n      <td>Y</td>\n      <td>SBrkr</td>\n      <td>...</td>\n      <td>0</td>\n      <td>1</td>\n      <td>0</td>\n      <td>0</td>\n      <td>0</td>\n      <td>0</td>\n      <td>1</td>\n      <td>0</td>\n      <td>0</td>\n      <td>1</td>\n    </tr>\n    <tr>\n      <th>2918</th>\n      <td>PConc</td>\n      <td>Gd</td>\n      <td>TA</td>\n      <td>Av</td>\n      <td>LwQ</td>\n      <td>Unf</td>\n      <td>GasA</td>\n      <td>Ex</td>\n      <td>Y</td>\n      <td>SBrkr</td>\n      <td>...</td>\n      <td>0</td>\n      <td>0</td>\n      <td>1</td>\n      <td>0</td>\n      <td>0</td>\n      <td>0</td>\n      <td>1</td>\n      <td>0</td>\n      <td>0</td>\n      <td>1</td>\n    </tr>\n  </tbody>\n</table>\n<p>2919 rows × 91 columns</p>\n</div>"
     },
     "execution_count": 48,
     "metadata": {},
     "output_type": "execute_result"
    }
   ],
   "source": [
    "encoder = ce.BinaryEncoder(categorical_data['ExterCond'])\n",
    "df1 = encoder.fit_transform(categorical_data['ExterCond'])\n",
    "categorical_data = pd.concat([categorical_data, df1], axis=1).reindex(categorical_data.index)\n",
    "categorical_data.drop('ExterCond', axis=1, inplace=True)\n",
    "categorical_data"
   ],
   "metadata": {
    "collapsed": false,
    "pycharm": {
     "name": "#%%\n"
    }
   }
  },
  {
   "cell_type": "code",
   "execution_count": 49,
   "outputs": [
    {
     "data": {
      "text/plain": "array(['PConc', 'CBlock', 'BrkTil', 'Wood', 'Slab', 'Stone'], dtype=object)"
     },
     "execution_count": 49,
     "metadata": {},
     "output_type": "execute_result"
    }
   ],
   "source": [
    "categorical_data['Foundation'].unique()"
   ],
   "metadata": {
    "collapsed": false,
    "pycharm": {
     "name": "#%%\n"
    }
   }
  },
  {
   "cell_type": "code",
   "execution_count": 50,
   "outputs": [
    {
     "data": {
      "text/plain": "     BsmtQual BsmtCond BsmtExposure BsmtFinType1 BsmtFinType2 Heating  \\\n0          Gd       TA           No          GLQ          Unf    GasA   \n1          Gd       TA           Gd          ALQ          Unf    GasA   \n2          Gd       TA           Mn          GLQ          Unf    GasA   \n3          TA       Gd           No          ALQ          Unf    GasA   \n4          Gd       TA           Av          GLQ          Unf    GasA   \n...       ...      ...          ...          ...          ...     ...   \n2914       TA       TA           No          Unf          Unf    GasA   \n2915       TA       TA           No          Rec          Unf    GasA   \n2916       TA       TA           No          ALQ          Unf    GasA   \n2917       Gd       TA           Av          GLQ          Unf    GasA   \n2918       Gd       TA           Av          LwQ          Unf    GasA   \n\n     HeatingQC CentralAir Electrical KitchenQual  ... Ex Fa Gd TA ExterCond_0  \\\n0           Ex          Y      SBrkr          Gd  ...  0  0  1  0           0   \n1           Ex          Y      SBrkr          TA  ...  0  0  0  1           0   \n2           Ex          Y      SBrkr          Gd  ...  0  0  1  0           0   \n3           Gd          Y      SBrkr          Gd  ...  0  0  0  1           0   \n4           Ex          Y      SBrkr          Gd  ...  0  0  1  0           0   \n...        ...        ...        ...         ...  ... .. .. .. ..         ...   \n2914        Gd          Y      SBrkr          TA  ...  0  0  0  1           0   \n2915        TA          Y      SBrkr          TA  ...  0  0  0  1           0   \n2916        Ex          Y      SBrkr          TA  ...  0  0  0  1           0   \n2917        TA          Y      SBrkr          TA  ...  0  0  0  1           0   \n2918        Ex          Y      SBrkr          TA  ...  0  0  0  1           0   \n\n     ExterCond_1 ExterCond_2 Foundation_0 Foundation_1  Foundation_2  \n0              0           1            0            0             1  \n1              0           1            0            1             0  \n2              0           1            0            0             1  \n3              0           1            0            1             1  \n4              0           1            0            0             1  \n...          ...         ...          ...          ...           ...  \n2914           0           1            0            1             0  \n2915           0           1            0            1             0  \n2916           0           1            0            1             0  \n2917           0           1            0            0             1  \n2918           0           1            0            0             1  \n\n[2919 rows x 93 columns]",
      "text/html": "<div>\n<style scoped>\n    .dataframe tbody tr th:only-of-type {\n        vertical-align: middle;\n    }\n\n    .dataframe tbody tr th {\n        vertical-align: top;\n    }\n\n    .dataframe thead th {\n        text-align: right;\n    }\n</style>\n<table border=\"1\" class=\"dataframe\">\n  <thead>\n    <tr style=\"text-align: right;\">\n      <th></th>\n      <th>BsmtQual</th>\n      <th>BsmtCond</th>\n      <th>BsmtExposure</th>\n      <th>BsmtFinType1</th>\n      <th>BsmtFinType2</th>\n      <th>Heating</th>\n      <th>HeatingQC</th>\n      <th>CentralAir</th>\n      <th>Electrical</th>\n      <th>KitchenQual</th>\n      <th>...</th>\n      <th>Ex</th>\n      <th>Fa</th>\n      <th>Gd</th>\n      <th>TA</th>\n      <th>ExterCond_0</th>\n      <th>ExterCond_1</th>\n      <th>ExterCond_2</th>\n      <th>Foundation_0</th>\n      <th>Foundation_1</th>\n      <th>Foundation_2</th>\n    </tr>\n  </thead>\n  <tbody>\n    <tr>\n      <th>0</th>\n      <td>Gd</td>\n      <td>TA</td>\n      <td>No</td>\n      <td>GLQ</td>\n      <td>Unf</td>\n      <td>GasA</td>\n      <td>Ex</td>\n      <td>Y</td>\n      <td>SBrkr</td>\n      <td>Gd</td>\n      <td>...</td>\n      <td>0</td>\n      <td>0</td>\n      <td>1</td>\n      <td>0</td>\n      <td>0</td>\n      <td>0</td>\n      <td>1</td>\n      <td>0</td>\n      <td>0</td>\n      <td>1</td>\n    </tr>\n    <tr>\n      <th>1</th>\n      <td>Gd</td>\n      <td>TA</td>\n      <td>Gd</td>\n      <td>ALQ</td>\n      <td>Unf</td>\n      <td>GasA</td>\n      <td>Ex</td>\n      <td>Y</td>\n      <td>SBrkr</td>\n      <td>TA</td>\n      <td>...</td>\n      <td>0</td>\n      <td>0</td>\n      <td>0</td>\n      <td>1</td>\n      <td>0</td>\n      <td>0</td>\n      <td>1</td>\n      <td>0</td>\n      <td>1</td>\n      <td>0</td>\n    </tr>\n    <tr>\n      <th>2</th>\n      <td>Gd</td>\n      <td>TA</td>\n      <td>Mn</td>\n      <td>GLQ</td>\n      <td>Unf</td>\n      <td>GasA</td>\n      <td>Ex</td>\n      <td>Y</td>\n      <td>SBrkr</td>\n      <td>Gd</td>\n      <td>...</td>\n      <td>0</td>\n      <td>0</td>\n      <td>1</td>\n      <td>0</td>\n      <td>0</td>\n      <td>0</td>\n      <td>1</td>\n      <td>0</td>\n      <td>0</td>\n      <td>1</td>\n    </tr>\n    <tr>\n      <th>3</th>\n      <td>TA</td>\n      <td>Gd</td>\n      <td>No</td>\n      <td>ALQ</td>\n      <td>Unf</td>\n      <td>GasA</td>\n      <td>Gd</td>\n      <td>Y</td>\n      <td>SBrkr</td>\n      <td>Gd</td>\n      <td>...</td>\n      <td>0</td>\n      <td>0</td>\n      <td>0</td>\n      <td>1</td>\n      <td>0</td>\n      <td>0</td>\n      <td>1</td>\n      <td>0</td>\n      <td>1</td>\n      <td>1</td>\n    </tr>\n    <tr>\n      <th>4</th>\n      <td>Gd</td>\n      <td>TA</td>\n      <td>Av</td>\n      <td>GLQ</td>\n      <td>Unf</td>\n      <td>GasA</td>\n      <td>Ex</td>\n      <td>Y</td>\n      <td>SBrkr</td>\n      <td>Gd</td>\n      <td>...</td>\n      <td>0</td>\n      <td>0</td>\n      <td>1</td>\n      <td>0</td>\n      <td>0</td>\n      <td>0</td>\n      <td>1</td>\n      <td>0</td>\n      <td>0</td>\n      <td>1</td>\n    </tr>\n    <tr>\n      <th>...</th>\n      <td>...</td>\n      <td>...</td>\n      <td>...</td>\n      <td>...</td>\n      <td>...</td>\n      <td>...</td>\n      <td>...</td>\n      <td>...</td>\n      <td>...</td>\n      <td>...</td>\n      <td>...</td>\n      <td>...</td>\n      <td>...</td>\n      <td>...</td>\n      <td>...</td>\n      <td>...</td>\n      <td>...</td>\n      <td>...</td>\n      <td>...</td>\n      <td>...</td>\n      <td>...</td>\n    </tr>\n    <tr>\n      <th>2914</th>\n      <td>TA</td>\n      <td>TA</td>\n      <td>No</td>\n      <td>Unf</td>\n      <td>Unf</td>\n      <td>GasA</td>\n      <td>Gd</td>\n      <td>Y</td>\n      <td>SBrkr</td>\n      <td>TA</td>\n      <td>...</td>\n      <td>0</td>\n      <td>0</td>\n      <td>0</td>\n      <td>1</td>\n      <td>0</td>\n      <td>0</td>\n      <td>1</td>\n      <td>0</td>\n      <td>1</td>\n      <td>0</td>\n    </tr>\n    <tr>\n      <th>2915</th>\n      <td>TA</td>\n      <td>TA</td>\n      <td>No</td>\n      <td>Rec</td>\n      <td>Unf</td>\n      <td>GasA</td>\n      <td>TA</td>\n      <td>Y</td>\n      <td>SBrkr</td>\n      <td>TA</td>\n      <td>...</td>\n      <td>0</td>\n      <td>0</td>\n      <td>0</td>\n      <td>1</td>\n      <td>0</td>\n      <td>0</td>\n      <td>1</td>\n      <td>0</td>\n      <td>1</td>\n      <td>0</td>\n    </tr>\n    <tr>\n      <th>2916</th>\n      <td>TA</td>\n      <td>TA</td>\n      <td>No</td>\n      <td>ALQ</td>\n      <td>Unf</td>\n      <td>GasA</td>\n      <td>Ex</td>\n      <td>Y</td>\n      <td>SBrkr</td>\n      <td>TA</td>\n      <td>...</td>\n      <td>0</td>\n      <td>0</td>\n      <td>0</td>\n      <td>1</td>\n      <td>0</td>\n      <td>0</td>\n      <td>1</td>\n      <td>0</td>\n      <td>1</td>\n      <td>0</td>\n    </tr>\n    <tr>\n      <th>2917</th>\n      <td>Gd</td>\n      <td>TA</td>\n      <td>Av</td>\n      <td>GLQ</td>\n      <td>Unf</td>\n      <td>GasA</td>\n      <td>TA</td>\n      <td>Y</td>\n      <td>SBrkr</td>\n      <td>TA</td>\n      <td>...</td>\n      <td>0</td>\n      <td>0</td>\n      <td>0</td>\n      <td>1</td>\n      <td>0</td>\n      <td>0</td>\n      <td>1</td>\n      <td>0</td>\n      <td>0</td>\n      <td>1</td>\n    </tr>\n    <tr>\n      <th>2918</th>\n      <td>Gd</td>\n      <td>TA</td>\n      <td>Av</td>\n      <td>LwQ</td>\n      <td>Unf</td>\n      <td>GasA</td>\n      <td>Ex</td>\n      <td>Y</td>\n      <td>SBrkr</td>\n      <td>TA</td>\n      <td>...</td>\n      <td>0</td>\n      <td>0</td>\n      <td>0</td>\n      <td>1</td>\n      <td>0</td>\n      <td>0</td>\n      <td>1</td>\n      <td>0</td>\n      <td>0</td>\n      <td>1</td>\n    </tr>\n  </tbody>\n</table>\n<p>2919 rows × 93 columns</p>\n</div>"
     },
     "execution_count": 50,
     "metadata": {},
     "output_type": "execute_result"
    }
   ],
   "source": [
    "encoder = ce.BinaryEncoder(categorical_data['Foundation'])\n",
    "df1 = encoder.fit_transform(categorical_data['Foundation'])\n",
    "categorical_data = pd.concat([categorical_data, df1], axis=1).reindex(categorical_data.index)\n",
    "categorical_data.drop('Foundation', axis=1, inplace=True)\n",
    "categorical_data"
   ],
   "metadata": {
    "collapsed": false,
    "pycharm": {
     "name": "#%%\n"
    }
   }
  },
  {
   "cell_type": "code",
   "execution_count": 51,
   "outputs": [
    {
     "data": {
      "text/plain": "array(['Gd', 'TA', 'Ex', 'Fa'], dtype=object)"
     },
     "execution_count": 51,
     "metadata": {},
     "output_type": "execute_result"
    }
   ],
   "source": [
    "categorical_data['BsmtQual'].unique()"
   ],
   "metadata": {
    "collapsed": false,
    "pycharm": {
     "name": "#%%\n"
    }
   }
  },
  {
   "cell_type": "code",
   "execution_count": 52,
   "outputs": [
    {
     "data": {
      "text/plain": "     BsmtCond BsmtExposure BsmtFinType1 BsmtFinType2 Heating HeatingQC  \\\n0          TA           No          GLQ          Unf    GasA        Ex   \n1          TA           Gd          ALQ          Unf    GasA        Ex   \n2          TA           Mn          GLQ          Unf    GasA        Ex   \n3          Gd           No          ALQ          Unf    GasA        Gd   \n4          TA           Av          GLQ          Unf    GasA        Ex   \n...       ...          ...          ...          ...     ...       ...   \n2914       TA           No          Unf          Unf    GasA        Gd   \n2915       TA           No          Rec          Unf    GasA        TA   \n2916       TA           No          ALQ          Unf    GasA        Ex   \n2917       TA           Av          GLQ          Unf    GasA        TA   \n2918       TA           Av          LwQ          Unf    GasA        Ex   \n\n     CentralAir Electrical KitchenQual Functional  ... TA ExterCond_0  \\\n0             Y      SBrkr          Gd        Typ  ...  0           0   \n1             Y      SBrkr          TA        Typ  ...  1           0   \n2             Y      SBrkr          Gd        Typ  ...  0           0   \n3             Y      SBrkr          Gd        Typ  ...  1           0   \n4             Y      SBrkr          Gd        Typ  ...  0           0   \n...         ...        ...         ...        ...  ... ..         ...   \n2914          Y      SBrkr          TA        Typ  ...  1           0   \n2915          Y      SBrkr          TA        Typ  ...  1           0   \n2916          Y      SBrkr          TA        Typ  ...  1           0   \n2917          Y      SBrkr          TA        Typ  ...  1           0   \n2918          Y      SBrkr          TA        Typ  ...  1           0   \n\n     ExterCond_1 ExterCond_2 Foundation_0 Foundation_1 Foundation_2  \\\n0              0           1            0            0            1   \n1              0           1            0            1            0   \n2              0           1            0            0            1   \n3              0           1            0            1            1   \n4              0           1            0            0            1   \n...          ...         ...          ...          ...          ...   \n2914           0           1            0            1            0   \n2915           0           1            0            1            0   \n2916           0           1            0            1            0   \n2917           0           1            0            0            1   \n2918           0           1            0            0            1   \n\n     BsmtQual_0  BsmtQual_1  BsmtQual_2  \n0             0           0           1  \n1             0           0           1  \n2             0           0           1  \n3             0           1           0  \n4             0           0           1  \n...         ...         ...         ...  \n2914          0           1           0  \n2915          0           1           0  \n2916          0           1           0  \n2917          0           0           1  \n2918          0           0           1  \n\n[2919 rows x 95 columns]",
      "text/html": "<div>\n<style scoped>\n    .dataframe tbody tr th:only-of-type {\n        vertical-align: middle;\n    }\n\n    .dataframe tbody tr th {\n        vertical-align: top;\n    }\n\n    .dataframe thead th {\n        text-align: right;\n    }\n</style>\n<table border=\"1\" class=\"dataframe\">\n  <thead>\n    <tr style=\"text-align: right;\">\n      <th></th>\n      <th>BsmtCond</th>\n      <th>BsmtExposure</th>\n      <th>BsmtFinType1</th>\n      <th>BsmtFinType2</th>\n      <th>Heating</th>\n      <th>HeatingQC</th>\n      <th>CentralAir</th>\n      <th>Electrical</th>\n      <th>KitchenQual</th>\n      <th>Functional</th>\n      <th>...</th>\n      <th>TA</th>\n      <th>ExterCond_0</th>\n      <th>ExterCond_1</th>\n      <th>ExterCond_2</th>\n      <th>Foundation_0</th>\n      <th>Foundation_1</th>\n      <th>Foundation_2</th>\n      <th>BsmtQual_0</th>\n      <th>BsmtQual_1</th>\n      <th>BsmtQual_2</th>\n    </tr>\n  </thead>\n  <tbody>\n    <tr>\n      <th>0</th>\n      <td>TA</td>\n      <td>No</td>\n      <td>GLQ</td>\n      <td>Unf</td>\n      <td>GasA</td>\n      <td>Ex</td>\n      <td>Y</td>\n      <td>SBrkr</td>\n      <td>Gd</td>\n      <td>Typ</td>\n      <td>...</td>\n      <td>0</td>\n      <td>0</td>\n      <td>0</td>\n      <td>1</td>\n      <td>0</td>\n      <td>0</td>\n      <td>1</td>\n      <td>0</td>\n      <td>0</td>\n      <td>1</td>\n    </tr>\n    <tr>\n      <th>1</th>\n      <td>TA</td>\n      <td>Gd</td>\n      <td>ALQ</td>\n      <td>Unf</td>\n      <td>GasA</td>\n      <td>Ex</td>\n      <td>Y</td>\n      <td>SBrkr</td>\n      <td>TA</td>\n      <td>Typ</td>\n      <td>...</td>\n      <td>1</td>\n      <td>0</td>\n      <td>0</td>\n      <td>1</td>\n      <td>0</td>\n      <td>1</td>\n      <td>0</td>\n      <td>0</td>\n      <td>0</td>\n      <td>1</td>\n    </tr>\n    <tr>\n      <th>2</th>\n      <td>TA</td>\n      <td>Mn</td>\n      <td>GLQ</td>\n      <td>Unf</td>\n      <td>GasA</td>\n      <td>Ex</td>\n      <td>Y</td>\n      <td>SBrkr</td>\n      <td>Gd</td>\n      <td>Typ</td>\n      <td>...</td>\n      <td>0</td>\n      <td>0</td>\n      <td>0</td>\n      <td>1</td>\n      <td>0</td>\n      <td>0</td>\n      <td>1</td>\n      <td>0</td>\n      <td>0</td>\n      <td>1</td>\n    </tr>\n    <tr>\n      <th>3</th>\n      <td>Gd</td>\n      <td>No</td>\n      <td>ALQ</td>\n      <td>Unf</td>\n      <td>GasA</td>\n      <td>Gd</td>\n      <td>Y</td>\n      <td>SBrkr</td>\n      <td>Gd</td>\n      <td>Typ</td>\n      <td>...</td>\n      <td>1</td>\n      <td>0</td>\n      <td>0</td>\n      <td>1</td>\n      <td>0</td>\n      <td>1</td>\n      <td>1</td>\n      <td>0</td>\n      <td>1</td>\n      <td>0</td>\n    </tr>\n    <tr>\n      <th>4</th>\n      <td>TA</td>\n      <td>Av</td>\n      <td>GLQ</td>\n      <td>Unf</td>\n      <td>GasA</td>\n      <td>Ex</td>\n      <td>Y</td>\n      <td>SBrkr</td>\n      <td>Gd</td>\n      <td>Typ</td>\n      <td>...</td>\n      <td>0</td>\n      <td>0</td>\n      <td>0</td>\n      <td>1</td>\n      <td>0</td>\n      <td>0</td>\n      <td>1</td>\n      <td>0</td>\n      <td>0</td>\n      <td>1</td>\n    </tr>\n    <tr>\n      <th>...</th>\n      <td>...</td>\n      <td>...</td>\n      <td>...</td>\n      <td>...</td>\n      <td>...</td>\n      <td>...</td>\n      <td>...</td>\n      <td>...</td>\n      <td>...</td>\n      <td>...</td>\n      <td>...</td>\n      <td>...</td>\n      <td>...</td>\n      <td>...</td>\n      <td>...</td>\n      <td>...</td>\n      <td>...</td>\n      <td>...</td>\n      <td>...</td>\n      <td>...</td>\n      <td>...</td>\n    </tr>\n    <tr>\n      <th>2914</th>\n      <td>TA</td>\n      <td>No</td>\n      <td>Unf</td>\n      <td>Unf</td>\n      <td>GasA</td>\n      <td>Gd</td>\n      <td>Y</td>\n      <td>SBrkr</td>\n      <td>TA</td>\n      <td>Typ</td>\n      <td>...</td>\n      <td>1</td>\n      <td>0</td>\n      <td>0</td>\n      <td>1</td>\n      <td>0</td>\n      <td>1</td>\n      <td>0</td>\n      <td>0</td>\n      <td>1</td>\n      <td>0</td>\n    </tr>\n    <tr>\n      <th>2915</th>\n      <td>TA</td>\n      <td>No</td>\n      <td>Rec</td>\n      <td>Unf</td>\n      <td>GasA</td>\n      <td>TA</td>\n      <td>Y</td>\n      <td>SBrkr</td>\n      <td>TA</td>\n      <td>Typ</td>\n      <td>...</td>\n      <td>1</td>\n      <td>0</td>\n      <td>0</td>\n      <td>1</td>\n      <td>0</td>\n      <td>1</td>\n      <td>0</td>\n      <td>0</td>\n      <td>1</td>\n      <td>0</td>\n    </tr>\n    <tr>\n      <th>2916</th>\n      <td>TA</td>\n      <td>No</td>\n      <td>ALQ</td>\n      <td>Unf</td>\n      <td>GasA</td>\n      <td>Ex</td>\n      <td>Y</td>\n      <td>SBrkr</td>\n      <td>TA</td>\n      <td>Typ</td>\n      <td>...</td>\n      <td>1</td>\n      <td>0</td>\n      <td>0</td>\n      <td>1</td>\n      <td>0</td>\n      <td>1</td>\n      <td>0</td>\n      <td>0</td>\n      <td>1</td>\n      <td>0</td>\n    </tr>\n    <tr>\n      <th>2917</th>\n      <td>TA</td>\n      <td>Av</td>\n      <td>GLQ</td>\n      <td>Unf</td>\n      <td>GasA</td>\n      <td>TA</td>\n      <td>Y</td>\n      <td>SBrkr</td>\n      <td>TA</td>\n      <td>Typ</td>\n      <td>...</td>\n      <td>1</td>\n      <td>0</td>\n      <td>0</td>\n      <td>1</td>\n      <td>0</td>\n      <td>0</td>\n      <td>1</td>\n      <td>0</td>\n      <td>0</td>\n      <td>1</td>\n    </tr>\n    <tr>\n      <th>2918</th>\n      <td>TA</td>\n      <td>Av</td>\n      <td>LwQ</td>\n      <td>Unf</td>\n      <td>GasA</td>\n      <td>Ex</td>\n      <td>Y</td>\n      <td>SBrkr</td>\n      <td>TA</td>\n      <td>Typ</td>\n      <td>...</td>\n      <td>1</td>\n      <td>0</td>\n      <td>0</td>\n      <td>1</td>\n      <td>0</td>\n      <td>0</td>\n      <td>1</td>\n      <td>0</td>\n      <td>0</td>\n      <td>1</td>\n    </tr>\n  </tbody>\n</table>\n<p>2919 rows × 95 columns</p>\n</div>"
     },
     "execution_count": 52,
     "metadata": {},
     "output_type": "execute_result"
    }
   ],
   "source": [
    "encoder = ce.BinaryEncoder(categorical_data['BsmtQual'])\n",
    "df1 = encoder.fit_transform(categorical_data['BsmtQual'])\n",
    "categorical_data = pd.concat([categorical_data, df1], axis=1).reindex(categorical_data.index)\n",
    "categorical_data.drop('BsmtQual', axis=1, inplace=True)\n",
    "categorical_data"
   ],
   "metadata": {
    "collapsed": false,
    "pycharm": {
     "name": "#%%\n"
    }
   }
  },
  {
   "cell_type": "code",
   "execution_count": 53,
   "outputs": [
    {
     "data": {
      "text/plain": "array(['TA', 'Gd', 'Fa', 'Po'], dtype=object)"
     },
     "execution_count": 53,
     "metadata": {},
     "output_type": "execute_result"
    }
   ],
   "source": [
    "categorical_data['BsmtCond'].unique()"
   ],
   "metadata": {
    "collapsed": false,
    "pycharm": {
     "name": "#%%\n"
    }
   }
  },
  {
   "cell_type": "code",
   "execution_count": 54,
   "outputs": [
    {
     "data": {
      "text/plain": "     BsmtExposure BsmtFinType1 BsmtFinType2 Heating HeatingQC CentralAir  \\\n0              No          GLQ          Unf    GasA        Ex          Y   \n1              Gd          ALQ          Unf    GasA        Ex          Y   \n2              Mn          GLQ          Unf    GasA        Ex          Y   \n3              No          ALQ          Unf    GasA        Gd          Y   \n4              Av          GLQ          Unf    GasA        Ex          Y   \n...           ...          ...          ...     ...       ...        ...   \n2914           No          Unf          Unf    GasA        Gd          Y   \n2915           No          Rec          Unf    GasA        TA          Y   \n2916           No          ALQ          Unf    GasA        Ex          Y   \n2917           Av          GLQ          Unf    GasA        TA          Y   \n2918           Av          LwQ          Unf    GasA        Ex          Y   \n\n     Electrical KitchenQual Functional FireplaceQu  ... ExterCond_2  \\\n0         SBrkr          Gd        Typ          Gd  ...           1   \n1         SBrkr          TA        Typ          TA  ...           1   \n2         SBrkr          Gd        Typ          TA  ...           1   \n3         SBrkr          Gd        Typ          Gd  ...           1   \n4         SBrkr          Gd        Typ          TA  ...           1   \n...         ...         ...        ...         ...  ...         ...   \n2914      SBrkr          TA        Typ          Gd  ...           1   \n2915      SBrkr          TA        Typ          Gd  ...           1   \n2916      SBrkr          TA        Typ          TA  ...           1   \n2917      SBrkr          TA        Typ          Gd  ...           1   \n2918      SBrkr          TA        Typ          TA  ...           1   \n\n     Foundation_0 Foundation_1 Foundation_2 BsmtQual_0 BsmtQual_1 BsmtQual_2  \\\n0               0            0            1          0          0          1   \n1               0            1            0          0          0          1   \n2               0            0            1          0          0          1   \n3               0            1            1          0          1          0   \n4               0            0            1          0          0          1   \n...           ...          ...          ...        ...        ...        ...   \n2914            0            1            0          0          1          0   \n2915            0            1            0          0          1          0   \n2916            0            1            0          0          1          0   \n2917            0            0            1          0          0          1   \n2918            0            0            1          0          0          1   \n\n      BsmtCond_0  BsmtCond_1  BsmtCond_2  \n0              0           0           1  \n1              0           0           1  \n2              0           0           1  \n3              0           1           0  \n4              0           0           1  \n...          ...         ...         ...  \n2914           0           0           1  \n2915           0           0           1  \n2916           0           0           1  \n2917           0           0           1  \n2918           0           0           1  \n\n[2919 rows x 97 columns]",
      "text/html": "<div>\n<style scoped>\n    .dataframe tbody tr th:only-of-type {\n        vertical-align: middle;\n    }\n\n    .dataframe tbody tr th {\n        vertical-align: top;\n    }\n\n    .dataframe thead th {\n        text-align: right;\n    }\n</style>\n<table border=\"1\" class=\"dataframe\">\n  <thead>\n    <tr style=\"text-align: right;\">\n      <th></th>\n      <th>BsmtExposure</th>\n      <th>BsmtFinType1</th>\n      <th>BsmtFinType2</th>\n      <th>Heating</th>\n      <th>HeatingQC</th>\n      <th>CentralAir</th>\n      <th>Electrical</th>\n      <th>KitchenQual</th>\n      <th>Functional</th>\n      <th>FireplaceQu</th>\n      <th>...</th>\n      <th>ExterCond_2</th>\n      <th>Foundation_0</th>\n      <th>Foundation_1</th>\n      <th>Foundation_2</th>\n      <th>BsmtQual_0</th>\n      <th>BsmtQual_1</th>\n      <th>BsmtQual_2</th>\n      <th>BsmtCond_0</th>\n      <th>BsmtCond_1</th>\n      <th>BsmtCond_2</th>\n    </tr>\n  </thead>\n  <tbody>\n    <tr>\n      <th>0</th>\n      <td>No</td>\n      <td>GLQ</td>\n      <td>Unf</td>\n      <td>GasA</td>\n      <td>Ex</td>\n      <td>Y</td>\n      <td>SBrkr</td>\n      <td>Gd</td>\n      <td>Typ</td>\n      <td>Gd</td>\n      <td>...</td>\n      <td>1</td>\n      <td>0</td>\n      <td>0</td>\n      <td>1</td>\n      <td>0</td>\n      <td>0</td>\n      <td>1</td>\n      <td>0</td>\n      <td>0</td>\n      <td>1</td>\n    </tr>\n    <tr>\n      <th>1</th>\n      <td>Gd</td>\n      <td>ALQ</td>\n      <td>Unf</td>\n      <td>GasA</td>\n      <td>Ex</td>\n      <td>Y</td>\n      <td>SBrkr</td>\n      <td>TA</td>\n      <td>Typ</td>\n      <td>TA</td>\n      <td>...</td>\n      <td>1</td>\n      <td>0</td>\n      <td>1</td>\n      <td>0</td>\n      <td>0</td>\n      <td>0</td>\n      <td>1</td>\n      <td>0</td>\n      <td>0</td>\n      <td>1</td>\n    </tr>\n    <tr>\n      <th>2</th>\n      <td>Mn</td>\n      <td>GLQ</td>\n      <td>Unf</td>\n      <td>GasA</td>\n      <td>Ex</td>\n      <td>Y</td>\n      <td>SBrkr</td>\n      <td>Gd</td>\n      <td>Typ</td>\n      <td>TA</td>\n      <td>...</td>\n      <td>1</td>\n      <td>0</td>\n      <td>0</td>\n      <td>1</td>\n      <td>0</td>\n      <td>0</td>\n      <td>1</td>\n      <td>0</td>\n      <td>0</td>\n      <td>1</td>\n    </tr>\n    <tr>\n      <th>3</th>\n      <td>No</td>\n      <td>ALQ</td>\n      <td>Unf</td>\n      <td>GasA</td>\n      <td>Gd</td>\n      <td>Y</td>\n      <td>SBrkr</td>\n      <td>Gd</td>\n      <td>Typ</td>\n      <td>Gd</td>\n      <td>...</td>\n      <td>1</td>\n      <td>0</td>\n      <td>1</td>\n      <td>1</td>\n      <td>0</td>\n      <td>1</td>\n      <td>0</td>\n      <td>0</td>\n      <td>1</td>\n      <td>0</td>\n    </tr>\n    <tr>\n      <th>4</th>\n      <td>Av</td>\n      <td>GLQ</td>\n      <td>Unf</td>\n      <td>GasA</td>\n      <td>Ex</td>\n      <td>Y</td>\n      <td>SBrkr</td>\n      <td>Gd</td>\n      <td>Typ</td>\n      <td>TA</td>\n      <td>...</td>\n      <td>1</td>\n      <td>0</td>\n      <td>0</td>\n      <td>1</td>\n      <td>0</td>\n      <td>0</td>\n      <td>1</td>\n      <td>0</td>\n      <td>0</td>\n      <td>1</td>\n    </tr>\n    <tr>\n      <th>...</th>\n      <td>...</td>\n      <td>...</td>\n      <td>...</td>\n      <td>...</td>\n      <td>...</td>\n      <td>...</td>\n      <td>...</td>\n      <td>...</td>\n      <td>...</td>\n      <td>...</td>\n      <td>...</td>\n      <td>...</td>\n      <td>...</td>\n      <td>...</td>\n      <td>...</td>\n      <td>...</td>\n      <td>...</td>\n      <td>...</td>\n      <td>...</td>\n      <td>...</td>\n      <td>...</td>\n    </tr>\n    <tr>\n      <th>2914</th>\n      <td>No</td>\n      <td>Unf</td>\n      <td>Unf</td>\n      <td>GasA</td>\n      <td>Gd</td>\n      <td>Y</td>\n      <td>SBrkr</td>\n      <td>TA</td>\n      <td>Typ</td>\n      <td>Gd</td>\n      <td>...</td>\n      <td>1</td>\n      <td>0</td>\n      <td>1</td>\n      <td>0</td>\n      <td>0</td>\n      <td>1</td>\n      <td>0</td>\n      <td>0</td>\n      <td>0</td>\n      <td>1</td>\n    </tr>\n    <tr>\n      <th>2915</th>\n      <td>No</td>\n      <td>Rec</td>\n      <td>Unf</td>\n      <td>GasA</td>\n      <td>TA</td>\n      <td>Y</td>\n      <td>SBrkr</td>\n      <td>TA</td>\n      <td>Typ</td>\n      <td>Gd</td>\n      <td>...</td>\n      <td>1</td>\n      <td>0</td>\n      <td>1</td>\n      <td>0</td>\n      <td>0</td>\n      <td>1</td>\n      <td>0</td>\n      <td>0</td>\n      <td>0</td>\n      <td>1</td>\n    </tr>\n    <tr>\n      <th>2916</th>\n      <td>No</td>\n      <td>ALQ</td>\n      <td>Unf</td>\n      <td>GasA</td>\n      <td>Ex</td>\n      <td>Y</td>\n      <td>SBrkr</td>\n      <td>TA</td>\n      <td>Typ</td>\n      <td>TA</td>\n      <td>...</td>\n      <td>1</td>\n      <td>0</td>\n      <td>1</td>\n      <td>0</td>\n      <td>0</td>\n      <td>1</td>\n      <td>0</td>\n      <td>0</td>\n      <td>0</td>\n      <td>1</td>\n    </tr>\n    <tr>\n      <th>2917</th>\n      <td>Av</td>\n      <td>GLQ</td>\n      <td>Unf</td>\n      <td>GasA</td>\n      <td>TA</td>\n      <td>Y</td>\n      <td>SBrkr</td>\n      <td>TA</td>\n      <td>Typ</td>\n      <td>Gd</td>\n      <td>...</td>\n      <td>1</td>\n      <td>0</td>\n      <td>0</td>\n      <td>1</td>\n      <td>0</td>\n      <td>0</td>\n      <td>1</td>\n      <td>0</td>\n      <td>0</td>\n      <td>1</td>\n    </tr>\n    <tr>\n      <th>2918</th>\n      <td>Av</td>\n      <td>LwQ</td>\n      <td>Unf</td>\n      <td>GasA</td>\n      <td>Ex</td>\n      <td>Y</td>\n      <td>SBrkr</td>\n      <td>TA</td>\n      <td>Typ</td>\n      <td>TA</td>\n      <td>...</td>\n      <td>1</td>\n      <td>0</td>\n      <td>0</td>\n      <td>1</td>\n      <td>0</td>\n      <td>0</td>\n      <td>1</td>\n      <td>0</td>\n      <td>0</td>\n      <td>1</td>\n    </tr>\n  </tbody>\n</table>\n<p>2919 rows × 97 columns</p>\n</div>"
     },
     "execution_count": 54,
     "metadata": {},
     "output_type": "execute_result"
    }
   ],
   "source": [
    "encoder = ce.BinaryEncoder(categorical_data['BsmtCond'])\n",
    "df1 = encoder.fit_transform(categorical_data['BsmtCond'])\n",
    "categorical_data = pd.concat([categorical_data, df1], axis=1).reindex(categorical_data.index)\n",
    "categorical_data.drop('BsmtCond', axis=1, inplace=True)\n",
    "categorical_data"
   ],
   "metadata": {
    "collapsed": false,
    "pycharm": {
     "name": "#%%\n"
    }
   }
  },
  {
   "cell_type": "code",
   "execution_count": 55,
   "outputs": [
    {
     "data": {
      "text/plain": "array(['No', 'Gd', 'Mn', 'Av'], dtype=object)"
     },
     "execution_count": 55,
     "metadata": {},
     "output_type": "execute_result"
    }
   ],
   "source": [
    "categorical_data['BsmtExposure'].unique()"
   ],
   "metadata": {
    "collapsed": false,
    "pycharm": {
     "name": "#%%\n"
    }
   }
  },
  {
   "cell_type": "code",
   "execution_count": 56,
   "outputs": [
    {
     "data": {
      "text/plain": "     BsmtFinType1 BsmtFinType2 Heating HeatingQC CentralAir Electrical  \\\n0             GLQ          Unf    GasA        Ex          Y      SBrkr   \n1             ALQ          Unf    GasA        Ex          Y      SBrkr   \n2             GLQ          Unf    GasA        Ex          Y      SBrkr   \n3             ALQ          Unf    GasA        Gd          Y      SBrkr   \n4             GLQ          Unf    GasA        Ex          Y      SBrkr   \n...           ...          ...     ...       ...        ...        ...   \n2914          Unf          Unf    GasA        Gd          Y      SBrkr   \n2915          Rec          Unf    GasA        TA          Y      SBrkr   \n2916          ALQ          Unf    GasA        Ex          Y      SBrkr   \n2917          GLQ          Unf    GasA        TA          Y      SBrkr   \n2918          LwQ          Unf    GasA        Ex          Y      SBrkr   \n\n     KitchenQual Functional FireplaceQu GarageType  ... Foundation_2  \\\n0             Gd        Typ          Gd     Attchd  ...            1   \n1             TA        Typ          TA     Attchd  ...            0   \n2             Gd        Typ          TA     Attchd  ...            1   \n3             Gd        Typ          Gd     Detchd  ...            1   \n4             Gd        Typ          TA     Attchd  ...            1   \n...          ...        ...         ...        ...  ...          ...   \n2914          TA        Typ          Gd     Attchd  ...            0   \n2915          TA        Typ          Gd    CarPort  ...            0   \n2916          TA        Typ          TA     Detchd  ...            0   \n2917          TA        Typ          Gd     Attchd  ...            1   \n2918          TA        Typ          TA     Attchd  ...            1   \n\n     BsmtQual_0 BsmtQual_1 BsmtQual_2 BsmtCond_0 BsmtCond_1  BsmtCond_2  \\\n0             0          0          1          0          0           1   \n1             0          0          1          0          0           1   \n2             0          0          1          0          0           1   \n3             0          1          0          0          1           0   \n4             0          0          1          0          0           1   \n...         ...        ...        ...        ...        ...         ...   \n2914          0          1          0          0          0           1   \n2915          0          1          0          0          0           1   \n2916          0          1          0          0          0           1   \n2917          0          0          1          0          0           1   \n2918          0          0          1          0          0           1   \n\n      BsmtExposure_0  BsmtExposure_1  BsmtExposure_2  \n0                  0               0               1  \n1                  0               1               0  \n2                  0               1               1  \n3                  0               0               1  \n4                  1               0               0  \n...              ...             ...             ...  \n2914               0               0               1  \n2915               0               0               1  \n2916               0               0               1  \n2917               1               0               0  \n2918               1               0               0  \n\n[2919 rows x 99 columns]",
      "text/html": "<div>\n<style scoped>\n    .dataframe tbody tr th:only-of-type {\n        vertical-align: middle;\n    }\n\n    .dataframe tbody tr th {\n        vertical-align: top;\n    }\n\n    .dataframe thead th {\n        text-align: right;\n    }\n</style>\n<table border=\"1\" class=\"dataframe\">\n  <thead>\n    <tr style=\"text-align: right;\">\n      <th></th>\n      <th>BsmtFinType1</th>\n      <th>BsmtFinType2</th>\n      <th>Heating</th>\n      <th>HeatingQC</th>\n      <th>CentralAir</th>\n      <th>Electrical</th>\n      <th>KitchenQual</th>\n      <th>Functional</th>\n      <th>FireplaceQu</th>\n      <th>GarageType</th>\n      <th>...</th>\n      <th>Foundation_2</th>\n      <th>BsmtQual_0</th>\n      <th>BsmtQual_1</th>\n      <th>BsmtQual_2</th>\n      <th>BsmtCond_0</th>\n      <th>BsmtCond_1</th>\n      <th>BsmtCond_2</th>\n      <th>BsmtExposure_0</th>\n      <th>BsmtExposure_1</th>\n      <th>BsmtExposure_2</th>\n    </tr>\n  </thead>\n  <tbody>\n    <tr>\n      <th>0</th>\n      <td>GLQ</td>\n      <td>Unf</td>\n      <td>GasA</td>\n      <td>Ex</td>\n      <td>Y</td>\n      <td>SBrkr</td>\n      <td>Gd</td>\n      <td>Typ</td>\n      <td>Gd</td>\n      <td>Attchd</td>\n      <td>...</td>\n      <td>1</td>\n      <td>0</td>\n      <td>0</td>\n      <td>1</td>\n      <td>0</td>\n      <td>0</td>\n      <td>1</td>\n      <td>0</td>\n      <td>0</td>\n      <td>1</td>\n    </tr>\n    <tr>\n      <th>1</th>\n      <td>ALQ</td>\n      <td>Unf</td>\n      <td>GasA</td>\n      <td>Ex</td>\n      <td>Y</td>\n      <td>SBrkr</td>\n      <td>TA</td>\n      <td>Typ</td>\n      <td>TA</td>\n      <td>Attchd</td>\n      <td>...</td>\n      <td>0</td>\n      <td>0</td>\n      <td>0</td>\n      <td>1</td>\n      <td>0</td>\n      <td>0</td>\n      <td>1</td>\n      <td>0</td>\n      <td>1</td>\n      <td>0</td>\n    </tr>\n    <tr>\n      <th>2</th>\n      <td>GLQ</td>\n      <td>Unf</td>\n      <td>GasA</td>\n      <td>Ex</td>\n      <td>Y</td>\n      <td>SBrkr</td>\n      <td>Gd</td>\n      <td>Typ</td>\n      <td>TA</td>\n      <td>Attchd</td>\n      <td>...</td>\n      <td>1</td>\n      <td>0</td>\n      <td>0</td>\n      <td>1</td>\n      <td>0</td>\n      <td>0</td>\n      <td>1</td>\n      <td>0</td>\n      <td>1</td>\n      <td>1</td>\n    </tr>\n    <tr>\n      <th>3</th>\n      <td>ALQ</td>\n      <td>Unf</td>\n      <td>GasA</td>\n      <td>Gd</td>\n      <td>Y</td>\n      <td>SBrkr</td>\n      <td>Gd</td>\n      <td>Typ</td>\n      <td>Gd</td>\n      <td>Detchd</td>\n      <td>...</td>\n      <td>1</td>\n      <td>0</td>\n      <td>1</td>\n      <td>0</td>\n      <td>0</td>\n      <td>1</td>\n      <td>0</td>\n      <td>0</td>\n      <td>0</td>\n      <td>1</td>\n    </tr>\n    <tr>\n      <th>4</th>\n      <td>GLQ</td>\n      <td>Unf</td>\n      <td>GasA</td>\n      <td>Ex</td>\n      <td>Y</td>\n      <td>SBrkr</td>\n      <td>Gd</td>\n      <td>Typ</td>\n      <td>TA</td>\n      <td>Attchd</td>\n      <td>...</td>\n      <td>1</td>\n      <td>0</td>\n      <td>0</td>\n      <td>1</td>\n      <td>0</td>\n      <td>0</td>\n      <td>1</td>\n      <td>1</td>\n      <td>0</td>\n      <td>0</td>\n    </tr>\n    <tr>\n      <th>...</th>\n      <td>...</td>\n      <td>...</td>\n      <td>...</td>\n      <td>...</td>\n      <td>...</td>\n      <td>...</td>\n      <td>...</td>\n      <td>...</td>\n      <td>...</td>\n      <td>...</td>\n      <td>...</td>\n      <td>...</td>\n      <td>...</td>\n      <td>...</td>\n      <td>...</td>\n      <td>...</td>\n      <td>...</td>\n      <td>...</td>\n      <td>...</td>\n      <td>...</td>\n      <td>...</td>\n    </tr>\n    <tr>\n      <th>2914</th>\n      <td>Unf</td>\n      <td>Unf</td>\n      <td>GasA</td>\n      <td>Gd</td>\n      <td>Y</td>\n      <td>SBrkr</td>\n      <td>TA</td>\n      <td>Typ</td>\n      <td>Gd</td>\n      <td>Attchd</td>\n      <td>...</td>\n      <td>0</td>\n      <td>0</td>\n      <td>1</td>\n      <td>0</td>\n      <td>0</td>\n      <td>0</td>\n      <td>1</td>\n      <td>0</td>\n      <td>0</td>\n      <td>1</td>\n    </tr>\n    <tr>\n      <th>2915</th>\n      <td>Rec</td>\n      <td>Unf</td>\n      <td>GasA</td>\n      <td>TA</td>\n      <td>Y</td>\n      <td>SBrkr</td>\n      <td>TA</td>\n      <td>Typ</td>\n      <td>Gd</td>\n      <td>CarPort</td>\n      <td>...</td>\n      <td>0</td>\n      <td>0</td>\n      <td>1</td>\n      <td>0</td>\n      <td>0</td>\n      <td>0</td>\n      <td>1</td>\n      <td>0</td>\n      <td>0</td>\n      <td>1</td>\n    </tr>\n    <tr>\n      <th>2916</th>\n      <td>ALQ</td>\n      <td>Unf</td>\n      <td>GasA</td>\n      <td>Ex</td>\n      <td>Y</td>\n      <td>SBrkr</td>\n      <td>TA</td>\n      <td>Typ</td>\n      <td>TA</td>\n      <td>Detchd</td>\n      <td>...</td>\n      <td>0</td>\n      <td>0</td>\n      <td>1</td>\n      <td>0</td>\n      <td>0</td>\n      <td>0</td>\n      <td>1</td>\n      <td>0</td>\n      <td>0</td>\n      <td>1</td>\n    </tr>\n    <tr>\n      <th>2917</th>\n      <td>GLQ</td>\n      <td>Unf</td>\n      <td>GasA</td>\n      <td>TA</td>\n      <td>Y</td>\n      <td>SBrkr</td>\n      <td>TA</td>\n      <td>Typ</td>\n      <td>Gd</td>\n      <td>Attchd</td>\n      <td>...</td>\n      <td>1</td>\n      <td>0</td>\n      <td>0</td>\n      <td>1</td>\n      <td>0</td>\n      <td>0</td>\n      <td>1</td>\n      <td>1</td>\n      <td>0</td>\n      <td>0</td>\n    </tr>\n    <tr>\n      <th>2918</th>\n      <td>LwQ</td>\n      <td>Unf</td>\n      <td>GasA</td>\n      <td>Ex</td>\n      <td>Y</td>\n      <td>SBrkr</td>\n      <td>TA</td>\n      <td>Typ</td>\n      <td>TA</td>\n      <td>Attchd</td>\n      <td>...</td>\n      <td>1</td>\n      <td>0</td>\n      <td>0</td>\n      <td>1</td>\n      <td>0</td>\n      <td>0</td>\n      <td>1</td>\n      <td>1</td>\n      <td>0</td>\n      <td>0</td>\n    </tr>\n  </tbody>\n</table>\n<p>2919 rows × 99 columns</p>\n</div>"
     },
     "execution_count": 56,
     "metadata": {},
     "output_type": "execute_result"
    }
   ],
   "source": [
    "encoder = ce.BinaryEncoder(categorical_data['BsmtExposure'])\n",
    "df1 = encoder.fit_transform(categorical_data['BsmtExposure'])\n",
    "categorical_data = pd.concat([categorical_data, df1], axis=1).reindex(categorical_data.index)\n",
    "categorical_data.drop('BsmtExposure', axis=1, inplace=True)\n",
    "categorical_data"
   ],
   "metadata": {
    "collapsed": false,
    "pycharm": {
     "name": "#%%\n"
    }
   }
  },
  {
   "cell_type": "code",
   "execution_count": 57,
   "outputs": [
    {
     "data": {
      "text/plain": "array(['GLQ', 'ALQ', 'Unf', 'Rec', 'BLQ', 'LwQ'], dtype=object)"
     },
     "execution_count": 57,
     "metadata": {},
     "output_type": "execute_result"
    }
   ],
   "source": [
    "categorical_data['BsmtFinType1'].unique()"
   ],
   "metadata": {
    "collapsed": false,
    "pycharm": {
     "name": "#%%\n"
    }
   }
  },
  {
   "cell_type": "code",
   "execution_count": 58,
   "outputs": [
    {
     "data": {
      "text/plain": "     BsmtFinType2 Heating HeatingQC CentralAir Electrical KitchenQual  \\\n0             Unf    GasA        Ex          Y      SBrkr          Gd   \n1             Unf    GasA        Ex          Y      SBrkr          TA   \n2             Unf    GasA        Ex          Y      SBrkr          Gd   \n3             Unf    GasA        Gd          Y      SBrkr          Gd   \n4             Unf    GasA        Ex          Y      SBrkr          Gd   \n...           ...     ...       ...        ...        ...         ...   \n2914          Unf    GasA        Gd          Y      SBrkr          TA   \n2915          Unf    GasA        TA          Y      SBrkr          TA   \n2916          Unf    GasA        Ex          Y      SBrkr          TA   \n2917          Unf    GasA        TA          Y      SBrkr          TA   \n2918          Unf    GasA        Ex          Y      SBrkr          TA   \n\n     Functional FireplaceQu GarageType GarageFinish  ... BsmtQual_2  \\\n0           Typ          Gd     Attchd          RFn  ...          1   \n1           Typ          TA     Attchd          RFn  ...          1   \n2           Typ          TA     Attchd          RFn  ...          1   \n3           Typ          Gd     Detchd          Unf  ...          0   \n4           Typ          TA     Attchd          RFn  ...          1   \n...         ...         ...        ...          ...  ...        ...   \n2914        Typ          Gd     Attchd          Unf  ...          0   \n2915        Typ          Gd    CarPort          Unf  ...          0   \n2916        Typ          TA     Detchd          Unf  ...          0   \n2917        Typ          Gd     Attchd          Unf  ...          1   \n2918        Typ          TA     Attchd          Fin  ...          1   \n\n     BsmtCond_0 BsmtCond_1 BsmtCond_2 BsmtExposure_0  BsmtExposure_1  \\\n0             0          0          1              0               0   \n1             0          0          1              0               1   \n2             0          0          1              0               1   \n3             0          1          0              0               0   \n4             0          0          1              1               0   \n...         ...        ...        ...            ...             ...   \n2914          0          0          1              0               0   \n2915          0          0          1              0               0   \n2916          0          0          1              0               0   \n2917          0          0          1              1               0   \n2918          0          0          1              1               0   \n\n      BsmtExposure_2  BsmtFinType1_0  BsmtFinType1_1  BsmtFinType1_2  \n0                  1               0               0               1  \n1                  0               0               1               0  \n2                  1               0               0               1  \n3                  1               0               1               0  \n4                  0               0               0               1  \n...              ...             ...             ...             ...  \n2914               1               0               1               1  \n2915               1               1               0               0  \n2916               1               0               1               0  \n2917               0               0               0               1  \n2918               0               1               1               0  \n\n[2919 rows x 101 columns]",
      "text/html": "<div>\n<style scoped>\n    .dataframe tbody tr th:only-of-type {\n        vertical-align: middle;\n    }\n\n    .dataframe tbody tr th {\n        vertical-align: top;\n    }\n\n    .dataframe thead th {\n        text-align: right;\n    }\n</style>\n<table border=\"1\" class=\"dataframe\">\n  <thead>\n    <tr style=\"text-align: right;\">\n      <th></th>\n      <th>BsmtFinType2</th>\n      <th>Heating</th>\n      <th>HeatingQC</th>\n      <th>CentralAir</th>\n      <th>Electrical</th>\n      <th>KitchenQual</th>\n      <th>Functional</th>\n      <th>FireplaceQu</th>\n      <th>GarageType</th>\n      <th>GarageFinish</th>\n      <th>...</th>\n      <th>BsmtQual_2</th>\n      <th>BsmtCond_0</th>\n      <th>BsmtCond_1</th>\n      <th>BsmtCond_2</th>\n      <th>BsmtExposure_0</th>\n      <th>BsmtExposure_1</th>\n      <th>BsmtExposure_2</th>\n      <th>BsmtFinType1_0</th>\n      <th>BsmtFinType1_1</th>\n      <th>BsmtFinType1_2</th>\n    </tr>\n  </thead>\n  <tbody>\n    <tr>\n      <th>0</th>\n      <td>Unf</td>\n      <td>GasA</td>\n      <td>Ex</td>\n      <td>Y</td>\n      <td>SBrkr</td>\n      <td>Gd</td>\n      <td>Typ</td>\n      <td>Gd</td>\n      <td>Attchd</td>\n      <td>RFn</td>\n      <td>...</td>\n      <td>1</td>\n      <td>0</td>\n      <td>0</td>\n      <td>1</td>\n      <td>0</td>\n      <td>0</td>\n      <td>1</td>\n      <td>0</td>\n      <td>0</td>\n      <td>1</td>\n    </tr>\n    <tr>\n      <th>1</th>\n      <td>Unf</td>\n      <td>GasA</td>\n      <td>Ex</td>\n      <td>Y</td>\n      <td>SBrkr</td>\n      <td>TA</td>\n      <td>Typ</td>\n      <td>TA</td>\n      <td>Attchd</td>\n      <td>RFn</td>\n      <td>...</td>\n      <td>1</td>\n      <td>0</td>\n      <td>0</td>\n      <td>1</td>\n      <td>0</td>\n      <td>1</td>\n      <td>0</td>\n      <td>0</td>\n      <td>1</td>\n      <td>0</td>\n    </tr>\n    <tr>\n      <th>2</th>\n      <td>Unf</td>\n      <td>GasA</td>\n      <td>Ex</td>\n      <td>Y</td>\n      <td>SBrkr</td>\n      <td>Gd</td>\n      <td>Typ</td>\n      <td>TA</td>\n      <td>Attchd</td>\n      <td>RFn</td>\n      <td>...</td>\n      <td>1</td>\n      <td>0</td>\n      <td>0</td>\n      <td>1</td>\n      <td>0</td>\n      <td>1</td>\n      <td>1</td>\n      <td>0</td>\n      <td>0</td>\n      <td>1</td>\n    </tr>\n    <tr>\n      <th>3</th>\n      <td>Unf</td>\n      <td>GasA</td>\n      <td>Gd</td>\n      <td>Y</td>\n      <td>SBrkr</td>\n      <td>Gd</td>\n      <td>Typ</td>\n      <td>Gd</td>\n      <td>Detchd</td>\n      <td>Unf</td>\n      <td>...</td>\n      <td>0</td>\n      <td>0</td>\n      <td>1</td>\n      <td>0</td>\n      <td>0</td>\n      <td>0</td>\n      <td>1</td>\n      <td>0</td>\n      <td>1</td>\n      <td>0</td>\n    </tr>\n    <tr>\n      <th>4</th>\n      <td>Unf</td>\n      <td>GasA</td>\n      <td>Ex</td>\n      <td>Y</td>\n      <td>SBrkr</td>\n      <td>Gd</td>\n      <td>Typ</td>\n      <td>TA</td>\n      <td>Attchd</td>\n      <td>RFn</td>\n      <td>...</td>\n      <td>1</td>\n      <td>0</td>\n      <td>0</td>\n      <td>1</td>\n      <td>1</td>\n      <td>0</td>\n      <td>0</td>\n      <td>0</td>\n      <td>0</td>\n      <td>1</td>\n    </tr>\n    <tr>\n      <th>...</th>\n      <td>...</td>\n      <td>...</td>\n      <td>...</td>\n      <td>...</td>\n      <td>...</td>\n      <td>...</td>\n      <td>...</td>\n      <td>...</td>\n      <td>...</td>\n      <td>...</td>\n      <td>...</td>\n      <td>...</td>\n      <td>...</td>\n      <td>...</td>\n      <td>...</td>\n      <td>...</td>\n      <td>...</td>\n      <td>...</td>\n      <td>...</td>\n      <td>...</td>\n      <td>...</td>\n    </tr>\n    <tr>\n      <th>2914</th>\n      <td>Unf</td>\n      <td>GasA</td>\n      <td>Gd</td>\n      <td>Y</td>\n      <td>SBrkr</td>\n      <td>TA</td>\n      <td>Typ</td>\n      <td>Gd</td>\n      <td>Attchd</td>\n      <td>Unf</td>\n      <td>...</td>\n      <td>0</td>\n      <td>0</td>\n      <td>0</td>\n      <td>1</td>\n      <td>0</td>\n      <td>0</td>\n      <td>1</td>\n      <td>0</td>\n      <td>1</td>\n      <td>1</td>\n    </tr>\n    <tr>\n      <th>2915</th>\n      <td>Unf</td>\n      <td>GasA</td>\n      <td>TA</td>\n      <td>Y</td>\n      <td>SBrkr</td>\n      <td>TA</td>\n      <td>Typ</td>\n      <td>Gd</td>\n      <td>CarPort</td>\n      <td>Unf</td>\n      <td>...</td>\n      <td>0</td>\n      <td>0</td>\n      <td>0</td>\n      <td>1</td>\n      <td>0</td>\n      <td>0</td>\n      <td>1</td>\n      <td>1</td>\n      <td>0</td>\n      <td>0</td>\n    </tr>\n    <tr>\n      <th>2916</th>\n      <td>Unf</td>\n      <td>GasA</td>\n      <td>Ex</td>\n      <td>Y</td>\n      <td>SBrkr</td>\n      <td>TA</td>\n      <td>Typ</td>\n      <td>TA</td>\n      <td>Detchd</td>\n      <td>Unf</td>\n      <td>...</td>\n      <td>0</td>\n      <td>0</td>\n      <td>0</td>\n      <td>1</td>\n      <td>0</td>\n      <td>0</td>\n      <td>1</td>\n      <td>0</td>\n      <td>1</td>\n      <td>0</td>\n    </tr>\n    <tr>\n      <th>2917</th>\n      <td>Unf</td>\n      <td>GasA</td>\n      <td>TA</td>\n      <td>Y</td>\n      <td>SBrkr</td>\n      <td>TA</td>\n      <td>Typ</td>\n      <td>Gd</td>\n      <td>Attchd</td>\n      <td>Unf</td>\n      <td>...</td>\n      <td>1</td>\n      <td>0</td>\n      <td>0</td>\n      <td>1</td>\n      <td>1</td>\n      <td>0</td>\n      <td>0</td>\n      <td>0</td>\n      <td>0</td>\n      <td>1</td>\n    </tr>\n    <tr>\n      <th>2918</th>\n      <td>Unf</td>\n      <td>GasA</td>\n      <td>Ex</td>\n      <td>Y</td>\n      <td>SBrkr</td>\n      <td>TA</td>\n      <td>Typ</td>\n      <td>TA</td>\n      <td>Attchd</td>\n      <td>Fin</td>\n      <td>...</td>\n      <td>1</td>\n      <td>0</td>\n      <td>0</td>\n      <td>1</td>\n      <td>1</td>\n      <td>0</td>\n      <td>0</td>\n      <td>1</td>\n      <td>1</td>\n      <td>0</td>\n    </tr>\n  </tbody>\n</table>\n<p>2919 rows × 101 columns</p>\n</div>"
     },
     "execution_count": 58,
     "metadata": {},
     "output_type": "execute_result"
    }
   ],
   "source": [
    "encoder = ce.BinaryEncoder(categorical_data['BsmtFinType1'])\n",
    "df1 = encoder.fit_transform(categorical_data['BsmtFinType1'])\n",
    "categorical_data = pd.concat([categorical_data, df1], axis=1).reindex(categorical_data.index)\n",
    "categorical_data.drop('BsmtFinType1', axis=1, inplace=True)\n",
    "categorical_data"
   ],
   "metadata": {
    "collapsed": false,
    "pycharm": {
     "name": "#%%\n"
    }
   }
  },
  {
   "cell_type": "code",
   "execution_count": 59,
   "outputs": [
    {
     "data": {
      "text/plain": "array(['Unf', 'BLQ', 'ALQ', 'Rec', 'LwQ', 'GLQ'], dtype=object)"
     },
     "execution_count": 59,
     "metadata": {},
     "output_type": "execute_result"
    }
   ],
   "source": [
    "categorical_data['BsmtFinType2'].unique()"
   ],
   "metadata": {
    "collapsed": false,
    "pycharm": {
     "name": "#%%\n"
    }
   }
  },
  {
   "cell_type": "code",
   "execution_count": 60,
   "outputs": [
    {
     "data": {
      "text/plain": "     Heating HeatingQC CentralAir Electrical KitchenQual Functional  \\\n0       GasA        Ex          Y      SBrkr          Gd        Typ   \n1       GasA        Ex          Y      SBrkr          TA        Typ   \n2       GasA        Ex          Y      SBrkr          Gd        Typ   \n3       GasA        Gd          Y      SBrkr          Gd        Typ   \n4       GasA        Ex          Y      SBrkr          Gd        Typ   \n...      ...       ...        ...        ...         ...        ...   \n2914    GasA        Gd          Y      SBrkr          TA        Typ   \n2915    GasA        TA          Y      SBrkr          TA        Typ   \n2916    GasA        Ex          Y      SBrkr          TA        Typ   \n2917    GasA        TA          Y      SBrkr          TA        Typ   \n2918    GasA        Ex          Y      SBrkr          TA        Typ   \n\n     FireplaceQu GarageType GarageFinish GarageQual  ... BsmtCond_2  \\\n0             Gd     Attchd          RFn         TA  ...          1   \n1             TA     Attchd          RFn         TA  ...          1   \n2             TA     Attchd          RFn         TA  ...          1   \n3             Gd     Detchd          Unf         TA  ...          0   \n4             TA     Attchd          RFn         TA  ...          1   \n...          ...        ...          ...        ...  ...        ...   \n2914          Gd     Attchd          Unf         TA  ...          1   \n2915          Gd    CarPort          Unf         TA  ...          1   \n2916          TA     Detchd          Unf         TA  ...          1   \n2917          Gd     Attchd          Unf         TA  ...          1   \n2918          TA     Attchd          Fin         TA  ...          1   \n\n     BsmtExposure_0 BsmtExposure_1 BsmtExposure_2  BsmtFinType1_0  \\\n0                 0              0              1               0   \n1                 0              1              0               0   \n2                 0              1              1               0   \n3                 0              0              1               0   \n4                 1              0              0               0   \n...             ...            ...            ...             ...   \n2914              0              0              1               0   \n2915              0              0              1               1   \n2916              0              0              1               0   \n2917              1              0              0               0   \n2918              1              0              0               1   \n\n      BsmtFinType1_1  BsmtFinType1_2  BsmtFinType2_0  BsmtFinType2_1  \\\n0                  0               1               0               0   \n1                  1               0               0               0   \n2                  0               1               0               0   \n3                  1               0               0               0   \n4                  0               1               0               0   \n...              ...             ...             ...             ...   \n2914               1               1               0               0   \n2915               0               0               0               0   \n2916               1               0               0               0   \n2917               0               1               0               0   \n2918               1               0               0               0   \n\n      BsmtFinType2_2  \n0                  1  \n1                  1  \n2                  1  \n3                  1  \n4                  1  \n...              ...  \n2914               1  \n2915               1  \n2916               1  \n2917               1  \n2918               1  \n\n[2919 rows x 103 columns]",
      "text/html": "<div>\n<style scoped>\n    .dataframe tbody tr th:only-of-type {\n        vertical-align: middle;\n    }\n\n    .dataframe tbody tr th {\n        vertical-align: top;\n    }\n\n    .dataframe thead th {\n        text-align: right;\n    }\n</style>\n<table border=\"1\" class=\"dataframe\">\n  <thead>\n    <tr style=\"text-align: right;\">\n      <th></th>\n      <th>Heating</th>\n      <th>HeatingQC</th>\n      <th>CentralAir</th>\n      <th>Electrical</th>\n      <th>KitchenQual</th>\n      <th>Functional</th>\n      <th>FireplaceQu</th>\n      <th>GarageType</th>\n      <th>GarageFinish</th>\n      <th>GarageQual</th>\n      <th>...</th>\n      <th>BsmtCond_2</th>\n      <th>BsmtExposure_0</th>\n      <th>BsmtExposure_1</th>\n      <th>BsmtExposure_2</th>\n      <th>BsmtFinType1_0</th>\n      <th>BsmtFinType1_1</th>\n      <th>BsmtFinType1_2</th>\n      <th>BsmtFinType2_0</th>\n      <th>BsmtFinType2_1</th>\n      <th>BsmtFinType2_2</th>\n    </tr>\n  </thead>\n  <tbody>\n    <tr>\n      <th>0</th>\n      <td>GasA</td>\n      <td>Ex</td>\n      <td>Y</td>\n      <td>SBrkr</td>\n      <td>Gd</td>\n      <td>Typ</td>\n      <td>Gd</td>\n      <td>Attchd</td>\n      <td>RFn</td>\n      <td>TA</td>\n      <td>...</td>\n      <td>1</td>\n      <td>0</td>\n      <td>0</td>\n      <td>1</td>\n      <td>0</td>\n      <td>0</td>\n      <td>1</td>\n      <td>0</td>\n      <td>0</td>\n      <td>1</td>\n    </tr>\n    <tr>\n      <th>1</th>\n      <td>GasA</td>\n      <td>Ex</td>\n      <td>Y</td>\n      <td>SBrkr</td>\n      <td>TA</td>\n      <td>Typ</td>\n      <td>TA</td>\n      <td>Attchd</td>\n      <td>RFn</td>\n      <td>TA</td>\n      <td>...</td>\n      <td>1</td>\n      <td>0</td>\n      <td>1</td>\n      <td>0</td>\n      <td>0</td>\n      <td>1</td>\n      <td>0</td>\n      <td>0</td>\n      <td>0</td>\n      <td>1</td>\n    </tr>\n    <tr>\n      <th>2</th>\n      <td>GasA</td>\n      <td>Ex</td>\n      <td>Y</td>\n      <td>SBrkr</td>\n      <td>Gd</td>\n      <td>Typ</td>\n      <td>TA</td>\n      <td>Attchd</td>\n      <td>RFn</td>\n      <td>TA</td>\n      <td>...</td>\n      <td>1</td>\n      <td>0</td>\n      <td>1</td>\n      <td>1</td>\n      <td>0</td>\n      <td>0</td>\n      <td>1</td>\n      <td>0</td>\n      <td>0</td>\n      <td>1</td>\n    </tr>\n    <tr>\n      <th>3</th>\n      <td>GasA</td>\n      <td>Gd</td>\n      <td>Y</td>\n      <td>SBrkr</td>\n      <td>Gd</td>\n      <td>Typ</td>\n      <td>Gd</td>\n      <td>Detchd</td>\n      <td>Unf</td>\n      <td>TA</td>\n      <td>...</td>\n      <td>0</td>\n      <td>0</td>\n      <td>0</td>\n      <td>1</td>\n      <td>0</td>\n      <td>1</td>\n      <td>0</td>\n      <td>0</td>\n      <td>0</td>\n      <td>1</td>\n    </tr>\n    <tr>\n      <th>4</th>\n      <td>GasA</td>\n      <td>Ex</td>\n      <td>Y</td>\n      <td>SBrkr</td>\n      <td>Gd</td>\n      <td>Typ</td>\n      <td>TA</td>\n      <td>Attchd</td>\n      <td>RFn</td>\n      <td>TA</td>\n      <td>...</td>\n      <td>1</td>\n      <td>1</td>\n      <td>0</td>\n      <td>0</td>\n      <td>0</td>\n      <td>0</td>\n      <td>1</td>\n      <td>0</td>\n      <td>0</td>\n      <td>1</td>\n    </tr>\n    <tr>\n      <th>...</th>\n      <td>...</td>\n      <td>...</td>\n      <td>...</td>\n      <td>...</td>\n      <td>...</td>\n      <td>...</td>\n      <td>...</td>\n      <td>...</td>\n      <td>...</td>\n      <td>...</td>\n      <td>...</td>\n      <td>...</td>\n      <td>...</td>\n      <td>...</td>\n      <td>...</td>\n      <td>...</td>\n      <td>...</td>\n      <td>...</td>\n      <td>...</td>\n      <td>...</td>\n      <td>...</td>\n    </tr>\n    <tr>\n      <th>2914</th>\n      <td>GasA</td>\n      <td>Gd</td>\n      <td>Y</td>\n      <td>SBrkr</td>\n      <td>TA</td>\n      <td>Typ</td>\n      <td>Gd</td>\n      <td>Attchd</td>\n      <td>Unf</td>\n      <td>TA</td>\n      <td>...</td>\n      <td>1</td>\n      <td>0</td>\n      <td>0</td>\n      <td>1</td>\n      <td>0</td>\n      <td>1</td>\n      <td>1</td>\n      <td>0</td>\n      <td>0</td>\n      <td>1</td>\n    </tr>\n    <tr>\n      <th>2915</th>\n      <td>GasA</td>\n      <td>TA</td>\n      <td>Y</td>\n      <td>SBrkr</td>\n      <td>TA</td>\n      <td>Typ</td>\n      <td>Gd</td>\n      <td>CarPort</td>\n      <td>Unf</td>\n      <td>TA</td>\n      <td>...</td>\n      <td>1</td>\n      <td>0</td>\n      <td>0</td>\n      <td>1</td>\n      <td>1</td>\n      <td>0</td>\n      <td>0</td>\n      <td>0</td>\n      <td>0</td>\n      <td>1</td>\n    </tr>\n    <tr>\n      <th>2916</th>\n      <td>GasA</td>\n      <td>Ex</td>\n      <td>Y</td>\n      <td>SBrkr</td>\n      <td>TA</td>\n      <td>Typ</td>\n      <td>TA</td>\n      <td>Detchd</td>\n      <td>Unf</td>\n      <td>TA</td>\n      <td>...</td>\n      <td>1</td>\n      <td>0</td>\n      <td>0</td>\n      <td>1</td>\n      <td>0</td>\n      <td>1</td>\n      <td>0</td>\n      <td>0</td>\n      <td>0</td>\n      <td>1</td>\n    </tr>\n    <tr>\n      <th>2917</th>\n      <td>GasA</td>\n      <td>TA</td>\n      <td>Y</td>\n      <td>SBrkr</td>\n      <td>TA</td>\n      <td>Typ</td>\n      <td>Gd</td>\n      <td>Attchd</td>\n      <td>Unf</td>\n      <td>TA</td>\n      <td>...</td>\n      <td>1</td>\n      <td>1</td>\n      <td>0</td>\n      <td>0</td>\n      <td>0</td>\n      <td>0</td>\n      <td>1</td>\n      <td>0</td>\n      <td>0</td>\n      <td>1</td>\n    </tr>\n    <tr>\n      <th>2918</th>\n      <td>GasA</td>\n      <td>Ex</td>\n      <td>Y</td>\n      <td>SBrkr</td>\n      <td>TA</td>\n      <td>Typ</td>\n      <td>TA</td>\n      <td>Attchd</td>\n      <td>Fin</td>\n      <td>TA</td>\n      <td>...</td>\n      <td>1</td>\n      <td>1</td>\n      <td>0</td>\n      <td>0</td>\n      <td>1</td>\n      <td>1</td>\n      <td>0</td>\n      <td>0</td>\n      <td>0</td>\n      <td>1</td>\n    </tr>\n  </tbody>\n</table>\n<p>2919 rows × 103 columns</p>\n</div>"
     },
     "execution_count": 60,
     "metadata": {},
     "output_type": "execute_result"
    }
   ],
   "source": [
    "encoder = ce.BinaryEncoder(categorical_data['BsmtFinType2'])\n",
    "df1 = encoder.fit_transform(categorical_data['BsmtFinType2'])\n",
    "categorical_data = pd.concat([categorical_data, df1], axis=1).reindex(categorical_data.index)\n",
    "categorical_data.drop('BsmtFinType2', axis=1, inplace=True)\n",
    "categorical_data"
   ],
   "metadata": {
    "collapsed": false,
    "pycharm": {
     "name": "#%%\n"
    }
   }
  },
  {
   "cell_type": "code",
   "execution_count": 61,
   "outputs": [
    {
     "data": {
      "text/plain": "array(['GasA', 'GasW', 'Grav', 'Wall', 'OthW', 'Floor'], dtype=object)"
     },
     "execution_count": 61,
     "metadata": {},
     "output_type": "execute_result"
    }
   ],
   "source": [
    "categorical_data['Heating'].unique()"
   ],
   "metadata": {
    "collapsed": false,
    "pycharm": {
     "name": "#%%\n"
    }
   }
  },
  {
   "cell_type": "code",
   "execution_count": 62,
   "outputs": [
    {
     "data": {
      "text/plain": "     HeatingQC CentralAir Electrical KitchenQual Functional FireplaceQu  \\\n0           Ex          Y      SBrkr          Gd        Typ          Gd   \n1           Ex          Y      SBrkr          TA        Typ          TA   \n2           Ex          Y      SBrkr          Gd        Typ          TA   \n3           Gd          Y      SBrkr          Gd        Typ          Gd   \n4           Ex          Y      SBrkr          Gd        Typ          TA   \n...        ...        ...        ...         ...        ...         ...   \n2914        Gd          Y      SBrkr          TA        Typ          Gd   \n2915        TA          Y      SBrkr          TA        Typ          Gd   \n2916        Ex          Y      SBrkr          TA        Typ          TA   \n2917        TA          Y      SBrkr          TA        Typ          Gd   \n2918        Ex          Y      SBrkr          TA        Typ          TA   \n\n     GarageType GarageFinish GarageQual GarageCond  ... BsmtExposure_2  \\\n0        Attchd          RFn         TA         TA  ...              1   \n1        Attchd          RFn         TA         TA  ...              0   \n2        Attchd          RFn         TA         TA  ...              1   \n3        Detchd          Unf         TA         TA  ...              1   \n4        Attchd          RFn         TA         TA  ...              0   \n...         ...          ...        ...        ...  ...            ...   \n2914     Attchd          Unf         TA         TA  ...              1   \n2915    CarPort          Unf         TA         TA  ...              1   \n2916     Detchd          Unf         TA         TA  ...              1   \n2917     Attchd          Unf         TA         TA  ...              0   \n2918     Attchd          Fin         TA         TA  ...              0   \n\n     BsmtFinType1_0 BsmtFinType1_1  BsmtFinType1_2  BsmtFinType2_0  \\\n0                 0              0               1               0   \n1                 0              1               0               0   \n2                 0              0               1               0   \n3                 0              1               0               0   \n4                 0              0               1               0   \n...             ...            ...             ...             ...   \n2914              0              1               1               0   \n2915              1              0               0               0   \n2916              0              1               0               0   \n2917              0              0               1               0   \n2918              1              1               0               0   \n\n      BsmtFinType2_1  BsmtFinType2_2  Heating_0  Heating_1  Heating_2  \n0                  0               1          0          0          1  \n1                  0               1          0          0          1  \n2                  0               1          0          0          1  \n3                  0               1          0          0          1  \n4                  0               1          0          0          1  \n...              ...             ...        ...        ...        ...  \n2914               0               1          0          0          1  \n2915               0               1          0          0          1  \n2916               0               1          0          0          1  \n2917               0               1          0          0          1  \n2918               0               1          0          0          1  \n\n[2919 rows x 105 columns]",
      "text/html": "<div>\n<style scoped>\n    .dataframe tbody tr th:only-of-type {\n        vertical-align: middle;\n    }\n\n    .dataframe tbody tr th {\n        vertical-align: top;\n    }\n\n    .dataframe thead th {\n        text-align: right;\n    }\n</style>\n<table border=\"1\" class=\"dataframe\">\n  <thead>\n    <tr style=\"text-align: right;\">\n      <th></th>\n      <th>HeatingQC</th>\n      <th>CentralAir</th>\n      <th>Electrical</th>\n      <th>KitchenQual</th>\n      <th>Functional</th>\n      <th>FireplaceQu</th>\n      <th>GarageType</th>\n      <th>GarageFinish</th>\n      <th>GarageQual</th>\n      <th>GarageCond</th>\n      <th>...</th>\n      <th>BsmtExposure_2</th>\n      <th>BsmtFinType1_0</th>\n      <th>BsmtFinType1_1</th>\n      <th>BsmtFinType1_2</th>\n      <th>BsmtFinType2_0</th>\n      <th>BsmtFinType2_1</th>\n      <th>BsmtFinType2_2</th>\n      <th>Heating_0</th>\n      <th>Heating_1</th>\n      <th>Heating_2</th>\n    </tr>\n  </thead>\n  <tbody>\n    <tr>\n      <th>0</th>\n      <td>Ex</td>\n      <td>Y</td>\n      <td>SBrkr</td>\n      <td>Gd</td>\n      <td>Typ</td>\n      <td>Gd</td>\n      <td>Attchd</td>\n      <td>RFn</td>\n      <td>TA</td>\n      <td>TA</td>\n      <td>...</td>\n      <td>1</td>\n      <td>0</td>\n      <td>0</td>\n      <td>1</td>\n      <td>0</td>\n      <td>0</td>\n      <td>1</td>\n      <td>0</td>\n      <td>0</td>\n      <td>1</td>\n    </tr>\n    <tr>\n      <th>1</th>\n      <td>Ex</td>\n      <td>Y</td>\n      <td>SBrkr</td>\n      <td>TA</td>\n      <td>Typ</td>\n      <td>TA</td>\n      <td>Attchd</td>\n      <td>RFn</td>\n      <td>TA</td>\n      <td>TA</td>\n      <td>...</td>\n      <td>0</td>\n      <td>0</td>\n      <td>1</td>\n      <td>0</td>\n      <td>0</td>\n      <td>0</td>\n      <td>1</td>\n      <td>0</td>\n      <td>0</td>\n      <td>1</td>\n    </tr>\n    <tr>\n      <th>2</th>\n      <td>Ex</td>\n      <td>Y</td>\n      <td>SBrkr</td>\n      <td>Gd</td>\n      <td>Typ</td>\n      <td>TA</td>\n      <td>Attchd</td>\n      <td>RFn</td>\n      <td>TA</td>\n      <td>TA</td>\n      <td>...</td>\n      <td>1</td>\n      <td>0</td>\n      <td>0</td>\n      <td>1</td>\n      <td>0</td>\n      <td>0</td>\n      <td>1</td>\n      <td>0</td>\n      <td>0</td>\n      <td>1</td>\n    </tr>\n    <tr>\n      <th>3</th>\n      <td>Gd</td>\n      <td>Y</td>\n      <td>SBrkr</td>\n      <td>Gd</td>\n      <td>Typ</td>\n      <td>Gd</td>\n      <td>Detchd</td>\n      <td>Unf</td>\n      <td>TA</td>\n      <td>TA</td>\n      <td>...</td>\n      <td>1</td>\n      <td>0</td>\n      <td>1</td>\n      <td>0</td>\n      <td>0</td>\n      <td>0</td>\n      <td>1</td>\n      <td>0</td>\n      <td>0</td>\n      <td>1</td>\n    </tr>\n    <tr>\n      <th>4</th>\n      <td>Ex</td>\n      <td>Y</td>\n      <td>SBrkr</td>\n      <td>Gd</td>\n      <td>Typ</td>\n      <td>TA</td>\n      <td>Attchd</td>\n      <td>RFn</td>\n      <td>TA</td>\n      <td>TA</td>\n      <td>...</td>\n      <td>0</td>\n      <td>0</td>\n      <td>0</td>\n      <td>1</td>\n      <td>0</td>\n      <td>0</td>\n      <td>1</td>\n      <td>0</td>\n      <td>0</td>\n      <td>1</td>\n    </tr>\n    <tr>\n      <th>...</th>\n      <td>...</td>\n      <td>...</td>\n      <td>...</td>\n      <td>...</td>\n      <td>...</td>\n      <td>...</td>\n      <td>...</td>\n      <td>...</td>\n      <td>...</td>\n      <td>...</td>\n      <td>...</td>\n      <td>...</td>\n      <td>...</td>\n      <td>...</td>\n      <td>...</td>\n      <td>...</td>\n      <td>...</td>\n      <td>...</td>\n      <td>...</td>\n      <td>...</td>\n      <td>...</td>\n    </tr>\n    <tr>\n      <th>2914</th>\n      <td>Gd</td>\n      <td>Y</td>\n      <td>SBrkr</td>\n      <td>TA</td>\n      <td>Typ</td>\n      <td>Gd</td>\n      <td>Attchd</td>\n      <td>Unf</td>\n      <td>TA</td>\n      <td>TA</td>\n      <td>...</td>\n      <td>1</td>\n      <td>0</td>\n      <td>1</td>\n      <td>1</td>\n      <td>0</td>\n      <td>0</td>\n      <td>1</td>\n      <td>0</td>\n      <td>0</td>\n      <td>1</td>\n    </tr>\n    <tr>\n      <th>2915</th>\n      <td>TA</td>\n      <td>Y</td>\n      <td>SBrkr</td>\n      <td>TA</td>\n      <td>Typ</td>\n      <td>Gd</td>\n      <td>CarPort</td>\n      <td>Unf</td>\n      <td>TA</td>\n      <td>TA</td>\n      <td>...</td>\n      <td>1</td>\n      <td>1</td>\n      <td>0</td>\n      <td>0</td>\n      <td>0</td>\n      <td>0</td>\n      <td>1</td>\n      <td>0</td>\n      <td>0</td>\n      <td>1</td>\n    </tr>\n    <tr>\n      <th>2916</th>\n      <td>Ex</td>\n      <td>Y</td>\n      <td>SBrkr</td>\n      <td>TA</td>\n      <td>Typ</td>\n      <td>TA</td>\n      <td>Detchd</td>\n      <td>Unf</td>\n      <td>TA</td>\n      <td>TA</td>\n      <td>...</td>\n      <td>1</td>\n      <td>0</td>\n      <td>1</td>\n      <td>0</td>\n      <td>0</td>\n      <td>0</td>\n      <td>1</td>\n      <td>0</td>\n      <td>0</td>\n      <td>1</td>\n    </tr>\n    <tr>\n      <th>2917</th>\n      <td>TA</td>\n      <td>Y</td>\n      <td>SBrkr</td>\n      <td>TA</td>\n      <td>Typ</td>\n      <td>Gd</td>\n      <td>Attchd</td>\n      <td>Unf</td>\n      <td>TA</td>\n      <td>TA</td>\n      <td>...</td>\n      <td>0</td>\n      <td>0</td>\n      <td>0</td>\n      <td>1</td>\n      <td>0</td>\n      <td>0</td>\n      <td>1</td>\n      <td>0</td>\n      <td>0</td>\n      <td>1</td>\n    </tr>\n    <tr>\n      <th>2918</th>\n      <td>Ex</td>\n      <td>Y</td>\n      <td>SBrkr</td>\n      <td>TA</td>\n      <td>Typ</td>\n      <td>TA</td>\n      <td>Attchd</td>\n      <td>Fin</td>\n      <td>TA</td>\n      <td>TA</td>\n      <td>...</td>\n      <td>0</td>\n      <td>1</td>\n      <td>1</td>\n      <td>0</td>\n      <td>0</td>\n      <td>0</td>\n      <td>1</td>\n      <td>0</td>\n      <td>0</td>\n      <td>1</td>\n    </tr>\n  </tbody>\n</table>\n<p>2919 rows × 105 columns</p>\n</div>"
     },
     "execution_count": 62,
     "metadata": {},
     "output_type": "execute_result"
    }
   ],
   "source": [
    "encoder = ce.BinaryEncoder(categorical_data['Heating'])\n",
    "df1 = encoder.fit_transform(categorical_data['Heating'])\n",
    "categorical_data = pd.concat([categorical_data, df1], axis=1).reindex(categorical_data.index)\n",
    "categorical_data.drop('Heating', axis=1, inplace=True)\n",
    "categorical_data"
   ],
   "metadata": {
    "collapsed": false,
    "pycharm": {
     "name": "#%%\n"
    }
   }
  },
  {
   "cell_type": "code",
   "execution_count": 63,
   "outputs": [
    {
     "data": {
      "text/plain": "array(['Ex', 'Gd', 'TA', 'Fa', 'Po'], dtype=object)"
     },
     "execution_count": 63,
     "metadata": {},
     "output_type": "execute_result"
    }
   ],
   "source": [
    "categorical_data['HeatingQC'].unique()"
   ],
   "metadata": {
    "collapsed": false,
    "pycharm": {
     "name": "#%%\n"
    }
   }
  },
  {
   "cell_type": "code",
   "execution_count": 64,
   "outputs": [
    {
     "data": {
      "text/plain": "     CentralAir Electrical KitchenQual Functional FireplaceQu GarageType  \\\n0             Y      SBrkr          Gd        Typ          Gd     Attchd   \n1             Y      SBrkr          TA        Typ          TA     Attchd   \n2             Y      SBrkr          Gd        Typ          TA     Attchd   \n3             Y      SBrkr          Gd        Typ          Gd     Detchd   \n4             Y      SBrkr          Gd        Typ          TA     Attchd   \n...         ...        ...         ...        ...         ...        ...   \n2914          Y      SBrkr          TA        Typ          Gd     Attchd   \n2915          Y      SBrkr          TA        Typ          Gd    CarPort   \n2916          Y      SBrkr          TA        Typ          TA     Detchd   \n2917          Y      SBrkr          TA        Typ          Gd     Attchd   \n2918          Y      SBrkr          TA        Typ          TA     Attchd   \n\n     GarageFinish GarageQual GarageCond PavedDrive  ... BsmtFinType1_2  \\\n0             RFn         TA         TA          Y  ...              1   \n1             RFn         TA         TA          Y  ...              0   \n2             RFn         TA         TA          Y  ...              1   \n3             Unf         TA         TA          Y  ...              0   \n4             RFn         TA         TA          Y  ...              1   \n...           ...        ...        ...        ...  ...            ...   \n2914          Unf         TA         TA          Y  ...              1   \n2915          Unf         TA         TA          Y  ...              0   \n2916          Unf         TA         TA          Y  ...              0   \n2917          Unf         TA         TA          Y  ...              1   \n2918          Fin         TA         TA          Y  ...              0   \n\n     BsmtFinType2_0  BsmtFinType2_1  BsmtFinType2_2  Heating_0  Heating_1  \\\n0                 0               0               1          0          0   \n1                 0               0               1          0          0   \n2                 0               0               1          0          0   \n3                 0               0               1          0          0   \n4                 0               0               1          0          0   \n...             ...             ...             ...        ...        ...   \n2914              0               0               1          0          0   \n2915              0               0               1          0          0   \n2916              0               0               1          0          0   \n2917              0               0               1          0          0   \n2918              0               0               1          0          0   \n\n      Heating_2  HeatingQC_0  HeatingQC_1  HeatingQC_2  \n0             1            0            0            1  \n1             1            0            0            1  \n2             1            0            0            1  \n3             1            0            1            0  \n4             1            0            0            1  \n...         ...          ...          ...          ...  \n2914          1            0            1            0  \n2915          1            0            1            1  \n2916          1            0            0            1  \n2917          1            0            1            1  \n2918          1            0            0            1  \n\n[2919 rows x 107 columns]",
      "text/html": "<div>\n<style scoped>\n    .dataframe tbody tr th:only-of-type {\n        vertical-align: middle;\n    }\n\n    .dataframe tbody tr th {\n        vertical-align: top;\n    }\n\n    .dataframe thead th {\n        text-align: right;\n    }\n</style>\n<table border=\"1\" class=\"dataframe\">\n  <thead>\n    <tr style=\"text-align: right;\">\n      <th></th>\n      <th>CentralAir</th>\n      <th>Electrical</th>\n      <th>KitchenQual</th>\n      <th>Functional</th>\n      <th>FireplaceQu</th>\n      <th>GarageType</th>\n      <th>GarageFinish</th>\n      <th>GarageQual</th>\n      <th>GarageCond</th>\n      <th>PavedDrive</th>\n      <th>...</th>\n      <th>BsmtFinType1_2</th>\n      <th>BsmtFinType2_0</th>\n      <th>BsmtFinType2_1</th>\n      <th>BsmtFinType2_2</th>\n      <th>Heating_0</th>\n      <th>Heating_1</th>\n      <th>Heating_2</th>\n      <th>HeatingQC_0</th>\n      <th>HeatingQC_1</th>\n      <th>HeatingQC_2</th>\n    </tr>\n  </thead>\n  <tbody>\n    <tr>\n      <th>0</th>\n      <td>Y</td>\n      <td>SBrkr</td>\n      <td>Gd</td>\n      <td>Typ</td>\n      <td>Gd</td>\n      <td>Attchd</td>\n      <td>RFn</td>\n      <td>TA</td>\n      <td>TA</td>\n      <td>Y</td>\n      <td>...</td>\n      <td>1</td>\n      <td>0</td>\n      <td>0</td>\n      <td>1</td>\n      <td>0</td>\n      <td>0</td>\n      <td>1</td>\n      <td>0</td>\n      <td>0</td>\n      <td>1</td>\n    </tr>\n    <tr>\n      <th>1</th>\n      <td>Y</td>\n      <td>SBrkr</td>\n      <td>TA</td>\n      <td>Typ</td>\n      <td>TA</td>\n      <td>Attchd</td>\n      <td>RFn</td>\n      <td>TA</td>\n      <td>TA</td>\n      <td>Y</td>\n      <td>...</td>\n      <td>0</td>\n      <td>0</td>\n      <td>0</td>\n      <td>1</td>\n      <td>0</td>\n      <td>0</td>\n      <td>1</td>\n      <td>0</td>\n      <td>0</td>\n      <td>1</td>\n    </tr>\n    <tr>\n      <th>2</th>\n      <td>Y</td>\n      <td>SBrkr</td>\n      <td>Gd</td>\n      <td>Typ</td>\n      <td>TA</td>\n      <td>Attchd</td>\n      <td>RFn</td>\n      <td>TA</td>\n      <td>TA</td>\n      <td>Y</td>\n      <td>...</td>\n      <td>1</td>\n      <td>0</td>\n      <td>0</td>\n      <td>1</td>\n      <td>0</td>\n      <td>0</td>\n      <td>1</td>\n      <td>0</td>\n      <td>0</td>\n      <td>1</td>\n    </tr>\n    <tr>\n      <th>3</th>\n      <td>Y</td>\n      <td>SBrkr</td>\n      <td>Gd</td>\n      <td>Typ</td>\n      <td>Gd</td>\n      <td>Detchd</td>\n      <td>Unf</td>\n      <td>TA</td>\n      <td>TA</td>\n      <td>Y</td>\n      <td>...</td>\n      <td>0</td>\n      <td>0</td>\n      <td>0</td>\n      <td>1</td>\n      <td>0</td>\n      <td>0</td>\n      <td>1</td>\n      <td>0</td>\n      <td>1</td>\n      <td>0</td>\n    </tr>\n    <tr>\n      <th>4</th>\n      <td>Y</td>\n      <td>SBrkr</td>\n      <td>Gd</td>\n      <td>Typ</td>\n      <td>TA</td>\n      <td>Attchd</td>\n      <td>RFn</td>\n      <td>TA</td>\n      <td>TA</td>\n      <td>Y</td>\n      <td>...</td>\n      <td>1</td>\n      <td>0</td>\n      <td>0</td>\n      <td>1</td>\n      <td>0</td>\n      <td>0</td>\n      <td>1</td>\n      <td>0</td>\n      <td>0</td>\n      <td>1</td>\n    </tr>\n    <tr>\n      <th>...</th>\n      <td>...</td>\n      <td>...</td>\n      <td>...</td>\n      <td>...</td>\n      <td>...</td>\n      <td>...</td>\n      <td>...</td>\n      <td>...</td>\n      <td>...</td>\n      <td>...</td>\n      <td>...</td>\n      <td>...</td>\n      <td>...</td>\n      <td>...</td>\n      <td>...</td>\n      <td>...</td>\n      <td>...</td>\n      <td>...</td>\n      <td>...</td>\n      <td>...</td>\n      <td>...</td>\n    </tr>\n    <tr>\n      <th>2914</th>\n      <td>Y</td>\n      <td>SBrkr</td>\n      <td>TA</td>\n      <td>Typ</td>\n      <td>Gd</td>\n      <td>Attchd</td>\n      <td>Unf</td>\n      <td>TA</td>\n      <td>TA</td>\n      <td>Y</td>\n      <td>...</td>\n      <td>1</td>\n      <td>0</td>\n      <td>0</td>\n      <td>1</td>\n      <td>0</td>\n      <td>0</td>\n      <td>1</td>\n      <td>0</td>\n      <td>1</td>\n      <td>0</td>\n    </tr>\n    <tr>\n      <th>2915</th>\n      <td>Y</td>\n      <td>SBrkr</td>\n      <td>TA</td>\n      <td>Typ</td>\n      <td>Gd</td>\n      <td>CarPort</td>\n      <td>Unf</td>\n      <td>TA</td>\n      <td>TA</td>\n      <td>Y</td>\n      <td>...</td>\n      <td>0</td>\n      <td>0</td>\n      <td>0</td>\n      <td>1</td>\n      <td>0</td>\n      <td>0</td>\n      <td>1</td>\n      <td>0</td>\n      <td>1</td>\n      <td>1</td>\n    </tr>\n    <tr>\n      <th>2916</th>\n      <td>Y</td>\n      <td>SBrkr</td>\n      <td>TA</td>\n      <td>Typ</td>\n      <td>TA</td>\n      <td>Detchd</td>\n      <td>Unf</td>\n      <td>TA</td>\n      <td>TA</td>\n      <td>Y</td>\n      <td>...</td>\n      <td>0</td>\n      <td>0</td>\n      <td>0</td>\n      <td>1</td>\n      <td>0</td>\n      <td>0</td>\n      <td>1</td>\n      <td>0</td>\n      <td>0</td>\n      <td>1</td>\n    </tr>\n    <tr>\n      <th>2917</th>\n      <td>Y</td>\n      <td>SBrkr</td>\n      <td>TA</td>\n      <td>Typ</td>\n      <td>Gd</td>\n      <td>Attchd</td>\n      <td>Unf</td>\n      <td>TA</td>\n      <td>TA</td>\n      <td>Y</td>\n      <td>...</td>\n      <td>1</td>\n      <td>0</td>\n      <td>0</td>\n      <td>1</td>\n      <td>0</td>\n      <td>0</td>\n      <td>1</td>\n      <td>0</td>\n      <td>1</td>\n      <td>1</td>\n    </tr>\n    <tr>\n      <th>2918</th>\n      <td>Y</td>\n      <td>SBrkr</td>\n      <td>TA</td>\n      <td>Typ</td>\n      <td>TA</td>\n      <td>Attchd</td>\n      <td>Fin</td>\n      <td>TA</td>\n      <td>TA</td>\n      <td>Y</td>\n      <td>...</td>\n      <td>0</td>\n      <td>0</td>\n      <td>0</td>\n      <td>1</td>\n      <td>0</td>\n      <td>0</td>\n      <td>1</td>\n      <td>0</td>\n      <td>0</td>\n      <td>1</td>\n    </tr>\n  </tbody>\n</table>\n<p>2919 rows × 107 columns</p>\n</div>"
     },
     "execution_count": 64,
     "metadata": {},
     "output_type": "execute_result"
    }
   ],
   "source": [
    "encoder = ce.BinaryEncoder(categorical_data['HeatingQC'])\n",
    "df1 = encoder.fit_transform(categorical_data['HeatingQC'])\n",
    "categorical_data = pd.concat([categorical_data, df1], axis=1).reindex(categorical_data.index)\n",
    "categorical_data.drop('HeatingQC', axis=1, inplace=True)\n",
    "categorical_data"
   ],
   "metadata": {
    "collapsed": false,
    "pycharm": {
     "name": "#%%\n"
    }
   }
  },
  {
   "cell_type": "code",
   "execution_count": 65,
   "outputs": [
    {
     "data": {
      "text/plain": "array(['Y', 'N'], dtype=object)"
     },
     "execution_count": 65,
     "metadata": {},
     "output_type": "execute_result"
    }
   ],
   "source": [
    "categorical_data['CentralAir'].unique()"
   ],
   "metadata": {
    "collapsed": false,
    "pycharm": {
     "name": "#%%\n"
    }
   }
  },
  {
   "cell_type": "code",
   "execution_count": 66,
   "outputs": [
    {
     "data": {
      "text/plain": "     Electrical KitchenQual Functional FireplaceQu GarageType GarageFinish  \\\n0         SBrkr          Gd        Typ          Gd     Attchd          RFn   \n1         SBrkr          TA        Typ          TA     Attchd          RFn   \n2         SBrkr          Gd        Typ          TA     Attchd          RFn   \n3         SBrkr          Gd        Typ          Gd     Detchd          Unf   \n4         SBrkr          Gd        Typ          TA     Attchd          RFn   \n...         ...         ...        ...         ...        ...          ...   \n2914      SBrkr          TA        Typ          Gd     Attchd          Unf   \n2915      SBrkr          TA        Typ          Gd    CarPort          Unf   \n2916      SBrkr          TA        Typ          TA     Detchd          Unf   \n2917      SBrkr          TA        Typ          Gd     Attchd          Unf   \n2918      SBrkr          TA        Typ          TA     Attchd          Fin   \n\n     GarageQual GarageCond PavedDrive SaleType  ... BsmtFinType2_0  \\\n0            TA         TA          Y       WD  ...              0   \n1            TA         TA          Y       WD  ...              0   \n2            TA         TA          Y       WD  ...              0   \n3            TA         TA          Y       WD  ...              0   \n4            TA         TA          Y       WD  ...              0   \n...         ...        ...        ...      ...  ...            ...   \n2914         TA         TA          Y       WD  ...              0   \n2915         TA         TA          Y       WD  ...              0   \n2916         TA         TA          Y       WD  ...              0   \n2917         TA         TA          Y       WD  ...              0   \n2918         TA         TA          Y       WD  ...              0   \n\n      BsmtFinType2_1  BsmtFinType2_2  Heating_0  Heating_1  Heating_2  \\\n0                  0               1          0          0          1   \n1                  0               1          0          0          1   \n2                  0               1          0          0          1   \n3                  0               1          0          0          1   \n4                  0               1          0          0          1   \n...              ...             ...        ...        ...        ...   \n2914               0               1          0          0          1   \n2915               0               1          0          0          1   \n2916               0               1          0          0          1   \n2917               0               1          0          0          1   \n2918               0               1          0          0          1   \n\n      HeatingQC_0  HeatingQC_1  HeatingQC_2  CentralAir  \n0               0            0            1           1  \n1               0            0            1           1  \n2               0            0            1           1  \n3               0            1            0           1  \n4               0            0            1           1  \n...           ...          ...          ...         ...  \n2914            0            1            0           1  \n2915            0            1            1           1  \n2916            0            0            1           1  \n2917            0            1            1           1  \n2918            0            0            1           1  \n\n[2919 rows x 107 columns]",
      "text/html": "<div>\n<style scoped>\n    .dataframe tbody tr th:only-of-type {\n        vertical-align: middle;\n    }\n\n    .dataframe tbody tr th {\n        vertical-align: top;\n    }\n\n    .dataframe thead th {\n        text-align: right;\n    }\n</style>\n<table border=\"1\" class=\"dataframe\">\n  <thead>\n    <tr style=\"text-align: right;\">\n      <th></th>\n      <th>Electrical</th>\n      <th>KitchenQual</th>\n      <th>Functional</th>\n      <th>FireplaceQu</th>\n      <th>GarageType</th>\n      <th>GarageFinish</th>\n      <th>GarageQual</th>\n      <th>GarageCond</th>\n      <th>PavedDrive</th>\n      <th>SaleType</th>\n      <th>...</th>\n      <th>BsmtFinType2_0</th>\n      <th>BsmtFinType2_1</th>\n      <th>BsmtFinType2_2</th>\n      <th>Heating_0</th>\n      <th>Heating_1</th>\n      <th>Heating_2</th>\n      <th>HeatingQC_0</th>\n      <th>HeatingQC_1</th>\n      <th>HeatingQC_2</th>\n      <th>CentralAir</th>\n    </tr>\n  </thead>\n  <tbody>\n    <tr>\n      <th>0</th>\n      <td>SBrkr</td>\n      <td>Gd</td>\n      <td>Typ</td>\n      <td>Gd</td>\n      <td>Attchd</td>\n      <td>RFn</td>\n      <td>TA</td>\n      <td>TA</td>\n      <td>Y</td>\n      <td>WD</td>\n      <td>...</td>\n      <td>0</td>\n      <td>0</td>\n      <td>1</td>\n      <td>0</td>\n      <td>0</td>\n      <td>1</td>\n      <td>0</td>\n      <td>0</td>\n      <td>1</td>\n      <td>1</td>\n    </tr>\n    <tr>\n      <th>1</th>\n      <td>SBrkr</td>\n      <td>TA</td>\n      <td>Typ</td>\n      <td>TA</td>\n      <td>Attchd</td>\n      <td>RFn</td>\n      <td>TA</td>\n      <td>TA</td>\n      <td>Y</td>\n      <td>WD</td>\n      <td>...</td>\n      <td>0</td>\n      <td>0</td>\n      <td>1</td>\n      <td>0</td>\n      <td>0</td>\n      <td>1</td>\n      <td>0</td>\n      <td>0</td>\n      <td>1</td>\n      <td>1</td>\n    </tr>\n    <tr>\n      <th>2</th>\n      <td>SBrkr</td>\n      <td>Gd</td>\n      <td>Typ</td>\n      <td>TA</td>\n      <td>Attchd</td>\n      <td>RFn</td>\n      <td>TA</td>\n      <td>TA</td>\n      <td>Y</td>\n      <td>WD</td>\n      <td>...</td>\n      <td>0</td>\n      <td>0</td>\n      <td>1</td>\n      <td>0</td>\n      <td>0</td>\n      <td>1</td>\n      <td>0</td>\n      <td>0</td>\n      <td>1</td>\n      <td>1</td>\n    </tr>\n    <tr>\n      <th>3</th>\n      <td>SBrkr</td>\n      <td>Gd</td>\n      <td>Typ</td>\n      <td>Gd</td>\n      <td>Detchd</td>\n      <td>Unf</td>\n      <td>TA</td>\n      <td>TA</td>\n      <td>Y</td>\n      <td>WD</td>\n      <td>...</td>\n      <td>0</td>\n      <td>0</td>\n      <td>1</td>\n      <td>0</td>\n      <td>0</td>\n      <td>1</td>\n      <td>0</td>\n      <td>1</td>\n      <td>0</td>\n      <td>1</td>\n    </tr>\n    <tr>\n      <th>4</th>\n      <td>SBrkr</td>\n      <td>Gd</td>\n      <td>Typ</td>\n      <td>TA</td>\n      <td>Attchd</td>\n      <td>RFn</td>\n      <td>TA</td>\n      <td>TA</td>\n      <td>Y</td>\n      <td>WD</td>\n      <td>...</td>\n      <td>0</td>\n      <td>0</td>\n      <td>1</td>\n      <td>0</td>\n      <td>0</td>\n      <td>1</td>\n      <td>0</td>\n      <td>0</td>\n      <td>1</td>\n      <td>1</td>\n    </tr>\n    <tr>\n      <th>...</th>\n      <td>...</td>\n      <td>...</td>\n      <td>...</td>\n      <td>...</td>\n      <td>...</td>\n      <td>...</td>\n      <td>...</td>\n      <td>...</td>\n      <td>...</td>\n      <td>...</td>\n      <td>...</td>\n      <td>...</td>\n      <td>...</td>\n      <td>...</td>\n      <td>...</td>\n      <td>...</td>\n      <td>...</td>\n      <td>...</td>\n      <td>...</td>\n      <td>...</td>\n      <td>...</td>\n    </tr>\n    <tr>\n      <th>2914</th>\n      <td>SBrkr</td>\n      <td>TA</td>\n      <td>Typ</td>\n      <td>Gd</td>\n      <td>Attchd</td>\n      <td>Unf</td>\n      <td>TA</td>\n      <td>TA</td>\n      <td>Y</td>\n      <td>WD</td>\n      <td>...</td>\n      <td>0</td>\n      <td>0</td>\n      <td>1</td>\n      <td>0</td>\n      <td>0</td>\n      <td>1</td>\n      <td>0</td>\n      <td>1</td>\n      <td>0</td>\n      <td>1</td>\n    </tr>\n    <tr>\n      <th>2915</th>\n      <td>SBrkr</td>\n      <td>TA</td>\n      <td>Typ</td>\n      <td>Gd</td>\n      <td>CarPort</td>\n      <td>Unf</td>\n      <td>TA</td>\n      <td>TA</td>\n      <td>Y</td>\n      <td>WD</td>\n      <td>...</td>\n      <td>0</td>\n      <td>0</td>\n      <td>1</td>\n      <td>0</td>\n      <td>0</td>\n      <td>1</td>\n      <td>0</td>\n      <td>1</td>\n      <td>1</td>\n      <td>1</td>\n    </tr>\n    <tr>\n      <th>2916</th>\n      <td>SBrkr</td>\n      <td>TA</td>\n      <td>Typ</td>\n      <td>TA</td>\n      <td>Detchd</td>\n      <td>Unf</td>\n      <td>TA</td>\n      <td>TA</td>\n      <td>Y</td>\n      <td>WD</td>\n      <td>...</td>\n      <td>0</td>\n      <td>0</td>\n      <td>1</td>\n      <td>0</td>\n      <td>0</td>\n      <td>1</td>\n      <td>0</td>\n      <td>0</td>\n      <td>1</td>\n      <td>1</td>\n    </tr>\n    <tr>\n      <th>2917</th>\n      <td>SBrkr</td>\n      <td>TA</td>\n      <td>Typ</td>\n      <td>Gd</td>\n      <td>Attchd</td>\n      <td>Unf</td>\n      <td>TA</td>\n      <td>TA</td>\n      <td>Y</td>\n      <td>WD</td>\n      <td>...</td>\n      <td>0</td>\n      <td>0</td>\n      <td>1</td>\n      <td>0</td>\n      <td>0</td>\n      <td>1</td>\n      <td>0</td>\n      <td>1</td>\n      <td>1</td>\n      <td>1</td>\n    </tr>\n    <tr>\n      <th>2918</th>\n      <td>SBrkr</td>\n      <td>TA</td>\n      <td>Typ</td>\n      <td>TA</td>\n      <td>Attchd</td>\n      <td>Fin</td>\n      <td>TA</td>\n      <td>TA</td>\n      <td>Y</td>\n      <td>WD</td>\n      <td>...</td>\n      <td>0</td>\n      <td>0</td>\n      <td>1</td>\n      <td>0</td>\n      <td>0</td>\n      <td>1</td>\n      <td>0</td>\n      <td>0</td>\n      <td>1</td>\n      <td>1</td>\n    </tr>\n  </tbody>\n</table>\n<p>2919 rows × 107 columns</p>\n</div>"
     },
     "execution_count": 66,
     "metadata": {},
     "output_type": "execute_result"
    }
   ],
   "source": [
    "label = le.fit_transform(categorical_data['CentralAir'])\n",
    "categorical_data.drop(\"CentralAir\", axis=1, inplace=True)\n",
    "categorical_data[\"CentralAir\"] = label\n",
    "categorical_data"
   ],
   "metadata": {
    "collapsed": false,
    "pycharm": {
     "name": "#%%\n"
    }
   }
  },
  {
   "cell_type": "code",
   "execution_count": 67,
   "outputs": [
    {
     "data": {
      "text/plain": "array(['SBrkr', 'FuseF', 'FuseA', 'FuseP', 'Mix'], dtype=object)"
     },
     "execution_count": 67,
     "metadata": {},
     "output_type": "execute_result"
    }
   ],
   "source": [
    "categorical_data['Electrical'].unique()"
   ],
   "metadata": {
    "collapsed": false,
    "pycharm": {
     "name": "#%%\n"
    }
   }
  },
  {
   "cell_type": "code",
   "execution_count": 68,
   "outputs": [
    {
     "data": {
      "text/plain": "     KitchenQual Functional FireplaceQu GarageType GarageFinish GarageQual  \\\n0             Gd        Typ          Gd     Attchd          RFn         TA   \n1             TA        Typ          TA     Attchd          RFn         TA   \n2             Gd        Typ          TA     Attchd          RFn         TA   \n3             Gd        Typ          Gd     Detchd          Unf         TA   \n4             Gd        Typ          TA     Attchd          RFn         TA   \n...          ...        ...         ...        ...          ...        ...   \n2914          TA        Typ          Gd     Attchd          Unf         TA   \n2915          TA        Typ          Gd    CarPort          Unf         TA   \n2916          TA        Typ          TA     Detchd          Unf         TA   \n2917          TA        Typ          Gd     Attchd          Unf         TA   \n2918          TA        Typ          TA     Attchd          Fin         TA   \n\n     GarageCond PavedDrive SaleType SaleCondition  ...  Heating_0  Heating_1  \\\n0            TA          Y       WD        Normal  ...          0          0   \n1            TA          Y       WD        Normal  ...          0          0   \n2            TA          Y       WD        Normal  ...          0          0   \n3            TA          Y       WD       Abnorml  ...          0          0   \n4            TA          Y       WD        Normal  ...          0          0   \n...         ...        ...      ...           ...  ...        ...        ...   \n2914         TA          Y       WD        Normal  ...          0          0   \n2915         TA          Y       WD       Abnorml  ...          0          0   \n2916         TA          Y       WD       Abnorml  ...          0          0   \n2917         TA          Y       WD        Normal  ...          0          0   \n2918         TA          Y       WD        Normal  ...          0          0   \n\n      Heating_2  HeatingQC_0  HeatingQC_1  HeatingQC_2  CentralAir  \\\n0             1            0            0            1           1   \n1             1            0            0            1           1   \n2             1            0            0            1           1   \n3             1            0            1            0           1   \n4             1            0            0            1           1   \n...         ...          ...          ...          ...         ...   \n2914          1            0            1            0           1   \n2915          1            0            1            1           1   \n2916          1            0            0            1           1   \n2917          1            0            1            1           1   \n2918          1            0            0            1           1   \n\n      Electrical_0  Electrical_1  Electrical_2  \n0                0             0             1  \n1                0             0             1  \n2                0             0             1  \n3                0             0             1  \n4                0             0             1  \n...            ...           ...           ...  \n2914             0             0             1  \n2915             0             0             1  \n2916             0             0             1  \n2917             0             0             1  \n2918             0             0             1  \n\n[2919 rows x 109 columns]",
      "text/html": "<div>\n<style scoped>\n    .dataframe tbody tr th:only-of-type {\n        vertical-align: middle;\n    }\n\n    .dataframe tbody tr th {\n        vertical-align: top;\n    }\n\n    .dataframe thead th {\n        text-align: right;\n    }\n</style>\n<table border=\"1\" class=\"dataframe\">\n  <thead>\n    <tr style=\"text-align: right;\">\n      <th></th>\n      <th>KitchenQual</th>\n      <th>Functional</th>\n      <th>FireplaceQu</th>\n      <th>GarageType</th>\n      <th>GarageFinish</th>\n      <th>GarageQual</th>\n      <th>GarageCond</th>\n      <th>PavedDrive</th>\n      <th>SaleType</th>\n      <th>SaleCondition</th>\n      <th>...</th>\n      <th>Heating_0</th>\n      <th>Heating_1</th>\n      <th>Heating_2</th>\n      <th>HeatingQC_0</th>\n      <th>HeatingQC_1</th>\n      <th>HeatingQC_2</th>\n      <th>CentralAir</th>\n      <th>Electrical_0</th>\n      <th>Electrical_1</th>\n      <th>Electrical_2</th>\n    </tr>\n  </thead>\n  <tbody>\n    <tr>\n      <th>0</th>\n      <td>Gd</td>\n      <td>Typ</td>\n      <td>Gd</td>\n      <td>Attchd</td>\n      <td>RFn</td>\n      <td>TA</td>\n      <td>TA</td>\n      <td>Y</td>\n      <td>WD</td>\n      <td>Normal</td>\n      <td>...</td>\n      <td>0</td>\n      <td>0</td>\n      <td>1</td>\n      <td>0</td>\n      <td>0</td>\n      <td>1</td>\n      <td>1</td>\n      <td>0</td>\n      <td>0</td>\n      <td>1</td>\n    </tr>\n    <tr>\n      <th>1</th>\n      <td>TA</td>\n      <td>Typ</td>\n      <td>TA</td>\n      <td>Attchd</td>\n      <td>RFn</td>\n      <td>TA</td>\n      <td>TA</td>\n      <td>Y</td>\n      <td>WD</td>\n      <td>Normal</td>\n      <td>...</td>\n      <td>0</td>\n      <td>0</td>\n      <td>1</td>\n      <td>0</td>\n      <td>0</td>\n      <td>1</td>\n      <td>1</td>\n      <td>0</td>\n      <td>0</td>\n      <td>1</td>\n    </tr>\n    <tr>\n      <th>2</th>\n      <td>Gd</td>\n      <td>Typ</td>\n      <td>TA</td>\n      <td>Attchd</td>\n      <td>RFn</td>\n      <td>TA</td>\n      <td>TA</td>\n      <td>Y</td>\n      <td>WD</td>\n      <td>Normal</td>\n      <td>...</td>\n      <td>0</td>\n      <td>0</td>\n      <td>1</td>\n      <td>0</td>\n      <td>0</td>\n      <td>1</td>\n      <td>1</td>\n      <td>0</td>\n      <td>0</td>\n      <td>1</td>\n    </tr>\n    <tr>\n      <th>3</th>\n      <td>Gd</td>\n      <td>Typ</td>\n      <td>Gd</td>\n      <td>Detchd</td>\n      <td>Unf</td>\n      <td>TA</td>\n      <td>TA</td>\n      <td>Y</td>\n      <td>WD</td>\n      <td>Abnorml</td>\n      <td>...</td>\n      <td>0</td>\n      <td>0</td>\n      <td>1</td>\n      <td>0</td>\n      <td>1</td>\n      <td>0</td>\n      <td>1</td>\n      <td>0</td>\n      <td>0</td>\n      <td>1</td>\n    </tr>\n    <tr>\n      <th>4</th>\n      <td>Gd</td>\n      <td>Typ</td>\n      <td>TA</td>\n      <td>Attchd</td>\n      <td>RFn</td>\n      <td>TA</td>\n      <td>TA</td>\n      <td>Y</td>\n      <td>WD</td>\n      <td>Normal</td>\n      <td>...</td>\n      <td>0</td>\n      <td>0</td>\n      <td>1</td>\n      <td>0</td>\n      <td>0</td>\n      <td>1</td>\n      <td>1</td>\n      <td>0</td>\n      <td>0</td>\n      <td>1</td>\n    </tr>\n    <tr>\n      <th>...</th>\n      <td>...</td>\n      <td>...</td>\n      <td>...</td>\n      <td>...</td>\n      <td>...</td>\n      <td>...</td>\n      <td>...</td>\n      <td>...</td>\n      <td>...</td>\n      <td>...</td>\n      <td>...</td>\n      <td>...</td>\n      <td>...</td>\n      <td>...</td>\n      <td>...</td>\n      <td>...</td>\n      <td>...</td>\n      <td>...</td>\n      <td>...</td>\n      <td>...</td>\n      <td>...</td>\n    </tr>\n    <tr>\n      <th>2914</th>\n      <td>TA</td>\n      <td>Typ</td>\n      <td>Gd</td>\n      <td>Attchd</td>\n      <td>Unf</td>\n      <td>TA</td>\n      <td>TA</td>\n      <td>Y</td>\n      <td>WD</td>\n      <td>Normal</td>\n      <td>...</td>\n      <td>0</td>\n      <td>0</td>\n      <td>1</td>\n      <td>0</td>\n      <td>1</td>\n      <td>0</td>\n      <td>1</td>\n      <td>0</td>\n      <td>0</td>\n      <td>1</td>\n    </tr>\n    <tr>\n      <th>2915</th>\n      <td>TA</td>\n      <td>Typ</td>\n      <td>Gd</td>\n      <td>CarPort</td>\n      <td>Unf</td>\n      <td>TA</td>\n      <td>TA</td>\n      <td>Y</td>\n      <td>WD</td>\n      <td>Abnorml</td>\n      <td>...</td>\n      <td>0</td>\n      <td>0</td>\n      <td>1</td>\n      <td>0</td>\n      <td>1</td>\n      <td>1</td>\n      <td>1</td>\n      <td>0</td>\n      <td>0</td>\n      <td>1</td>\n    </tr>\n    <tr>\n      <th>2916</th>\n      <td>TA</td>\n      <td>Typ</td>\n      <td>TA</td>\n      <td>Detchd</td>\n      <td>Unf</td>\n      <td>TA</td>\n      <td>TA</td>\n      <td>Y</td>\n      <td>WD</td>\n      <td>Abnorml</td>\n      <td>...</td>\n      <td>0</td>\n      <td>0</td>\n      <td>1</td>\n      <td>0</td>\n      <td>0</td>\n      <td>1</td>\n      <td>1</td>\n      <td>0</td>\n      <td>0</td>\n      <td>1</td>\n    </tr>\n    <tr>\n      <th>2917</th>\n      <td>TA</td>\n      <td>Typ</td>\n      <td>Gd</td>\n      <td>Attchd</td>\n      <td>Unf</td>\n      <td>TA</td>\n      <td>TA</td>\n      <td>Y</td>\n      <td>WD</td>\n      <td>Normal</td>\n      <td>...</td>\n      <td>0</td>\n      <td>0</td>\n      <td>1</td>\n      <td>0</td>\n      <td>1</td>\n      <td>1</td>\n      <td>1</td>\n      <td>0</td>\n      <td>0</td>\n      <td>1</td>\n    </tr>\n    <tr>\n      <th>2918</th>\n      <td>TA</td>\n      <td>Typ</td>\n      <td>TA</td>\n      <td>Attchd</td>\n      <td>Fin</td>\n      <td>TA</td>\n      <td>TA</td>\n      <td>Y</td>\n      <td>WD</td>\n      <td>Normal</td>\n      <td>...</td>\n      <td>0</td>\n      <td>0</td>\n      <td>1</td>\n      <td>0</td>\n      <td>0</td>\n      <td>1</td>\n      <td>1</td>\n      <td>0</td>\n      <td>0</td>\n      <td>1</td>\n    </tr>\n  </tbody>\n</table>\n<p>2919 rows × 109 columns</p>\n</div>"
     },
     "execution_count": 68,
     "metadata": {},
     "output_type": "execute_result"
    }
   ],
   "source": [
    "encoder = ce.BinaryEncoder(categorical_data['Electrical'])\n",
    "df1 = encoder.fit_transform(categorical_data['Electrical'])\n",
    "categorical_data = pd.concat([categorical_data, df1], axis=1).reindex(categorical_data.index)\n",
    "categorical_data.drop('Electrical', axis=1, inplace=True)\n",
    "categorical_data"
   ],
   "metadata": {
    "collapsed": false,
    "pycharm": {
     "name": "#%%\n"
    }
   }
  },
  {
   "cell_type": "code",
   "execution_count": 69,
   "outputs": [
    {
     "data": {
      "text/plain": "array(['Gd', 'TA', 'Ex', 'Fa'], dtype=object)"
     },
     "execution_count": 69,
     "metadata": {},
     "output_type": "execute_result"
    }
   ],
   "source": [
    "categorical_data['KitchenQual'].unique()"
   ],
   "metadata": {
    "collapsed": false,
    "pycharm": {
     "name": "#%%\n"
    }
   }
  },
  {
   "cell_type": "code",
   "execution_count": 70,
   "outputs": [
    {
     "data": {
      "text/plain": "     Functional FireplaceQu GarageType GarageFinish GarageQual GarageCond  \\\n0           Typ          Gd     Attchd          RFn         TA         TA   \n1           Typ          TA     Attchd          RFn         TA         TA   \n2           Typ          TA     Attchd          RFn         TA         TA   \n3           Typ          Gd     Detchd          Unf         TA         TA   \n4           Typ          TA     Attchd          RFn         TA         TA   \n...         ...         ...        ...          ...        ...        ...   \n2914        Typ          Gd     Attchd          Unf         TA         TA   \n2915        Typ          Gd    CarPort          Unf         TA         TA   \n2916        Typ          TA     Detchd          Unf         TA         TA   \n2917        Typ          Gd     Attchd          Unf         TA         TA   \n2918        Typ          TA     Attchd          Fin         TA         TA   \n\n     PavedDrive SaleType SaleCondition  C (all)  ...  HeatingQC_0  \\\n0             Y       WD        Normal        0  ...            0   \n1             Y       WD        Normal        0  ...            0   \n2             Y       WD        Normal        0  ...            0   \n3             Y       WD       Abnorml        0  ...            0   \n4             Y       WD        Normal        0  ...            0   \n...         ...      ...           ...      ...  ...          ...   \n2914          Y       WD        Normal        0  ...            0   \n2915          Y       WD       Abnorml        0  ...            0   \n2916          Y       WD       Abnorml        0  ...            0   \n2917          Y       WD        Normal        0  ...            0   \n2918          Y       WD        Normal        0  ...            0   \n\n      HeatingQC_1  HeatingQC_2  CentralAir  Electrical_0  Electrical_1  \\\n0               0            1           1             0             0   \n1               0            1           1             0             0   \n2               0            1           1             0             0   \n3               1            0           1             0             0   \n4               0            1           1             0             0   \n...           ...          ...         ...           ...           ...   \n2914            1            0           1             0             0   \n2915            1            1           1             0             0   \n2916            0            1           1             0             0   \n2917            1            1           1             0             0   \n2918            0            1           1             0             0   \n\n      Electrical_2  KitchenQual_0  KitchenQual_1  KitchenQual_2  \n0                1              0              0              1  \n1                1              0              1              0  \n2                1              0              0              1  \n3                1              0              0              1  \n4                1              0              0              1  \n...            ...            ...            ...            ...  \n2914             1              0              1              0  \n2915             1              0              1              0  \n2916             1              0              1              0  \n2917             1              0              1              0  \n2918             1              0              1              0  \n\n[2919 rows x 111 columns]",
      "text/html": "<div>\n<style scoped>\n    .dataframe tbody tr th:only-of-type {\n        vertical-align: middle;\n    }\n\n    .dataframe tbody tr th {\n        vertical-align: top;\n    }\n\n    .dataframe thead th {\n        text-align: right;\n    }\n</style>\n<table border=\"1\" class=\"dataframe\">\n  <thead>\n    <tr style=\"text-align: right;\">\n      <th></th>\n      <th>Functional</th>\n      <th>FireplaceQu</th>\n      <th>GarageType</th>\n      <th>GarageFinish</th>\n      <th>GarageQual</th>\n      <th>GarageCond</th>\n      <th>PavedDrive</th>\n      <th>SaleType</th>\n      <th>SaleCondition</th>\n      <th>C (all)</th>\n      <th>...</th>\n      <th>HeatingQC_0</th>\n      <th>HeatingQC_1</th>\n      <th>HeatingQC_2</th>\n      <th>CentralAir</th>\n      <th>Electrical_0</th>\n      <th>Electrical_1</th>\n      <th>Electrical_2</th>\n      <th>KitchenQual_0</th>\n      <th>KitchenQual_1</th>\n      <th>KitchenQual_2</th>\n    </tr>\n  </thead>\n  <tbody>\n    <tr>\n      <th>0</th>\n      <td>Typ</td>\n      <td>Gd</td>\n      <td>Attchd</td>\n      <td>RFn</td>\n      <td>TA</td>\n      <td>TA</td>\n      <td>Y</td>\n      <td>WD</td>\n      <td>Normal</td>\n      <td>0</td>\n      <td>...</td>\n      <td>0</td>\n      <td>0</td>\n      <td>1</td>\n      <td>1</td>\n      <td>0</td>\n      <td>0</td>\n      <td>1</td>\n      <td>0</td>\n      <td>0</td>\n      <td>1</td>\n    </tr>\n    <tr>\n      <th>1</th>\n      <td>Typ</td>\n      <td>TA</td>\n      <td>Attchd</td>\n      <td>RFn</td>\n      <td>TA</td>\n      <td>TA</td>\n      <td>Y</td>\n      <td>WD</td>\n      <td>Normal</td>\n      <td>0</td>\n      <td>...</td>\n      <td>0</td>\n      <td>0</td>\n      <td>1</td>\n      <td>1</td>\n      <td>0</td>\n      <td>0</td>\n      <td>1</td>\n      <td>0</td>\n      <td>1</td>\n      <td>0</td>\n    </tr>\n    <tr>\n      <th>2</th>\n      <td>Typ</td>\n      <td>TA</td>\n      <td>Attchd</td>\n      <td>RFn</td>\n      <td>TA</td>\n      <td>TA</td>\n      <td>Y</td>\n      <td>WD</td>\n      <td>Normal</td>\n      <td>0</td>\n      <td>...</td>\n      <td>0</td>\n      <td>0</td>\n      <td>1</td>\n      <td>1</td>\n      <td>0</td>\n      <td>0</td>\n      <td>1</td>\n      <td>0</td>\n      <td>0</td>\n      <td>1</td>\n    </tr>\n    <tr>\n      <th>3</th>\n      <td>Typ</td>\n      <td>Gd</td>\n      <td>Detchd</td>\n      <td>Unf</td>\n      <td>TA</td>\n      <td>TA</td>\n      <td>Y</td>\n      <td>WD</td>\n      <td>Abnorml</td>\n      <td>0</td>\n      <td>...</td>\n      <td>0</td>\n      <td>1</td>\n      <td>0</td>\n      <td>1</td>\n      <td>0</td>\n      <td>0</td>\n      <td>1</td>\n      <td>0</td>\n      <td>0</td>\n      <td>1</td>\n    </tr>\n    <tr>\n      <th>4</th>\n      <td>Typ</td>\n      <td>TA</td>\n      <td>Attchd</td>\n      <td>RFn</td>\n      <td>TA</td>\n      <td>TA</td>\n      <td>Y</td>\n      <td>WD</td>\n      <td>Normal</td>\n      <td>0</td>\n      <td>...</td>\n      <td>0</td>\n      <td>0</td>\n      <td>1</td>\n      <td>1</td>\n      <td>0</td>\n      <td>0</td>\n      <td>1</td>\n      <td>0</td>\n      <td>0</td>\n      <td>1</td>\n    </tr>\n    <tr>\n      <th>...</th>\n      <td>...</td>\n      <td>...</td>\n      <td>...</td>\n      <td>...</td>\n      <td>...</td>\n      <td>...</td>\n      <td>...</td>\n      <td>...</td>\n      <td>...</td>\n      <td>...</td>\n      <td>...</td>\n      <td>...</td>\n      <td>...</td>\n      <td>...</td>\n      <td>...</td>\n      <td>...</td>\n      <td>...</td>\n      <td>...</td>\n      <td>...</td>\n      <td>...</td>\n      <td>...</td>\n    </tr>\n    <tr>\n      <th>2914</th>\n      <td>Typ</td>\n      <td>Gd</td>\n      <td>Attchd</td>\n      <td>Unf</td>\n      <td>TA</td>\n      <td>TA</td>\n      <td>Y</td>\n      <td>WD</td>\n      <td>Normal</td>\n      <td>0</td>\n      <td>...</td>\n      <td>0</td>\n      <td>1</td>\n      <td>0</td>\n      <td>1</td>\n      <td>0</td>\n      <td>0</td>\n      <td>1</td>\n      <td>0</td>\n      <td>1</td>\n      <td>0</td>\n    </tr>\n    <tr>\n      <th>2915</th>\n      <td>Typ</td>\n      <td>Gd</td>\n      <td>CarPort</td>\n      <td>Unf</td>\n      <td>TA</td>\n      <td>TA</td>\n      <td>Y</td>\n      <td>WD</td>\n      <td>Abnorml</td>\n      <td>0</td>\n      <td>...</td>\n      <td>0</td>\n      <td>1</td>\n      <td>1</td>\n      <td>1</td>\n      <td>0</td>\n      <td>0</td>\n      <td>1</td>\n      <td>0</td>\n      <td>1</td>\n      <td>0</td>\n    </tr>\n    <tr>\n      <th>2916</th>\n      <td>Typ</td>\n      <td>TA</td>\n      <td>Detchd</td>\n      <td>Unf</td>\n      <td>TA</td>\n      <td>TA</td>\n      <td>Y</td>\n      <td>WD</td>\n      <td>Abnorml</td>\n      <td>0</td>\n      <td>...</td>\n      <td>0</td>\n      <td>0</td>\n      <td>1</td>\n      <td>1</td>\n      <td>0</td>\n      <td>0</td>\n      <td>1</td>\n      <td>0</td>\n      <td>1</td>\n      <td>0</td>\n    </tr>\n    <tr>\n      <th>2917</th>\n      <td>Typ</td>\n      <td>Gd</td>\n      <td>Attchd</td>\n      <td>Unf</td>\n      <td>TA</td>\n      <td>TA</td>\n      <td>Y</td>\n      <td>WD</td>\n      <td>Normal</td>\n      <td>0</td>\n      <td>...</td>\n      <td>0</td>\n      <td>1</td>\n      <td>1</td>\n      <td>1</td>\n      <td>0</td>\n      <td>0</td>\n      <td>1</td>\n      <td>0</td>\n      <td>1</td>\n      <td>0</td>\n    </tr>\n    <tr>\n      <th>2918</th>\n      <td>Typ</td>\n      <td>TA</td>\n      <td>Attchd</td>\n      <td>Fin</td>\n      <td>TA</td>\n      <td>TA</td>\n      <td>Y</td>\n      <td>WD</td>\n      <td>Normal</td>\n      <td>0</td>\n      <td>...</td>\n      <td>0</td>\n      <td>0</td>\n      <td>1</td>\n      <td>1</td>\n      <td>0</td>\n      <td>0</td>\n      <td>1</td>\n      <td>0</td>\n      <td>1</td>\n      <td>0</td>\n    </tr>\n  </tbody>\n</table>\n<p>2919 rows × 111 columns</p>\n</div>"
     },
     "execution_count": 70,
     "metadata": {},
     "output_type": "execute_result"
    }
   ],
   "source": [
    "encoder = ce.BinaryEncoder(categorical_data['KitchenQual'])\n",
    "df1 = encoder.fit_transform(categorical_data['KitchenQual'])\n",
    "categorical_data = pd.concat([categorical_data, df1], axis=1).reindex(categorical_data.index)\n",
    "categorical_data.drop('KitchenQual', axis=1, inplace=True)\n",
    "categorical_data"
   ],
   "metadata": {
    "collapsed": false,
    "pycharm": {
     "name": "#%%\n"
    }
   }
  },
  {
   "cell_type": "code",
   "execution_count": 71,
   "outputs": [
    {
     "data": {
      "text/plain": "array(['Typ', 'Min1', 'Maj1', 'Min2', 'Mod', 'Maj2', 'Sev'], dtype=object)"
     },
     "execution_count": 71,
     "metadata": {},
     "output_type": "execute_result"
    }
   ],
   "source": [
    "categorical_data['Functional'].unique()"
   ],
   "metadata": {
    "collapsed": false,
    "pycharm": {
     "name": "#%%\n"
    }
   }
  },
  {
   "cell_type": "code",
   "execution_count": 72,
   "outputs": [
    {
     "data": {
      "text/plain": "     FireplaceQu GarageType GarageFinish GarageQual GarageCond PavedDrive  \\\n0             Gd     Attchd          RFn         TA         TA          Y   \n1             TA     Attchd          RFn         TA         TA          Y   \n2             TA     Attchd          RFn         TA         TA          Y   \n3             Gd     Detchd          Unf         TA         TA          Y   \n4             TA     Attchd          RFn         TA         TA          Y   \n...          ...        ...          ...        ...        ...        ...   \n2914          Gd     Attchd          Unf         TA         TA          Y   \n2915          Gd    CarPort          Unf         TA         TA          Y   \n2916          TA     Detchd          Unf         TA         TA          Y   \n2917          Gd     Attchd          Unf         TA         TA          Y   \n2918          TA     Attchd          Fin         TA         TA          Y   \n\n     SaleType SaleCondition  C (all)  FV  ...  CentralAir  Electrical_0  \\\n0          WD        Normal        0   0  ...           1             0   \n1          WD        Normal        0   0  ...           1             0   \n2          WD        Normal        0   0  ...           1             0   \n3          WD       Abnorml        0   0  ...           1             0   \n4          WD        Normal        0   0  ...           1             0   \n...       ...           ...      ...  ..  ...         ...           ...   \n2914       WD        Normal        0   0  ...           1             0   \n2915       WD       Abnorml        0   0  ...           1             0   \n2916       WD       Abnorml        0   0  ...           1             0   \n2917       WD        Normal        0   0  ...           1             0   \n2918       WD        Normal        0   0  ...           1             0   \n\n      Electrical_1  Electrical_2  KitchenQual_0  KitchenQual_1  KitchenQual_2  \\\n0                0             1              0              0              1   \n1                0             1              0              1              0   \n2                0             1              0              0              1   \n3                0             1              0              0              1   \n4                0             1              0              0              1   \n...            ...           ...            ...            ...            ...   \n2914             0             1              0              1              0   \n2915             0             1              0              1              0   \n2916             0             1              0              1              0   \n2917             0             1              0              1              0   \n2918             0             1              0              1              0   \n\n      Functional_0  Functional_1  Functional_2  \n0                0             0             1  \n1                0             0             1  \n2                0             0             1  \n3                0             0             1  \n4                0             0             1  \n...            ...           ...           ...  \n2914             0             0             1  \n2915             0             0             1  \n2916             0             0             1  \n2917             0             0             1  \n2918             0             0             1  \n\n[2919 rows x 113 columns]",
      "text/html": "<div>\n<style scoped>\n    .dataframe tbody tr th:only-of-type {\n        vertical-align: middle;\n    }\n\n    .dataframe tbody tr th {\n        vertical-align: top;\n    }\n\n    .dataframe thead th {\n        text-align: right;\n    }\n</style>\n<table border=\"1\" class=\"dataframe\">\n  <thead>\n    <tr style=\"text-align: right;\">\n      <th></th>\n      <th>FireplaceQu</th>\n      <th>GarageType</th>\n      <th>GarageFinish</th>\n      <th>GarageQual</th>\n      <th>GarageCond</th>\n      <th>PavedDrive</th>\n      <th>SaleType</th>\n      <th>SaleCondition</th>\n      <th>C (all)</th>\n      <th>FV</th>\n      <th>...</th>\n      <th>CentralAir</th>\n      <th>Electrical_0</th>\n      <th>Electrical_1</th>\n      <th>Electrical_2</th>\n      <th>KitchenQual_0</th>\n      <th>KitchenQual_1</th>\n      <th>KitchenQual_2</th>\n      <th>Functional_0</th>\n      <th>Functional_1</th>\n      <th>Functional_2</th>\n    </tr>\n  </thead>\n  <tbody>\n    <tr>\n      <th>0</th>\n      <td>Gd</td>\n      <td>Attchd</td>\n      <td>RFn</td>\n      <td>TA</td>\n      <td>TA</td>\n      <td>Y</td>\n      <td>WD</td>\n      <td>Normal</td>\n      <td>0</td>\n      <td>0</td>\n      <td>...</td>\n      <td>1</td>\n      <td>0</td>\n      <td>0</td>\n      <td>1</td>\n      <td>0</td>\n      <td>0</td>\n      <td>1</td>\n      <td>0</td>\n      <td>0</td>\n      <td>1</td>\n    </tr>\n    <tr>\n      <th>1</th>\n      <td>TA</td>\n      <td>Attchd</td>\n      <td>RFn</td>\n      <td>TA</td>\n      <td>TA</td>\n      <td>Y</td>\n      <td>WD</td>\n      <td>Normal</td>\n      <td>0</td>\n      <td>0</td>\n      <td>...</td>\n      <td>1</td>\n      <td>0</td>\n      <td>0</td>\n      <td>1</td>\n      <td>0</td>\n      <td>1</td>\n      <td>0</td>\n      <td>0</td>\n      <td>0</td>\n      <td>1</td>\n    </tr>\n    <tr>\n      <th>2</th>\n      <td>TA</td>\n      <td>Attchd</td>\n      <td>RFn</td>\n      <td>TA</td>\n      <td>TA</td>\n      <td>Y</td>\n      <td>WD</td>\n      <td>Normal</td>\n      <td>0</td>\n      <td>0</td>\n      <td>...</td>\n      <td>1</td>\n      <td>0</td>\n      <td>0</td>\n      <td>1</td>\n      <td>0</td>\n      <td>0</td>\n      <td>1</td>\n      <td>0</td>\n      <td>0</td>\n      <td>1</td>\n    </tr>\n    <tr>\n      <th>3</th>\n      <td>Gd</td>\n      <td>Detchd</td>\n      <td>Unf</td>\n      <td>TA</td>\n      <td>TA</td>\n      <td>Y</td>\n      <td>WD</td>\n      <td>Abnorml</td>\n      <td>0</td>\n      <td>0</td>\n      <td>...</td>\n      <td>1</td>\n      <td>0</td>\n      <td>0</td>\n      <td>1</td>\n      <td>0</td>\n      <td>0</td>\n      <td>1</td>\n      <td>0</td>\n      <td>0</td>\n      <td>1</td>\n    </tr>\n    <tr>\n      <th>4</th>\n      <td>TA</td>\n      <td>Attchd</td>\n      <td>RFn</td>\n      <td>TA</td>\n      <td>TA</td>\n      <td>Y</td>\n      <td>WD</td>\n      <td>Normal</td>\n      <td>0</td>\n      <td>0</td>\n      <td>...</td>\n      <td>1</td>\n      <td>0</td>\n      <td>0</td>\n      <td>1</td>\n      <td>0</td>\n      <td>0</td>\n      <td>1</td>\n      <td>0</td>\n      <td>0</td>\n      <td>1</td>\n    </tr>\n    <tr>\n      <th>...</th>\n      <td>...</td>\n      <td>...</td>\n      <td>...</td>\n      <td>...</td>\n      <td>...</td>\n      <td>...</td>\n      <td>...</td>\n      <td>...</td>\n      <td>...</td>\n      <td>...</td>\n      <td>...</td>\n      <td>...</td>\n      <td>...</td>\n      <td>...</td>\n      <td>...</td>\n      <td>...</td>\n      <td>...</td>\n      <td>...</td>\n      <td>...</td>\n      <td>...</td>\n      <td>...</td>\n    </tr>\n    <tr>\n      <th>2914</th>\n      <td>Gd</td>\n      <td>Attchd</td>\n      <td>Unf</td>\n      <td>TA</td>\n      <td>TA</td>\n      <td>Y</td>\n      <td>WD</td>\n      <td>Normal</td>\n      <td>0</td>\n      <td>0</td>\n      <td>...</td>\n      <td>1</td>\n      <td>0</td>\n      <td>0</td>\n      <td>1</td>\n      <td>0</td>\n      <td>1</td>\n      <td>0</td>\n      <td>0</td>\n      <td>0</td>\n      <td>1</td>\n    </tr>\n    <tr>\n      <th>2915</th>\n      <td>Gd</td>\n      <td>CarPort</td>\n      <td>Unf</td>\n      <td>TA</td>\n      <td>TA</td>\n      <td>Y</td>\n      <td>WD</td>\n      <td>Abnorml</td>\n      <td>0</td>\n      <td>0</td>\n      <td>...</td>\n      <td>1</td>\n      <td>0</td>\n      <td>0</td>\n      <td>1</td>\n      <td>0</td>\n      <td>1</td>\n      <td>0</td>\n      <td>0</td>\n      <td>0</td>\n      <td>1</td>\n    </tr>\n    <tr>\n      <th>2916</th>\n      <td>TA</td>\n      <td>Detchd</td>\n      <td>Unf</td>\n      <td>TA</td>\n      <td>TA</td>\n      <td>Y</td>\n      <td>WD</td>\n      <td>Abnorml</td>\n      <td>0</td>\n      <td>0</td>\n      <td>...</td>\n      <td>1</td>\n      <td>0</td>\n      <td>0</td>\n      <td>1</td>\n      <td>0</td>\n      <td>1</td>\n      <td>0</td>\n      <td>0</td>\n      <td>0</td>\n      <td>1</td>\n    </tr>\n    <tr>\n      <th>2917</th>\n      <td>Gd</td>\n      <td>Attchd</td>\n      <td>Unf</td>\n      <td>TA</td>\n      <td>TA</td>\n      <td>Y</td>\n      <td>WD</td>\n      <td>Normal</td>\n      <td>0</td>\n      <td>0</td>\n      <td>...</td>\n      <td>1</td>\n      <td>0</td>\n      <td>0</td>\n      <td>1</td>\n      <td>0</td>\n      <td>1</td>\n      <td>0</td>\n      <td>0</td>\n      <td>0</td>\n      <td>1</td>\n    </tr>\n    <tr>\n      <th>2918</th>\n      <td>TA</td>\n      <td>Attchd</td>\n      <td>Fin</td>\n      <td>TA</td>\n      <td>TA</td>\n      <td>Y</td>\n      <td>WD</td>\n      <td>Normal</td>\n      <td>0</td>\n      <td>0</td>\n      <td>...</td>\n      <td>1</td>\n      <td>0</td>\n      <td>0</td>\n      <td>1</td>\n      <td>0</td>\n      <td>1</td>\n      <td>0</td>\n      <td>0</td>\n      <td>0</td>\n      <td>1</td>\n    </tr>\n  </tbody>\n</table>\n<p>2919 rows × 113 columns</p>\n</div>"
     },
     "execution_count": 72,
     "metadata": {},
     "output_type": "execute_result"
    }
   ],
   "source": [
    "encoder = ce.BinaryEncoder(categorical_data['Functional'])\n",
    "df1 = encoder.fit_transform(categorical_data['Functional'])\n",
    "categorical_data = pd.concat([categorical_data, df1], axis=1).reindex(categorical_data.index)\n",
    "categorical_data.drop('Functional', axis=1, inplace=True)\n",
    "categorical_data"
   ],
   "metadata": {
    "collapsed": false,
    "pycharm": {
     "name": "#%%\n"
    }
   }
  },
  {
   "cell_type": "code",
   "execution_count": 73,
   "outputs": [
    {
     "data": {
      "text/plain": "array(['Gd', 'TA', 'Fa', 'Ex', 'Po'], dtype=object)"
     },
     "execution_count": 73,
     "metadata": {},
     "output_type": "execute_result"
    }
   ],
   "source": [
    "categorical_data['FireplaceQu'].unique()"
   ],
   "metadata": {
    "collapsed": false,
    "pycharm": {
     "name": "#%%\n"
    }
   }
  },
  {
   "cell_type": "code",
   "execution_count": 74,
   "outputs": [
    {
     "data": {
      "text/plain": "     GarageType GarageFinish GarageQual GarageCond PavedDrive SaleType  \\\n0        Attchd          RFn         TA         TA          Y       WD   \n1        Attchd          RFn         TA         TA          Y       WD   \n2        Attchd          RFn         TA         TA          Y       WD   \n3        Detchd          Unf         TA         TA          Y       WD   \n4        Attchd          RFn         TA         TA          Y       WD   \n...         ...          ...        ...        ...        ...      ...   \n2914     Attchd          Unf         TA         TA          Y       WD   \n2915    CarPort          Unf         TA         TA          Y       WD   \n2916     Detchd          Unf         TA         TA          Y       WD   \n2917     Attchd          Unf         TA         TA          Y       WD   \n2918     Attchd          Fin         TA         TA          Y       WD   \n\n     SaleCondition  C (all)  FV  RH  ...  Electrical_2  KitchenQual_0  \\\n0           Normal        0   0   0  ...             1              0   \n1           Normal        0   0   0  ...             1              0   \n2           Normal        0   0   0  ...             1              0   \n3          Abnorml        0   0   0  ...             1              0   \n4           Normal        0   0   0  ...             1              0   \n...            ...      ...  ..  ..  ...           ...            ...   \n2914        Normal        0   0   0  ...             1              0   \n2915       Abnorml        0   0   0  ...             1              0   \n2916       Abnorml        0   0   0  ...             1              0   \n2917        Normal        0   0   0  ...             1              0   \n2918        Normal        0   0   0  ...             1              0   \n\n      KitchenQual_1  KitchenQual_2  Functional_0  Functional_1  Functional_2  \\\n0                 0              1             0             0             1   \n1                 1              0             0             0             1   \n2                 0              1             0             0             1   \n3                 0              1             0             0             1   \n4                 0              1             0             0             1   \n...             ...            ...           ...           ...           ...   \n2914              1              0             0             0             1   \n2915              1              0             0             0             1   \n2916              1              0             0             0             1   \n2917              1              0             0             0             1   \n2918              1              0             0             0             1   \n\n      FireplaceQu_0  FireplaceQu_1  FireplaceQu_2  \n0                 0              0              1  \n1                 0              1              0  \n2                 0              1              0  \n3                 0              0              1  \n4                 0              1              0  \n...             ...            ...            ...  \n2914              0              0              1  \n2915              0              0              1  \n2916              0              1              0  \n2917              0              0              1  \n2918              0              1              0  \n\n[2919 rows x 115 columns]",
      "text/html": "<div>\n<style scoped>\n    .dataframe tbody tr th:only-of-type {\n        vertical-align: middle;\n    }\n\n    .dataframe tbody tr th {\n        vertical-align: top;\n    }\n\n    .dataframe thead th {\n        text-align: right;\n    }\n</style>\n<table border=\"1\" class=\"dataframe\">\n  <thead>\n    <tr style=\"text-align: right;\">\n      <th></th>\n      <th>GarageType</th>\n      <th>GarageFinish</th>\n      <th>GarageQual</th>\n      <th>GarageCond</th>\n      <th>PavedDrive</th>\n      <th>SaleType</th>\n      <th>SaleCondition</th>\n      <th>C (all)</th>\n      <th>FV</th>\n      <th>RH</th>\n      <th>...</th>\n      <th>Electrical_2</th>\n      <th>KitchenQual_0</th>\n      <th>KitchenQual_1</th>\n      <th>KitchenQual_2</th>\n      <th>Functional_0</th>\n      <th>Functional_1</th>\n      <th>Functional_2</th>\n      <th>FireplaceQu_0</th>\n      <th>FireplaceQu_1</th>\n      <th>FireplaceQu_2</th>\n    </tr>\n  </thead>\n  <tbody>\n    <tr>\n      <th>0</th>\n      <td>Attchd</td>\n      <td>RFn</td>\n      <td>TA</td>\n      <td>TA</td>\n      <td>Y</td>\n      <td>WD</td>\n      <td>Normal</td>\n      <td>0</td>\n      <td>0</td>\n      <td>0</td>\n      <td>...</td>\n      <td>1</td>\n      <td>0</td>\n      <td>0</td>\n      <td>1</td>\n      <td>0</td>\n      <td>0</td>\n      <td>1</td>\n      <td>0</td>\n      <td>0</td>\n      <td>1</td>\n    </tr>\n    <tr>\n      <th>1</th>\n      <td>Attchd</td>\n      <td>RFn</td>\n      <td>TA</td>\n      <td>TA</td>\n      <td>Y</td>\n      <td>WD</td>\n      <td>Normal</td>\n      <td>0</td>\n      <td>0</td>\n      <td>0</td>\n      <td>...</td>\n      <td>1</td>\n      <td>0</td>\n      <td>1</td>\n      <td>0</td>\n      <td>0</td>\n      <td>0</td>\n      <td>1</td>\n      <td>0</td>\n      <td>1</td>\n      <td>0</td>\n    </tr>\n    <tr>\n      <th>2</th>\n      <td>Attchd</td>\n      <td>RFn</td>\n      <td>TA</td>\n      <td>TA</td>\n      <td>Y</td>\n      <td>WD</td>\n      <td>Normal</td>\n      <td>0</td>\n      <td>0</td>\n      <td>0</td>\n      <td>...</td>\n      <td>1</td>\n      <td>0</td>\n      <td>0</td>\n      <td>1</td>\n      <td>0</td>\n      <td>0</td>\n      <td>1</td>\n      <td>0</td>\n      <td>1</td>\n      <td>0</td>\n    </tr>\n    <tr>\n      <th>3</th>\n      <td>Detchd</td>\n      <td>Unf</td>\n      <td>TA</td>\n      <td>TA</td>\n      <td>Y</td>\n      <td>WD</td>\n      <td>Abnorml</td>\n      <td>0</td>\n      <td>0</td>\n      <td>0</td>\n      <td>...</td>\n      <td>1</td>\n      <td>0</td>\n      <td>0</td>\n      <td>1</td>\n      <td>0</td>\n      <td>0</td>\n      <td>1</td>\n      <td>0</td>\n      <td>0</td>\n      <td>1</td>\n    </tr>\n    <tr>\n      <th>4</th>\n      <td>Attchd</td>\n      <td>RFn</td>\n      <td>TA</td>\n      <td>TA</td>\n      <td>Y</td>\n      <td>WD</td>\n      <td>Normal</td>\n      <td>0</td>\n      <td>0</td>\n      <td>0</td>\n      <td>...</td>\n      <td>1</td>\n      <td>0</td>\n      <td>0</td>\n      <td>1</td>\n      <td>0</td>\n      <td>0</td>\n      <td>1</td>\n      <td>0</td>\n      <td>1</td>\n      <td>0</td>\n    </tr>\n    <tr>\n      <th>...</th>\n      <td>...</td>\n      <td>...</td>\n      <td>...</td>\n      <td>...</td>\n      <td>...</td>\n      <td>...</td>\n      <td>...</td>\n      <td>...</td>\n      <td>...</td>\n      <td>...</td>\n      <td>...</td>\n      <td>...</td>\n      <td>...</td>\n      <td>...</td>\n      <td>...</td>\n      <td>...</td>\n      <td>...</td>\n      <td>...</td>\n      <td>...</td>\n      <td>...</td>\n      <td>...</td>\n    </tr>\n    <tr>\n      <th>2914</th>\n      <td>Attchd</td>\n      <td>Unf</td>\n      <td>TA</td>\n      <td>TA</td>\n      <td>Y</td>\n      <td>WD</td>\n      <td>Normal</td>\n      <td>0</td>\n      <td>0</td>\n      <td>0</td>\n      <td>...</td>\n      <td>1</td>\n      <td>0</td>\n      <td>1</td>\n      <td>0</td>\n      <td>0</td>\n      <td>0</td>\n      <td>1</td>\n      <td>0</td>\n      <td>0</td>\n      <td>1</td>\n    </tr>\n    <tr>\n      <th>2915</th>\n      <td>CarPort</td>\n      <td>Unf</td>\n      <td>TA</td>\n      <td>TA</td>\n      <td>Y</td>\n      <td>WD</td>\n      <td>Abnorml</td>\n      <td>0</td>\n      <td>0</td>\n      <td>0</td>\n      <td>...</td>\n      <td>1</td>\n      <td>0</td>\n      <td>1</td>\n      <td>0</td>\n      <td>0</td>\n      <td>0</td>\n      <td>1</td>\n      <td>0</td>\n      <td>0</td>\n      <td>1</td>\n    </tr>\n    <tr>\n      <th>2916</th>\n      <td>Detchd</td>\n      <td>Unf</td>\n      <td>TA</td>\n      <td>TA</td>\n      <td>Y</td>\n      <td>WD</td>\n      <td>Abnorml</td>\n      <td>0</td>\n      <td>0</td>\n      <td>0</td>\n      <td>...</td>\n      <td>1</td>\n      <td>0</td>\n      <td>1</td>\n      <td>0</td>\n      <td>0</td>\n      <td>0</td>\n      <td>1</td>\n      <td>0</td>\n      <td>1</td>\n      <td>0</td>\n    </tr>\n    <tr>\n      <th>2917</th>\n      <td>Attchd</td>\n      <td>Unf</td>\n      <td>TA</td>\n      <td>TA</td>\n      <td>Y</td>\n      <td>WD</td>\n      <td>Normal</td>\n      <td>0</td>\n      <td>0</td>\n      <td>0</td>\n      <td>...</td>\n      <td>1</td>\n      <td>0</td>\n      <td>1</td>\n      <td>0</td>\n      <td>0</td>\n      <td>0</td>\n      <td>1</td>\n      <td>0</td>\n      <td>0</td>\n      <td>1</td>\n    </tr>\n    <tr>\n      <th>2918</th>\n      <td>Attchd</td>\n      <td>Fin</td>\n      <td>TA</td>\n      <td>TA</td>\n      <td>Y</td>\n      <td>WD</td>\n      <td>Normal</td>\n      <td>0</td>\n      <td>0</td>\n      <td>0</td>\n      <td>...</td>\n      <td>1</td>\n      <td>0</td>\n      <td>1</td>\n      <td>0</td>\n      <td>0</td>\n      <td>0</td>\n      <td>1</td>\n      <td>0</td>\n      <td>1</td>\n      <td>0</td>\n    </tr>\n  </tbody>\n</table>\n<p>2919 rows × 115 columns</p>\n</div>"
     },
     "execution_count": 74,
     "metadata": {},
     "output_type": "execute_result"
    }
   ],
   "source": [
    "encoder = ce.BinaryEncoder(categorical_data['FireplaceQu'])\n",
    "df1 = encoder.fit_transform(categorical_data['FireplaceQu'])\n",
    "categorical_data = pd.concat([categorical_data, df1], axis=1).reindex(categorical_data.index)\n",
    "categorical_data.drop('FireplaceQu', axis=1, inplace=True)\n",
    "categorical_data"
   ],
   "metadata": {
    "collapsed": false,
    "pycharm": {
     "name": "#%%\n"
    }
   }
  },
  {
   "cell_type": "code",
   "execution_count": 75,
   "outputs": [
    {
     "data": {
      "text/plain": "array(['Attchd', 'Detchd', 'BuiltIn', 'CarPort', 'Basment', '2Types'],\n      dtype=object)"
     },
     "execution_count": 75,
     "metadata": {},
     "output_type": "execute_result"
    }
   ],
   "source": [
    "categorical_data['GarageType'].unique()"
   ],
   "metadata": {
    "collapsed": false,
    "pycharm": {
     "name": "#%%\n"
    }
   }
  },
  {
   "cell_type": "code",
   "execution_count": 76,
   "outputs": [
    {
     "data": {
      "text/plain": "     GarageFinish GarageQual GarageCond PavedDrive SaleType SaleCondition  \\\n0             RFn         TA         TA          Y       WD        Normal   \n1             RFn         TA         TA          Y       WD        Normal   \n2             RFn         TA         TA          Y       WD        Normal   \n3             Unf         TA         TA          Y       WD       Abnorml   \n4             RFn         TA         TA          Y       WD        Normal   \n...           ...        ...        ...        ...      ...           ...   \n2914          Unf         TA         TA          Y       WD        Normal   \n2915          Unf         TA         TA          Y       WD       Abnorml   \n2916          Unf         TA         TA          Y       WD       Abnorml   \n2917          Unf         TA         TA          Y       WD        Normal   \n2918          Fin         TA         TA          Y       WD        Normal   \n\n      C (all)  FV  RH  RL  ...  KitchenQual_2  Functional_0  Functional_1  \\\n0           0   0   0   1  ...              1             0             0   \n1           0   0   0   1  ...              0             0             0   \n2           0   0   0   1  ...              1             0             0   \n3           0   0   0   1  ...              1             0             0   \n4           0   0   0   1  ...              1             0             0   \n...       ...  ..  ..  ..  ...            ...           ...           ...   \n2914        0   0   0   0  ...              0             0             0   \n2915        0   0   0   0  ...              0             0             0   \n2916        0   0   0   1  ...              0             0             0   \n2917        0   0   0   1  ...              0             0             0   \n2918        0   0   0   1  ...              0             0             0   \n\n      Functional_2  FireplaceQu_0  FireplaceQu_1  FireplaceQu_2  GarageType_0  \\\n0                1              0              0              1             0   \n1                1              0              1              0             0   \n2                1              0              1              0             0   \n3                1              0              0              1             0   \n4                1              0              1              0             0   \n...            ...            ...            ...            ...           ...   \n2914             1              0              0              1             0   \n2915             1              0              0              1             1   \n2916             1              0              1              0             0   \n2917             1              0              0              1             0   \n2918             1              0              1              0             0   \n\n      GarageType_1  GarageType_2  \n0                0             1  \n1                0             1  \n2                0             1  \n3                1             0  \n4                0             1  \n...            ...           ...  \n2914             0             1  \n2915             0             0  \n2916             1             0  \n2917             0             1  \n2918             0             1  \n\n[2919 rows x 117 columns]",
      "text/html": "<div>\n<style scoped>\n    .dataframe tbody tr th:only-of-type {\n        vertical-align: middle;\n    }\n\n    .dataframe tbody tr th {\n        vertical-align: top;\n    }\n\n    .dataframe thead th {\n        text-align: right;\n    }\n</style>\n<table border=\"1\" class=\"dataframe\">\n  <thead>\n    <tr style=\"text-align: right;\">\n      <th></th>\n      <th>GarageFinish</th>\n      <th>GarageQual</th>\n      <th>GarageCond</th>\n      <th>PavedDrive</th>\n      <th>SaleType</th>\n      <th>SaleCondition</th>\n      <th>C (all)</th>\n      <th>FV</th>\n      <th>RH</th>\n      <th>RL</th>\n      <th>...</th>\n      <th>KitchenQual_2</th>\n      <th>Functional_0</th>\n      <th>Functional_1</th>\n      <th>Functional_2</th>\n      <th>FireplaceQu_0</th>\n      <th>FireplaceQu_1</th>\n      <th>FireplaceQu_2</th>\n      <th>GarageType_0</th>\n      <th>GarageType_1</th>\n      <th>GarageType_2</th>\n    </tr>\n  </thead>\n  <tbody>\n    <tr>\n      <th>0</th>\n      <td>RFn</td>\n      <td>TA</td>\n      <td>TA</td>\n      <td>Y</td>\n      <td>WD</td>\n      <td>Normal</td>\n      <td>0</td>\n      <td>0</td>\n      <td>0</td>\n      <td>1</td>\n      <td>...</td>\n      <td>1</td>\n      <td>0</td>\n      <td>0</td>\n      <td>1</td>\n      <td>0</td>\n      <td>0</td>\n      <td>1</td>\n      <td>0</td>\n      <td>0</td>\n      <td>1</td>\n    </tr>\n    <tr>\n      <th>1</th>\n      <td>RFn</td>\n      <td>TA</td>\n      <td>TA</td>\n      <td>Y</td>\n      <td>WD</td>\n      <td>Normal</td>\n      <td>0</td>\n      <td>0</td>\n      <td>0</td>\n      <td>1</td>\n      <td>...</td>\n      <td>0</td>\n      <td>0</td>\n      <td>0</td>\n      <td>1</td>\n      <td>0</td>\n      <td>1</td>\n      <td>0</td>\n      <td>0</td>\n      <td>0</td>\n      <td>1</td>\n    </tr>\n    <tr>\n      <th>2</th>\n      <td>RFn</td>\n      <td>TA</td>\n      <td>TA</td>\n      <td>Y</td>\n      <td>WD</td>\n      <td>Normal</td>\n      <td>0</td>\n      <td>0</td>\n      <td>0</td>\n      <td>1</td>\n      <td>...</td>\n      <td>1</td>\n      <td>0</td>\n      <td>0</td>\n      <td>1</td>\n      <td>0</td>\n      <td>1</td>\n      <td>0</td>\n      <td>0</td>\n      <td>0</td>\n      <td>1</td>\n    </tr>\n    <tr>\n      <th>3</th>\n      <td>Unf</td>\n      <td>TA</td>\n      <td>TA</td>\n      <td>Y</td>\n      <td>WD</td>\n      <td>Abnorml</td>\n      <td>0</td>\n      <td>0</td>\n      <td>0</td>\n      <td>1</td>\n      <td>...</td>\n      <td>1</td>\n      <td>0</td>\n      <td>0</td>\n      <td>1</td>\n      <td>0</td>\n      <td>0</td>\n      <td>1</td>\n      <td>0</td>\n      <td>1</td>\n      <td>0</td>\n    </tr>\n    <tr>\n      <th>4</th>\n      <td>RFn</td>\n      <td>TA</td>\n      <td>TA</td>\n      <td>Y</td>\n      <td>WD</td>\n      <td>Normal</td>\n      <td>0</td>\n      <td>0</td>\n      <td>0</td>\n      <td>1</td>\n      <td>...</td>\n      <td>1</td>\n      <td>0</td>\n      <td>0</td>\n      <td>1</td>\n      <td>0</td>\n      <td>1</td>\n      <td>0</td>\n      <td>0</td>\n      <td>0</td>\n      <td>1</td>\n    </tr>\n    <tr>\n      <th>...</th>\n      <td>...</td>\n      <td>...</td>\n      <td>...</td>\n      <td>...</td>\n      <td>...</td>\n      <td>...</td>\n      <td>...</td>\n      <td>...</td>\n      <td>...</td>\n      <td>...</td>\n      <td>...</td>\n      <td>...</td>\n      <td>...</td>\n      <td>...</td>\n      <td>...</td>\n      <td>...</td>\n      <td>...</td>\n      <td>...</td>\n      <td>...</td>\n      <td>...</td>\n      <td>...</td>\n    </tr>\n    <tr>\n      <th>2914</th>\n      <td>Unf</td>\n      <td>TA</td>\n      <td>TA</td>\n      <td>Y</td>\n      <td>WD</td>\n      <td>Normal</td>\n      <td>0</td>\n      <td>0</td>\n      <td>0</td>\n      <td>0</td>\n      <td>...</td>\n      <td>0</td>\n      <td>0</td>\n      <td>0</td>\n      <td>1</td>\n      <td>0</td>\n      <td>0</td>\n      <td>1</td>\n      <td>0</td>\n      <td>0</td>\n      <td>1</td>\n    </tr>\n    <tr>\n      <th>2915</th>\n      <td>Unf</td>\n      <td>TA</td>\n      <td>TA</td>\n      <td>Y</td>\n      <td>WD</td>\n      <td>Abnorml</td>\n      <td>0</td>\n      <td>0</td>\n      <td>0</td>\n      <td>0</td>\n      <td>...</td>\n      <td>0</td>\n      <td>0</td>\n      <td>0</td>\n      <td>1</td>\n      <td>0</td>\n      <td>0</td>\n      <td>1</td>\n      <td>1</td>\n      <td>0</td>\n      <td>0</td>\n    </tr>\n    <tr>\n      <th>2916</th>\n      <td>Unf</td>\n      <td>TA</td>\n      <td>TA</td>\n      <td>Y</td>\n      <td>WD</td>\n      <td>Abnorml</td>\n      <td>0</td>\n      <td>0</td>\n      <td>0</td>\n      <td>1</td>\n      <td>...</td>\n      <td>0</td>\n      <td>0</td>\n      <td>0</td>\n      <td>1</td>\n      <td>0</td>\n      <td>1</td>\n      <td>0</td>\n      <td>0</td>\n      <td>1</td>\n      <td>0</td>\n    </tr>\n    <tr>\n      <th>2917</th>\n      <td>Unf</td>\n      <td>TA</td>\n      <td>TA</td>\n      <td>Y</td>\n      <td>WD</td>\n      <td>Normal</td>\n      <td>0</td>\n      <td>0</td>\n      <td>0</td>\n      <td>1</td>\n      <td>...</td>\n      <td>0</td>\n      <td>0</td>\n      <td>0</td>\n      <td>1</td>\n      <td>0</td>\n      <td>0</td>\n      <td>1</td>\n      <td>0</td>\n      <td>0</td>\n      <td>1</td>\n    </tr>\n    <tr>\n      <th>2918</th>\n      <td>Fin</td>\n      <td>TA</td>\n      <td>TA</td>\n      <td>Y</td>\n      <td>WD</td>\n      <td>Normal</td>\n      <td>0</td>\n      <td>0</td>\n      <td>0</td>\n      <td>1</td>\n      <td>...</td>\n      <td>0</td>\n      <td>0</td>\n      <td>0</td>\n      <td>1</td>\n      <td>0</td>\n      <td>1</td>\n      <td>0</td>\n      <td>0</td>\n      <td>0</td>\n      <td>1</td>\n    </tr>\n  </tbody>\n</table>\n<p>2919 rows × 117 columns</p>\n</div>"
     },
     "execution_count": 76,
     "metadata": {},
     "output_type": "execute_result"
    }
   ],
   "source": [
    "encoder = ce.BinaryEncoder(categorical_data['GarageType'])\n",
    "df1 = encoder.fit_transform(categorical_data['GarageType'])\n",
    "categorical_data = pd.concat([categorical_data, df1], axis=1).reindex(categorical_data.index)\n",
    "categorical_data.drop('GarageType', axis=1, inplace=True)\n",
    "categorical_data"
   ],
   "metadata": {
    "collapsed": false,
    "pycharm": {
     "name": "#%%\n"
    }
   }
  },
  {
   "cell_type": "code",
   "execution_count": 77,
   "outputs": [
    {
     "data": {
      "text/plain": "array(['RFn', 'Unf', 'Fin'], dtype=object)"
     },
     "execution_count": 77,
     "metadata": {},
     "output_type": "execute_result"
    }
   ],
   "source": [
    "categorical_data['GarageFinish'].unique()"
   ],
   "metadata": {
    "collapsed": false,
    "pycharm": {
     "name": "#%%\n"
    }
   }
  },
  {
   "cell_type": "markdown",
   "source": [
    "#One hot encoding"
   ],
   "metadata": {
    "collapsed": false,
    "pycharm": {
     "name": "#%% md\n"
    }
   }
  },
  {
   "cell_type": "code",
   "execution_count": 78,
   "outputs": [
    {
     "data": {
      "text/plain": "     GarageFinish GarageQual GarageCond PavedDrive SaleType SaleCondition  \\\n0             RFn         TA         TA          Y       WD        Normal   \n1             RFn         TA         TA          Y       WD        Normal   \n2             RFn         TA         TA          Y       WD        Normal   \n3             Unf         TA         TA          Y       WD       Abnorml   \n4             RFn         TA         TA          Y       WD        Normal   \n...           ...        ...        ...        ...      ...           ...   \n2914          Unf         TA         TA          Y       WD        Normal   \n2915          Unf         TA         TA          Y       WD       Abnorml   \n2916          Unf         TA         TA          Y       WD       Abnorml   \n2917          Unf         TA         TA          Y       WD        Normal   \n2918          Fin         TA         TA          Y       WD        Normal   \n\n      C (all)  FV  RH  RL  ...  Functional_2  FireplaceQu_0  FireplaceQu_1  \\\n0           0   0   0   1  ...             1              0              0   \n1           0   0   0   1  ...             1              0              1   \n2           0   0   0   1  ...             1              0              1   \n3           0   0   0   1  ...             1              0              0   \n4           0   0   0   1  ...             1              0              1   \n...       ...  ..  ..  ..  ...           ...            ...            ...   \n2914        0   0   0   0  ...             1              0              0   \n2915        0   0   0   0  ...             1              0              0   \n2916        0   0   0   1  ...             1              0              1   \n2917        0   0   0   1  ...             1              0              0   \n2918        0   0   0   1  ...             1              0              1   \n\n      FireplaceQu_2  GarageType_0  GarageType_1  GarageType_2    0    1    2  \n0                 1             0             0             1  0.0  1.0  0.0  \n1                 0             0             0             1  0.0  1.0  0.0  \n2                 0             0             0             1  0.0  1.0  0.0  \n3                 1             0             1             0  0.0  0.0  1.0  \n4                 0             0             0             1  0.0  1.0  0.0  \n...             ...           ...           ...           ...  ...  ...  ...  \n2914              1             0             0             1  0.0  0.0  1.0  \n2915              1             1             0             0  0.0  0.0  1.0  \n2916              0             0             1             0  0.0  0.0  1.0  \n2917              1             0             0             1  0.0  0.0  1.0  \n2918              0             0             0             1  1.0  0.0  0.0  \n\n[2919 rows x 120 columns]",
      "text/html": "<div>\n<style scoped>\n    .dataframe tbody tr th:only-of-type {\n        vertical-align: middle;\n    }\n\n    .dataframe tbody tr th {\n        vertical-align: top;\n    }\n\n    .dataframe thead th {\n        text-align: right;\n    }\n</style>\n<table border=\"1\" class=\"dataframe\">\n  <thead>\n    <tr style=\"text-align: right;\">\n      <th></th>\n      <th>GarageFinish</th>\n      <th>GarageQual</th>\n      <th>GarageCond</th>\n      <th>PavedDrive</th>\n      <th>SaleType</th>\n      <th>SaleCondition</th>\n      <th>C (all)</th>\n      <th>FV</th>\n      <th>RH</th>\n      <th>RL</th>\n      <th>...</th>\n      <th>Functional_2</th>\n      <th>FireplaceQu_0</th>\n      <th>FireplaceQu_1</th>\n      <th>FireplaceQu_2</th>\n      <th>GarageType_0</th>\n      <th>GarageType_1</th>\n      <th>GarageType_2</th>\n      <th>0</th>\n      <th>1</th>\n      <th>2</th>\n    </tr>\n  </thead>\n  <tbody>\n    <tr>\n      <th>0</th>\n      <td>RFn</td>\n      <td>TA</td>\n      <td>TA</td>\n      <td>Y</td>\n      <td>WD</td>\n      <td>Normal</td>\n      <td>0</td>\n      <td>0</td>\n      <td>0</td>\n      <td>1</td>\n      <td>...</td>\n      <td>1</td>\n      <td>0</td>\n      <td>0</td>\n      <td>1</td>\n      <td>0</td>\n      <td>0</td>\n      <td>1</td>\n      <td>0.0</td>\n      <td>1.0</td>\n      <td>0.0</td>\n    </tr>\n    <tr>\n      <th>1</th>\n      <td>RFn</td>\n      <td>TA</td>\n      <td>TA</td>\n      <td>Y</td>\n      <td>WD</td>\n      <td>Normal</td>\n      <td>0</td>\n      <td>0</td>\n      <td>0</td>\n      <td>1</td>\n      <td>...</td>\n      <td>1</td>\n      <td>0</td>\n      <td>1</td>\n      <td>0</td>\n      <td>0</td>\n      <td>0</td>\n      <td>1</td>\n      <td>0.0</td>\n      <td>1.0</td>\n      <td>0.0</td>\n    </tr>\n    <tr>\n      <th>2</th>\n      <td>RFn</td>\n      <td>TA</td>\n      <td>TA</td>\n      <td>Y</td>\n      <td>WD</td>\n      <td>Normal</td>\n      <td>0</td>\n      <td>0</td>\n      <td>0</td>\n      <td>1</td>\n      <td>...</td>\n      <td>1</td>\n      <td>0</td>\n      <td>1</td>\n      <td>0</td>\n      <td>0</td>\n      <td>0</td>\n      <td>1</td>\n      <td>0.0</td>\n      <td>1.0</td>\n      <td>0.0</td>\n    </tr>\n    <tr>\n      <th>3</th>\n      <td>Unf</td>\n      <td>TA</td>\n      <td>TA</td>\n      <td>Y</td>\n      <td>WD</td>\n      <td>Abnorml</td>\n      <td>0</td>\n      <td>0</td>\n      <td>0</td>\n      <td>1</td>\n      <td>...</td>\n      <td>1</td>\n      <td>0</td>\n      <td>0</td>\n      <td>1</td>\n      <td>0</td>\n      <td>1</td>\n      <td>0</td>\n      <td>0.0</td>\n      <td>0.0</td>\n      <td>1.0</td>\n    </tr>\n    <tr>\n      <th>4</th>\n      <td>RFn</td>\n      <td>TA</td>\n      <td>TA</td>\n      <td>Y</td>\n      <td>WD</td>\n      <td>Normal</td>\n      <td>0</td>\n      <td>0</td>\n      <td>0</td>\n      <td>1</td>\n      <td>...</td>\n      <td>1</td>\n      <td>0</td>\n      <td>1</td>\n      <td>0</td>\n      <td>0</td>\n      <td>0</td>\n      <td>1</td>\n      <td>0.0</td>\n      <td>1.0</td>\n      <td>0.0</td>\n    </tr>\n    <tr>\n      <th>...</th>\n      <td>...</td>\n      <td>...</td>\n      <td>...</td>\n      <td>...</td>\n      <td>...</td>\n      <td>...</td>\n      <td>...</td>\n      <td>...</td>\n      <td>...</td>\n      <td>...</td>\n      <td>...</td>\n      <td>...</td>\n      <td>...</td>\n      <td>...</td>\n      <td>...</td>\n      <td>...</td>\n      <td>...</td>\n      <td>...</td>\n      <td>...</td>\n      <td>...</td>\n      <td>...</td>\n    </tr>\n    <tr>\n      <th>2914</th>\n      <td>Unf</td>\n      <td>TA</td>\n      <td>TA</td>\n      <td>Y</td>\n      <td>WD</td>\n      <td>Normal</td>\n      <td>0</td>\n      <td>0</td>\n      <td>0</td>\n      <td>0</td>\n      <td>...</td>\n      <td>1</td>\n      <td>0</td>\n      <td>0</td>\n      <td>1</td>\n      <td>0</td>\n      <td>0</td>\n      <td>1</td>\n      <td>0.0</td>\n      <td>0.0</td>\n      <td>1.0</td>\n    </tr>\n    <tr>\n      <th>2915</th>\n      <td>Unf</td>\n      <td>TA</td>\n      <td>TA</td>\n      <td>Y</td>\n      <td>WD</td>\n      <td>Abnorml</td>\n      <td>0</td>\n      <td>0</td>\n      <td>0</td>\n      <td>0</td>\n      <td>...</td>\n      <td>1</td>\n      <td>0</td>\n      <td>0</td>\n      <td>1</td>\n      <td>1</td>\n      <td>0</td>\n      <td>0</td>\n      <td>0.0</td>\n      <td>0.0</td>\n      <td>1.0</td>\n    </tr>\n    <tr>\n      <th>2916</th>\n      <td>Unf</td>\n      <td>TA</td>\n      <td>TA</td>\n      <td>Y</td>\n      <td>WD</td>\n      <td>Abnorml</td>\n      <td>0</td>\n      <td>0</td>\n      <td>0</td>\n      <td>1</td>\n      <td>...</td>\n      <td>1</td>\n      <td>0</td>\n      <td>1</td>\n      <td>0</td>\n      <td>0</td>\n      <td>1</td>\n      <td>0</td>\n      <td>0.0</td>\n      <td>0.0</td>\n      <td>1.0</td>\n    </tr>\n    <tr>\n      <th>2917</th>\n      <td>Unf</td>\n      <td>TA</td>\n      <td>TA</td>\n      <td>Y</td>\n      <td>WD</td>\n      <td>Normal</td>\n      <td>0</td>\n      <td>0</td>\n      <td>0</td>\n      <td>1</td>\n      <td>...</td>\n      <td>1</td>\n      <td>0</td>\n      <td>0</td>\n      <td>1</td>\n      <td>0</td>\n      <td>0</td>\n      <td>1</td>\n      <td>0.0</td>\n      <td>0.0</td>\n      <td>1.0</td>\n    </tr>\n    <tr>\n      <th>2918</th>\n      <td>Fin</td>\n      <td>TA</td>\n      <td>TA</td>\n      <td>Y</td>\n      <td>WD</td>\n      <td>Normal</td>\n      <td>0</td>\n      <td>0</td>\n      <td>0</td>\n      <td>1</td>\n      <td>...</td>\n      <td>1</td>\n      <td>0</td>\n      <td>1</td>\n      <td>0</td>\n      <td>0</td>\n      <td>0</td>\n      <td>1</td>\n      <td>1.0</td>\n      <td>0.0</td>\n      <td>0.0</td>\n    </tr>\n  </tbody>\n</table>\n<p>2919 rows × 120 columns</p>\n</div>"
     },
     "execution_count": 78,
     "metadata": {},
     "output_type": "execute_result"
    }
   ],
   "source": [
    "from sklearn.preprocessing import OneHotEncoder\n",
    "\n",
    "encoder = OneHotEncoder(handle_unknown='ignore')\n",
    "encoder_df = pd.DataFrame(encoder.fit_transform(categorical_data[['GarageFinish']]).toarray())\n",
    "categorical_data = categorical_data.join(encoder_df)\n",
    "categorical_data"
   ],
   "metadata": {
    "collapsed": false,
    "pycharm": {
     "name": "#%%\n"
    }
   }
  },
  {
   "cell_type": "code",
   "execution_count": 79,
   "outputs": [
    {
     "data": {
      "text/plain": "     GarageQual GarageCond PavedDrive SaleType SaleCondition  C (all)  FV  RH  \\\n0            TA         TA          Y       WD        Normal        0   0   0   \n1            TA         TA          Y       WD        Normal        0   0   0   \n2            TA         TA          Y       WD        Normal        0   0   0   \n3            TA         TA          Y       WD       Abnorml        0   0   0   \n4            TA         TA          Y       WD        Normal        0   0   0   \n...         ...        ...        ...      ...           ...      ...  ..  ..   \n2914         TA         TA          Y       WD        Normal        0   0   0   \n2915         TA         TA          Y       WD       Abnorml        0   0   0   \n2916         TA         TA          Y       WD       Abnorml        0   0   0   \n2917         TA         TA          Y       WD        Normal        0   0   0   \n2918         TA         TA          Y       WD        Normal        0   0   0   \n\n      RL  RM  ...  Functional_2  FireplaceQu_0  FireplaceQu_1  FireplaceQu_2  \\\n0      1   0  ...             1              0              0              1   \n1      1   0  ...             1              0              1              0   \n2      1   0  ...             1              0              1              0   \n3      1   0  ...             1              0              0              1   \n4      1   0  ...             1              0              1              0   \n...   ..  ..  ...           ...            ...            ...            ...   \n2914   0   1  ...             1              0              0              1   \n2915   0   1  ...             1              0              0              1   \n2916   1   0  ...             1              0              1              0   \n2917   1   0  ...             1              0              0              1   \n2918   1   0  ...             1              0              1              0   \n\n      GarageType_0  GarageType_1  GarageType_2    0    1    2  \n0                0             0             1  0.0  1.0  0.0  \n1                0             0             1  0.0  1.0  0.0  \n2                0             0             1  0.0  1.0  0.0  \n3                0             1             0  0.0  0.0  1.0  \n4                0             0             1  0.0  1.0  0.0  \n...            ...           ...           ...  ...  ...  ...  \n2914             0             0             1  0.0  0.0  1.0  \n2915             1             0             0  0.0  0.0  1.0  \n2916             0             1             0  0.0  0.0  1.0  \n2917             0             0             1  0.0  0.0  1.0  \n2918             0             0             1  1.0  0.0  0.0  \n\n[2919 rows x 119 columns]",
      "text/html": "<div>\n<style scoped>\n    .dataframe tbody tr th:only-of-type {\n        vertical-align: middle;\n    }\n\n    .dataframe tbody tr th {\n        vertical-align: top;\n    }\n\n    .dataframe thead th {\n        text-align: right;\n    }\n</style>\n<table border=\"1\" class=\"dataframe\">\n  <thead>\n    <tr style=\"text-align: right;\">\n      <th></th>\n      <th>GarageQual</th>\n      <th>GarageCond</th>\n      <th>PavedDrive</th>\n      <th>SaleType</th>\n      <th>SaleCondition</th>\n      <th>C (all)</th>\n      <th>FV</th>\n      <th>RH</th>\n      <th>RL</th>\n      <th>RM</th>\n      <th>...</th>\n      <th>Functional_2</th>\n      <th>FireplaceQu_0</th>\n      <th>FireplaceQu_1</th>\n      <th>FireplaceQu_2</th>\n      <th>GarageType_0</th>\n      <th>GarageType_1</th>\n      <th>GarageType_2</th>\n      <th>0</th>\n      <th>1</th>\n      <th>2</th>\n    </tr>\n  </thead>\n  <tbody>\n    <tr>\n      <th>0</th>\n      <td>TA</td>\n      <td>TA</td>\n      <td>Y</td>\n      <td>WD</td>\n      <td>Normal</td>\n      <td>0</td>\n      <td>0</td>\n      <td>0</td>\n      <td>1</td>\n      <td>0</td>\n      <td>...</td>\n      <td>1</td>\n      <td>0</td>\n      <td>0</td>\n      <td>1</td>\n      <td>0</td>\n      <td>0</td>\n      <td>1</td>\n      <td>0.0</td>\n      <td>1.0</td>\n      <td>0.0</td>\n    </tr>\n    <tr>\n      <th>1</th>\n      <td>TA</td>\n      <td>TA</td>\n      <td>Y</td>\n      <td>WD</td>\n      <td>Normal</td>\n      <td>0</td>\n      <td>0</td>\n      <td>0</td>\n      <td>1</td>\n      <td>0</td>\n      <td>...</td>\n      <td>1</td>\n      <td>0</td>\n      <td>1</td>\n      <td>0</td>\n      <td>0</td>\n      <td>0</td>\n      <td>1</td>\n      <td>0.0</td>\n      <td>1.0</td>\n      <td>0.0</td>\n    </tr>\n    <tr>\n      <th>2</th>\n      <td>TA</td>\n      <td>TA</td>\n      <td>Y</td>\n      <td>WD</td>\n      <td>Normal</td>\n      <td>0</td>\n      <td>0</td>\n      <td>0</td>\n      <td>1</td>\n      <td>0</td>\n      <td>...</td>\n      <td>1</td>\n      <td>0</td>\n      <td>1</td>\n      <td>0</td>\n      <td>0</td>\n      <td>0</td>\n      <td>1</td>\n      <td>0.0</td>\n      <td>1.0</td>\n      <td>0.0</td>\n    </tr>\n    <tr>\n      <th>3</th>\n      <td>TA</td>\n      <td>TA</td>\n      <td>Y</td>\n      <td>WD</td>\n      <td>Abnorml</td>\n      <td>0</td>\n      <td>0</td>\n      <td>0</td>\n      <td>1</td>\n      <td>0</td>\n      <td>...</td>\n      <td>1</td>\n      <td>0</td>\n      <td>0</td>\n      <td>1</td>\n      <td>0</td>\n      <td>1</td>\n      <td>0</td>\n      <td>0.0</td>\n      <td>0.0</td>\n      <td>1.0</td>\n    </tr>\n    <tr>\n      <th>4</th>\n      <td>TA</td>\n      <td>TA</td>\n      <td>Y</td>\n      <td>WD</td>\n      <td>Normal</td>\n      <td>0</td>\n      <td>0</td>\n      <td>0</td>\n      <td>1</td>\n      <td>0</td>\n      <td>...</td>\n      <td>1</td>\n      <td>0</td>\n      <td>1</td>\n      <td>0</td>\n      <td>0</td>\n      <td>0</td>\n      <td>1</td>\n      <td>0.0</td>\n      <td>1.0</td>\n      <td>0.0</td>\n    </tr>\n    <tr>\n      <th>...</th>\n      <td>...</td>\n      <td>...</td>\n      <td>...</td>\n      <td>...</td>\n      <td>...</td>\n      <td>...</td>\n      <td>...</td>\n      <td>...</td>\n      <td>...</td>\n      <td>...</td>\n      <td>...</td>\n      <td>...</td>\n      <td>...</td>\n      <td>...</td>\n      <td>...</td>\n      <td>...</td>\n      <td>...</td>\n      <td>...</td>\n      <td>...</td>\n      <td>...</td>\n      <td>...</td>\n    </tr>\n    <tr>\n      <th>2914</th>\n      <td>TA</td>\n      <td>TA</td>\n      <td>Y</td>\n      <td>WD</td>\n      <td>Normal</td>\n      <td>0</td>\n      <td>0</td>\n      <td>0</td>\n      <td>0</td>\n      <td>1</td>\n      <td>...</td>\n      <td>1</td>\n      <td>0</td>\n      <td>0</td>\n      <td>1</td>\n      <td>0</td>\n      <td>0</td>\n      <td>1</td>\n      <td>0.0</td>\n      <td>0.0</td>\n      <td>1.0</td>\n    </tr>\n    <tr>\n      <th>2915</th>\n      <td>TA</td>\n      <td>TA</td>\n      <td>Y</td>\n      <td>WD</td>\n      <td>Abnorml</td>\n      <td>0</td>\n      <td>0</td>\n      <td>0</td>\n      <td>0</td>\n      <td>1</td>\n      <td>...</td>\n      <td>1</td>\n      <td>0</td>\n      <td>0</td>\n      <td>1</td>\n      <td>1</td>\n      <td>0</td>\n      <td>0</td>\n      <td>0.0</td>\n      <td>0.0</td>\n      <td>1.0</td>\n    </tr>\n    <tr>\n      <th>2916</th>\n      <td>TA</td>\n      <td>TA</td>\n      <td>Y</td>\n      <td>WD</td>\n      <td>Abnorml</td>\n      <td>0</td>\n      <td>0</td>\n      <td>0</td>\n      <td>1</td>\n      <td>0</td>\n      <td>...</td>\n      <td>1</td>\n      <td>0</td>\n      <td>1</td>\n      <td>0</td>\n      <td>0</td>\n      <td>1</td>\n      <td>0</td>\n      <td>0.0</td>\n      <td>0.0</td>\n      <td>1.0</td>\n    </tr>\n    <tr>\n      <th>2917</th>\n      <td>TA</td>\n      <td>TA</td>\n      <td>Y</td>\n      <td>WD</td>\n      <td>Normal</td>\n      <td>0</td>\n      <td>0</td>\n      <td>0</td>\n      <td>1</td>\n      <td>0</td>\n      <td>...</td>\n      <td>1</td>\n      <td>0</td>\n      <td>0</td>\n      <td>1</td>\n      <td>0</td>\n      <td>0</td>\n      <td>1</td>\n      <td>0.0</td>\n      <td>0.0</td>\n      <td>1.0</td>\n    </tr>\n    <tr>\n      <th>2918</th>\n      <td>TA</td>\n      <td>TA</td>\n      <td>Y</td>\n      <td>WD</td>\n      <td>Normal</td>\n      <td>0</td>\n      <td>0</td>\n      <td>0</td>\n      <td>1</td>\n      <td>0</td>\n      <td>...</td>\n      <td>1</td>\n      <td>0</td>\n      <td>1</td>\n      <td>0</td>\n      <td>0</td>\n      <td>0</td>\n      <td>1</td>\n      <td>1.0</td>\n      <td>0.0</td>\n      <td>0.0</td>\n    </tr>\n  </tbody>\n</table>\n<p>2919 rows × 119 columns</p>\n</div>"
     },
     "execution_count": 79,
     "metadata": {},
     "output_type": "execute_result"
    }
   ],
   "source": [
    "categorical_data.drop(['GarageFinish'], axis=1, inplace = True)\n",
    "categorical_data"
   ],
   "metadata": {
    "collapsed": false,
    "pycharm": {
     "name": "#%%\n"
    }
   }
  },
  {
   "cell_type": "code",
   "execution_count": 80,
   "outputs": [
    {
     "data": {
      "text/plain": "array(['TA', 'Fa', 'Gd', 'Ex', 'Po'], dtype=object)"
     },
     "execution_count": 80,
     "metadata": {},
     "output_type": "execute_result"
    }
   ],
   "source": [
    "categorical_data['GarageQual'].unique()"
   ],
   "metadata": {
    "collapsed": false,
    "pycharm": {
     "name": "#%%\n"
    }
   }
  },
  {
   "cell_type": "code",
   "execution_count": 81,
   "outputs": [
    {
     "data": {
      "text/plain": "     GarageCond PavedDrive SaleType SaleCondition  C (all)  FV  RH  RL  RM  \\\n0            TA          Y       WD        Normal        0   0   0   1   0   \n1            TA          Y       WD        Normal        0   0   0   1   0   \n2            TA          Y       WD        Normal        0   0   0   1   0   \n3            TA          Y       WD       Abnorml        0   0   0   1   0   \n4            TA          Y       WD        Normal        0   0   0   1   0   \n...         ...        ...      ...           ...      ...  ..  ..  ..  ..   \n2914         TA          Y       WD        Normal        0   0   0   0   1   \n2915         TA          Y       WD       Abnorml        0   0   0   0   1   \n2916         TA          Y       WD       Abnorml        0   0   0   1   0   \n2917         TA          Y       WD        Normal        0   0   0   1   0   \n2918         TA          Y       WD        Normal        0   0   0   1   0   \n\n      Street  ...  FireplaceQu_2  GarageType_0  GarageType_1  GarageType_2  \\\n0          1  ...              1             0             0             1   \n1          1  ...              0             0             0             1   \n2          1  ...              0             0             0             1   \n3          1  ...              1             0             1             0   \n4          1  ...              0             0             0             1   \n...      ...  ...            ...           ...           ...           ...   \n2914       1  ...              1             0             0             1   \n2915       1  ...              1             1             0             0   \n2916       1  ...              0             0             1             0   \n2917       1  ...              1             0             0             1   \n2918       1  ...              0             0             0             1   \n\n        0    1    2  GarageQual_0  GarageQual_1  GarageQual_2  \n0     0.0  1.0  0.0             0             0             1  \n1     0.0  1.0  0.0             0             0             1  \n2     0.0  1.0  0.0             0             0             1  \n3     0.0  0.0  1.0             0             0             1  \n4     0.0  1.0  0.0             0             0             1  \n...   ...  ...  ...           ...           ...           ...  \n2914  0.0  0.0  1.0             0             0             1  \n2915  0.0  0.0  1.0             0             0             1  \n2916  0.0  0.0  1.0             0             0             1  \n2917  0.0  0.0  1.0             0             0             1  \n2918  1.0  0.0  0.0             0             0             1  \n\n[2919 rows x 121 columns]",
      "text/html": "<div>\n<style scoped>\n    .dataframe tbody tr th:only-of-type {\n        vertical-align: middle;\n    }\n\n    .dataframe tbody tr th {\n        vertical-align: top;\n    }\n\n    .dataframe thead th {\n        text-align: right;\n    }\n</style>\n<table border=\"1\" class=\"dataframe\">\n  <thead>\n    <tr style=\"text-align: right;\">\n      <th></th>\n      <th>GarageCond</th>\n      <th>PavedDrive</th>\n      <th>SaleType</th>\n      <th>SaleCondition</th>\n      <th>C (all)</th>\n      <th>FV</th>\n      <th>RH</th>\n      <th>RL</th>\n      <th>RM</th>\n      <th>Street</th>\n      <th>...</th>\n      <th>FireplaceQu_2</th>\n      <th>GarageType_0</th>\n      <th>GarageType_1</th>\n      <th>GarageType_2</th>\n      <th>0</th>\n      <th>1</th>\n      <th>2</th>\n      <th>GarageQual_0</th>\n      <th>GarageQual_1</th>\n      <th>GarageQual_2</th>\n    </tr>\n  </thead>\n  <tbody>\n    <tr>\n      <th>0</th>\n      <td>TA</td>\n      <td>Y</td>\n      <td>WD</td>\n      <td>Normal</td>\n      <td>0</td>\n      <td>0</td>\n      <td>0</td>\n      <td>1</td>\n      <td>0</td>\n      <td>1</td>\n      <td>...</td>\n      <td>1</td>\n      <td>0</td>\n      <td>0</td>\n      <td>1</td>\n      <td>0.0</td>\n      <td>1.0</td>\n      <td>0.0</td>\n      <td>0</td>\n      <td>0</td>\n      <td>1</td>\n    </tr>\n    <tr>\n      <th>1</th>\n      <td>TA</td>\n      <td>Y</td>\n      <td>WD</td>\n      <td>Normal</td>\n      <td>0</td>\n      <td>0</td>\n      <td>0</td>\n      <td>1</td>\n      <td>0</td>\n      <td>1</td>\n      <td>...</td>\n      <td>0</td>\n      <td>0</td>\n      <td>0</td>\n      <td>1</td>\n      <td>0.0</td>\n      <td>1.0</td>\n      <td>0.0</td>\n      <td>0</td>\n      <td>0</td>\n      <td>1</td>\n    </tr>\n    <tr>\n      <th>2</th>\n      <td>TA</td>\n      <td>Y</td>\n      <td>WD</td>\n      <td>Normal</td>\n      <td>0</td>\n      <td>0</td>\n      <td>0</td>\n      <td>1</td>\n      <td>0</td>\n      <td>1</td>\n      <td>...</td>\n      <td>0</td>\n      <td>0</td>\n      <td>0</td>\n      <td>1</td>\n      <td>0.0</td>\n      <td>1.0</td>\n      <td>0.0</td>\n      <td>0</td>\n      <td>0</td>\n      <td>1</td>\n    </tr>\n    <tr>\n      <th>3</th>\n      <td>TA</td>\n      <td>Y</td>\n      <td>WD</td>\n      <td>Abnorml</td>\n      <td>0</td>\n      <td>0</td>\n      <td>0</td>\n      <td>1</td>\n      <td>0</td>\n      <td>1</td>\n      <td>...</td>\n      <td>1</td>\n      <td>0</td>\n      <td>1</td>\n      <td>0</td>\n      <td>0.0</td>\n      <td>0.0</td>\n      <td>1.0</td>\n      <td>0</td>\n      <td>0</td>\n      <td>1</td>\n    </tr>\n    <tr>\n      <th>4</th>\n      <td>TA</td>\n      <td>Y</td>\n      <td>WD</td>\n      <td>Normal</td>\n      <td>0</td>\n      <td>0</td>\n      <td>0</td>\n      <td>1</td>\n      <td>0</td>\n      <td>1</td>\n      <td>...</td>\n      <td>0</td>\n      <td>0</td>\n      <td>0</td>\n      <td>1</td>\n      <td>0.0</td>\n      <td>1.0</td>\n      <td>0.0</td>\n      <td>0</td>\n      <td>0</td>\n      <td>1</td>\n    </tr>\n    <tr>\n      <th>...</th>\n      <td>...</td>\n      <td>...</td>\n      <td>...</td>\n      <td>...</td>\n      <td>...</td>\n      <td>...</td>\n      <td>...</td>\n      <td>...</td>\n      <td>...</td>\n      <td>...</td>\n      <td>...</td>\n      <td>...</td>\n      <td>...</td>\n      <td>...</td>\n      <td>...</td>\n      <td>...</td>\n      <td>...</td>\n      <td>...</td>\n      <td>...</td>\n      <td>...</td>\n      <td>...</td>\n    </tr>\n    <tr>\n      <th>2914</th>\n      <td>TA</td>\n      <td>Y</td>\n      <td>WD</td>\n      <td>Normal</td>\n      <td>0</td>\n      <td>0</td>\n      <td>0</td>\n      <td>0</td>\n      <td>1</td>\n      <td>1</td>\n      <td>...</td>\n      <td>1</td>\n      <td>0</td>\n      <td>0</td>\n      <td>1</td>\n      <td>0.0</td>\n      <td>0.0</td>\n      <td>1.0</td>\n      <td>0</td>\n      <td>0</td>\n      <td>1</td>\n    </tr>\n    <tr>\n      <th>2915</th>\n      <td>TA</td>\n      <td>Y</td>\n      <td>WD</td>\n      <td>Abnorml</td>\n      <td>0</td>\n      <td>0</td>\n      <td>0</td>\n      <td>0</td>\n      <td>1</td>\n      <td>1</td>\n      <td>...</td>\n      <td>1</td>\n      <td>1</td>\n      <td>0</td>\n      <td>0</td>\n      <td>0.0</td>\n      <td>0.0</td>\n      <td>1.0</td>\n      <td>0</td>\n      <td>0</td>\n      <td>1</td>\n    </tr>\n    <tr>\n      <th>2916</th>\n      <td>TA</td>\n      <td>Y</td>\n      <td>WD</td>\n      <td>Abnorml</td>\n      <td>0</td>\n      <td>0</td>\n      <td>0</td>\n      <td>1</td>\n      <td>0</td>\n      <td>1</td>\n      <td>...</td>\n      <td>0</td>\n      <td>0</td>\n      <td>1</td>\n      <td>0</td>\n      <td>0.0</td>\n      <td>0.0</td>\n      <td>1.0</td>\n      <td>0</td>\n      <td>0</td>\n      <td>1</td>\n    </tr>\n    <tr>\n      <th>2917</th>\n      <td>TA</td>\n      <td>Y</td>\n      <td>WD</td>\n      <td>Normal</td>\n      <td>0</td>\n      <td>0</td>\n      <td>0</td>\n      <td>1</td>\n      <td>0</td>\n      <td>1</td>\n      <td>...</td>\n      <td>1</td>\n      <td>0</td>\n      <td>0</td>\n      <td>1</td>\n      <td>0.0</td>\n      <td>0.0</td>\n      <td>1.0</td>\n      <td>0</td>\n      <td>0</td>\n      <td>1</td>\n    </tr>\n    <tr>\n      <th>2918</th>\n      <td>TA</td>\n      <td>Y</td>\n      <td>WD</td>\n      <td>Normal</td>\n      <td>0</td>\n      <td>0</td>\n      <td>0</td>\n      <td>1</td>\n      <td>0</td>\n      <td>1</td>\n      <td>...</td>\n      <td>0</td>\n      <td>0</td>\n      <td>0</td>\n      <td>1</td>\n      <td>1.0</td>\n      <td>0.0</td>\n      <td>0.0</td>\n      <td>0</td>\n      <td>0</td>\n      <td>1</td>\n    </tr>\n  </tbody>\n</table>\n<p>2919 rows × 121 columns</p>\n</div>"
     },
     "execution_count": 81,
     "metadata": {},
     "output_type": "execute_result"
    }
   ],
   "source": [
    "encoder = ce.BinaryEncoder(categorical_data['GarageQual'])\n",
    "df1 = encoder.fit_transform(categorical_data['GarageQual'])\n",
    "categorical_data = pd.concat([categorical_data, df1], axis=1).reindex(categorical_data.index)\n",
    "categorical_data.drop('GarageQual', axis=1, inplace=True)\n",
    "categorical_data"
   ],
   "metadata": {
    "collapsed": false,
    "pycharm": {
     "name": "#%%\n"
    }
   }
  },
  {
   "cell_type": "code",
   "execution_count": 82,
   "outputs": [
    {
     "data": {
      "text/plain": "array(['TA', 'Fa', 'Gd', 'Po', 'Ex'], dtype=object)"
     },
     "execution_count": 82,
     "metadata": {},
     "output_type": "execute_result"
    }
   ],
   "source": [
    "categorical_data['GarageCond'].unique()"
   ],
   "metadata": {
    "collapsed": false,
    "pycharm": {
     "name": "#%%\n"
    }
   }
  },
  {
   "cell_type": "code",
   "execution_count": 83,
   "outputs": [
    {
     "data": {
      "text/plain": "     PavedDrive SaleType SaleCondition  C (all)  FV  RH  RL  RM  Street  IR1  \\\n0             Y       WD        Normal        0   0   0   1   0       1    0   \n1             Y       WD        Normal        0   0   0   1   0       1    0   \n2             Y       WD        Normal        0   0   0   1   0       1    1   \n3             Y       WD       Abnorml        0   0   0   1   0       1    1   \n4             Y       WD        Normal        0   0   0   1   0       1    1   \n...         ...      ...           ...      ...  ..  ..  ..  ..     ...  ...   \n2914          Y       WD        Normal        0   0   0   0   1       1    0   \n2915          Y       WD       Abnorml        0   0   0   0   1       1    0   \n2916          Y       WD       Abnorml        0   0   0   1   0       1    0   \n2917          Y       WD        Normal        0   0   0   1   0       1    0   \n2918          Y       WD        Normal        0   0   0   1   0       1    0   \n\n      ...  GarageType_2    0    1    2  GarageQual_0  GarageQual_1  \\\n0     ...             1  0.0  1.0  0.0             0             0   \n1     ...             1  0.0  1.0  0.0             0             0   \n2     ...             1  0.0  1.0  0.0             0             0   \n3     ...             0  0.0  0.0  1.0             0             0   \n4     ...             1  0.0  1.0  0.0             0             0   \n...   ...           ...  ...  ...  ...           ...           ...   \n2914  ...             1  0.0  0.0  1.0             0             0   \n2915  ...             0  0.0  0.0  1.0             0             0   \n2916  ...             0  0.0  0.0  1.0             0             0   \n2917  ...             1  0.0  0.0  1.0             0             0   \n2918  ...             1  1.0  0.0  0.0             0             0   \n\n      GarageQual_2  GarageCond_0  GarageCond_1  GarageCond_2  \n0                1             0             0             1  \n1                1             0             0             1  \n2                1             0             0             1  \n3                1             0             0             1  \n4                1             0             0             1  \n...            ...           ...           ...           ...  \n2914             1             0             0             1  \n2915             1             0             0             1  \n2916             1             0             0             1  \n2917             1             0             0             1  \n2918             1             0             0             1  \n\n[2919 rows x 123 columns]",
      "text/html": "<div>\n<style scoped>\n    .dataframe tbody tr th:only-of-type {\n        vertical-align: middle;\n    }\n\n    .dataframe tbody tr th {\n        vertical-align: top;\n    }\n\n    .dataframe thead th {\n        text-align: right;\n    }\n</style>\n<table border=\"1\" class=\"dataframe\">\n  <thead>\n    <tr style=\"text-align: right;\">\n      <th></th>\n      <th>PavedDrive</th>\n      <th>SaleType</th>\n      <th>SaleCondition</th>\n      <th>C (all)</th>\n      <th>FV</th>\n      <th>RH</th>\n      <th>RL</th>\n      <th>RM</th>\n      <th>Street</th>\n      <th>IR1</th>\n      <th>...</th>\n      <th>GarageType_2</th>\n      <th>0</th>\n      <th>1</th>\n      <th>2</th>\n      <th>GarageQual_0</th>\n      <th>GarageQual_1</th>\n      <th>GarageQual_2</th>\n      <th>GarageCond_0</th>\n      <th>GarageCond_1</th>\n      <th>GarageCond_2</th>\n    </tr>\n  </thead>\n  <tbody>\n    <tr>\n      <th>0</th>\n      <td>Y</td>\n      <td>WD</td>\n      <td>Normal</td>\n      <td>0</td>\n      <td>0</td>\n      <td>0</td>\n      <td>1</td>\n      <td>0</td>\n      <td>1</td>\n      <td>0</td>\n      <td>...</td>\n      <td>1</td>\n      <td>0.0</td>\n      <td>1.0</td>\n      <td>0.0</td>\n      <td>0</td>\n      <td>0</td>\n      <td>1</td>\n      <td>0</td>\n      <td>0</td>\n      <td>1</td>\n    </tr>\n    <tr>\n      <th>1</th>\n      <td>Y</td>\n      <td>WD</td>\n      <td>Normal</td>\n      <td>0</td>\n      <td>0</td>\n      <td>0</td>\n      <td>1</td>\n      <td>0</td>\n      <td>1</td>\n      <td>0</td>\n      <td>...</td>\n      <td>1</td>\n      <td>0.0</td>\n      <td>1.0</td>\n      <td>0.0</td>\n      <td>0</td>\n      <td>0</td>\n      <td>1</td>\n      <td>0</td>\n      <td>0</td>\n      <td>1</td>\n    </tr>\n    <tr>\n      <th>2</th>\n      <td>Y</td>\n      <td>WD</td>\n      <td>Normal</td>\n      <td>0</td>\n      <td>0</td>\n      <td>0</td>\n      <td>1</td>\n      <td>0</td>\n      <td>1</td>\n      <td>1</td>\n      <td>...</td>\n      <td>1</td>\n      <td>0.0</td>\n      <td>1.0</td>\n      <td>0.0</td>\n      <td>0</td>\n      <td>0</td>\n      <td>1</td>\n      <td>0</td>\n      <td>0</td>\n      <td>1</td>\n    </tr>\n    <tr>\n      <th>3</th>\n      <td>Y</td>\n      <td>WD</td>\n      <td>Abnorml</td>\n      <td>0</td>\n      <td>0</td>\n      <td>0</td>\n      <td>1</td>\n      <td>0</td>\n      <td>1</td>\n      <td>1</td>\n      <td>...</td>\n      <td>0</td>\n      <td>0.0</td>\n      <td>0.0</td>\n      <td>1.0</td>\n      <td>0</td>\n      <td>0</td>\n      <td>1</td>\n      <td>0</td>\n      <td>0</td>\n      <td>1</td>\n    </tr>\n    <tr>\n      <th>4</th>\n      <td>Y</td>\n      <td>WD</td>\n      <td>Normal</td>\n      <td>0</td>\n      <td>0</td>\n      <td>0</td>\n      <td>1</td>\n      <td>0</td>\n      <td>1</td>\n      <td>1</td>\n      <td>...</td>\n      <td>1</td>\n      <td>0.0</td>\n      <td>1.0</td>\n      <td>0.0</td>\n      <td>0</td>\n      <td>0</td>\n      <td>1</td>\n      <td>0</td>\n      <td>0</td>\n      <td>1</td>\n    </tr>\n    <tr>\n      <th>...</th>\n      <td>...</td>\n      <td>...</td>\n      <td>...</td>\n      <td>...</td>\n      <td>...</td>\n      <td>...</td>\n      <td>...</td>\n      <td>...</td>\n      <td>...</td>\n      <td>...</td>\n      <td>...</td>\n      <td>...</td>\n      <td>...</td>\n      <td>...</td>\n      <td>...</td>\n      <td>...</td>\n      <td>...</td>\n      <td>...</td>\n      <td>...</td>\n      <td>...</td>\n      <td>...</td>\n    </tr>\n    <tr>\n      <th>2914</th>\n      <td>Y</td>\n      <td>WD</td>\n      <td>Normal</td>\n      <td>0</td>\n      <td>0</td>\n      <td>0</td>\n      <td>0</td>\n      <td>1</td>\n      <td>1</td>\n      <td>0</td>\n      <td>...</td>\n      <td>1</td>\n      <td>0.0</td>\n      <td>0.0</td>\n      <td>1.0</td>\n      <td>0</td>\n      <td>0</td>\n      <td>1</td>\n      <td>0</td>\n      <td>0</td>\n      <td>1</td>\n    </tr>\n    <tr>\n      <th>2915</th>\n      <td>Y</td>\n      <td>WD</td>\n      <td>Abnorml</td>\n      <td>0</td>\n      <td>0</td>\n      <td>0</td>\n      <td>0</td>\n      <td>1</td>\n      <td>1</td>\n      <td>0</td>\n      <td>...</td>\n      <td>0</td>\n      <td>0.0</td>\n      <td>0.0</td>\n      <td>1.0</td>\n      <td>0</td>\n      <td>0</td>\n      <td>1</td>\n      <td>0</td>\n      <td>0</td>\n      <td>1</td>\n    </tr>\n    <tr>\n      <th>2916</th>\n      <td>Y</td>\n      <td>WD</td>\n      <td>Abnorml</td>\n      <td>0</td>\n      <td>0</td>\n      <td>0</td>\n      <td>1</td>\n      <td>0</td>\n      <td>1</td>\n      <td>0</td>\n      <td>...</td>\n      <td>0</td>\n      <td>0.0</td>\n      <td>0.0</td>\n      <td>1.0</td>\n      <td>0</td>\n      <td>0</td>\n      <td>1</td>\n      <td>0</td>\n      <td>0</td>\n      <td>1</td>\n    </tr>\n    <tr>\n      <th>2917</th>\n      <td>Y</td>\n      <td>WD</td>\n      <td>Normal</td>\n      <td>0</td>\n      <td>0</td>\n      <td>0</td>\n      <td>1</td>\n      <td>0</td>\n      <td>1</td>\n      <td>0</td>\n      <td>...</td>\n      <td>1</td>\n      <td>0.0</td>\n      <td>0.0</td>\n      <td>1.0</td>\n      <td>0</td>\n      <td>0</td>\n      <td>1</td>\n      <td>0</td>\n      <td>0</td>\n      <td>1</td>\n    </tr>\n    <tr>\n      <th>2918</th>\n      <td>Y</td>\n      <td>WD</td>\n      <td>Normal</td>\n      <td>0</td>\n      <td>0</td>\n      <td>0</td>\n      <td>1</td>\n      <td>0</td>\n      <td>1</td>\n      <td>0</td>\n      <td>...</td>\n      <td>1</td>\n      <td>1.0</td>\n      <td>0.0</td>\n      <td>0.0</td>\n      <td>0</td>\n      <td>0</td>\n      <td>1</td>\n      <td>0</td>\n      <td>0</td>\n      <td>1</td>\n    </tr>\n  </tbody>\n</table>\n<p>2919 rows × 123 columns</p>\n</div>"
     },
     "execution_count": 83,
     "metadata": {},
     "output_type": "execute_result"
    }
   ],
   "source": [
    "encoder = ce.BinaryEncoder(categorical_data['GarageCond'])\n",
    "df1 = encoder.fit_transform(categorical_data['GarageCond'])\n",
    "categorical_data = pd.concat([categorical_data, df1], axis=1).reindex(categorical_data.index)\n",
    "categorical_data.drop('GarageCond', axis=1, inplace=True)\n",
    "categorical_data"
   ],
   "metadata": {
    "collapsed": false,
    "pycharm": {
     "name": "#%%\n"
    }
   }
  },
  {
   "cell_type": "code",
   "execution_count": 84,
   "outputs": [
    {
     "data": {
      "text/plain": "array(['Y', 'N', 'P'], dtype=object)"
     },
     "execution_count": 84,
     "metadata": {},
     "output_type": "execute_result"
    }
   ],
   "source": [
    "categorical_data['PavedDrive'].unique()"
   ],
   "metadata": {
    "collapsed": false,
    "pycharm": {
     "name": "#%%\n"
    }
   }
  },
  {
   "cell_type": "markdown",
   "source": [
    "#One hot Encoding"
   ],
   "metadata": {
    "collapsed": false,
    "pycharm": {
     "name": "#%% md\n"
    }
   }
  },
  {
   "cell_type": "code",
   "execution_count": 85,
   "outputs": [
    {
     "data": {
      "text/plain": "     SaleType SaleCondition  C (all)  FV  RH  RL  RM  Street  IR1  IR2  ...  \\\n0          WD        Normal        0   0   0   1   0       1    0    0  ...   \n1          WD        Normal        0   0   0   1   0       1    0    0  ...   \n2          WD        Normal        0   0   0   1   0       1    1    0  ...   \n3          WD       Abnorml        0   0   0   1   0       1    1    0  ...   \n4          WD        Normal        0   0   0   1   0       1    1    0  ...   \n...       ...           ...      ...  ..  ..  ..  ..     ...  ...  ...  ...   \n2914       WD        Normal        0   0   0   0   1       1    0    0  ...   \n2915       WD       Abnorml        0   0   0   0   1       1    0    0  ...   \n2916       WD       Abnorml        0   0   0   1   0       1    0    0  ...   \n2917       WD        Normal        0   0   0   1   0       1    0    0  ...   \n2918       WD        Normal        0   0   0   1   0       1    0    0  ...   \n\n        2  GarageQual_0  GarageQual_1  GarageQual_2  GarageCond_0  \\\n0     0.0             0             0             1             0   \n1     0.0             0             0             1             0   \n2     0.0             0             0             1             0   \n3     1.0             0             0             1             0   \n4     0.0             0             0             1             0   \n...   ...           ...           ...           ...           ...   \n2914  1.0             0             0             1             0   \n2915  1.0             0             0             1             0   \n2916  1.0             0             0             1             0   \n2917  1.0             0             0             1             0   \n2918  0.0             0             0             1             0   \n\n      GarageCond_1  GarageCond_2  PavedDrive_01  PavedDrive_02  PavedDrive_03  \n0                0             1            0.0            0.0            1.0  \n1                0             1            0.0            0.0            1.0  \n2                0             1            0.0            0.0            1.0  \n3                0             1            0.0            0.0            1.0  \n4                0             1            0.0            0.0            1.0  \n...            ...           ...            ...            ...            ...  \n2914             0             1            0.0            0.0            1.0  \n2915             0             1            0.0            0.0            1.0  \n2916             0             1            0.0            0.0            1.0  \n2917             0             1            0.0            0.0            1.0  \n2918             0             1            0.0            0.0            1.0  \n\n[2919 rows x 125 columns]",
      "text/html": "<div>\n<style scoped>\n    .dataframe tbody tr th:only-of-type {\n        vertical-align: middle;\n    }\n\n    .dataframe tbody tr th {\n        vertical-align: top;\n    }\n\n    .dataframe thead th {\n        text-align: right;\n    }\n</style>\n<table border=\"1\" class=\"dataframe\">\n  <thead>\n    <tr style=\"text-align: right;\">\n      <th></th>\n      <th>SaleType</th>\n      <th>SaleCondition</th>\n      <th>C (all)</th>\n      <th>FV</th>\n      <th>RH</th>\n      <th>RL</th>\n      <th>RM</th>\n      <th>Street</th>\n      <th>IR1</th>\n      <th>IR2</th>\n      <th>...</th>\n      <th>2</th>\n      <th>GarageQual_0</th>\n      <th>GarageQual_1</th>\n      <th>GarageQual_2</th>\n      <th>GarageCond_0</th>\n      <th>GarageCond_1</th>\n      <th>GarageCond_2</th>\n      <th>PavedDrive_01</th>\n      <th>PavedDrive_02</th>\n      <th>PavedDrive_03</th>\n    </tr>\n  </thead>\n  <tbody>\n    <tr>\n      <th>0</th>\n      <td>WD</td>\n      <td>Normal</td>\n      <td>0</td>\n      <td>0</td>\n      <td>0</td>\n      <td>1</td>\n      <td>0</td>\n      <td>1</td>\n      <td>0</td>\n      <td>0</td>\n      <td>...</td>\n      <td>0.0</td>\n      <td>0</td>\n      <td>0</td>\n      <td>1</td>\n      <td>0</td>\n      <td>0</td>\n      <td>1</td>\n      <td>0.0</td>\n      <td>0.0</td>\n      <td>1.0</td>\n    </tr>\n    <tr>\n      <th>1</th>\n      <td>WD</td>\n      <td>Normal</td>\n      <td>0</td>\n      <td>0</td>\n      <td>0</td>\n      <td>1</td>\n      <td>0</td>\n      <td>1</td>\n      <td>0</td>\n      <td>0</td>\n      <td>...</td>\n      <td>0.0</td>\n      <td>0</td>\n      <td>0</td>\n      <td>1</td>\n      <td>0</td>\n      <td>0</td>\n      <td>1</td>\n      <td>0.0</td>\n      <td>0.0</td>\n      <td>1.0</td>\n    </tr>\n    <tr>\n      <th>2</th>\n      <td>WD</td>\n      <td>Normal</td>\n      <td>0</td>\n      <td>0</td>\n      <td>0</td>\n      <td>1</td>\n      <td>0</td>\n      <td>1</td>\n      <td>1</td>\n      <td>0</td>\n      <td>...</td>\n      <td>0.0</td>\n      <td>0</td>\n      <td>0</td>\n      <td>1</td>\n      <td>0</td>\n      <td>0</td>\n      <td>1</td>\n      <td>0.0</td>\n      <td>0.0</td>\n      <td>1.0</td>\n    </tr>\n    <tr>\n      <th>3</th>\n      <td>WD</td>\n      <td>Abnorml</td>\n      <td>0</td>\n      <td>0</td>\n      <td>0</td>\n      <td>1</td>\n      <td>0</td>\n      <td>1</td>\n      <td>1</td>\n      <td>0</td>\n      <td>...</td>\n      <td>1.0</td>\n      <td>0</td>\n      <td>0</td>\n      <td>1</td>\n      <td>0</td>\n      <td>0</td>\n      <td>1</td>\n      <td>0.0</td>\n      <td>0.0</td>\n      <td>1.0</td>\n    </tr>\n    <tr>\n      <th>4</th>\n      <td>WD</td>\n      <td>Normal</td>\n      <td>0</td>\n      <td>0</td>\n      <td>0</td>\n      <td>1</td>\n      <td>0</td>\n      <td>1</td>\n      <td>1</td>\n      <td>0</td>\n      <td>...</td>\n      <td>0.0</td>\n      <td>0</td>\n      <td>0</td>\n      <td>1</td>\n      <td>0</td>\n      <td>0</td>\n      <td>1</td>\n      <td>0.0</td>\n      <td>0.0</td>\n      <td>1.0</td>\n    </tr>\n    <tr>\n      <th>...</th>\n      <td>...</td>\n      <td>...</td>\n      <td>...</td>\n      <td>...</td>\n      <td>...</td>\n      <td>...</td>\n      <td>...</td>\n      <td>...</td>\n      <td>...</td>\n      <td>...</td>\n      <td>...</td>\n      <td>...</td>\n      <td>...</td>\n      <td>...</td>\n      <td>...</td>\n      <td>...</td>\n      <td>...</td>\n      <td>...</td>\n      <td>...</td>\n      <td>...</td>\n      <td>...</td>\n    </tr>\n    <tr>\n      <th>2914</th>\n      <td>WD</td>\n      <td>Normal</td>\n      <td>0</td>\n      <td>0</td>\n      <td>0</td>\n      <td>0</td>\n      <td>1</td>\n      <td>1</td>\n      <td>0</td>\n      <td>0</td>\n      <td>...</td>\n      <td>1.0</td>\n      <td>0</td>\n      <td>0</td>\n      <td>1</td>\n      <td>0</td>\n      <td>0</td>\n      <td>1</td>\n      <td>0.0</td>\n      <td>0.0</td>\n      <td>1.0</td>\n    </tr>\n    <tr>\n      <th>2915</th>\n      <td>WD</td>\n      <td>Abnorml</td>\n      <td>0</td>\n      <td>0</td>\n      <td>0</td>\n      <td>0</td>\n      <td>1</td>\n      <td>1</td>\n      <td>0</td>\n      <td>0</td>\n      <td>...</td>\n      <td>1.0</td>\n      <td>0</td>\n      <td>0</td>\n      <td>1</td>\n      <td>0</td>\n      <td>0</td>\n      <td>1</td>\n      <td>0.0</td>\n      <td>0.0</td>\n      <td>1.0</td>\n    </tr>\n    <tr>\n      <th>2916</th>\n      <td>WD</td>\n      <td>Abnorml</td>\n      <td>0</td>\n      <td>0</td>\n      <td>0</td>\n      <td>1</td>\n      <td>0</td>\n      <td>1</td>\n      <td>0</td>\n      <td>0</td>\n      <td>...</td>\n      <td>1.0</td>\n      <td>0</td>\n      <td>0</td>\n      <td>1</td>\n      <td>0</td>\n      <td>0</td>\n      <td>1</td>\n      <td>0.0</td>\n      <td>0.0</td>\n      <td>1.0</td>\n    </tr>\n    <tr>\n      <th>2917</th>\n      <td>WD</td>\n      <td>Normal</td>\n      <td>0</td>\n      <td>0</td>\n      <td>0</td>\n      <td>1</td>\n      <td>0</td>\n      <td>1</td>\n      <td>0</td>\n      <td>0</td>\n      <td>...</td>\n      <td>1.0</td>\n      <td>0</td>\n      <td>0</td>\n      <td>1</td>\n      <td>0</td>\n      <td>0</td>\n      <td>1</td>\n      <td>0.0</td>\n      <td>0.0</td>\n      <td>1.0</td>\n    </tr>\n    <tr>\n      <th>2918</th>\n      <td>WD</td>\n      <td>Normal</td>\n      <td>0</td>\n      <td>0</td>\n      <td>0</td>\n      <td>1</td>\n      <td>0</td>\n      <td>1</td>\n      <td>0</td>\n      <td>0</td>\n      <td>...</td>\n      <td>0.0</td>\n      <td>0</td>\n      <td>0</td>\n      <td>1</td>\n      <td>0</td>\n      <td>0</td>\n      <td>1</td>\n      <td>0.0</td>\n      <td>0.0</td>\n      <td>1.0</td>\n    </tr>\n  </tbody>\n</table>\n<p>2919 rows × 125 columns</p>\n</div>"
     },
     "execution_count": 85,
     "metadata": {},
     "output_type": "execute_result"
    }
   ],
   "source": [
    "encoder = OneHotEncoder(handle_unknown='ignore')\n",
    "encoder_df = pd.DataFrame(encoder.fit_transform(categorical_data[['PavedDrive']]).toarray(), columns=['PavedDrive_01','PavedDrive_02','PavedDrive_03'])\n",
    "categorical_data = categorical_data.join(encoder_df)\n",
    "categorical_data.drop(['PavedDrive'], axis=1, inplace = True)\n",
    "categorical_data"
   ],
   "metadata": {
    "collapsed": false,
    "pycharm": {
     "name": "#%%\n"
    }
   }
  },
  {
   "cell_type": "code",
   "execution_count": 86,
   "outputs": [
    {
     "data": {
      "text/plain": "array(['WD', 'New', 'COD', 'ConLD', 'ConLI', 'CWD', 'ConLw', 'Con', 'Oth'],\n      dtype=object)"
     },
     "execution_count": 86,
     "metadata": {},
     "output_type": "execute_result"
    }
   ],
   "source": [
    "categorical_data['SaleType'].unique()"
   ],
   "metadata": {
    "collapsed": false,
    "pycharm": {
     "name": "#%%\n"
    }
   }
  },
  {
   "cell_type": "code",
   "execution_count": 87,
   "outputs": [
    {
     "data": {
      "text/plain": "     SaleCondition  C (all)  FV  RH  RL  RM  Street  IR1  IR2  IR3  ...  \\\n0           Normal        0   0   0   1   0       1    0    0    0  ...   \n1           Normal        0   0   0   1   0       1    0    0    0  ...   \n2           Normal        0   0   0   1   0       1    1    0    0  ...   \n3          Abnorml        0   0   0   1   0       1    1    0    0  ...   \n4           Normal        0   0   0   1   0       1    1    0    0  ...   \n...            ...      ...  ..  ..  ..  ..     ...  ...  ...  ...  ...   \n2914        Normal        0   0   0   0   1       1    0    0    0  ...   \n2915       Abnorml        0   0   0   0   1       1    0    0    0  ...   \n2916       Abnorml        0   0   0   1   0       1    0    0    0  ...   \n2917        Normal        0   0   0   1   0       1    0    0    0  ...   \n2918        Normal        0   0   0   1   0       1    0    0    0  ...   \n\n      GarageCond_0  GarageCond_1  GarageCond_2  PavedDrive_01  PavedDrive_02  \\\n0                0             0             1            0.0            0.0   \n1                0             0             1            0.0            0.0   \n2                0             0             1            0.0            0.0   \n3                0             0             1            0.0            0.0   \n4                0             0             1            0.0            0.0   \n...            ...           ...           ...            ...            ...   \n2914             0             0             1            0.0            0.0   \n2915             0             0             1            0.0            0.0   \n2916             0             0             1            0.0            0.0   \n2917             0             0             1            0.0            0.0   \n2918             0             0             1            0.0            0.0   \n\n      PavedDrive_03  SaleType_0  SaleType_1  SaleType_2  SaleType_3  \n0               1.0           0           0           0           1  \n1               1.0           0           0           0           1  \n2               1.0           0           0           0           1  \n3               1.0           0           0           0           1  \n4               1.0           0           0           0           1  \n...             ...         ...         ...         ...         ...  \n2914            1.0           0           0           0           1  \n2915            1.0           0           0           0           1  \n2916            1.0           0           0           0           1  \n2917            1.0           0           0           0           1  \n2918            1.0           0           0           0           1  \n\n[2919 rows x 128 columns]",
      "text/html": "<div>\n<style scoped>\n    .dataframe tbody tr th:only-of-type {\n        vertical-align: middle;\n    }\n\n    .dataframe tbody tr th {\n        vertical-align: top;\n    }\n\n    .dataframe thead th {\n        text-align: right;\n    }\n</style>\n<table border=\"1\" class=\"dataframe\">\n  <thead>\n    <tr style=\"text-align: right;\">\n      <th></th>\n      <th>SaleCondition</th>\n      <th>C (all)</th>\n      <th>FV</th>\n      <th>RH</th>\n      <th>RL</th>\n      <th>RM</th>\n      <th>Street</th>\n      <th>IR1</th>\n      <th>IR2</th>\n      <th>IR3</th>\n      <th>...</th>\n      <th>GarageCond_0</th>\n      <th>GarageCond_1</th>\n      <th>GarageCond_2</th>\n      <th>PavedDrive_01</th>\n      <th>PavedDrive_02</th>\n      <th>PavedDrive_03</th>\n      <th>SaleType_0</th>\n      <th>SaleType_1</th>\n      <th>SaleType_2</th>\n      <th>SaleType_3</th>\n    </tr>\n  </thead>\n  <tbody>\n    <tr>\n      <th>0</th>\n      <td>Normal</td>\n      <td>0</td>\n      <td>0</td>\n      <td>0</td>\n      <td>1</td>\n      <td>0</td>\n      <td>1</td>\n      <td>0</td>\n      <td>0</td>\n      <td>0</td>\n      <td>...</td>\n      <td>0</td>\n      <td>0</td>\n      <td>1</td>\n      <td>0.0</td>\n      <td>0.0</td>\n      <td>1.0</td>\n      <td>0</td>\n      <td>0</td>\n      <td>0</td>\n      <td>1</td>\n    </tr>\n    <tr>\n      <th>1</th>\n      <td>Normal</td>\n      <td>0</td>\n      <td>0</td>\n      <td>0</td>\n      <td>1</td>\n      <td>0</td>\n      <td>1</td>\n      <td>0</td>\n      <td>0</td>\n      <td>0</td>\n      <td>...</td>\n      <td>0</td>\n      <td>0</td>\n      <td>1</td>\n      <td>0.0</td>\n      <td>0.0</td>\n      <td>1.0</td>\n      <td>0</td>\n      <td>0</td>\n      <td>0</td>\n      <td>1</td>\n    </tr>\n    <tr>\n      <th>2</th>\n      <td>Normal</td>\n      <td>0</td>\n      <td>0</td>\n      <td>0</td>\n      <td>1</td>\n      <td>0</td>\n      <td>1</td>\n      <td>1</td>\n      <td>0</td>\n      <td>0</td>\n      <td>...</td>\n      <td>0</td>\n      <td>0</td>\n      <td>1</td>\n      <td>0.0</td>\n      <td>0.0</td>\n      <td>1.0</td>\n      <td>0</td>\n      <td>0</td>\n      <td>0</td>\n      <td>1</td>\n    </tr>\n    <tr>\n      <th>3</th>\n      <td>Abnorml</td>\n      <td>0</td>\n      <td>0</td>\n      <td>0</td>\n      <td>1</td>\n      <td>0</td>\n      <td>1</td>\n      <td>1</td>\n      <td>0</td>\n      <td>0</td>\n      <td>...</td>\n      <td>0</td>\n      <td>0</td>\n      <td>1</td>\n      <td>0.0</td>\n      <td>0.0</td>\n      <td>1.0</td>\n      <td>0</td>\n      <td>0</td>\n      <td>0</td>\n      <td>1</td>\n    </tr>\n    <tr>\n      <th>4</th>\n      <td>Normal</td>\n      <td>0</td>\n      <td>0</td>\n      <td>0</td>\n      <td>1</td>\n      <td>0</td>\n      <td>1</td>\n      <td>1</td>\n      <td>0</td>\n      <td>0</td>\n      <td>...</td>\n      <td>0</td>\n      <td>0</td>\n      <td>1</td>\n      <td>0.0</td>\n      <td>0.0</td>\n      <td>1.0</td>\n      <td>0</td>\n      <td>0</td>\n      <td>0</td>\n      <td>1</td>\n    </tr>\n    <tr>\n      <th>...</th>\n      <td>...</td>\n      <td>...</td>\n      <td>...</td>\n      <td>...</td>\n      <td>...</td>\n      <td>...</td>\n      <td>...</td>\n      <td>...</td>\n      <td>...</td>\n      <td>...</td>\n      <td>...</td>\n      <td>...</td>\n      <td>...</td>\n      <td>...</td>\n      <td>...</td>\n      <td>...</td>\n      <td>...</td>\n      <td>...</td>\n      <td>...</td>\n      <td>...</td>\n      <td>...</td>\n    </tr>\n    <tr>\n      <th>2914</th>\n      <td>Normal</td>\n      <td>0</td>\n      <td>0</td>\n      <td>0</td>\n      <td>0</td>\n      <td>1</td>\n      <td>1</td>\n      <td>0</td>\n      <td>0</td>\n      <td>0</td>\n      <td>...</td>\n      <td>0</td>\n      <td>0</td>\n      <td>1</td>\n      <td>0.0</td>\n      <td>0.0</td>\n      <td>1.0</td>\n      <td>0</td>\n      <td>0</td>\n      <td>0</td>\n      <td>1</td>\n    </tr>\n    <tr>\n      <th>2915</th>\n      <td>Abnorml</td>\n      <td>0</td>\n      <td>0</td>\n      <td>0</td>\n      <td>0</td>\n      <td>1</td>\n      <td>1</td>\n      <td>0</td>\n      <td>0</td>\n      <td>0</td>\n      <td>...</td>\n      <td>0</td>\n      <td>0</td>\n      <td>1</td>\n      <td>0.0</td>\n      <td>0.0</td>\n      <td>1.0</td>\n      <td>0</td>\n      <td>0</td>\n      <td>0</td>\n      <td>1</td>\n    </tr>\n    <tr>\n      <th>2916</th>\n      <td>Abnorml</td>\n      <td>0</td>\n      <td>0</td>\n      <td>0</td>\n      <td>1</td>\n      <td>0</td>\n      <td>1</td>\n      <td>0</td>\n      <td>0</td>\n      <td>0</td>\n      <td>...</td>\n      <td>0</td>\n      <td>0</td>\n      <td>1</td>\n      <td>0.0</td>\n      <td>0.0</td>\n      <td>1.0</td>\n      <td>0</td>\n      <td>0</td>\n      <td>0</td>\n      <td>1</td>\n    </tr>\n    <tr>\n      <th>2917</th>\n      <td>Normal</td>\n      <td>0</td>\n      <td>0</td>\n      <td>0</td>\n      <td>1</td>\n      <td>0</td>\n      <td>1</td>\n      <td>0</td>\n      <td>0</td>\n      <td>0</td>\n      <td>...</td>\n      <td>0</td>\n      <td>0</td>\n      <td>1</td>\n      <td>0.0</td>\n      <td>0.0</td>\n      <td>1.0</td>\n      <td>0</td>\n      <td>0</td>\n      <td>0</td>\n      <td>1</td>\n    </tr>\n    <tr>\n      <th>2918</th>\n      <td>Normal</td>\n      <td>0</td>\n      <td>0</td>\n      <td>0</td>\n      <td>1</td>\n      <td>0</td>\n      <td>1</td>\n      <td>0</td>\n      <td>0</td>\n      <td>0</td>\n      <td>...</td>\n      <td>0</td>\n      <td>0</td>\n      <td>1</td>\n      <td>0.0</td>\n      <td>0.0</td>\n      <td>1.0</td>\n      <td>0</td>\n      <td>0</td>\n      <td>0</td>\n      <td>1</td>\n    </tr>\n  </tbody>\n</table>\n<p>2919 rows × 128 columns</p>\n</div>"
     },
     "execution_count": 87,
     "metadata": {},
     "output_type": "execute_result"
    }
   ],
   "source": [
    "encoder = ce.BinaryEncoder(categorical_data['SaleType'])\n",
    "df1 = encoder.fit_transform(categorical_data['SaleType'])\n",
    "categorical_data = pd.concat([categorical_data, df1], axis=1).reindex(categorical_data.index)\n",
    "categorical_data.drop('SaleType', axis=1, inplace=True)\n",
    "categorical_data"
   ],
   "metadata": {
    "collapsed": false,
    "pycharm": {
     "name": "#%%\n"
    }
   }
  },
  {
   "cell_type": "code",
   "execution_count": 88,
   "outputs": [
    {
     "data": {
      "text/plain": "array(['Normal', 'Abnorml', 'Partial', 'AdjLand', 'Alloca', 'Family'],\n      dtype=object)"
     },
     "execution_count": 88,
     "metadata": {},
     "output_type": "execute_result"
    }
   ],
   "source": [
    "categorical_data['SaleCondition'].unique()"
   ],
   "metadata": {
    "collapsed": false,
    "pycharm": {
     "name": "#%%\n"
    }
   }
  },
  {
   "cell_type": "code",
   "execution_count": 89,
   "outputs": [
    {
     "data": {
      "text/plain": "      C (all)  FV  RH  RL  RM  Street  IR1  IR2  IR3  Reg  ...  PavedDrive_01  \\\n0           0   0   0   1   0       1    0    0    0    1  ...            0.0   \n1           0   0   0   1   0       1    0    0    0    1  ...            0.0   \n2           0   0   0   1   0       1    1    0    0    0  ...            0.0   \n3           0   0   0   1   0       1    1    0    0    0  ...            0.0   \n4           0   0   0   1   0       1    1    0    0    0  ...            0.0   \n...       ...  ..  ..  ..  ..     ...  ...  ...  ...  ...  ...            ...   \n2914        0   0   0   0   1       1    0    0    0    1  ...            0.0   \n2915        0   0   0   0   1       1    0    0    0    1  ...            0.0   \n2916        0   0   0   1   0       1    0    0    0    1  ...            0.0   \n2917        0   0   0   1   0       1    0    0    0    1  ...            0.0   \n2918        0   0   0   1   0       1    0    0    0    1  ...            0.0   \n\n      PavedDrive_02  PavedDrive_03  SaleType_0  SaleType_1  SaleType_2  \\\n0               0.0            1.0           0           0           0   \n1               0.0            1.0           0           0           0   \n2               0.0            1.0           0           0           0   \n3               0.0            1.0           0           0           0   \n4               0.0            1.0           0           0           0   \n...             ...            ...         ...         ...         ...   \n2914            0.0            1.0           0           0           0   \n2915            0.0            1.0           0           0           0   \n2916            0.0            1.0           0           0           0   \n2917            0.0            1.0           0           0           0   \n2918            0.0            1.0           0           0           0   \n\n      SaleType_3  SaleCondition_0  SaleCondition_1  SaleCondition_2  \n0              1                0                0                1  \n1              1                0                0                1  \n2              1                0                0                1  \n3              1                0                1                0  \n4              1                0                0                1  \n...          ...              ...              ...              ...  \n2914           1                0                0                1  \n2915           1                0                1                0  \n2916           1                0                1                0  \n2917           1                0                0                1  \n2918           1                0                0                1  \n\n[2919 rows x 130 columns]",
      "text/html": "<div>\n<style scoped>\n    .dataframe tbody tr th:only-of-type {\n        vertical-align: middle;\n    }\n\n    .dataframe tbody tr th {\n        vertical-align: top;\n    }\n\n    .dataframe thead th {\n        text-align: right;\n    }\n</style>\n<table border=\"1\" class=\"dataframe\">\n  <thead>\n    <tr style=\"text-align: right;\">\n      <th></th>\n      <th>C (all)</th>\n      <th>FV</th>\n      <th>RH</th>\n      <th>RL</th>\n      <th>RM</th>\n      <th>Street</th>\n      <th>IR1</th>\n      <th>IR2</th>\n      <th>IR3</th>\n      <th>Reg</th>\n      <th>...</th>\n      <th>PavedDrive_01</th>\n      <th>PavedDrive_02</th>\n      <th>PavedDrive_03</th>\n      <th>SaleType_0</th>\n      <th>SaleType_1</th>\n      <th>SaleType_2</th>\n      <th>SaleType_3</th>\n      <th>SaleCondition_0</th>\n      <th>SaleCondition_1</th>\n      <th>SaleCondition_2</th>\n    </tr>\n  </thead>\n  <tbody>\n    <tr>\n      <th>0</th>\n      <td>0</td>\n      <td>0</td>\n      <td>0</td>\n      <td>1</td>\n      <td>0</td>\n      <td>1</td>\n      <td>0</td>\n      <td>0</td>\n      <td>0</td>\n      <td>1</td>\n      <td>...</td>\n      <td>0.0</td>\n      <td>0.0</td>\n      <td>1.0</td>\n      <td>0</td>\n      <td>0</td>\n      <td>0</td>\n      <td>1</td>\n      <td>0</td>\n      <td>0</td>\n      <td>1</td>\n    </tr>\n    <tr>\n      <th>1</th>\n      <td>0</td>\n      <td>0</td>\n      <td>0</td>\n      <td>1</td>\n      <td>0</td>\n      <td>1</td>\n      <td>0</td>\n      <td>0</td>\n      <td>0</td>\n      <td>1</td>\n      <td>...</td>\n      <td>0.0</td>\n      <td>0.0</td>\n      <td>1.0</td>\n      <td>0</td>\n      <td>0</td>\n      <td>0</td>\n      <td>1</td>\n      <td>0</td>\n      <td>0</td>\n      <td>1</td>\n    </tr>\n    <tr>\n      <th>2</th>\n      <td>0</td>\n      <td>0</td>\n      <td>0</td>\n      <td>1</td>\n      <td>0</td>\n      <td>1</td>\n      <td>1</td>\n      <td>0</td>\n      <td>0</td>\n      <td>0</td>\n      <td>...</td>\n      <td>0.0</td>\n      <td>0.0</td>\n      <td>1.0</td>\n      <td>0</td>\n      <td>0</td>\n      <td>0</td>\n      <td>1</td>\n      <td>0</td>\n      <td>0</td>\n      <td>1</td>\n    </tr>\n    <tr>\n      <th>3</th>\n      <td>0</td>\n      <td>0</td>\n      <td>0</td>\n      <td>1</td>\n      <td>0</td>\n      <td>1</td>\n      <td>1</td>\n      <td>0</td>\n      <td>0</td>\n      <td>0</td>\n      <td>...</td>\n      <td>0.0</td>\n      <td>0.0</td>\n      <td>1.0</td>\n      <td>0</td>\n      <td>0</td>\n      <td>0</td>\n      <td>1</td>\n      <td>0</td>\n      <td>1</td>\n      <td>0</td>\n    </tr>\n    <tr>\n      <th>4</th>\n      <td>0</td>\n      <td>0</td>\n      <td>0</td>\n      <td>1</td>\n      <td>0</td>\n      <td>1</td>\n      <td>1</td>\n      <td>0</td>\n      <td>0</td>\n      <td>0</td>\n      <td>...</td>\n      <td>0.0</td>\n      <td>0.0</td>\n      <td>1.0</td>\n      <td>0</td>\n      <td>0</td>\n      <td>0</td>\n      <td>1</td>\n      <td>0</td>\n      <td>0</td>\n      <td>1</td>\n    </tr>\n    <tr>\n      <th>...</th>\n      <td>...</td>\n      <td>...</td>\n      <td>...</td>\n      <td>...</td>\n      <td>...</td>\n      <td>...</td>\n      <td>...</td>\n      <td>...</td>\n      <td>...</td>\n      <td>...</td>\n      <td>...</td>\n      <td>...</td>\n      <td>...</td>\n      <td>...</td>\n      <td>...</td>\n      <td>...</td>\n      <td>...</td>\n      <td>...</td>\n      <td>...</td>\n      <td>...</td>\n      <td>...</td>\n    </tr>\n    <tr>\n      <th>2914</th>\n      <td>0</td>\n      <td>0</td>\n      <td>0</td>\n      <td>0</td>\n      <td>1</td>\n      <td>1</td>\n      <td>0</td>\n      <td>0</td>\n      <td>0</td>\n      <td>1</td>\n      <td>...</td>\n      <td>0.0</td>\n      <td>0.0</td>\n      <td>1.0</td>\n      <td>0</td>\n      <td>0</td>\n      <td>0</td>\n      <td>1</td>\n      <td>0</td>\n      <td>0</td>\n      <td>1</td>\n    </tr>\n    <tr>\n      <th>2915</th>\n      <td>0</td>\n      <td>0</td>\n      <td>0</td>\n      <td>0</td>\n      <td>1</td>\n      <td>1</td>\n      <td>0</td>\n      <td>0</td>\n      <td>0</td>\n      <td>1</td>\n      <td>...</td>\n      <td>0.0</td>\n      <td>0.0</td>\n      <td>1.0</td>\n      <td>0</td>\n      <td>0</td>\n      <td>0</td>\n      <td>1</td>\n      <td>0</td>\n      <td>1</td>\n      <td>0</td>\n    </tr>\n    <tr>\n      <th>2916</th>\n      <td>0</td>\n      <td>0</td>\n      <td>0</td>\n      <td>1</td>\n      <td>0</td>\n      <td>1</td>\n      <td>0</td>\n      <td>0</td>\n      <td>0</td>\n      <td>1</td>\n      <td>...</td>\n      <td>0.0</td>\n      <td>0.0</td>\n      <td>1.0</td>\n      <td>0</td>\n      <td>0</td>\n      <td>0</td>\n      <td>1</td>\n      <td>0</td>\n      <td>1</td>\n      <td>0</td>\n    </tr>\n    <tr>\n      <th>2917</th>\n      <td>0</td>\n      <td>0</td>\n      <td>0</td>\n      <td>1</td>\n      <td>0</td>\n      <td>1</td>\n      <td>0</td>\n      <td>0</td>\n      <td>0</td>\n      <td>1</td>\n      <td>...</td>\n      <td>0.0</td>\n      <td>0.0</td>\n      <td>1.0</td>\n      <td>0</td>\n      <td>0</td>\n      <td>0</td>\n      <td>1</td>\n      <td>0</td>\n      <td>0</td>\n      <td>1</td>\n    </tr>\n    <tr>\n      <th>2918</th>\n      <td>0</td>\n      <td>0</td>\n      <td>0</td>\n      <td>1</td>\n      <td>0</td>\n      <td>1</td>\n      <td>0</td>\n      <td>0</td>\n      <td>0</td>\n      <td>1</td>\n      <td>...</td>\n      <td>0.0</td>\n      <td>0.0</td>\n      <td>1.0</td>\n      <td>0</td>\n      <td>0</td>\n      <td>0</td>\n      <td>1</td>\n      <td>0</td>\n      <td>0</td>\n      <td>1</td>\n    </tr>\n  </tbody>\n</table>\n<p>2919 rows × 130 columns</p>\n</div>"
     },
     "execution_count": 89,
     "metadata": {},
     "output_type": "execute_result"
    }
   ],
   "source": [
    "encoder = ce.BinaryEncoder(categorical_data['SaleCondition'])\n",
    "df1 = encoder.fit_transform(categorical_data['SaleCondition'])\n",
    "categorical_data = pd.concat([categorical_data, df1], axis=1).reindex(categorical_data.index)\n",
    "categorical_data.drop('SaleCondition', axis=1, inplace=True)\n",
    "categorical_data"
   ],
   "metadata": {
    "collapsed": false,
    "pycharm": {
     "name": "#%%\n"
    }
   }
  },
  {
   "cell_type": "markdown",
   "source": [
    "#combine both dataframes"
   ],
   "metadata": {
    "collapsed": false,
    "pycharm": {
     "name": "#%% md\n"
    }
   }
  },
  {
   "cell_type": "code",
   "execution_count": 90,
   "outputs": [
    {
     "data": {
      "text/plain": "      C (all)  FV  RH  RL  RM  Street  IR1  IR2  IR3  Reg  ...  WoodDeckSF  \\\n0           0   0   0   1   0       1    0    0    0    1  ...           0   \n1           0   0   0   1   0       1    0    0    0    1  ...         298   \n2           0   0   0   1   0       1    1    0    0    0  ...           0   \n3           0   0   0   1   0       1    1    0    0    0  ...           0   \n4           0   0   0   1   0       1    1    0    0    0  ...         192   \n...       ...  ..  ..  ..  ..     ...  ...  ...  ...  ...  ...         ...   \n2914        0   0   0   0   1       1    0    0    0    1  ...           0   \n2915        0   0   0   0   1       1    0    0    0    1  ...           0   \n2916        0   0   0   1   0       1    0    0    0    1  ...         474   \n2917        0   0   0   1   0       1    0    0    0    1  ...          80   \n2918        0   0   0   1   0       1    0    0    0    1  ...         190   \n\n      OpenPorchSF  EnclosedPorch  3SsnPorch  ScreenPorch  PoolArea  MiscVal  \\\n0              61              0          0            0         0        0   \n1               0              0          0            0         0        0   \n2              42              0          0            0         0        0   \n3              35            272          0            0         0        0   \n4              84              0          0            0         0        0   \n...           ...            ...        ...          ...       ...      ...   \n2914            0              0          0            0         0        0   \n2915           24              0          0            0         0        0   \n2916            0              0          0            0         0        0   \n2917           32              0          0            0         0      700   \n2918           48              0          0            0         0        0   \n\n      MoSold  YrSold     SalePrice  \n0          2    2008  208500.00000  \n1          5    2007  181500.00000  \n2          9    2008  223500.00000  \n3          2    2006  140000.00000  \n4         12    2008  250000.00000  \n...      ...     ...           ...  \n2914       6    2006  180921.19589  \n2915       4    2006  180921.19589  \n2916       9    2006  180921.19589  \n2917       7    2006  180921.19589  \n2918      11    2006  180921.19589  \n\n[2919 rows x 168 columns]",
      "text/html": "<div>\n<style scoped>\n    .dataframe tbody tr th:only-of-type {\n        vertical-align: middle;\n    }\n\n    .dataframe tbody tr th {\n        vertical-align: top;\n    }\n\n    .dataframe thead th {\n        text-align: right;\n    }\n</style>\n<table border=\"1\" class=\"dataframe\">\n  <thead>\n    <tr style=\"text-align: right;\">\n      <th></th>\n      <th>C (all)</th>\n      <th>FV</th>\n      <th>RH</th>\n      <th>RL</th>\n      <th>RM</th>\n      <th>Street</th>\n      <th>IR1</th>\n      <th>IR2</th>\n      <th>IR3</th>\n      <th>Reg</th>\n      <th>...</th>\n      <th>WoodDeckSF</th>\n      <th>OpenPorchSF</th>\n      <th>EnclosedPorch</th>\n      <th>3SsnPorch</th>\n      <th>ScreenPorch</th>\n      <th>PoolArea</th>\n      <th>MiscVal</th>\n      <th>MoSold</th>\n      <th>YrSold</th>\n      <th>SalePrice</th>\n    </tr>\n  </thead>\n  <tbody>\n    <tr>\n      <th>0</th>\n      <td>0</td>\n      <td>0</td>\n      <td>0</td>\n      <td>1</td>\n      <td>0</td>\n      <td>1</td>\n      <td>0</td>\n      <td>0</td>\n      <td>0</td>\n      <td>1</td>\n      <td>...</td>\n      <td>0</td>\n      <td>61</td>\n      <td>0</td>\n      <td>0</td>\n      <td>0</td>\n      <td>0</td>\n      <td>0</td>\n      <td>2</td>\n      <td>2008</td>\n      <td>208500.00000</td>\n    </tr>\n    <tr>\n      <th>1</th>\n      <td>0</td>\n      <td>0</td>\n      <td>0</td>\n      <td>1</td>\n      <td>0</td>\n      <td>1</td>\n      <td>0</td>\n      <td>0</td>\n      <td>0</td>\n      <td>1</td>\n      <td>...</td>\n      <td>298</td>\n      <td>0</td>\n      <td>0</td>\n      <td>0</td>\n      <td>0</td>\n      <td>0</td>\n      <td>0</td>\n      <td>5</td>\n      <td>2007</td>\n      <td>181500.00000</td>\n    </tr>\n    <tr>\n      <th>2</th>\n      <td>0</td>\n      <td>0</td>\n      <td>0</td>\n      <td>1</td>\n      <td>0</td>\n      <td>1</td>\n      <td>1</td>\n      <td>0</td>\n      <td>0</td>\n      <td>0</td>\n      <td>...</td>\n      <td>0</td>\n      <td>42</td>\n      <td>0</td>\n      <td>0</td>\n      <td>0</td>\n      <td>0</td>\n      <td>0</td>\n      <td>9</td>\n      <td>2008</td>\n      <td>223500.00000</td>\n    </tr>\n    <tr>\n      <th>3</th>\n      <td>0</td>\n      <td>0</td>\n      <td>0</td>\n      <td>1</td>\n      <td>0</td>\n      <td>1</td>\n      <td>1</td>\n      <td>0</td>\n      <td>0</td>\n      <td>0</td>\n      <td>...</td>\n      <td>0</td>\n      <td>35</td>\n      <td>272</td>\n      <td>0</td>\n      <td>0</td>\n      <td>0</td>\n      <td>0</td>\n      <td>2</td>\n      <td>2006</td>\n      <td>140000.00000</td>\n    </tr>\n    <tr>\n      <th>4</th>\n      <td>0</td>\n      <td>0</td>\n      <td>0</td>\n      <td>1</td>\n      <td>0</td>\n      <td>1</td>\n      <td>1</td>\n      <td>0</td>\n      <td>0</td>\n      <td>0</td>\n      <td>...</td>\n      <td>192</td>\n      <td>84</td>\n      <td>0</td>\n      <td>0</td>\n      <td>0</td>\n      <td>0</td>\n      <td>0</td>\n      <td>12</td>\n      <td>2008</td>\n      <td>250000.00000</td>\n    </tr>\n    <tr>\n      <th>...</th>\n      <td>...</td>\n      <td>...</td>\n      <td>...</td>\n      <td>...</td>\n      <td>...</td>\n      <td>...</td>\n      <td>...</td>\n      <td>...</td>\n      <td>...</td>\n      <td>...</td>\n      <td>...</td>\n      <td>...</td>\n      <td>...</td>\n      <td>...</td>\n      <td>...</td>\n      <td>...</td>\n      <td>...</td>\n      <td>...</td>\n      <td>...</td>\n      <td>...</td>\n      <td>...</td>\n    </tr>\n    <tr>\n      <th>2914</th>\n      <td>0</td>\n      <td>0</td>\n      <td>0</td>\n      <td>0</td>\n      <td>1</td>\n      <td>1</td>\n      <td>0</td>\n      <td>0</td>\n      <td>0</td>\n      <td>1</td>\n      <td>...</td>\n      <td>0</td>\n      <td>0</td>\n      <td>0</td>\n      <td>0</td>\n      <td>0</td>\n      <td>0</td>\n      <td>0</td>\n      <td>6</td>\n      <td>2006</td>\n      <td>180921.19589</td>\n    </tr>\n    <tr>\n      <th>2915</th>\n      <td>0</td>\n      <td>0</td>\n      <td>0</td>\n      <td>0</td>\n      <td>1</td>\n      <td>1</td>\n      <td>0</td>\n      <td>0</td>\n      <td>0</td>\n      <td>1</td>\n      <td>...</td>\n      <td>0</td>\n      <td>24</td>\n      <td>0</td>\n      <td>0</td>\n      <td>0</td>\n      <td>0</td>\n      <td>0</td>\n      <td>4</td>\n      <td>2006</td>\n      <td>180921.19589</td>\n    </tr>\n    <tr>\n      <th>2916</th>\n      <td>0</td>\n      <td>0</td>\n      <td>0</td>\n      <td>1</td>\n      <td>0</td>\n      <td>1</td>\n      <td>0</td>\n      <td>0</td>\n      <td>0</td>\n      <td>1</td>\n      <td>...</td>\n      <td>474</td>\n      <td>0</td>\n      <td>0</td>\n      <td>0</td>\n      <td>0</td>\n      <td>0</td>\n      <td>0</td>\n      <td>9</td>\n      <td>2006</td>\n      <td>180921.19589</td>\n    </tr>\n    <tr>\n      <th>2917</th>\n      <td>0</td>\n      <td>0</td>\n      <td>0</td>\n      <td>1</td>\n      <td>0</td>\n      <td>1</td>\n      <td>0</td>\n      <td>0</td>\n      <td>0</td>\n      <td>1</td>\n      <td>...</td>\n      <td>80</td>\n      <td>32</td>\n      <td>0</td>\n      <td>0</td>\n      <td>0</td>\n      <td>0</td>\n      <td>700</td>\n      <td>7</td>\n      <td>2006</td>\n      <td>180921.19589</td>\n    </tr>\n    <tr>\n      <th>2918</th>\n      <td>0</td>\n      <td>0</td>\n      <td>0</td>\n      <td>1</td>\n      <td>0</td>\n      <td>1</td>\n      <td>0</td>\n      <td>0</td>\n      <td>0</td>\n      <td>1</td>\n      <td>...</td>\n      <td>190</td>\n      <td>48</td>\n      <td>0</td>\n      <td>0</td>\n      <td>0</td>\n      <td>0</td>\n      <td>0</td>\n      <td>11</td>\n      <td>2006</td>\n      <td>180921.19589</td>\n    </tr>\n  </tbody>\n</table>\n<p>2919 rows × 168 columns</p>\n</div>"
     },
     "execution_count": 90,
     "metadata": {},
     "output_type": "execute_result"
    }
   ],
   "source": [
    "df_final = pd.concat([categorical_data, numeric_data], axis=1).reindex(df.index)\n",
    "df_final"
   ],
   "metadata": {
    "collapsed": false,
    "pycharm": {
     "name": "#%%\n"
    }
   }
  },
  {
   "cell_type": "code",
   "execution_count": 91,
   "outputs": [
    {
     "data": {
      "text/plain": "C (all)      0\nFV           0\nRH           0\nRL           0\nRM           0\n            ..\nPoolArea     0\nMiscVal      0\nMoSold       0\nYrSold       0\nSalePrice    0\nLength: 168, dtype: int64"
     },
     "execution_count": 91,
     "metadata": {},
     "output_type": "execute_result"
    }
   ],
   "source": [
    "df_final.isnull().sum()"
   ],
   "metadata": {
    "collapsed": false,
    "pycharm": {
     "name": "#%%\n"
    }
   }
  },
  {
   "cell_type": "code",
   "execution_count": 92,
   "outputs": [
    {
     "name": "stdout",
     "output_type": "stream",
     "text": [
      "<class 'pandas.core.frame.DataFrame'>\n",
      "RangeIndex: 2919 entries, 0 to 2918\n",
      "Columns: 168 entries, C (all) to SalePrice\n",
      "dtypes: float64(18), int32(3), int64(117), uint8(30)\n",
      "memory usage: 3.1 MB\n"
     ]
    }
   ],
   "source": [
    "df_final.info()"
   ],
   "metadata": {
    "collapsed": false,
    "pycharm": {
     "name": "#%%\n"
    }
   }
  },
  {
   "cell_type": "code",
   "execution_count": 93,
   "outputs": [
    {
     "data": {
      "text/plain": "SalePrice       1.000000\nOverallQual     0.548617\nGrLivArea       0.520311\nGarageCars      0.444406\nGarageArea      0.437654\n                  ...   \nSaleType_3     -0.235123\nHeatingQC_1    -0.273128\nFoundation_1   -0.329102\n2              -0.363212\nTA             -0.415632\nName: SalePrice, Length: 168, dtype: float64"
     },
     "execution_count": 93,
     "metadata": {},
     "output_type": "execute_result"
    }
   ],
   "source": [
    "corr_matrix = df_final.corr()\n",
    "corr_matrix['SalePrice'].sort_values(ascending=False)"
   ],
   "metadata": {
    "collapsed": false,
    "pycharm": {
     "name": "#%%\n"
    }
   }
  },
  {
   "cell_type": "code",
   "execution_count": 94,
   "outputs": [
    {
     "data": {
      "text/plain": "            C (all)        FV        RH        RL        RM    Street  \\\nC (all)    1.000000 -0.020783 -0.008811 -0.173653 -0.040199 -0.284546   \nFV        -0.020783  1.000000 -0.021198 -0.417778 -0.096713  0.014367   \nRH        -0.008811 -0.021198  1.000000 -0.177122 -0.041003  0.006091   \nRL        -0.173653 -0.417778 -0.177122  1.000000 -0.808091  0.055695   \nRM        -0.040199 -0.096713 -0.041003 -0.808091  1.000000 -0.001601   \n...             ...       ...       ...       ...       ...       ...   \nPoolArea  -0.005869 -0.014121 -0.005987  0.033800 -0.027313  0.004057   \nMiscVal   -0.004303 -0.020033 -0.005280  0.025695 -0.015182 -0.006645   \nMoSold     0.037903  0.004374  0.030171  0.003491 -0.023909  0.016879   \nYrSold     0.011824  0.026686  0.006625 -0.017362 -0.000471 -0.018273   \nSalePrice -0.070426  0.061610 -0.051274  0.170162 -0.199279  0.029017   \n\n                IR1       IR2       IR3       Reg  ...  WoodDeckSF  \\\nC (all)   -0.049675 -0.015196 -0.006900  0.054722  ...   -0.061443   \nFV        -0.024244  0.003848 -0.016601  0.025009  ...   -0.055019   \nRH        -0.035797  0.053191 -0.007038  0.018512  ...   -0.014482   \nRL         0.238834  0.035801  0.006277 -0.246632  ...    0.171139   \nRM        -0.236752 -0.053003  0.006095  0.248391  ...   -0.143986   \n...             ...       ...       ...       ...  ...         ...   \nPoolArea   0.013474 -0.010325  0.057772 -0.018641  ...    0.094231   \nMiscVal    0.050769  0.008029 -0.006651 -0.051339  ...    0.056883   \nMoSold    -0.009187  0.010942  0.002719  0.004953  ...    0.018120   \nYrSold    -0.024557 -0.020042 -0.013001  0.032674  ...   -0.000180   \nSalePrice  0.157899  0.092519  0.029010 -0.189670  ...    0.227241   \n\n           OpenPorchSF  EnclosedPorch  3SsnPorch  ScreenPorch  PoolArea  \\\nC (all)       0.006759       0.079904   0.003092    -0.020024 -0.005869   \nFV            0.199034      -0.079508  -0.008797    -0.036961 -0.014121   \nRH           -0.019787       0.026875  -0.009796    -0.019318 -0.005987   \nRL           -0.025223      -0.140912   0.015579     0.062819  0.033800   \nRM           -0.084138       0.180234  -0.010903    -0.040082 -0.027313   \n...                ...            ...        ...          ...       ...   \nPoolArea      0.064212       0.092534  -0.006525     0.026319  1.000000   \nMiscVal       0.077357       0.008654  -0.000788     0.007067  0.011921   \nMoSold        0.034167      -0.020976   0.027391     0.028535 -0.042230   \nYrSold       -0.037377      -0.001134   0.022560    -0.006634 -0.052816   \nSalePrice     0.218983      -0.086496   0.036693     0.078206  0.073608   \n\n            MiscVal    MoSold    YrSold  SalePrice  \nC (all)   -0.004303  0.037903  0.011824  -0.070426  \nFV        -0.020033  0.004374  0.026686   0.061610  \nRH        -0.005280  0.030171  0.006625  -0.051274  \nRL         0.025695  0.003491 -0.017362   0.170162  \nRM        -0.015182 -0.023909 -0.000471  -0.199279  \n...             ...       ...       ...        ...  \nPoolArea   0.011921 -0.042230 -0.052816   0.073608  \nMiscVal    1.000000  0.007443  0.008445  -0.013101  \nMoSold     0.007443  1.000000 -0.153895   0.032698  \nYrSold     0.008445 -0.153895  1.000000  -0.020656  \nSalePrice -0.013101  0.032698 -0.020656   1.000000  \n\n[168 rows x 168 columns]",
      "text/html": "<div>\n<style scoped>\n    .dataframe tbody tr th:only-of-type {\n        vertical-align: middle;\n    }\n\n    .dataframe tbody tr th {\n        vertical-align: top;\n    }\n\n    .dataframe thead th {\n        text-align: right;\n    }\n</style>\n<table border=\"1\" class=\"dataframe\">\n  <thead>\n    <tr style=\"text-align: right;\">\n      <th></th>\n      <th>C (all)</th>\n      <th>FV</th>\n      <th>RH</th>\n      <th>RL</th>\n      <th>RM</th>\n      <th>Street</th>\n      <th>IR1</th>\n      <th>IR2</th>\n      <th>IR3</th>\n      <th>Reg</th>\n      <th>...</th>\n      <th>WoodDeckSF</th>\n      <th>OpenPorchSF</th>\n      <th>EnclosedPorch</th>\n      <th>3SsnPorch</th>\n      <th>ScreenPorch</th>\n      <th>PoolArea</th>\n      <th>MiscVal</th>\n      <th>MoSold</th>\n      <th>YrSold</th>\n      <th>SalePrice</th>\n    </tr>\n  </thead>\n  <tbody>\n    <tr>\n      <th>C (all)</th>\n      <td>1.000000</td>\n      <td>-0.020783</td>\n      <td>-0.008811</td>\n      <td>-0.173653</td>\n      <td>-0.040199</td>\n      <td>-0.284546</td>\n      <td>-0.049675</td>\n      <td>-0.015196</td>\n      <td>-0.006900</td>\n      <td>0.054722</td>\n      <td>...</td>\n      <td>-0.061443</td>\n      <td>0.006759</td>\n      <td>0.079904</td>\n      <td>0.003092</td>\n      <td>-0.020024</td>\n      <td>-0.005869</td>\n      <td>-0.004303</td>\n      <td>0.037903</td>\n      <td>0.011824</td>\n      <td>-0.070426</td>\n    </tr>\n    <tr>\n      <th>FV</th>\n      <td>-0.020783</td>\n      <td>1.000000</td>\n      <td>-0.021198</td>\n      <td>-0.417778</td>\n      <td>-0.096713</td>\n      <td>0.014367</td>\n      <td>-0.024244</td>\n      <td>0.003848</td>\n      <td>-0.016601</td>\n      <td>0.025009</td>\n      <td>...</td>\n      <td>-0.055019</td>\n      <td>0.199034</td>\n      <td>-0.079508</td>\n      <td>-0.008797</td>\n      <td>-0.036961</td>\n      <td>-0.014121</td>\n      <td>-0.020033</td>\n      <td>0.004374</td>\n      <td>0.026686</td>\n      <td>0.061610</td>\n    </tr>\n    <tr>\n      <th>RH</th>\n      <td>-0.008811</td>\n      <td>-0.021198</td>\n      <td>1.000000</td>\n      <td>-0.177122</td>\n      <td>-0.041003</td>\n      <td>0.006091</td>\n      <td>-0.035797</td>\n      <td>0.053191</td>\n      <td>-0.007038</td>\n      <td>0.018512</td>\n      <td>...</td>\n      <td>-0.014482</td>\n      <td>-0.019787</td>\n      <td>0.026875</td>\n      <td>-0.009796</td>\n      <td>-0.019318</td>\n      <td>-0.005987</td>\n      <td>-0.005280</td>\n      <td>0.030171</td>\n      <td>0.006625</td>\n      <td>-0.051274</td>\n    </tr>\n    <tr>\n      <th>RL</th>\n      <td>-0.173653</td>\n      <td>-0.417778</td>\n      <td>-0.177122</td>\n      <td>1.000000</td>\n      <td>-0.808091</td>\n      <td>0.055695</td>\n      <td>0.238834</td>\n      <td>0.035801</td>\n      <td>0.006277</td>\n      <td>-0.246632</td>\n      <td>...</td>\n      <td>0.171139</td>\n      <td>-0.025223</td>\n      <td>-0.140912</td>\n      <td>0.015579</td>\n      <td>0.062819</td>\n      <td>0.033800</td>\n      <td>0.025695</td>\n      <td>0.003491</td>\n      <td>-0.017362</td>\n      <td>0.170162</td>\n    </tr>\n    <tr>\n      <th>RM</th>\n      <td>-0.040199</td>\n      <td>-0.096713</td>\n      <td>-0.041003</td>\n      <td>-0.808091</td>\n      <td>1.000000</td>\n      <td>-0.001601</td>\n      <td>-0.236752</td>\n      <td>-0.053003</td>\n      <td>0.006095</td>\n      <td>0.248391</td>\n      <td>...</td>\n      <td>-0.143986</td>\n      <td>-0.084138</td>\n      <td>0.180234</td>\n      <td>-0.010903</td>\n      <td>-0.040082</td>\n      <td>-0.027313</td>\n      <td>-0.015182</td>\n      <td>-0.023909</td>\n      <td>-0.000471</td>\n      <td>-0.199279</td>\n    </tr>\n    <tr>\n      <th>...</th>\n      <td>...</td>\n      <td>...</td>\n      <td>...</td>\n      <td>...</td>\n      <td>...</td>\n      <td>...</td>\n      <td>...</td>\n      <td>...</td>\n      <td>...</td>\n      <td>...</td>\n      <td>...</td>\n      <td>...</td>\n      <td>...</td>\n      <td>...</td>\n      <td>...</td>\n      <td>...</td>\n      <td>...</td>\n      <td>...</td>\n      <td>...</td>\n      <td>...</td>\n      <td>...</td>\n    </tr>\n    <tr>\n      <th>PoolArea</th>\n      <td>-0.005869</td>\n      <td>-0.014121</td>\n      <td>-0.005987</td>\n      <td>0.033800</td>\n      <td>-0.027313</td>\n      <td>0.004057</td>\n      <td>0.013474</td>\n      <td>-0.010325</td>\n      <td>0.057772</td>\n      <td>-0.018641</td>\n      <td>...</td>\n      <td>0.094231</td>\n      <td>0.064212</td>\n      <td>0.092534</td>\n      <td>-0.006525</td>\n      <td>0.026319</td>\n      <td>1.000000</td>\n      <td>0.011921</td>\n      <td>-0.042230</td>\n      <td>-0.052816</td>\n      <td>0.073608</td>\n    </tr>\n    <tr>\n      <th>MiscVal</th>\n      <td>-0.004303</td>\n      <td>-0.020033</td>\n      <td>-0.005280</td>\n      <td>0.025695</td>\n      <td>-0.015182</td>\n      <td>-0.006645</td>\n      <td>0.050769</td>\n      <td>0.008029</td>\n      <td>-0.006651</td>\n      <td>-0.051339</td>\n      <td>...</td>\n      <td>0.056883</td>\n      <td>0.077357</td>\n      <td>0.008654</td>\n      <td>-0.000788</td>\n      <td>0.007067</td>\n      <td>0.011921</td>\n      <td>1.000000</td>\n      <td>0.007443</td>\n      <td>0.008445</td>\n      <td>-0.013101</td>\n    </tr>\n    <tr>\n      <th>MoSold</th>\n      <td>0.037903</td>\n      <td>0.004374</td>\n      <td>0.030171</td>\n      <td>0.003491</td>\n      <td>-0.023909</td>\n      <td>0.016879</td>\n      <td>-0.009187</td>\n      <td>0.010942</td>\n      <td>0.002719</td>\n      <td>0.004953</td>\n      <td>...</td>\n      <td>0.018120</td>\n      <td>0.034167</td>\n      <td>-0.020976</td>\n      <td>0.027391</td>\n      <td>0.028535</td>\n      <td>-0.042230</td>\n      <td>0.007443</td>\n      <td>1.000000</td>\n      <td>-0.153895</td>\n      <td>0.032698</td>\n    </tr>\n    <tr>\n      <th>YrSold</th>\n      <td>0.011824</td>\n      <td>0.026686</td>\n      <td>0.006625</td>\n      <td>-0.017362</td>\n      <td>-0.000471</td>\n      <td>-0.018273</td>\n      <td>-0.024557</td>\n      <td>-0.020042</td>\n      <td>-0.013001</td>\n      <td>0.032674</td>\n      <td>...</td>\n      <td>-0.000180</td>\n      <td>-0.037377</td>\n      <td>-0.001134</td>\n      <td>0.022560</td>\n      <td>-0.006634</td>\n      <td>-0.052816</td>\n      <td>0.008445</td>\n      <td>-0.153895</td>\n      <td>1.000000</td>\n      <td>-0.020656</td>\n    </tr>\n    <tr>\n      <th>SalePrice</th>\n      <td>-0.070426</td>\n      <td>0.061610</td>\n      <td>-0.051274</td>\n      <td>0.170162</td>\n      <td>-0.199279</td>\n      <td>0.029017</td>\n      <td>0.157899</td>\n      <td>0.092519</td>\n      <td>0.029010</td>\n      <td>-0.189670</td>\n      <td>...</td>\n      <td>0.227241</td>\n      <td>0.218983</td>\n      <td>-0.086496</td>\n      <td>0.036693</td>\n      <td>0.078206</td>\n      <td>0.073608</td>\n      <td>-0.013101</td>\n      <td>0.032698</td>\n      <td>-0.020656</td>\n      <td>1.000000</td>\n    </tr>\n  </tbody>\n</table>\n<p>168 rows × 168 columns</p>\n</div>"
     },
     "execution_count": 94,
     "metadata": {},
     "output_type": "execute_result"
    }
   ],
   "source": [
    "corr_matrix = df_final.corr()\n",
    "corr_matrix"
   ],
   "metadata": {
    "collapsed": false,
    "pycharm": {
     "name": "#%%\n"
    }
   }
  },
  {
   "cell_type": "code",
   "execution_count": 95,
   "outputs": [
    {
     "name": "stdout",
     "output_type": "stream",
     "text": [
      "Shape of new dataframes - (2919, 168) , (1459, 168)\n"
     ]
    }
   ],
   "source": [
    "# splitting dataframe by row index\n",
    "final = df_final.iloc[:1460,:]\n",
    "real_test_data = df_final.iloc[1460:,:]\n",
    "print(\"Shape of new dataframes - {} , {}\".format(df_final.shape, real_test_data.shape))\n"
   ],
   "metadata": {
    "collapsed": false,
    "pycharm": {
     "name": "#%%\n"
    }
   }
  },
  {
   "cell_type": "code",
   "execution_count": 96,
   "outputs": [
    {
     "data": {
      "text/plain": "      C (all)  FV  RH  RL  RM  Street  IR1  IR2  IR3  Reg  ...  WoodDeckSF  \\\n0           0   0   0   1   0       1    0    0    0    1  ...           0   \n1           0   0   0   1   0       1    0    0    0    1  ...         298   \n2           0   0   0   1   0       1    1    0    0    0  ...           0   \n3           0   0   0   1   0       1    1    0    0    0  ...           0   \n4           0   0   0   1   0       1    1    0    0    0  ...         192   \n...       ...  ..  ..  ..  ..     ...  ...  ...  ...  ...  ...         ...   \n1455        0   0   0   1   0       1    0    0    0    1  ...           0   \n1456        0   0   0   1   0       1    0    0    0    1  ...         349   \n1457        0   0   0   1   0       1    0    0    0    1  ...           0   \n1458        0   0   0   1   0       1    0    0    0    1  ...         366   \n1459        0   0   0   1   0       1    0    0    0    1  ...         736   \n\n      OpenPorchSF  EnclosedPorch  3SsnPorch  ScreenPorch  PoolArea  MiscVal  \\\n0              61              0          0            0         0        0   \n1               0              0          0            0         0        0   \n2              42              0          0            0         0        0   \n3              35            272          0            0         0        0   \n4              84              0          0            0         0        0   \n...           ...            ...        ...          ...       ...      ...   \n1455           40              0          0            0         0        0   \n1456            0              0          0            0         0        0   \n1457           60              0          0            0         0     2500   \n1458            0            112          0            0         0        0   \n1459           68              0          0            0         0        0   \n\n      MoSold  YrSold  SalePrice  \n0          2    2008   208500.0  \n1          5    2007   181500.0  \n2          9    2008   223500.0  \n3          2    2006   140000.0  \n4         12    2008   250000.0  \n...      ...     ...        ...  \n1455       8    2007   175000.0  \n1456       2    2010   210000.0  \n1457       5    2010   266500.0  \n1458       4    2010   142125.0  \n1459       6    2008   147500.0  \n\n[1460 rows x 168 columns]",
      "text/html": "<div>\n<style scoped>\n    .dataframe tbody tr th:only-of-type {\n        vertical-align: middle;\n    }\n\n    .dataframe tbody tr th {\n        vertical-align: top;\n    }\n\n    .dataframe thead th {\n        text-align: right;\n    }\n</style>\n<table border=\"1\" class=\"dataframe\">\n  <thead>\n    <tr style=\"text-align: right;\">\n      <th></th>\n      <th>C (all)</th>\n      <th>FV</th>\n      <th>RH</th>\n      <th>RL</th>\n      <th>RM</th>\n      <th>Street</th>\n      <th>IR1</th>\n      <th>IR2</th>\n      <th>IR3</th>\n      <th>Reg</th>\n      <th>...</th>\n      <th>WoodDeckSF</th>\n      <th>OpenPorchSF</th>\n      <th>EnclosedPorch</th>\n      <th>3SsnPorch</th>\n      <th>ScreenPorch</th>\n      <th>PoolArea</th>\n      <th>MiscVal</th>\n      <th>MoSold</th>\n      <th>YrSold</th>\n      <th>SalePrice</th>\n    </tr>\n  </thead>\n  <tbody>\n    <tr>\n      <th>0</th>\n      <td>0</td>\n      <td>0</td>\n      <td>0</td>\n      <td>1</td>\n      <td>0</td>\n      <td>1</td>\n      <td>0</td>\n      <td>0</td>\n      <td>0</td>\n      <td>1</td>\n      <td>...</td>\n      <td>0</td>\n      <td>61</td>\n      <td>0</td>\n      <td>0</td>\n      <td>0</td>\n      <td>0</td>\n      <td>0</td>\n      <td>2</td>\n      <td>2008</td>\n      <td>208500.0</td>\n    </tr>\n    <tr>\n      <th>1</th>\n      <td>0</td>\n      <td>0</td>\n      <td>0</td>\n      <td>1</td>\n      <td>0</td>\n      <td>1</td>\n      <td>0</td>\n      <td>0</td>\n      <td>0</td>\n      <td>1</td>\n      <td>...</td>\n      <td>298</td>\n      <td>0</td>\n      <td>0</td>\n      <td>0</td>\n      <td>0</td>\n      <td>0</td>\n      <td>0</td>\n      <td>5</td>\n      <td>2007</td>\n      <td>181500.0</td>\n    </tr>\n    <tr>\n      <th>2</th>\n      <td>0</td>\n      <td>0</td>\n      <td>0</td>\n      <td>1</td>\n      <td>0</td>\n      <td>1</td>\n      <td>1</td>\n      <td>0</td>\n      <td>0</td>\n      <td>0</td>\n      <td>...</td>\n      <td>0</td>\n      <td>42</td>\n      <td>0</td>\n      <td>0</td>\n      <td>0</td>\n      <td>0</td>\n      <td>0</td>\n      <td>9</td>\n      <td>2008</td>\n      <td>223500.0</td>\n    </tr>\n    <tr>\n      <th>3</th>\n      <td>0</td>\n      <td>0</td>\n      <td>0</td>\n      <td>1</td>\n      <td>0</td>\n      <td>1</td>\n      <td>1</td>\n      <td>0</td>\n      <td>0</td>\n      <td>0</td>\n      <td>...</td>\n      <td>0</td>\n      <td>35</td>\n      <td>272</td>\n      <td>0</td>\n      <td>0</td>\n      <td>0</td>\n      <td>0</td>\n      <td>2</td>\n      <td>2006</td>\n      <td>140000.0</td>\n    </tr>\n    <tr>\n      <th>4</th>\n      <td>0</td>\n      <td>0</td>\n      <td>0</td>\n      <td>1</td>\n      <td>0</td>\n      <td>1</td>\n      <td>1</td>\n      <td>0</td>\n      <td>0</td>\n      <td>0</td>\n      <td>...</td>\n      <td>192</td>\n      <td>84</td>\n      <td>0</td>\n      <td>0</td>\n      <td>0</td>\n      <td>0</td>\n      <td>0</td>\n      <td>12</td>\n      <td>2008</td>\n      <td>250000.0</td>\n    </tr>\n    <tr>\n      <th>...</th>\n      <td>...</td>\n      <td>...</td>\n      <td>...</td>\n      <td>...</td>\n      <td>...</td>\n      <td>...</td>\n      <td>...</td>\n      <td>...</td>\n      <td>...</td>\n      <td>...</td>\n      <td>...</td>\n      <td>...</td>\n      <td>...</td>\n      <td>...</td>\n      <td>...</td>\n      <td>...</td>\n      <td>...</td>\n      <td>...</td>\n      <td>...</td>\n      <td>...</td>\n      <td>...</td>\n    </tr>\n    <tr>\n      <th>1455</th>\n      <td>0</td>\n      <td>0</td>\n      <td>0</td>\n      <td>1</td>\n      <td>0</td>\n      <td>1</td>\n      <td>0</td>\n      <td>0</td>\n      <td>0</td>\n      <td>1</td>\n      <td>...</td>\n      <td>0</td>\n      <td>40</td>\n      <td>0</td>\n      <td>0</td>\n      <td>0</td>\n      <td>0</td>\n      <td>0</td>\n      <td>8</td>\n      <td>2007</td>\n      <td>175000.0</td>\n    </tr>\n    <tr>\n      <th>1456</th>\n      <td>0</td>\n      <td>0</td>\n      <td>0</td>\n      <td>1</td>\n      <td>0</td>\n      <td>1</td>\n      <td>0</td>\n      <td>0</td>\n      <td>0</td>\n      <td>1</td>\n      <td>...</td>\n      <td>349</td>\n      <td>0</td>\n      <td>0</td>\n      <td>0</td>\n      <td>0</td>\n      <td>0</td>\n      <td>0</td>\n      <td>2</td>\n      <td>2010</td>\n      <td>210000.0</td>\n    </tr>\n    <tr>\n      <th>1457</th>\n      <td>0</td>\n      <td>0</td>\n      <td>0</td>\n      <td>1</td>\n      <td>0</td>\n      <td>1</td>\n      <td>0</td>\n      <td>0</td>\n      <td>0</td>\n      <td>1</td>\n      <td>...</td>\n      <td>0</td>\n      <td>60</td>\n      <td>0</td>\n      <td>0</td>\n      <td>0</td>\n      <td>0</td>\n      <td>2500</td>\n      <td>5</td>\n      <td>2010</td>\n      <td>266500.0</td>\n    </tr>\n    <tr>\n      <th>1458</th>\n      <td>0</td>\n      <td>0</td>\n      <td>0</td>\n      <td>1</td>\n      <td>0</td>\n      <td>1</td>\n      <td>0</td>\n      <td>0</td>\n      <td>0</td>\n      <td>1</td>\n      <td>...</td>\n      <td>366</td>\n      <td>0</td>\n      <td>112</td>\n      <td>0</td>\n      <td>0</td>\n      <td>0</td>\n      <td>0</td>\n      <td>4</td>\n      <td>2010</td>\n      <td>142125.0</td>\n    </tr>\n    <tr>\n      <th>1459</th>\n      <td>0</td>\n      <td>0</td>\n      <td>0</td>\n      <td>1</td>\n      <td>0</td>\n      <td>1</td>\n      <td>0</td>\n      <td>0</td>\n      <td>0</td>\n      <td>1</td>\n      <td>...</td>\n      <td>736</td>\n      <td>68</td>\n      <td>0</td>\n      <td>0</td>\n      <td>0</td>\n      <td>0</td>\n      <td>0</td>\n      <td>6</td>\n      <td>2008</td>\n      <td>147500.0</td>\n    </tr>\n  </tbody>\n</table>\n<p>1460 rows × 168 columns</p>\n</div>"
     },
     "execution_count": 96,
     "metadata": {},
     "output_type": "execute_result"
    }
   ],
   "source": [
    "final"
   ],
   "metadata": {
    "collapsed": false,
    "pycharm": {
     "name": "#%%\n"
    }
   }
  },
  {
   "cell_type": "code",
   "execution_count": 97,
   "outputs": [
    {
     "data": {
      "text/plain": "      C (all)  FV  RH  RL  RM  Street  IR1  IR2  IR3  Reg  ...  WoodDeckSF  \\\n1460        0   0   1   0   0       1    0    0    0    1  ...         140   \n1461        0   0   0   1   0       1    1    0    0    0  ...         393   \n1462        0   0   0   1   0       1    1    0    0    0  ...         212   \n1463        0   0   0   1   0       1    1    0    0    0  ...         360   \n1464        0   0   0   1   0       1    1    0    0    0  ...           0   \n...       ...  ..  ..  ..  ..     ...  ...  ...  ...  ...  ...         ...   \n2914        0   0   0   0   1       1    0    0    0    1  ...           0   \n2915        0   0   0   0   1       1    0    0    0    1  ...           0   \n2916        0   0   0   1   0       1    0    0    0    1  ...         474   \n2917        0   0   0   1   0       1    0    0    0    1  ...          80   \n2918        0   0   0   1   0       1    0    0    0    1  ...         190   \n\n      OpenPorchSF  EnclosedPorch  3SsnPorch  ScreenPorch  PoolArea  MiscVal  \\\n1460            0              0          0          120         0        0   \n1461           36              0          0            0         0    12500   \n1462           34              0          0            0         0        0   \n1463           36              0          0            0         0        0   \n1464           82              0          0          144         0        0   \n...           ...            ...        ...          ...       ...      ...   \n2914            0              0          0            0         0        0   \n2915           24              0          0            0         0        0   \n2916            0              0          0            0         0        0   \n2917           32              0          0            0         0      700   \n2918           48              0          0            0         0        0   \n\n      MoSold  YrSold     SalePrice  \n1460       6    2010  180921.19589  \n1461       6    2010  180921.19589  \n1462       3    2010  180921.19589  \n1463       6    2010  180921.19589  \n1464       1    2010  180921.19589  \n...      ...     ...           ...  \n2914       6    2006  180921.19589  \n2915       4    2006  180921.19589  \n2916       9    2006  180921.19589  \n2917       7    2006  180921.19589  \n2918      11    2006  180921.19589  \n\n[1459 rows x 168 columns]",
      "text/html": "<div>\n<style scoped>\n    .dataframe tbody tr th:only-of-type {\n        vertical-align: middle;\n    }\n\n    .dataframe tbody tr th {\n        vertical-align: top;\n    }\n\n    .dataframe thead th {\n        text-align: right;\n    }\n</style>\n<table border=\"1\" class=\"dataframe\">\n  <thead>\n    <tr style=\"text-align: right;\">\n      <th></th>\n      <th>C (all)</th>\n      <th>FV</th>\n      <th>RH</th>\n      <th>RL</th>\n      <th>RM</th>\n      <th>Street</th>\n      <th>IR1</th>\n      <th>IR2</th>\n      <th>IR3</th>\n      <th>Reg</th>\n      <th>...</th>\n      <th>WoodDeckSF</th>\n      <th>OpenPorchSF</th>\n      <th>EnclosedPorch</th>\n      <th>3SsnPorch</th>\n      <th>ScreenPorch</th>\n      <th>PoolArea</th>\n      <th>MiscVal</th>\n      <th>MoSold</th>\n      <th>YrSold</th>\n      <th>SalePrice</th>\n    </tr>\n  </thead>\n  <tbody>\n    <tr>\n      <th>1460</th>\n      <td>0</td>\n      <td>0</td>\n      <td>1</td>\n      <td>0</td>\n      <td>0</td>\n      <td>1</td>\n      <td>0</td>\n      <td>0</td>\n      <td>0</td>\n      <td>1</td>\n      <td>...</td>\n      <td>140</td>\n      <td>0</td>\n      <td>0</td>\n      <td>0</td>\n      <td>120</td>\n      <td>0</td>\n      <td>0</td>\n      <td>6</td>\n      <td>2010</td>\n      <td>180921.19589</td>\n    </tr>\n    <tr>\n      <th>1461</th>\n      <td>0</td>\n      <td>0</td>\n      <td>0</td>\n      <td>1</td>\n      <td>0</td>\n      <td>1</td>\n      <td>1</td>\n      <td>0</td>\n      <td>0</td>\n      <td>0</td>\n      <td>...</td>\n      <td>393</td>\n      <td>36</td>\n      <td>0</td>\n      <td>0</td>\n      <td>0</td>\n      <td>0</td>\n      <td>12500</td>\n      <td>6</td>\n      <td>2010</td>\n      <td>180921.19589</td>\n    </tr>\n    <tr>\n      <th>1462</th>\n      <td>0</td>\n      <td>0</td>\n      <td>0</td>\n      <td>1</td>\n      <td>0</td>\n      <td>1</td>\n      <td>1</td>\n      <td>0</td>\n      <td>0</td>\n      <td>0</td>\n      <td>...</td>\n      <td>212</td>\n      <td>34</td>\n      <td>0</td>\n      <td>0</td>\n      <td>0</td>\n      <td>0</td>\n      <td>0</td>\n      <td>3</td>\n      <td>2010</td>\n      <td>180921.19589</td>\n    </tr>\n    <tr>\n      <th>1463</th>\n      <td>0</td>\n      <td>0</td>\n      <td>0</td>\n      <td>1</td>\n      <td>0</td>\n      <td>1</td>\n      <td>1</td>\n      <td>0</td>\n      <td>0</td>\n      <td>0</td>\n      <td>...</td>\n      <td>360</td>\n      <td>36</td>\n      <td>0</td>\n      <td>0</td>\n      <td>0</td>\n      <td>0</td>\n      <td>0</td>\n      <td>6</td>\n      <td>2010</td>\n      <td>180921.19589</td>\n    </tr>\n    <tr>\n      <th>1464</th>\n      <td>0</td>\n      <td>0</td>\n      <td>0</td>\n      <td>1</td>\n      <td>0</td>\n      <td>1</td>\n      <td>1</td>\n      <td>0</td>\n      <td>0</td>\n      <td>0</td>\n      <td>...</td>\n      <td>0</td>\n      <td>82</td>\n      <td>0</td>\n      <td>0</td>\n      <td>144</td>\n      <td>0</td>\n      <td>0</td>\n      <td>1</td>\n      <td>2010</td>\n      <td>180921.19589</td>\n    </tr>\n    <tr>\n      <th>...</th>\n      <td>...</td>\n      <td>...</td>\n      <td>...</td>\n      <td>...</td>\n      <td>...</td>\n      <td>...</td>\n      <td>...</td>\n      <td>...</td>\n      <td>...</td>\n      <td>...</td>\n      <td>...</td>\n      <td>...</td>\n      <td>...</td>\n      <td>...</td>\n      <td>...</td>\n      <td>...</td>\n      <td>...</td>\n      <td>...</td>\n      <td>...</td>\n      <td>...</td>\n      <td>...</td>\n    </tr>\n    <tr>\n      <th>2914</th>\n      <td>0</td>\n      <td>0</td>\n      <td>0</td>\n      <td>0</td>\n      <td>1</td>\n      <td>1</td>\n      <td>0</td>\n      <td>0</td>\n      <td>0</td>\n      <td>1</td>\n      <td>...</td>\n      <td>0</td>\n      <td>0</td>\n      <td>0</td>\n      <td>0</td>\n      <td>0</td>\n      <td>0</td>\n      <td>0</td>\n      <td>6</td>\n      <td>2006</td>\n      <td>180921.19589</td>\n    </tr>\n    <tr>\n      <th>2915</th>\n      <td>0</td>\n      <td>0</td>\n      <td>0</td>\n      <td>0</td>\n      <td>1</td>\n      <td>1</td>\n      <td>0</td>\n      <td>0</td>\n      <td>0</td>\n      <td>1</td>\n      <td>...</td>\n      <td>0</td>\n      <td>24</td>\n      <td>0</td>\n      <td>0</td>\n      <td>0</td>\n      <td>0</td>\n      <td>0</td>\n      <td>4</td>\n      <td>2006</td>\n      <td>180921.19589</td>\n    </tr>\n    <tr>\n      <th>2916</th>\n      <td>0</td>\n      <td>0</td>\n      <td>0</td>\n      <td>1</td>\n      <td>0</td>\n      <td>1</td>\n      <td>0</td>\n      <td>0</td>\n      <td>0</td>\n      <td>1</td>\n      <td>...</td>\n      <td>474</td>\n      <td>0</td>\n      <td>0</td>\n      <td>0</td>\n      <td>0</td>\n      <td>0</td>\n      <td>0</td>\n      <td>9</td>\n      <td>2006</td>\n      <td>180921.19589</td>\n    </tr>\n    <tr>\n      <th>2917</th>\n      <td>0</td>\n      <td>0</td>\n      <td>0</td>\n      <td>1</td>\n      <td>0</td>\n      <td>1</td>\n      <td>0</td>\n      <td>0</td>\n      <td>0</td>\n      <td>1</td>\n      <td>...</td>\n      <td>80</td>\n      <td>32</td>\n      <td>0</td>\n      <td>0</td>\n      <td>0</td>\n      <td>0</td>\n      <td>700</td>\n      <td>7</td>\n      <td>2006</td>\n      <td>180921.19589</td>\n    </tr>\n    <tr>\n      <th>2918</th>\n      <td>0</td>\n      <td>0</td>\n      <td>0</td>\n      <td>1</td>\n      <td>0</td>\n      <td>1</td>\n      <td>0</td>\n      <td>0</td>\n      <td>0</td>\n      <td>1</td>\n      <td>...</td>\n      <td>190</td>\n      <td>48</td>\n      <td>0</td>\n      <td>0</td>\n      <td>0</td>\n      <td>0</td>\n      <td>0</td>\n      <td>11</td>\n      <td>2006</td>\n      <td>180921.19589</td>\n    </tr>\n  </tbody>\n</table>\n<p>1459 rows × 168 columns</p>\n</div>"
     },
     "execution_count": 97,
     "metadata": {},
     "output_type": "execute_result"
    }
   ],
   "source": [
    "real_test_data"
   ],
   "metadata": {
    "collapsed": false,
    "pycharm": {
     "name": "#%%\n"
    }
   }
  },
  {
   "cell_type": "code",
   "execution_count": 98,
   "outputs": [
    {
     "name": "stderr",
     "output_type": "stream",
     "text": [
      "C:\\Users\\Gufran bhatti\\AppData\\Local\\Temp\\ipykernel_6364\\1876602630.py:1: SettingWithCopyWarning: \n",
      "A value is trying to be set on a copy of a slice from a DataFrame\n",
      "\n",
      "See the caveats in the documentation: https://pandas.pydata.org/pandas-docs/stable/user_guide/indexing.html#returning-a-view-versus-a-copy\n",
      "  real_test_data.drop(\"SalePrice\", axis=1, inplace=True)\n"
     ]
    },
    {
     "data": {
      "text/plain": "      C (all)  FV  RH  RL  RM  Street  IR1  IR2  IR3  Reg  ...  GarageArea  \\\n1460        0   0   1   0   0       1    0    0    0    1  ...       730.0   \n1461        0   0   0   1   0       1    1    0    0    0  ...       312.0   \n1462        0   0   0   1   0       1    1    0    0    0  ...       482.0   \n1463        0   0   0   1   0       1    1    0    0    0  ...       470.0   \n1464        0   0   0   1   0       1    1    0    0    0  ...       506.0   \n...       ...  ..  ..  ..  ..     ...  ...  ...  ...  ...  ...         ...   \n2914        0   0   0   0   1       1    0    0    0    1  ...         0.0   \n2915        0   0   0   0   1       1    0    0    0    1  ...       286.0   \n2916        0   0   0   1   0       1    0    0    0    1  ...       576.0   \n2917        0   0   0   1   0       1    0    0    0    1  ...         0.0   \n2918        0   0   0   1   0       1    0    0    0    1  ...       650.0   \n\n      WoodDeckSF  OpenPorchSF  EnclosedPorch  3SsnPorch  ScreenPorch  \\\n1460         140            0              0          0          120   \n1461         393           36              0          0            0   \n1462         212           34              0          0            0   \n1463         360           36              0          0            0   \n1464           0           82              0          0          144   \n...          ...          ...            ...        ...          ...   \n2914           0            0              0          0            0   \n2915           0           24              0          0            0   \n2916         474            0              0          0            0   \n2917          80           32              0          0            0   \n2918         190           48              0          0            0   \n\n      PoolArea  MiscVal  MoSold  YrSold  \n1460         0        0       6    2010  \n1461         0    12500       6    2010  \n1462         0        0       3    2010  \n1463         0        0       6    2010  \n1464         0        0       1    2010  \n...        ...      ...     ...     ...  \n2914         0        0       6    2006  \n2915         0        0       4    2006  \n2916         0        0       9    2006  \n2917         0      700       7    2006  \n2918         0        0      11    2006  \n\n[1459 rows x 167 columns]",
      "text/html": "<div>\n<style scoped>\n    .dataframe tbody tr th:only-of-type {\n        vertical-align: middle;\n    }\n\n    .dataframe tbody tr th {\n        vertical-align: top;\n    }\n\n    .dataframe thead th {\n        text-align: right;\n    }\n</style>\n<table border=\"1\" class=\"dataframe\">\n  <thead>\n    <tr style=\"text-align: right;\">\n      <th></th>\n      <th>C (all)</th>\n      <th>FV</th>\n      <th>RH</th>\n      <th>RL</th>\n      <th>RM</th>\n      <th>Street</th>\n      <th>IR1</th>\n      <th>IR2</th>\n      <th>IR3</th>\n      <th>Reg</th>\n      <th>...</th>\n      <th>GarageArea</th>\n      <th>WoodDeckSF</th>\n      <th>OpenPorchSF</th>\n      <th>EnclosedPorch</th>\n      <th>3SsnPorch</th>\n      <th>ScreenPorch</th>\n      <th>PoolArea</th>\n      <th>MiscVal</th>\n      <th>MoSold</th>\n      <th>YrSold</th>\n    </tr>\n  </thead>\n  <tbody>\n    <tr>\n      <th>1460</th>\n      <td>0</td>\n      <td>0</td>\n      <td>1</td>\n      <td>0</td>\n      <td>0</td>\n      <td>1</td>\n      <td>0</td>\n      <td>0</td>\n      <td>0</td>\n      <td>1</td>\n      <td>...</td>\n      <td>730.0</td>\n      <td>140</td>\n      <td>0</td>\n      <td>0</td>\n      <td>0</td>\n      <td>120</td>\n      <td>0</td>\n      <td>0</td>\n      <td>6</td>\n      <td>2010</td>\n    </tr>\n    <tr>\n      <th>1461</th>\n      <td>0</td>\n      <td>0</td>\n      <td>0</td>\n      <td>1</td>\n      <td>0</td>\n      <td>1</td>\n      <td>1</td>\n      <td>0</td>\n      <td>0</td>\n      <td>0</td>\n      <td>...</td>\n      <td>312.0</td>\n      <td>393</td>\n      <td>36</td>\n      <td>0</td>\n      <td>0</td>\n      <td>0</td>\n      <td>0</td>\n      <td>12500</td>\n      <td>6</td>\n      <td>2010</td>\n    </tr>\n    <tr>\n      <th>1462</th>\n      <td>0</td>\n      <td>0</td>\n      <td>0</td>\n      <td>1</td>\n      <td>0</td>\n      <td>1</td>\n      <td>1</td>\n      <td>0</td>\n      <td>0</td>\n      <td>0</td>\n      <td>...</td>\n      <td>482.0</td>\n      <td>212</td>\n      <td>34</td>\n      <td>0</td>\n      <td>0</td>\n      <td>0</td>\n      <td>0</td>\n      <td>0</td>\n      <td>3</td>\n      <td>2010</td>\n    </tr>\n    <tr>\n      <th>1463</th>\n      <td>0</td>\n      <td>0</td>\n      <td>0</td>\n      <td>1</td>\n      <td>0</td>\n      <td>1</td>\n      <td>1</td>\n      <td>0</td>\n      <td>0</td>\n      <td>0</td>\n      <td>...</td>\n      <td>470.0</td>\n      <td>360</td>\n      <td>36</td>\n      <td>0</td>\n      <td>0</td>\n      <td>0</td>\n      <td>0</td>\n      <td>0</td>\n      <td>6</td>\n      <td>2010</td>\n    </tr>\n    <tr>\n      <th>1464</th>\n      <td>0</td>\n      <td>0</td>\n      <td>0</td>\n      <td>1</td>\n      <td>0</td>\n      <td>1</td>\n      <td>1</td>\n      <td>0</td>\n      <td>0</td>\n      <td>0</td>\n      <td>...</td>\n      <td>506.0</td>\n      <td>0</td>\n      <td>82</td>\n      <td>0</td>\n      <td>0</td>\n      <td>144</td>\n      <td>0</td>\n      <td>0</td>\n      <td>1</td>\n      <td>2010</td>\n    </tr>\n    <tr>\n      <th>...</th>\n      <td>...</td>\n      <td>...</td>\n      <td>...</td>\n      <td>...</td>\n      <td>...</td>\n      <td>...</td>\n      <td>...</td>\n      <td>...</td>\n      <td>...</td>\n      <td>...</td>\n      <td>...</td>\n      <td>...</td>\n      <td>...</td>\n      <td>...</td>\n      <td>...</td>\n      <td>...</td>\n      <td>...</td>\n      <td>...</td>\n      <td>...</td>\n      <td>...</td>\n      <td>...</td>\n    </tr>\n    <tr>\n      <th>2914</th>\n      <td>0</td>\n      <td>0</td>\n      <td>0</td>\n      <td>0</td>\n      <td>1</td>\n      <td>1</td>\n      <td>0</td>\n      <td>0</td>\n      <td>0</td>\n      <td>1</td>\n      <td>...</td>\n      <td>0.0</td>\n      <td>0</td>\n      <td>0</td>\n      <td>0</td>\n      <td>0</td>\n      <td>0</td>\n      <td>0</td>\n      <td>0</td>\n      <td>6</td>\n      <td>2006</td>\n    </tr>\n    <tr>\n      <th>2915</th>\n      <td>0</td>\n      <td>0</td>\n      <td>0</td>\n      <td>0</td>\n      <td>1</td>\n      <td>1</td>\n      <td>0</td>\n      <td>0</td>\n      <td>0</td>\n      <td>1</td>\n      <td>...</td>\n      <td>286.0</td>\n      <td>0</td>\n      <td>24</td>\n      <td>0</td>\n      <td>0</td>\n      <td>0</td>\n      <td>0</td>\n      <td>0</td>\n      <td>4</td>\n      <td>2006</td>\n    </tr>\n    <tr>\n      <th>2916</th>\n      <td>0</td>\n      <td>0</td>\n      <td>0</td>\n      <td>1</td>\n      <td>0</td>\n      <td>1</td>\n      <td>0</td>\n      <td>0</td>\n      <td>0</td>\n      <td>1</td>\n      <td>...</td>\n      <td>576.0</td>\n      <td>474</td>\n      <td>0</td>\n      <td>0</td>\n      <td>0</td>\n      <td>0</td>\n      <td>0</td>\n      <td>0</td>\n      <td>9</td>\n      <td>2006</td>\n    </tr>\n    <tr>\n      <th>2917</th>\n      <td>0</td>\n      <td>0</td>\n      <td>0</td>\n      <td>1</td>\n      <td>0</td>\n      <td>1</td>\n      <td>0</td>\n      <td>0</td>\n      <td>0</td>\n      <td>1</td>\n      <td>...</td>\n      <td>0.0</td>\n      <td>80</td>\n      <td>32</td>\n      <td>0</td>\n      <td>0</td>\n      <td>0</td>\n      <td>0</td>\n      <td>700</td>\n      <td>7</td>\n      <td>2006</td>\n    </tr>\n    <tr>\n      <th>2918</th>\n      <td>0</td>\n      <td>0</td>\n      <td>0</td>\n      <td>1</td>\n      <td>0</td>\n      <td>1</td>\n      <td>0</td>\n      <td>0</td>\n      <td>0</td>\n      <td>1</td>\n      <td>...</td>\n      <td>650.0</td>\n      <td>190</td>\n      <td>48</td>\n      <td>0</td>\n      <td>0</td>\n      <td>0</td>\n      <td>0</td>\n      <td>0</td>\n      <td>11</td>\n      <td>2006</td>\n    </tr>\n  </tbody>\n</table>\n<p>1459 rows × 167 columns</p>\n</div>"
     },
     "execution_count": 98,
     "metadata": {},
     "output_type": "execute_result"
    }
   ],
   "source": [
    "real_test_data.drop(\"SalePrice\", axis=1, inplace=True)\n",
    "real_test_data"
   ],
   "metadata": {
    "collapsed": false,
    "pycharm": {
     "name": "#%%\n"
    }
   }
  },
  {
   "cell_type": "code",
   "execution_count": 99,
   "outputs": [
    {
     "data": {
      "text/plain": "      C (all)  FV  RH  RL  RM  Street  IR1  IR2  IR3  Reg  ...  GarageArea  \\\n0           0   0   0   1   0       1    0    0    0    1  ...       548.0   \n1           0   0   0   1   0       1    0    0    0    1  ...       460.0   \n2           0   0   0   1   0       1    1    0    0    0  ...       608.0   \n3           0   0   0   1   0       1    1    0    0    0  ...       642.0   \n4           0   0   0   1   0       1    1    0    0    0  ...       836.0   \n...       ...  ..  ..  ..  ..     ...  ...  ...  ...  ...  ...         ...   \n1455        0   0   0   1   0       1    0    0    0    1  ...       460.0   \n1456        0   0   0   1   0       1    0    0    0    1  ...       500.0   \n1457        0   0   0   1   0       1    0    0    0    1  ...       252.0   \n1458        0   0   0   1   0       1    0    0    0    1  ...       240.0   \n1459        0   0   0   1   0       1    0    0    0    1  ...       276.0   \n\n      WoodDeckSF  OpenPorchSF  EnclosedPorch  3SsnPorch  ScreenPorch  \\\n0              0           61              0          0            0   \n1            298            0              0          0            0   \n2              0           42              0          0            0   \n3              0           35            272          0            0   \n4            192           84              0          0            0   \n...          ...          ...            ...        ...          ...   \n1455           0           40              0          0            0   \n1456         349            0              0          0            0   \n1457           0           60              0          0            0   \n1458         366            0            112          0            0   \n1459         736           68              0          0            0   \n\n      PoolArea  MiscVal  MoSold  YrSold  \n0            0        0       2    2008  \n1            0        0       5    2007  \n2            0        0       9    2008  \n3            0        0       2    2006  \n4            0        0      12    2008  \n...        ...      ...     ...     ...  \n1455         0        0       8    2007  \n1456         0        0       2    2010  \n1457         0     2500       5    2010  \n1458         0        0       4    2010  \n1459         0        0       6    2008  \n\n[1460 rows x 167 columns]",
      "text/html": "<div>\n<style scoped>\n    .dataframe tbody tr th:only-of-type {\n        vertical-align: middle;\n    }\n\n    .dataframe tbody tr th {\n        vertical-align: top;\n    }\n\n    .dataframe thead th {\n        text-align: right;\n    }\n</style>\n<table border=\"1\" class=\"dataframe\">\n  <thead>\n    <tr style=\"text-align: right;\">\n      <th></th>\n      <th>C (all)</th>\n      <th>FV</th>\n      <th>RH</th>\n      <th>RL</th>\n      <th>RM</th>\n      <th>Street</th>\n      <th>IR1</th>\n      <th>IR2</th>\n      <th>IR3</th>\n      <th>Reg</th>\n      <th>...</th>\n      <th>GarageArea</th>\n      <th>WoodDeckSF</th>\n      <th>OpenPorchSF</th>\n      <th>EnclosedPorch</th>\n      <th>3SsnPorch</th>\n      <th>ScreenPorch</th>\n      <th>PoolArea</th>\n      <th>MiscVal</th>\n      <th>MoSold</th>\n      <th>YrSold</th>\n    </tr>\n  </thead>\n  <tbody>\n    <tr>\n      <th>0</th>\n      <td>0</td>\n      <td>0</td>\n      <td>0</td>\n      <td>1</td>\n      <td>0</td>\n      <td>1</td>\n      <td>0</td>\n      <td>0</td>\n      <td>0</td>\n      <td>1</td>\n      <td>...</td>\n      <td>548.0</td>\n      <td>0</td>\n      <td>61</td>\n      <td>0</td>\n      <td>0</td>\n      <td>0</td>\n      <td>0</td>\n      <td>0</td>\n      <td>2</td>\n      <td>2008</td>\n    </tr>\n    <tr>\n      <th>1</th>\n      <td>0</td>\n      <td>0</td>\n      <td>0</td>\n      <td>1</td>\n      <td>0</td>\n      <td>1</td>\n      <td>0</td>\n      <td>0</td>\n      <td>0</td>\n      <td>1</td>\n      <td>...</td>\n      <td>460.0</td>\n      <td>298</td>\n      <td>0</td>\n      <td>0</td>\n      <td>0</td>\n      <td>0</td>\n      <td>0</td>\n      <td>0</td>\n      <td>5</td>\n      <td>2007</td>\n    </tr>\n    <tr>\n      <th>2</th>\n      <td>0</td>\n      <td>0</td>\n      <td>0</td>\n      <td>1</td>\n      <td>0</td>\n      <td>1</td>\n      <td>1</td>\n      <td>0</td>\n      <td>0</td>\n      <td>0</td>\n      <td>...</td>\n      <td>608.0</td>\n      <td>0</td>\n      <td>42</td>\n      <td>0</td>\n      <td>0</td>\n      <td>0</td>\n      <td>0</td>\n      <td>0</td>\n      <td>9</td>\n      <td>2008</td>\n    </tr>\n    <tr>\n      <th>3</th>\n      <td>0</td>\n      <td>0</td>\n      <td>0</td>\n      <td>1</td>\n      <td>0</td>\n      <td>1</td>\n      <td>1</td>\n      <td>0</td>\n      <td>0</td>\n      <td>0</td>\n      <td>...</td>\n      <td>642.0</td>\n      <td>0</td>\n      <td>35</td>\n      <td>272</td>\n      <td>0</td>\n      <td>0</td>\n      <td>0</td>\n      <td>0</td>\n      <td>2</td>\n      <td>2006</td>\n    </tr>\n    <tr>\n      <th>4</th>\n      <td>0</td>\n      <td>0</td>\n      <td>0</td>\n      <td>1</td>\n      <td>0</td>\n      <td>1</td>\n      <td>1</td>\n      <td>0</td>\n      <td>0</td>\n      <td>0</td>\n      <td>...</td>\n      <td>836.0</td>\n      <td>192</td>\n      <td>84</td>\n      <td>0</td>\n      <td>0</td>\n      <td>0</td>\n      <td>0</td>\n      <td>0</td>\n      <td>12</td>\n      <td>2008</td>\n    </tr>\n    <tr>\n      <th>...</th>\n      <td>...</td>\n      <td>...</td>\n      <td>...</td>\n      <td>...</td>\n      <td>...</td>\n      <td>...</td>\n      <td>...</td>\n      <td>...</td>\n      <td>...</td>\n      <td>...</td>\n      <td>...</td>\n      <td>...</td>\n      <td>...</td>\n      <td>...</td>\n      <td>...</td>\n      <td>...</td>\n      <td>...</td>\n      <td>...</td>\n      <td>...</td>\n      <td>...</td>\n      <td>...</td>\n    </tr>\n    <tr>\n      <th>1455</th>\n      <td>0</td>\n      <td>0</td>\n      <td>0</td>\n      <td>1</td>\n      <td>0</td>\n      <td>1</td>\n      <td>0</td>\n      <td>0</td>\n      <td>0</td>\n      <td>1</td>\n      <td>...</td>\n      <td>460.0</td>\n      <td>0</td>\n      <td>40</td>\n      <td>0</td>\n      <td>0</td>\n      <td>0</td>\n      <td>0</td>\n      <td>0</td>\n      <td>8</td>\n      <td>2007</td>\n    </tr>\n    <tr>\n      <th>1456</th>\n      <td>0</td>\n      <td>0</td>\n      <td>0</td>\n      <td>1</td>\n      <td>0</td>\n      <td>1</td>\n      <td>0</td>\n      <td>0</td>\n      <td>0</td>\n      <td>1</td>\n      <td>...</td>\n      <td>500.0</td>\n      <td>349</td>\n      <td>0</td>\n      <td>0</td>\n      <td>0</td>\n      <td>0</td>\n      <td>0</td>\n      <td>0</td>\n      <td>2</td>\n      <td>2010</td>\n    </tr>\n    <tr>\n      <th>1457</th>\n      <td>0</td>\n      <td>0</td>\n      <td>0</td>\n      <td>1</td>\n      <td>0</td>\n      <td>1</td>\n      <td>0</td>\n      <td>0</td>\n      <td>0</td>\n      <td>1</td>\n      <td>...</td>\n      <td>252.0</td>\n      <td>0</td>\n      <td>60</td>\n      <td>0</td>\n      <td>0</td>\n      <td>0</td>\n      <td>0</td>\n      <td>2500</td>\n      <td>5</td>\n      <td>2010</td>\n    </tr>\n    <tr>\n      <th>1458</th>\n      <td>0</td>\n      <td>0</td>\n      <td>0</td>\n      <td>1</td>\n      <td>0</td>\n      <td>1</td>\n      <td>0</td>\n      <td>0</td>\n      <td>0</td>\n      <td>1</td>\n      <td>...</td>\n      <td>240.0</td>\n      <td>366</td>\n      <td>0</td>\n      <td>112</td>\n      <td>0</td>\n      <td>0</td>\n      <td>0</td>\n      <td>0</td>\n      <td>4</td>\n      <td>2010</td>\n    </tr>\n    <tr>\n      <th>1459</th>\n      <td>0</td>\n      <td>0</td>\n      <td>0</td>\n      <td>1</td>\n      <td>0</td>\n      <td>1</td>\n      <td>0</td>\n      <td>0</td>\n      <td>0</td>\n      <td>1</td>\n      <td>...</td>\n      <td>276.0</td>\n      <td>736</td>\n      <td>68</td>\n      <td>0</td>\n      <td>0</td>\n      <td>0</td>\n      <td>0</td>\n      <td>0</td>\n      <td>6</td>\n      <td>2008</td>\n    </tr>\n  </tbody>\n</table>\n<p>1460 rows × 167 columns</p>\n</div>"
     },
     "execution_count": 99,
     "metadata": {},
     "output_type": "execute_result"
    }
   ],
   "source": [
    "X = final.iloc[:, 0:-1]\n",
    "y = final.iloc[:, -1]\n",
    "X"
   ],
   "metadata": {
    "collapsed": false,
    "pycharm": {
     "name": "#%%\n"
    }
   }
  },
  {
   "cell_type": "code",
   "execution_count": 100,
   "outputs": [
    {
     "data": {
      "text/plain": "0       208500.0\n1       181500.0\n2       223500.0\n3       140000.0\n4       250000.0\n          ...   \n1455    175000.0\n1456    210000.0\n1457    266500.0\n1458    142125.0\n1459    147500.0\nName: SalePrice, Length: 1460, dtype: float64"
     },
     "execution_count": 100,
     "metadata": {},
     "output_type": "execute_result"
    }
   ],
   "source": [
    "y"
   ],
   "metadata": {
    "collapsed": false,
    "pycharm": {
     "name": "#%%\n"
    }
   }
  },
  {
   "cell_type": "code",
   "execution_count": 111,
   "outputs": [
    {
     "name": "stderr",
     "output_type": "stream",
     "text": [
      "C:\\Users\\Gufran bhatti\\AppData\\Local\\Programs\\Python\\Python310\\lib\\site-packages\\sklearn\\utils\\validation.py:1858: FutureWarning: Feature names only support names that are all strings. Got feature names with dtypes: ['int', 'str']. An error will be raised in 1.2.\n",
      "  warnings.warn(\n"
     ]
    },
    {
     "name": "stdout",
     "output_type": "stream",
     "text": [
      "Index([            'RL',             'RM',            'IR1',            'Reg',\n",
      "       'Neighborhood_1', 'Neighborhood_4',  'Exterior1st_2',  'Exterior1st_3',\n",
      "        'Exterior2nd_3',  'Exterior2nd_4',   'MasVnrType_1',   'MasVnrType_2',\n",
      "                   'Ex',             'Gd',             'TA',   'Foundation_1',\n",
      "         'Foundation_2',     'BsmtQual_1',     'BsmtQual_2', 'BsmtExposure_2',\n",
      "       'BsmtFinType1_0', 'BsmtFinType1_2',    'HeatingQC_1',    'HeatingQC_2',\n",
      "         'Electrical_1',  'KitchenQual_1',  'KitchenQual_2',  'FireplaceQu_1',\n",
      "        'FireplaceQu_2',   'GarageType_1',   'GarageType_2',                0,\n",
      "                      1,                2,     'SaleType_2',     'SaleType_3',\n",
      "           'MSSubClass',    'LotFrontage',        'LotArea',    'OverallQual',\n",
      "          'OverallCond',      'YearBuilt',   'YearRemodAdd',     'MasVnrArea',\n",
      "           'BsmtFinSF1',      'BsmtUnfSF',    'TotalBsmtSF',       '1stFlrSF',\n",
      "             '2ndFlrSF',      'GrLivArea',       'FullBath',       'HalfBath',\n",
      "         'BedroomAbvGr',   'TotRmsAbvGrd',     'Fireplaces',    'GarageYrBlt',\n",
      "           'GarageCars',     'GarageArea',     'WoodDeckSF',    'OpenPorchSF'],\n",
      "      dtype='object')\n"
     ]
    },
    {
     "name": "stderr",
     "output_type": "stream",
     "text": [
      "C:\\Users\\Gufran bhatti\\AppData\\Local\\Programs\\Python\\Python310\\lib\\site-packages\\sklearn\\utils\\validation.py:1858: FutureWarning: Feature names only support names that are all strings. Got feature names with dtypes: ['int', 'str']. An error will be raised in 1.2.\n",
      "  warnings.warn(\n"
     ]
    }
   ],
   "source": [
    "from sklearn.feature_selection import SelectKBest\n",
    "from sklearn.feature_selection import f_regression, mutual_info_regression\n",
    "\n",
    "# Select the top 30 features using mutual_info_regression as the scoring function\n",
    "selector = SelectKBest(score_func=mutual_info_regression, k=60)\n",
    "X_new = selector.fit_transform(X, y)\n",
    "\n",
    "# Get the indices of the selected features\n",
    "selected_features = selector.get_support(indices=True)\n",
    "\n",
    "# Print the names of the selected features\n",
    "print(X.columns[selected_features])"
   ],
   "metadata": {
    "collapsed": false,
    "pycharm": {
     "name": "#%%\n"
    }
   }
  },
  {
   "cell_type": "markdown",
   "source": [
    "#DNN Implementation"
   ],
   "metadata": {
    "collapsed": false,
    "pycharm": {
     "name": "#%% md\n"
    }
   }
  },
  {
   "cell_type": "code",
   "execution_count": 113,
   "outputs": [
    {
     "name": "stderr",
     "output_type": "stream",
     "text": [
      "C:\\Users\\Gufran bhatti\\AppData\\Local\\Programs\\Python\\Python310\\lib\\site-packages\\keras\\engine\\data_adapter.py:1699: FutureWarning: The behavior of `series[i:j]` with an integer-dtype index is deprecated. In a future version, this will be treated as *label-based* indexing, consistent with e.g. `series[i]` lookups. To retain the old behavior, use `series.iloc[i:j]`. To get the future behavior, use `series.loc[i:j]`.\n",
      "  return t[start:end]\n"
     ]
    },
    {
     "name": "stdout",
     "output_type": "stream",
     "text": [
      "Epoch 1/100\n",
      "30/30 [==============================] - 13s 213ms/step - loss: 39146094592.0000 - val_loss: 37839872000.0000\n",
      "Epoch 2/100\n",
      "30/30 [==============================] - 5s 166ms/step - loss: 39142678528.0000 - val_loss: 37835329536.0000\n",
      "Epoch 3/100\n",
      "30/30 [==============================] - 5s 182ms/step - loss: 39137300480.0000 - val_loss: 37829292032.0000\n",
      "Epoch 4/100\n",
      "30/30 [==============================] - 5s 176ms/step - loss: 39130677248.0000 - val_loss: 37821550592.0000\n",
      "Epoch 5/100\n",
      "30/30 [==============================] - 5s 170ms/step - loss: 39121866752.0000 - val_loss: 37811658752.0000\n",
      "Epoch 6/100\n",
      "30/30 [==============================] - 6s 185ms/step - loss: 39110594560.0000 - val_loss: 37799448576.0000\n",
      "Epoch 7/100\n",
      "30/30 [==============================] - 5s 179ms/step - loss: 39097384960.0000 - val_loss: 37785112576.0000\n",
      "Epoch 8/100\n",
      "30/30 [==============================] - 5s 167ms/step - loss: 39082815488.0000 - val_loss: 37768822784.0000\n",
      "Epoch 9/100\n",
      "30/30 [==============================] - 5s 166ms/step - loss: 39064731648.0000 - val_loss: 37750362112.0000\n",
      "Epoch 10/100\n",
      "30/30 [==============================] - 5s 165ms/step - loss: 39045836800.0000 - val_loss: 37729800192.0000\n",
      "Epoch 11/100\n",
      "30/30 [==============================] - 5s 175ms/step - loss: 39023710208.0000 - val_loss: 37707599872.0000\n",
      "Epoch 12/100\n",
      "30/30 [==============================] - 6s 188ms/step - loss: 38999511040.0000 - val_loss: 37682778112.0000\n",
      "Epoch 13/100\n",
      "30/30 [==============================] - 6s 186ms/step - loss: 38974550016.0000 - val_loss: 37656244224.0000\n",
      "Epoch 14/100\n",
      "30/30 [==============================] - 6s 188ms/step - loss: 38948560896.0000 - val_loss: 37627715584.0000\n",
      "Epoch 15/100\n",
      "30/30 [==============================] - 5s 179ms/step - loss: 38917914624.0000 - val_loss: 37597483008.0000\n",
      "Epoch 16/100\n",
      "30/30 [==============================] - 7s 228ms/step - loss: 38888202240.0000 - val_loss: 37565136896.0000\n",
      "Epoch 17/100\n",
      "30/30 [==============================] - 5s 182ms/step - loss: 38851620864.0000 - val_loss: 37530734592.0000\n",
      "Epoch 18/100\n",
      "30/30 [==============================] - 6s 198ms/step - loss: 38818721792.0000 - val_loss: 37494464512.0000\n",
      "Epoch 19/100\n",
      "30/30 [==============================] - 6s 204ms/step - loss: 38780690432.0000 - val_loss: 37456125952.0000\n",
      "Epoch 20/100\n",
      "30/30 [==============================] - 6s 193ms/step - loss: 38740332544.0000 - val_loss: 37415927808.0000\n",
      "Epoch 21/100\n",
      "30/30 [==============================] - 6s 204ms/step - loss: 38700793856.0000 - val_loss: 37374783488.0000\n",
      "Epoch 22/100\n",
      "30/30 [==============================] - 6s 189ms/step - loss: 38660743168.0000 - val_loss: 37331709952.0000\n",
      "Epoch 23/100\n",
      "30/30 [==============================] - 6s 210ms/step - loss: 38610014208.0000 - val_loss: 37286465536.0000\n",
      "Epoch 24/100\n",
      "30/30 [==============================] - 6s 188ms/step - loss: 38566064128.0000 - val_loss: 37239709696.0000\n",
      "Epoch 25/100\n",
      "30/30 [==============================] - 5s 183ms/step - loss: 38520717312.0000 - val_loss: 37190926336.0000\n",
      "Epoch 26/100\n",
      "30/30 [==============================] - 6s 199ms/step - loss: 38474149888.0000 - val_loss: 37140905984.0000\n",
      "Epoch 27/100\n",
      "30/30 [==============================] - 6s 197ms/step - loss: 38423736320.0000 - val_loss: 37088956416.0000\n",
      "Epoch 28/100\n",
      "30/30 [==============================] - 6s 187ms/step - loss: 38367051776.0000 - val_loss: 37035167744.0000\n",
      "Epoch 29/100\n",
      "30/30 [==============================] - 6s 207ms/step - loss: 38311907328.0000 - val_loss: 36979306496.0000\n",
      "Epoch 30/100\n",
      "30/30 [==============================] - 5s 182ms/step - loss: 38249848832.0000 - val_loss: 36921106432.0000\n",
      "Epoch 31/100\n",
      "30/30 [==============================] - 5s 181ms/step - loss: 38195683328.0000 - val_loss: 36861358080.0000\n",
      "Epoch 32/100\n",
      "30/30 [==============================] - 6s 184ms/step - loss: 38125051904.0000 - val_loss: 36799102976.0000\n",
      "Epoch 33/100\n",
      "30/30 [==============================] - 5s 178ms/step - loss: 38077177856.0000 - val_loss: 36736409600.0000\n",
      "Epoch 34/100\n",
      "30/30 [==============================] - 6s 203ms/step - loss: 38005329920.0000 - val_loss: 36672401408.0000\n",
      "Epoch 35/100\n",
      "30/30 [==============================] - 6s 205ms/step - loss: 37939941376.0000 - val_loss: 36606418944.0000\n",
      "Epoch 36/100\n",
      "30/30 [==============================] - 6s 201ms/step - loss: 37881991168.0000 - val_loss: 36538511360.0000\n",
      "Epoch 37/100\n",
      "30/30 [==============================] - 6s 192ms/step - loss: 37809090560.0000 - val_loss: 36470063104.0000\n",
      "Epoch 38/100\n",
      "30/30 [==============================] - 6s 196ms/step - loss: 37734424576.0000 - val_loss: 36399677440.0000\n",
      "Epoch 39/100\n",
      "30/30 [==============================] - 6s 190ms/step - loss: 37666119680.0000 - val_loss: 36326633472.0000\n",
      "Epoch 40/100\n",
      "30/30 [==============================] - 6s 191ms/step - loss: 37596815360.0000 - val_loss: 36254199808.0000\n",
      "Epoch 41/100\n",
      "30/30 [==============================] - 5s 174ms/step - loss: 37525282816.0000 - val_loss: 36178808832.0000\n",
      "Epoch 42/100\n",
      "30/30 [==============================] - 6s 189ms/step - loss: 37430226944.0000 - val_loss: 36102885376.0000\n",
      "Epoch 43/100\n",
      "30/30 [==============================] - 7s 230ms/step - loss: 37368987648.0000 - val_loss: 36024582144.0000\n",
      "Epoch 44/100\n",
      "30/30 [==============================] - 9s 290ms/step - loss: 37276917760.0000 - val_loss: 35945893888.0000\n",
      "Epoch 45/100\n",
      "30/30 [==============================] - 8s 253ms/step - loss: 37213392896.0000 - val_loss: 35865845760.0000\n",
      "Epoch 46/100\n",
      "30/30 [==============================] - 6s 187ms/step - loss: 37125423104.0000 - val_loss: 35783860224.0000\n",
      "Epoch 47/100\n",
      "30/30 [==============================] - 5s 183ms/step - loss: 37043183616.0000 - val_loss: 35700666368.0000\n",
      "Epoch 48/100\n",
      "30/30 [==============================] - 5s 172ms/step - loss: 36960497664.0000 - val_loss: 35616317440.0000\n",
      "Epoch 49/100\n",
      "30/30 [==============================] - 6s 187ms/step - loss: 36862357504.0000 - val_loss: 35531227136.0000\n",
      "Epoch 50/100\n",
      "30/30 [==============================] - 5s 181ms/step - loss: 36805218304.0000 - val_loss: 35444678656.0000\n",
      "Epoch 51/100\n",
      "30/30 [==============================] - 5s 181ms/step - loss: 36713795584.0000 - val_loss: 35357679616.0000\n",
      "Epoch 52/100\n",
      "30/30 [==============================] - 6s 193ms/step - loss: 36607078400.0000 - val_loss: 35268022272.0000\n",
      "Epoch 53/100\n",
      "30/30 [==============================] - 6s 210ms/step - loss: 36524646400.0000 - val_loss: 35178029056.0000\n",
      "Epoch 54/100\n",
      "30/30 [==============================] - 5s 169ms/step - loss: 36440645632.0000 - val_loss: 35087314944.0000\n",
      "Epoch 55/100\n",
      "30/30 [==============================] - 5s 168ms/step - loss: 36353368064.0000 - val_loss: 34993639424.0000\n",
      "Epoch 56/100\n",
      "30/30 [==============================] - 6s 177ms/step - loss: 36268036096.0000 - val_loss: 34900701184.0000\n",
      "Epoch 57/100\n",
      "30/30 [==============================] - 5s 171ms/step - loss: 36157591552.0000 - val_loss: 34806333440.0000\n",
      "Epoch 58/100\n",
      "30/30 [==============================] - 7s 229ms/step - loss: 36070014976.0000 - val_loss: 34710884352.0000\n",
      "Epoch 59/100\n",
      "30/30 [==============================] - 6s 181ms/step - loss: 35932557312.0000 - val_loss: 34613637120.0000\n",
      "Epoch 60/100\n",
      "30/30 [==============================] - 5s 158ms/step - loss: 35886272512.0000 - val_loss: 34517151744.0000\n",
      "Epoch 61/100\n",
      "30/30 [==============================] - 5s 176ms/step - loss: 35775750144.0000 - val_loss: 34418106368.0000\n",
      "Epoch 62/100\n",
      "30/30 [==============================] - 5s 158ms/step - loss: 35644334080.0000 - val_loss: 34318739456.0000\n",
      "Epoch 63/100\n",
      "30/30 [==============================] - 5s 162ms/step - loss: 35550785536.0000 - val_loss: 34217052160.0000\n",
      "Epoch 64/100\n",
      "30/30 [==============================] - 5s 159ms/step - loss: 35470626816.0000 - val_loss: 34115981312.0000\n",
      "Epoch 65/100\n",
      "30/30 [==============================] - 5s 158ms/step - loss: 35385667584.0000 - val_loss: 34013626368.0000\n",
      "Epoch 66/100\n",
      "30/30 [==============================] - 5s 163ms/step - loss: 35244863488.0000 - val_loss: 33909751808.0000\n",
      "Epoch 67/100\n",
      "30/30 [==============================] - 5s 160ms/step - loss: 35169824768.0000 - val_loss: 33806333952.0000\n",
      "Epoch 68/100\n",
      "30/30 [==============================] - 5s 162ms/step - loss: 35089756160.0000 - val_loss: 33702064128.0000\n",
      "Epoch 69/100\n",
      "30/30 [==============================] - 5s 156ms/step - loss: 34946875392.0000 - val_loss: 33595951104.0000\n",
      "Epoch 70/100\n",
      "30/30 [==============================] - 5s 160ms/step - loss: 34816532480.0000 - val_loss: 33488715776.0000\n",
      "Epoch 71/100\n",
      "30/30 [==============================] - 5s 162ms/step - loss: 34741522432.0000 - val_loss: 33380259840.0000\n",
      "Epoch 72/100\n",
      "30/30 [==============================] - 5s 157ms/step - loss: 34629939200.0000 - val_loss: 33271504896.0000\n",
      "Epoch 73/100\n",
      "30/30 [==============================] - 5s 175ms/step - loss: 34517901312.0000 - val_loss: 33161543680.0000\n",
      "Epoch 74/100\n",
      "30/30 [==============================] - 5s 179ms/step - loss: 34440425472.0000 - val_loss: 33053024256.0000\n",
      "Epoch 75/100\n",
      "30/30 [==============================] - 5s 174ms/step - loss: 34259216384.0000 - val_loss: 32941588480.0000\n",
      "Epoch 76/100\n",
      "30/30 [==============================] - 6s 186ms/step - loss: 34160629760.0000 - val_loss: 32829513728.0000\n",
      "Epoch 77/100\n",
      "30/30 [==============================] - 5s 176ms/step - loss: 34069872640.0000 - val_loss: 32716699648.0000\n",
      "Epoch 78/100\n",
      "30/30 [==============================] - 5s 183ms/step - loss: 33918679040.0000 - val_loss: 32602802176.0000\n",
      "Epoch 79/100\n",
      "30/30 [==============================] - 5s 181ms/step - loss: 33857492992.0000 - val_loss: 32489039872.0000\n",
      "Epoch 80/100\n",
      "30/30 [==============================] - 5s 177ms/step - loss: 33727438848.0000 - val_loss: 32375046144.0000\n",
      "Epoch 81/100\n",
      "30/30 [==============================] - 6s 184ms/step - loss: 33637576704.0000 - val_loss: 32259244032.0000\n",
      "Epoch 82/100\n",
      "30/30 [==============================] - 5s 167ms/step - loss: 33496711168.0000 - val_loss: 32143540224.0000\n",
      "Epoch 83/100\n",
      "30/30 [==============================] - 5s 160ms/step - loss: 33382983680.0000 - val_loss: 32025931776.0000\n",
      "Epoch 84/100\n",
      "30/30 [==============================] - 5s 158ms/step - loss: 33245657088.0000 - val_loss: 31907450880.0000\n",
      "Epoch 85/100\n",
      "30/30 [==============================] - 5s 157ms/step - loss: 33146759168.0000 - val_loss: 31789496320.0000\n",
      "Epoch 86/100\n",
      "30/30 [==============================] - 6s 197ms/step - loss: 33008539648.0000 - val_loss: 31671552000.0000\n",
      "Epoch 87/100\n",
      "30/30 [==============================] - 5s 163ms/step - loss: 32920881152.0000 - val_loss: 31550296064.0000\n",
      "Epoch 88/100\n",
      "30/30 [==============================] - 5s 165ms/step - loss: 32826157056.0000 - val_loss: 31430746112.0000\n",
      "Epoch 89/100\n",
      "30/30 [==============================] - 5s 173ms/step - loss: 32681613312.0000 - val_loss: 31310090240.0000\n",
      "Epoch 90/100\n",
      "30/30 [==============================] - 5s 170ms/step - loss: 32512372736.0000 - val_loss: 31189460992.0000\n",
      "Epoch 91/100\n",
      "30/30 [==============================] - 5s 163ms/step - loss: 32426121216.0000 - val_loss: 31066499072.0000\n",
      "Epoch 92/100\n",
      "30/30 [==============================] - 5s 155ms/step - loss: 32298414080.0000 - val_loss: 30943547392.0000\n",
      "Epoch 93/100\n",
      "30/30 [==============================] - 5s 165ms/step - loss: 32191979520.0000 - val_loss: 30819594240.0000\n",
      "Epoch 94/100\n",
      "30/30 [==============================] - 5s 163ms/step - loss: 32036290560.0000 - val_loss: 30694590464.0000\n",
      "Epoch 95/100\n",
      "30/30 [==============================] - 7s 229ms/step - loss: 31949578240.0000 - val_loss: 30570543104.0000\n",
      "Epoch 96/100\n",
      "30/30 [==============================] - 6s 193ms/step - loss: 31769194496.0000 - val_loss: 30445801472.0000\n",
      "Epoch 97/100\n",
      "30/30 [==============================] - 5s 174ms/step - loss: 31675234304.0000 - val_loss: 30320187392.0000\n",
      "Epoch 98/100\n",
      "30/30 [==============================] - 6s 193ms/step - loss: 31622901760.0000 - val_loss: 30195097600.0000\n",
      "Epoch 99/100\n",
      "30/30 [==============================] - 6s 198ms/step - loss: 31412658176.0000 - val_loss: 30070347776.0000\n",
      "Epoch 100/100\n",
      "30/30 [==============================] - 6s 188ms/step - loss: 31316994048.0000 - val_loss: 29942476800.0000\n"
     ]
    },
    {
     "data": {
      "text/plain": "<keras.callbacks.History at 0x20e9d0af940>"
     },
     "execution_count": 113,
     "metadata": {},
     "output_type": "execute_result"
    }
   ],
   "source": [
    "from keras import Input, Model\n",
    "from sklearn.model_selection import train_test_split\n",
    "from keras.layers import LSTM, Dropout, Dense\n",
    "\n",
    "# Split the data into training and test sets\n",
    "X_train, X_test, y_train, y_test = train_test_split(X, y, test_size=0.2, random_state=42)\n",
    "\n",
    "\n",
    "\n",
    "# Input layer\n",
    "input_layer = Input(shape=(167,1))\n",
    "\n",
    "# LSTM layer\n",
    "x = LSTM(64, return_sequences=True)(input_layer)\n",
    "x = Dropout(0.2)(x)\n",
    "x = LSTM(32)(x)\n",
    "x = Dropout(0.2)(x)\n",
    "\n",
    "# Dense layer\n",
    "x = Dense(64, activation='relu')(x)\n",
    "x = Dropout(0.2)(x)\n",
    "\n",
    "# Output layer\n",
    "output_layer = Dense(1)(x)\n",
    "\n",
    "# Create the model\n",
    "model = Model(inputs=input_layer, outputs=output_layer)\n",
    "\n",
    "# Compile the model\n",
    "model.compile(optimizer='adam', loss='mean_squared_error')\n",
    "\n",
    "# Fit the model to the data\n",
    "model.fit(X_train, y_train, epochs=100, batch_size=32, validation_split=0.2)"
   ],
   "metadata": {
    "collapsed": false,
    "pycharm": {
     "name": "#%%\n"
    }
   }
  },
  {
   "cell_type": "markdown",
   "source": [
    "#RFR with GridSearch"
   ],
   "metadata": {
    "collapsed": false,
    "pycharm": {
     "name": "#%% md\n"
    }
   }
  },
  {
   "cell_type": "code",
   "execution_count": 101,
   "outputs": [
    {
     "name": "stderr",
     "output_type": "stream",
     "text": [
      "C:\\Users\\Gufran bhatti\\AppData\\Local\\Programs\\Python\\Python310\\lib\\site-packages\\sklearn\\utils\\validation.py:1858: FutureWarning: Feature names only support names that are all strings. Got feature names with dtypes: ['int', 'str']. An error will be raised in 1.2.\n",
      "  warnings.warn(\n"
     ]
    },
    {
     "name": "stdout",
     "output_type": "stream",
     "text": [
      "Best parameters: {'max_depth': None, 'min_samples_leaf': 1, 'min_samples_split': 5, 'n_estimators': 50}\n",
      "Best score: 0.8585541877234111\n"
     ]
    }
   ],
   "source": [
    "from sklearn.ensemble import RandomForestRegressor\n",
    "from sklearn.model_selection import GridSearchCV\n",
    "\n",
    "# Define the parameter grid\n",
    "param_grid = {'n_estimators': [50, 100, 200],\n",
    "              'max_depth': [3, 5, 7, None],\n",
    "              'min_samples_split': [2, 5, 10],\n",
    "              'min_samples_leaf': [1, 2, 4]}\n",
    "\n",
    "# Initialize the model\n",
    "rf = RandomForestRegressor()\n",
    "\n",
    "# Perform the grid search\n",
    "grid_search = GridSearchCV(rf, param_grid, cv=5, n_jobs=-1)\n",
    "grid_search.fit(X, y)\n",
    "\n",
    "# Print the best parameters and the best score\n",
    "print(\"Best parameters:\", grid_search.best_params_)\n",
    "print(\"Best score:\", grid_search.best_score_)"
   ],
   "metadata": {
    "collapsed": false,
    "pycharm": {
     "name": "#%%\n"
    }
   }
  },
  {
   "cell_type": "code",
   "execution_count": 101,
   "outputs": [
    {
     "name": "stderr",
     "output_type": "stream",
     "text": [
      "C:\\Users\\Gufran bhatti\\AppData\\Local\\Programs\\Python\\Python310\\lib\\site-packages\\sklearn\\utils\\validation.py:1858: FutureWarning: Feature names only support names that are all strings. Got feature names with dtypes: ['int', 'str']. An error will be raised in 1.2.\n",
      "  warnings.warn(\n"
     ]
    },
    {
     "name": "stdout",
     "output_type": "stream",
     "text": [
      "Index([            'RL',             'RM',            'IR1',            'Reg',\n",
      "       'Neighborhood_1', 'Neighborhood_4',  'Exterior1st_2',  'Exterior1st_3',\n",
      "        'Exterior2nd_2',  'Exterior2nd_3',   'MasVnrType_2',             'Ex',\n",
      "                   'Gd',             'TA',   'Foundation_1',   'Foundation_2',\n",
      "           'BsmtQual_1',     'BsmtQual_2', 'BsmtFinType1_0', 'BsmtFinType1_1',\n",
      "          'HeatingQC_1',    'HeatingQC_2',     'CentralAir',   'Electrical_1',\n",
      "        'KitchenQual_1',  'KitchenQual_2',  'FireplaceQu_1',  'FireplaceQu_2',\n",
      "         'GarageType_1',   'GarageType_2',                0,                1,\n",
      "                      2,  'PavedDrive_03',     'SaleType_2',     'SaleType_3',\n",
      "           'MSSubClass',    'LotFrontage',        'LotArea',    'OverallQual',\n",
      "          'OverallCond',      'YearBuilt',   'YearRemodAdd',     'MasVnrArea',\n",
      "           'BsmtFinSF1',      'BsmtUnfSF',    'TotalBsmtSF',       '1stFlrSF',\n",
      "             '2ndFlrSF',      'GrLivArea',       'FullBath',       'HalfBath',\n",
      "         'BedroomAbvGr',   'TotRmsAbvGrd',     'Fireplaces',    'GarageYrBlt',\n",
      "           'GarageCars',     'GarageArea',     'WoodDeckSF',    'OpenPorchSF'],\n",
      "      dtype='object')\n"
     ]
    },
    {
     "name": "stderr",
     "output_type": "stream",
     "text": [
      "C:\\Users\\Gufran bhatti\\AppData\\Local\\Programs\\Python\\Python310\\lib\\site-packages\\sklearn\\utils\\validation.py:1858: FutureWarning: Feature names only support names that are all strings. Got feature names with dtypes: ['int', 'str']. An error will be raised in 1.2.\n",
      "  warnings.warn(\n"
     ]
    }
   ],
   "source": [
    "from sklearn.feature_selection import SelectKBest\n",
    "from sklearn.feature_selection import f_regression, mutual_info_regression\n",
    "\n",
    "# Select the top 30 features using mutual_info_regression as the scoring function\n",
    "selector = SelectKBest(score_func=mutual_info_regression, k=60)\n",
    "X_new = selector.fit_transform(X, y)\n",
    "\n",
    "# Get the indices of the selected features\n",
    "selected_features = selector.get_support(indices=True)\n",
    "\n",
    "# Print the names of the selected features\n",
    "print(X.columns[selected_features])"
   ],
   "metadata": {
    "collapsed": false,
    "pycharm": {
     "name": "#%%\n"
    }
   }
  },
  {
   "cell_type": "code",
   "execution_count": 103,
   "outputs": [
    {
     "data": {
      "text/plain": "array([[  1.,   0.,   0., ..., 548.,   0.,  61.],\n       [  1.,   0.,   0., ..., 460., 298.,   0.],\n       [  1.,   0.,   1., ..., 608.,   0.,  42.],\n       ...,\n       [  1.,   0.,   0., ..., 252.,   0.,  60.],\n       [  1.,   0.,   0., ..., 240., 366.,   0.],\n       [  1.,   0.,   0., ..., 276., 736.,  68.]])"
     },
     "execution_count": 103,
     "metadata": {},
     "output_type": "execute_result"
    }
   ],
   "source": [
    "X_new"
   ],
   "metadata": {
    "collapsed": false,
    "pycharm": {
     "name": "#%%\n"
    }
   }
  },
  {
   "cell_type": "code",
   "execution_count": 107,
   "outputs": [
    {
     "name": "stderr",
     "output_type": "stream",
     "text": [
      "C:\\Users\\Gufran bhatti\\AppData\\Local\\Programs\\Python\\Python310\\lib\\site-packages\\sklearn\\utils\\validation.py:1858: FutureWarning: Feature names only support names that are all strings. Got feature names with dtypes: ['int', 'str']. An error will be raised in 1.2.\n",
      "  warnings.warn(\n"
     ]
    }
   ],
   "source": [
    "from sklearn.model_selection import train_test_split\n",
    "\n",
    "# Split the data into training and test sets\n",
    "X_train, X_test, y_train, y_test = train_test_split(X_new, y, test_size=0.2, random_state=42)\n",
    "\n",
    "# Use the best parameters obtained from hyperparameter tuning to train the final model\n",
    "final_model = RandomForestRegressor(**grid_search.best_params_)\n",
    "final_model.fit(X_train, y_train)\n",
    "\n",
    "real_test_data = real_test_data.iloc[:, selected_features]\n",
    "\n",
    "# Make predictions on the test set\n",
    "test_predictions = final_model.predict(real_test_data)\n",
    "\n",
    "# Prepare the submission file\n",
    "sub = pd.read_csv('sample_submission.csv')\n",
    "submission = pd.DataFrame({\n",
    "    \"Id\": sub[\"Id\"],\n",
    "    \"SalePrice\": test_predictions\n",
    "})\n",
    "submission.to_csv('submission1.csv', index=False)"
   ],
   "metadata": {
    "collapsed": false,
    "pycharm": {
     "name": "#%%\n"
    }
   }
  },
  {
   "cell_type": "markdown",
   "source": [
    "#RF with RandomizeSearch"
   ],
   "metadata": {
    "collapsed": false,
    "pycharm": {
     "name": "#%% md\n"
    }
   }
  },
  {
   "cell_type": "code",
   "execution_count": 109,
   "outputs": [
    {
     "name": "stderr",
     "output_type": "stream",
     "text": [
      "C:\\Users\\Gufran bhatti\\AppData\\Local\\Programs\\Python\\Python310\\lib\\site-packages\\sklearn\\utils\\validation.py:1858: FutureWarning: Feature names only support names that are all strings. Got feature names with dtypes: ['int', 'str']. An error will be raised in 1.2.\n",
      "  warnings.warn(\n"
     ]
    },
    {
     "name": "stdout",
     "output_type": "stream",
     "text": [
      "Best parameters: {'n_estimators': 150, 'min_samples_split': 2, 'min_samples_leaf': 3, 'max_depth': None}\n",
      "Best score: 0.8517910801450899\n"
     ]
    }
   ],
   "source": [
    "from sklearn.model_selection import RandomizedSearchCV\n",
    "\n",
    "# Define the parameter grid\n",
    "param_grid = {'n_estimators': np.arange(50, 201, 50),\n",
    "              'max_depth': [3, 5, 7, None],\n",
    "              'min_samples_split': np.arange(2, 11, 2),\n",
    "              'min_samples_leaf': np.arange(1, 5, 1)}\n",
    "\n",
    "# Initialize the model\n",
    "rf = RandomForestRegressor()\n",
    "\n",
    "# Perform the random search\n",
    "random_search = RandomizedSearchCV(rf, param_grid, cv=5, n_jobs=-1, n_iter=20)\n",
    "random_search.fit(X, y)\n",
    "\n",
    "# Print the best parameters and the best score\n",
    "print(\"Best parameters:\", random_search.best_params_)\n",
    "print(\"Best score:\", random_search.best_score_)"
   ],
   "metadata": {
    "collapsed": false,
    "pycharm": {
     "name": "#%%\n"
    }
   }
  },
  {
   "cell_type": "code",
   "execution_count": 111,
   "outputs": [
    {
     "name": "stderr",
     "output_type": "stream",
     "text": [
      "C:\\Users\\Gufran bhatti\\AppData\\Local\\Programs\\Python\\Python310\\lib\\site-packages\\sklearn\\utils\\validation.py:1858: FutureWarning: Feature names only support names that are all strings. Got feature names with dtypes: ['int', 'str']. An error will be raised in 1.2.\n",
      "  warnings.warn(\n"
     ]
    }
   ],
   "source": [
    "# Use the best parameters obtained from random search to train the final model\n",
    "final_model = RandomForestRegressor(**random_search.best_params_)\n",
    "final_model.fit(X_train, y_train)\n",
    "\n",
    "# Make predictions on the test set\n",
    "test_predictions = final_model.predict(real_test_data)\n",
    "\n",
    "# Prepare the submission file\n",
    "sub = pd.read_csv('sample_submission.csv')\n",
    "submission = pd.DataFrame({\n",
    "    \"Id\": sub[\"Id\"],\n",
    "    \"SalePrice\": test_predictions\n",
    "})\n",
    "submission.to_csv('submission2.csv', index=False)"
   ],
   "metadata": {
    "collapsed": false,
    "pycharm": {
     "name": "#%%\n"
    }
   }
  },
  {
   "cell_type": "markdown",
   "source": [
    "#Random Forest"
   ],
   "metadata": {
    "collapsed": false,
    "pycharm": {
     "name": "#%% md\n"
    }
   }
  },
  {
   "cell_type": "code",
   "execution_count": 907,
   "outputs": [
    {
     "name": "stdout",
     "output_type": "stream",
     "text": [
      "R^2:  0.8945264657685034\n"
     ]
    }
   ],
   "source": [
    "from sklearn.ensemble import RandomForestRegressor\n",
    "\n",
    "# Split the data into training and test sets\n",
    "X_train, X_test, y_train, y_test = train_test_split(X_new, y, test_size=0.2, random_state=42)\n",
    "\n",
    "# Create a random forest regressor\n",
    "rf = RandomForestRegressor(n_estimators=100, random_state=42)\n",
    "\n",
    "# Train the model on the training data\n",
    "rf.fit(X_train, y_train)\n",
    "\n",
    "# Evaluate the model on the test data\n",
    "y_pred = rf.predict(X_test)\n",
    "\n",
    "# Print the R^2 score\n",
    "print(\"R^2: \", rf.score(X_test, y_test))"
   ],
   "metadata": {
    "collapsed": false,
    "pycharm": {
     "name": "#%%\n"
    }
   }
  },
  {
   "cell_type": "markdown",
   "source": [
    "#Root Mean-Squared Error"
   ],
   "metadata": {
    "collapsed": false,
    "pycharm": {
     "name": "#%% md\n"
    }
   }
  },
  {
   "cell_type": "code",
   "execution_count": 908,
   "outputs": [
    {
     "name": "stdout",
     "output_type": "stream",
     "text": [
      "Root Mean Squared Error:  28443.213844087604\n"
     ]
    }
   ],
   "source": [
    "import numpy as np\n",
    "from sklearn.metrics import mean_squared_error\n",
    "\n",
    "# y_test are the true labels\n",
    "# y_pred are the predicted labels\n",
    "\n",
    "mse = mean_squared_error(y_test, y_pred)\n",
    "rmse = np.sqrt(mse)\n",
    "\n",
    "print(\"Root Mean Squared Error: \", rmse)"
   ],
   "metadata": {
    "collapsed": false,
    "pycharm": {
     "name": "#%%\n"
    }
   }
  },
  {
   "cell_type": "code",
   "execution_count": 909,
   "outputs": [
    {
     "name": "stderr",
     "output_type": "stream",
     "text": [
      "C:\\Users\\Gufran bhatti\\AppData\\Local\\Programs\\Python\\Python310\\lib\\site-packages\\sklearn\\utils\\validation.py:1858: FutureWarning: Feature names only support names that are all strings. Got feature names with dtypes: ['int', 'str']. An error will be raised in 1.2.\n",
      "  warnings.warn(\n"
     ]
    }
   ],
   "source": [
    "real_test_data = real_test_data.iloc[:, selected_features]\n",
    "real_pred = rf.predict(real_test_data)"
   ],
   "metadata": {
    "collapsed": false,
    "pycharm": {
     "name": "#%%\n"
    }
   }
  },
  {
   "cell_type": "code",
   "execution_count": 910,
   "outputs": [
    {
     "data": {
      "text/plain": "(1459,)"
     },
     "execution_count": 910,
     "metadata": {},
     "output_type": "execute_result"
    }
   ],
   "source": [
    "real_pred.shape"
   ],
   "metadata": {
    "collapsed": false,
    "pycharm": {
     "name": "#%%\n"
    }
   }
  },
  {
   "cell_type": "code",
   "execution_count": 911,
   "outputs": [],
   "source": [
    "sub = pd.read_csv('sample_submission.csv')"
   ],
   "metadata": {
    "collapsed": false,
    "pycharm": {
     "name": "#%%\n"
    }
   }
  },
  {
   "cell_type": "code",
   "execution_count": 912,
   "outputs": [],
   "source": [
    "submission = pd.DataFrame({\n",
    "    \"Id\": sub[\"Id\"],\n",
    "    \"SalePrice\": real_pred\n",
    "})\n",
    "submission.to_csv('submission.csv', index=False)"
   ],
   "metadata": {
    "collapsed": false,
    "pycharm": {
     "name": "#%%\n"
    }
   }
  },
  {
   "cell_type": "markdown",
   "source": [
    "#Polynomial Regression"
   ],
   "metadata": {
    "collapsed": false,
    "pycharm": {
     "name": "#%% md\n"
    }
   }
  },
  {
   "cell_type": "code",
   "execution_count": 913,
   "outputs": [
    {
     "name": "stdout",
     "output_type": "stream",
     "text": [
      "Root Mean Squared Error:  120726.84417775535\n"
     ]
    }
   ],
   "source": [
    "from sklearn.preprocessing import PolynomialFeatures\n",
    "from sklearn.linear_model import LinearRegression\n",
    "\n",
    "# create the polynomial features\n",
    "poly = PolynomialFeatures(degree=2)\n",
    "X_train_poly = poly.fit_transform(X_train)\n",
    "\n",
    "# create the model\n",
    "lin_reg = LinearRegression()\n",
    "\n",
    "# fit the model to the training data\n",
    "lin_reg.fit(X_train_poly, y_train)\n",
    "\n",
    "# make predictions on the test data\n",
    "X_test_poly = poly.transform(X_test)\n",
    "y_pred = lin_reg.predict(X_test_poly)\n",
    "mse = mean_squared_error(y_test, y_pred)\n",
    "rmse = np.sqrt(mse)\n",
    "\n",
    "print(\"Root Mean Squared Error: \", rmse)"
   ],
   "metadata": {
    "collapsed": false,
    "pycharm": {
     "name": "#%%\n"
    }
   }
  },
  {
   "cell_type": "code",
   "execution_count": 914,
   "outputs": [
    {
     "name": "stdout",
     "output_type": "stream",
     "text": [
      "Root Mean Squared Error:  40174.64235710861\n"
     ]
    }
   ],
   "source": [
    "from sklearn.svm import SVR\n",
    "\n",
    "# create the model\n",
    "svr_reg = SVR(kernel='linear')\n",
    "\n",
    "# fit the model to the training data\n",
    "svr_reg.fit(X_train, y_train)\n",
    "\n",
    "# make predictions on the test data\n",
    "y_pred = svr_reg.predict(X_test)\n",
    "mse = mean_squared_error(y_test, y_pred)\n",
    "rmse = np.sqrt(mse)\n",
    "\n",
    "print(\"Root Mean Squared Error: \", rmse)"
   ],
   "metadata": {
    "collapsed": false,
    "pycharm": {
     "name": "#%%\n"
    }
   }
  },
  {
   "cell_type": "code",
   "execution_count": null,
   "outputs": [],
   "source": [],
   "metadata": {
    "collapsed": false,
    "pycharm": {
     "name": "#%%\n"
    }
   }
  }
 ],
 "metadata": {
  "kernelspec": {
   "display_name": "Python 3",
   "language": "python",
   "name": "python3"
  },
  "language_info": {
   "codemirror_mode": {
    "name": "ipython",
    "version": 2
   },
   "file_extension": ".py",
   "mimetype": "text/x-python",
   "name": "python",
   "nbconvert_exporter": "python",
   "pygments_lexer": "ipython2",
   "version": "2.7.6"
  }
 },
 "nbformat": 4,
 "nbformat_minor": 0
}